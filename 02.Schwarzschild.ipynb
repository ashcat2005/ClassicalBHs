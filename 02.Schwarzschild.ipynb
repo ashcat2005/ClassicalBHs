{
 "cells": [
  {
   "cell_type": "markdown",
   "metadata": {},
   "source": [
    "![Astrofisica Computacional](logo.png)"
   ]
  },
  {
   "cell_type": "markdown",
   "metadata": {},
   "source": [
    "---\n",
    "\n",
    "Eduard Larrañaga (ealarranaga@unal.edu.co)\n",
    "\n",
    "---"
   ]
  },
  {
   "cell_type": "markdown",
   "metadata": {},
   "source": [
    "\n",
    "# Introduction to the Schwarzschild Black Hole\n",
    "---\n",
    "\n",
    "## About this notebook\n",
    "\n",
    "This notebook uses [SageMath](https://www.sagemath.org) and [SageManifolds](https://sagemanifolds.obspm.fr/index.html) to compute some basic geometrical properties of Schwarzschild spacetime. This include: Christoffel symbols, the Riemann curvature tensor, the Ricci tensor and the Kretschmann scalar. "
   ]
  },
  {
   "cell_type": "markdown",
   "metadata": {},
   "source": [
    "Note: This notebook was created using SageMath 9.4"
   ]
  },
  {
   "cell_type": "code",
   "execution_count": 1,
   "metadata": {},
   "outputs": [
    {
     "data": {
      "text/plain": [
       "'SageMath version 9.4, Release Date: 2021-08-22'"
      ]
     },
     "execution_count": 1,
     "metadata": {},
     "output_type": "execute_result"
    }
   ],
   "source": [
    "version()"
   ]
  },
  {
   "cell_type": "markdown",
   "metadata": {},
   "source": [
    "First we set up the notebook to display mathematical objects via LaTeX rendering:"
   ]
  },
  {
   "cell_type": "code",
   "execution_count": 6,
   "metadata": {},
   "outputs": [],
   "source": [
    "%display latex"
   ]
  },
  {
   "cell_type": "markdown",
   "metadata": {},
   "source": [
    "## 1. Spacetime Definition\n",
    "\n",
    "The spacetime is defined as 4-dimensional Lorentzian manifold,"
   ]
  },
  {
   "cell_type": "code",
   "execution_count": 3,
   "metadata": {},
   "outputs": [
    {
     "name": "stdout",
     "output_type": "stream",
     "text": [
      "4-dimensional Lorentzian manifold Mnfld\n"
     ]
    }
   ],
   "source": [
    "Mnfld = Manifold(4, 'Mnfld', structure='Lorentzian')\n",
    "print(Mnfld)"
   ]
  },
  {
   "cell_type": "markdown",
   "metadata": {},
   "source": [
    "### 1.1. Standard coordinates\n",
    "\n",
    "The standard **Schwarzschild-Droste coordinates** are introduced using the method `chart()` of the manifold object `Mnfld`. The argument of `chart()` is a raw string which \n",
    "defines the range of each coordinate, if it is different from $(-\\infty, +\\infty)$, as well as its LaTeX symbol. \n",
    "\n",
    "Note that the `Python` variables for each coordinate are declared within the `<...>` operator on the left-hand side. The variable `X` will denote the coordinate chart."
   ]
  },
  {
   "cell_type": "code",
   "execution_count": 4,
   "metadata": {},
   "outputs": [
    {
     "data": {
      "text/html": [
       "<html>\\[\\newcommand{\\Bold}[1]{\\mathbf{#1}}\\left(Mnfld,(t, r, {\\theta}, {\\phi})\\right)\\]</html>"
      ],
      "text/latex": [
       "$$\\newcommand{\\Bold}[1]{\\mathbf{#1}}\\left(Mnfld,(t, r, {\\theta}, {\\phi})\\right)$$"
      ],
      "text/plain": [
       "Chart (Mnfld, (t, r, th, ph))"
      ]
     },
     "execution_count": 4,
     "metadata": {},
     "output_type": "execute_result"
    }
   ],
   "source": [
    "X.<t,r,th,ph> = Mnfld.chart(r\"t r:(0,+oo) th:(0,pi):\\theta ph:(0,2*pi):\\phi\")\n",
    "X"
   ]
  },
  {
   "cell_type": "markdown",
   "metadata": {},
   "source": [
    "It is possible to access the coordinates as an array,"
   ]
  },
  {
   "cell_type": "code",
   "execution_count": 5,
   "metadata": {
    "scrolled": true
   },
   "outputs": [
    {
     "data": {
      "text/html": [
       "<html>\\[\\newcommand{\\Bold}[1]{\\mathbf{#1}}\\left(t, r, {\\theta}, {\\phi}\\right)\\]</html>"
      ],
      "text/latex": [
       "$$\\newcommand{\\Bold}[1]{\\mathbf{#1}}\\left(t, r, {\\theta}, {\\phi}\\right)$$"
      ],
      "text/plain": [
       "(t, r, th, ph)"
      ]
     },
     "execution_count": 5,
     "metadata": {},
     "output_type": "execute_result"
    }
   ],
   "source": [
    "X[:]"
   ]
  },
  {
   "cell_type": "code",
   "execution_count": 6,
   "metadata": {},
   "outputs": [
    {
     "data": {
      "text/html": [
       "<html>\\[\\newcommand{\\Bold}[1]{\\mathbf{#1}}\\left(t, {\\phi}\\right)\\]</html>"
      ],
      "text/latex": [
       "$$\\newcommand{\\Bold}[1]{\\mathbf{#1}}\\left(t, {\\phi}\\right)$$"
      ],
      "text/plain": [
       "(t, ph)"
      ]
     },
     "execution_count": 6,
     "metadata": {},
     "output_type": "execute_result"
    }
   ],
   "source": [
    "X[0], X[3]"
   ]
  },
  {
   "cell_type": "markdown",
   "metadata": {},
   "source": [
    "## 2. Metric tensor\n",
    "\n",
    "In order to define the metric, we need to declare the mass parameter $M$ as a symbolic variable, using the function `var()`:"
   ]
  },
  {
   "cell_type": "code",
   "execution_count": 7,
   "metadata": {},
   "outputs": [],
   "source": [
    "M = var('M')\n",
    "assume(M>=0)"
   ]
  },
  {
   "cell_type": "markdown",
   "metadata": {},
   "source": [
    "The metric tensor of the Lorentzian manifold `Mnfld` is returned by the method `.metric()`. We initialize its components in the chart `X`, which is the default (and unique) chart on `Mnfld`. The method `.display()` shows the tensor."
   ]
  },
  {
   "cell_type": "code",
   "execution_count": 8,
   "metadata": {},
   "outputs": [
    {
     "data": {
      "text/html": [
       "<html>\\[\\newcommand{\\Bold}[1]{\\mathbf{#1}}g = \\left( \\frac{2 \\, M}{r} - 1 \\right) \\mathrm{d} t\\otimes \\mathrm{d} t + \\left( -\\frac{1}{\\frac{2 \\, M}{r} - 1} \\right) \\mathrm{d} r\\otimes \\mathrm{d} r + r^{2} \\mathrm{d} {\\theta}\\otimes \\mathrm{d} {\\theta} + r^{2} \\sin\\left({\\theta}\\right)^{2} \\mathrm{d} {\\phi}\\otimes \\mathrm{d} {\\phi}\\]</html>"
      ],
      "text/latex": [
       "$$\\newcommand{\\Bold}[1]{\\mathbf{#1}}g = \\left( \\frac{2 \\, M}{r} - 1 \\right) \\mathrm{d} t\\otimes \\mathrm{d} t + \\left( -\\frac{1}{\\frac{2 \\, M}{r} - 1} \\right) \\mathrm{d} r\\otimes \\mathrm{d} r + r^{2} \\mathrm{d} {\\theta}\\otimes \\mathrm{d} {\\theta} + r^{2} \\sin\\left({\\theta}\\right)^{2} \\mathrm{d} {\\phi}\\otimes \\mathrm{d} {\\phi}$$"
      ],
      "text/plain": [
       "g = (2*M/r - 1) dt⊗dt - 1/(2*M/r - 1) dr⊗dr + r^2 dth⊗dth + r^2*sin(th)^2 dph⊗dph"
      ]
     },
     "execution_count": 8,
     "metadata": {},
     "output_type": "execute_result"
    }
   ],
   "source": [
    "g = Mnfld.metric()\n",
    "g[0,0] = -(1-2*M/r)\n",
    "g[1,1] = 1/(1-2*M/r)\n",
    "g[2,2] = r^2\n",
    "g[3,3] = (r*sin(th))^2\n",
    "g.display()"
   ]
  },
  {
   "cell_type": "markdown",
   "metadata": {},
   "source": [
    "The metric components can be visualized as an array,"
   ]
  },
  {
   "cell_type": "code",
   "execution_count": 9,
   "metadata": {},
   "outputs": [
    {
     "data": {
      "text/html": [
       "<html>\\[\\newcommand{\\Bold}[1]{\\mathbf{#1}}\\left(\\begin{array}{rrrr}\n",
       "\\frac{2 \\, M}{r} - 1 & 0 & 0 & 0 \\\\\n",
       "0 & -\\frac{1}{\\frac{2 \\, M}{r} - 1} & 0 & 0 \\\\\n",
       "0 & 0 & r^{2} & 0 \\\\\n",
       "0 & 0 & 0 & r^{2} \\sin\\left({\\theta}\\right)^{2}\n",
       "\\end{array}\\right)\\]</html>"
      ],
      "text/latex": [
       "$$\\newcommand{\\Bold}[1]{\\mathbf{#1}}\\left(\\begin{array}{rrrr}\n",
       "\\frac{2 \\, M}{r} - 1 & 0 & 0 & 0 \\\\\n",
       "0 & -\\frac{1}{\\frac{2 \\, M}{r} - 1} & 0 & 0 \\\\\n",
       "0 & 0 & r^{2} & 0 \\\\\n",
       "0 & 0 & 0 & r^{2} \\sin\\left({\\theta}\\right)^{2}\n",
       "\\end{array}\\right)$$"
      ],
      "text/plain": [
       "[     2*M/r - 1              0              0              0]\n",
       "[             0 -1/(2*M/r - 1)              0              0]\n",
       "[             0              0            r^2              0]\n",
       "[             0              0              0  r^2*sin(th)^2]"
      ]
     },
     "execution_count": 9,
     "metadata": {},
     "output_type": "execute_result"
    }
   ],
   "source": [
    "g[:]"
   ]
  },
  {
   "cell_type": "markdown",
   "metadata": {},
   "source": [
    "and we can access its components as"
   ]
  },
  {
   "cell_type": "code",
   "execution_count": 10,
   "metadata": {},
   "outputs": [
    {
     "data": {
      "text/html": [
       "<html>\\[\\newcommand{\\Bold}[1]{\\mathbf{#1}}\\frac{2 \\, M}{r} - 1\\]</html>"
      ],
      "text/latex": [
       "$$\\newcommand{\\Bold}[1]{\\mathbf{#1}}\\frac{2 \\, M}{r} - 1$$"
      ],
      "text/plain": [
       "2*M/r - 1"
      ]
     },
     "execution_count": 10,
     "metadata": {},
     "output_type": "execute_result"
    }
   ],
   "source": [
    "g[0,0]"
   ]
  },
  {
   "cell_type": "markdown",
   "metadata": {},
   "source": [
    "### 2.1. Metric Inverse\n",
    "\n",
    "The inverse of the metric tensor is obtained with the `.up()` method applied to the metric tensor:"
   ]
  },
  {
   "cell_type": "code",
   "execution_count": 11,
   "metadata": {},
   "outputs": [
    {
     "data": {
      "text/html": [
       "<html>\\[\\newcommand{\\Bold}[1]{\\mathbf{#1}}g^{-1}\\]</html>"
      ],
      "text/latex": [
       "$$\\newcommand{\\Bold}[1]{\\mathbf{#1}}g^{-1}$$"
      ],
      "text/plain": [
       "Tensor field inv_g of type (2,0) on the 4-dimensional Lorentzian manifold Mnfld"
      ]
     },
     "execution_count": 11,
     "metadata": {},
     "output_type": "execute_result"
    }
   ],
   "source": [
    "guu = g.inverse()\n",
    "guu"
   ]
  },
  {
   "cell_type": "code",
   "execution_count": 12,
   "metadata": {},
   "outputs": [
    {
     "data": {
      "text/html": [
       "<html>\\[\\newcommand{\\Bold}[1]{\\mathbf{#1}}g^{-1} = \\left( \\frac{r}{2 \\, M - r} \\right) \\frac{\\partial}{\\partial t }\\otimes \\frac{\\partial}{\\partial t } + \\left( -\\frac{2 \\, M - r}{r} \\right) \\frac{\\partial}{\\partial r }\\otimes \\frac{\\partial}{\\partial r } + \\frac{1}{r^{2}} \\frac{\\partial}{\\partial {\\theta} }\\otimes \\frac{\\partial}{\\partial {\\theta} } + \\frac{1}{r^{2} \\sin\\left({\\theta}\\right)^{2}} \\frac{\\partial}{\\partial {\\phi} }\\otimes \\frac{\\partial}{\\partial {\\phi} }\\]</html>"
      ],
      "text/latex": [
       "$$\\newcommand{\\Bold}[1]{\\mathbf{#1}}g^{-1} = \\left( \\frac{r}{2 \\, M - r} \\right) \\frac{\\partial}{\\partial t }\\otimes \\frac{\\partial}{\\partial t } + \\left( -\\frac{2 \\, M - r}{r} \\right) \\frac{\\partial}{\\partial r }\\otimes \\frac{\\partial}{\\partial r } + \\frac{1}{r^{2}} \\frac{\\partial}{\\partial {\\theta} }\\otimes \\frac{\\partial}{\\partial {\\theta} } + \\frac{1}{r^{2} \\sin\\left({\\theta}\\right)^{2}} \\frac{\\partial}{\\partial {\\phi} }\\otimes \\frac{\\partial}{\\partial {\\phi} }$$"
      ],
      "text/plain": [
       "inv_g = r/(2*M - r) ∂/∂t⊗∂/∂t - (2*M - r)/r ∂/∂r⊗∂/∂r + r^(-2) ∂/∂th⊗∂/∂th + 1/(r^2*sin(th)^2) ∂/∂ph⊗∂/∂ph"
      ]
     },
     "execution_count": 12,
     "metadata": {},
     "output_type": "execute_result"
    }
   ],
   "source": [
    "guu.display()"
   ]
  },
  {
   "cell_type": "code",
   "execution_count": 13,
   "metadata": {},
   "outputs": [
    {
     "data": {
      "text/html": [
       "<html>\\[\\newcommand{\\Bold}[1]{\\mathbf{#1}}\\left(\\begin{array}{rrrr}\n",
       "\\frac{r}{2 \\, M - r} & 0 & 0 & 0 \\\\\n",
       "0 & -\\frac{2 \\, M - r}{r} & 0 & 0 \\\\\n",
       "0 & 0 & \\frac{1}{r^{2}} & 0 \\\\\n",
       "0 & 0 & 0 & \\frac{1}{r^{2} \\sin\\left({\\theta}\\right)^{2}}\n",
       "\\end{array}\\right)\\]</html>"
      ],
      "text/latex": [
       "$$\\newcommand{\\Bold}[1]{\\mathbf{#1}}\\left(\\begin{array}{rrrr}\n",
       "\\frac{r}{2 \\, M - r} & 0 & 0 & 0 \\\\\n",
       "0 & -\\frac{2 \\, M - r}{r} & 0 & 0 \\\\\n",
       "0 & 0 & \\frac{1}{r^{2}} & 0 \\\\\n",
       "0 & 0 & 0 & \\frac{1}{r^{2} \\sin\\left({\\theta}\\right)^{2}}\n",
       "\\end{array}\\right)$$"
      ],
      "text/plain": [
       "[      r/(2*M - r)                 0                 0                 0]\n",
       "[                0      -(2*M - r)/r                 0                 0]\n",
       "[                0                 0            r^(-2)                 0]\n",
       "[                0                 0                 0 1/(r^2*sin(th)^2)]"
      ]
     },
     "execution_count": 13,
     "metadata": {},
     "output_type": "execute_result"
    }
   ],
   "source": [
    "guu[:]"
   ]
  },
  {
   "cell_type": "markdown",
   "metadata": {},
   "source": [
    "## 3. Christoffel symbols\n",
    "\n",
    "The Christoffel symbols of $g$ with respect to the Schwarzschild-Droste coordinates are defined by\n",
    "\n",
    "\\begin{equation}\n",
    "\\Gamma^\\alpha_{\\mu \\nu} = \\frac{1}{2} g^{\\alpha \\sigma} \\left[ \\partial_\\mu g_{\\sigma \\nu} + \\partial_\\nu g_{\\mu \\sigma } - \\partial_\\sigma g_{\\mu \\nu} \\right]\n",
    "\\end{equation}\n",
    "\n",
    "\n",
    "These components are obtained by the method `.christoffel_symbols_display()` of the metric object `g`. By \n",
    "default, only the nonzero symbols and the nonredundant ones (taking into account the symmetry $\\Gamma^\\alpha_{\\mu \\nu} = \\Gamma^\\alpha_{\\nu \\mu}$) are displayed. \n",
    "\n",
    "As always, if you type `g.christoffel_symbols_display?` you can see all the available options."
   ]
  },
  {
   "cell_type": "code",
   "execution_count": 14,
   "metadata": {},
   "outputs": [],
   "source": [
    "g.christoffel_symbols_display?"
   ]
  },
  {
   "cell_type": "code",
   "execution_count": 14,
   "metadata": {},
   "outputs": [
    {
     "data": {
      "text/html": [
       "<html>\\[\\newcommand{\\Bold}[1]{\\mathbf{#1}}\\begin{array}{lcl} \\Gamma_{ \\phantom{\\, t} \\, t \\, r }^{ \\, t \\phantom{\\, t} \\phantom{\\, r} } & = & -\\frac{M}{2 \\, M r - r^{2}} \\\\ \\Gamma_{ \\phantom{\\, r} \\, t \\, t }^{ \\, r \\phantom{\\, t} \\phantom{\\, t} } & = & -\\frac{2 \\, M^{2} - M r}{r^{3}} \\\\ \\Gamma_{ \\phantom{\\, r} \\, r \\, r }^{ \\, r \\phantom{\\, r} \\phantom{\\, r} } & = & \\frac{M}{2 \\, M r - r^{2}} \\\\ \\Gamma_{ \\phantom{\\, r} \\, {\\theta} \\, {\\theta} }^{ \\, r \\phantom{\\, {\\theta}} \\phantom{\\, {\\theta}} } & = & 2 \\, M - r \\\\ \\Gamma_{ \\phantom{\\, r} \\, {\\phi} \\, {\\phi} }^{ \\, r \\phantom{\\, {\\phi}} \\phantom{\\, {\\phi}} } & = & {\\left(2 \\, M - r\\right)} \\sin\\left({\\theta}\\right)^{2} \\\\ \\Gamma_{ \\phantom{\\, {\\theta}} \\, r \\, {\\theta} }^{ \\, {\\theta} \\phantom{\\, r} \\phantom{\\, {\\theta}} } & = & \\frac{1}{r} \\\\ \\Gamma_{ \\phantom{\\, {\\theta}} \\, {\\phi} \\, {\\phi} }^{ \\, {\\theta} \\phantom{\\, {\\phi}} \\phantom{\\, {\\phi}} } & = & -\\cos\\left({\\theta}\\right) \\sin\\left({\\theta}\\right) \\\\ \\Gamma_{ \\phantom{\\, {\\phi}} \\, r \\, {\\phi} }^{ \\, {\\phi} \\phantom{\\, r} \\phantom{\\, {\\phi}} } & = & \\frac{1}{r} \\\\ \\Gamma_{ \\phantom{\\, {\\phi}} \\, {\\theta} \\, {\\phi} }^{ \\, {\\phi} \\phantom{\\, {\\theta}} \\phantom{\\, {\\phi}} } & = & \\frac{\\cos\\left({\\theta}\\right)}{\\sin\\left({\\theta}\\right)} \\end{array}\\]</html>"
      ],
      "text/latex": [
       "$$\\newcommand{\\Bold}[1]{\\mathbf{#1}}\\begin{array}{lcl} \\Gamma_{ \\phantom{\\, t} \\, t \\, r }^{ \\, t \\phantom{\\, t} \\phantom{\\, r} } & = & -\\frac{M}{2 \\, M r - r^{2}} \\\\ \\Gamma_{ \\phantom{\\, r} \\, t \\, t }^{ \\, r \\phantom{\\, t} \\phantom{\\, t} } & = & -\\frac{2 \\, M^{2} - M r}{r^{3}} \\\\ \\Gamma_{ \\phantom{\\, r} \\, r \\, r }^{ \\, r \\phantom{\\, r} \\phantom{\\, r} } & = & \\frac{M}{2 \\, M r - r^{2}} \\\\ \\Gamma_{ \\phantom{\\, r} \\, {\\theta} \\, {\\theta} }^{ \\, r \\phantom{\\, {\\theta}} \\phantom{\\, {\\theta}} } & = & 2 \\, M - r \\\\ \\Gamma_{ \\phantom{\\, r} \\, {\\phi} \\, {\\phi} }^{ \\, r \\phantom{\\, {\\phi}} \\phantom{\\, {\\phi}} } & = & {\\left(2 \\, M - r\\right)} \\sin\\left({\\theta}\\right)^{2} \\\\ \\Gamma_{ \\phantom{\\, {\\theta}} \\, r \\, {\\theta} }^{ \\, {\\theta} \\phantom{\\, r} \\phantom{\\, {\\theta}} } & = & \\frac{1}{r} \\\\ \\Gamma_{ \\phantom{\\, {\\theta}} \\, {\\phi} \\, {\\phi} }^{ \\, {\\theta} \\phantom{\\, {\\phi}} \\phantom{\\, {\\phi}} } & = & -\\cos\\left({\\theta}\\right) \\sin\\left({\\theta}\\right) \\\\ \\Gamma_{ \\phantom{\\, {\\phi}} \\, r \\, {\\phi} }^{ \\, {\\phi} \\phantom{\\, r} \\phantom{\\, {\\phi}} } & = & \\frac{1}{r} \\\\ \\Gamma_{ \\phantom{\\, {\\phi}} \\, {\\theta} \\, {\\phi} }^{ \\, {\\phi} \\phantom{\\, {\\theta}} \\phantom{\\, {\\phi}} } & = & \\frac{\\cos\\left({\\theta}\\right)}{\\sin\\left({\\theta}\\right)} \\end{array}$$"
      ],
      "text/plain": [
       "Gam^t_t,r = -M/(2*M*r - r^2) \n",
       "Gam^r_t,t = -(2*M^2 - M*r)/r^3 \n",
       "Gam^r_r,r = M/(2*M*r - r^2) \n",
       "Gam^r_th,th = 2*M - r \n",
       "Gam^r_ph,ph = (2*M - r)*sin(th)^2 \n",
       "Gam^th_r,th = 1/r \n",
       "Gam^th_ph,ph = -cos(th)*sin(th) \n",
       "Gam^ph_r,ph = 1/r \n",
       "Gam^ph_th,ph = cos(th)/sin(th) "
      ]
     },
     "execution_count": 14,
     "metadata": {},
     "output_type": "execute_result"
    }
   ],
   "source": [
    "g.christoffel_symbols_display()"
   ]
  },
  {
   "cell_type": "markdown",
   "metadata": {},
   "source": [
    "If you need access to a paticular component of the Christoffel symbol you use the corresponding indices. Note that time-coordinate corresponds to the index `0`."
   ]
  },
  {
   "cell_type": "code",
   "execution_count": 20,
   "metadata": {},
   "outputs": [
    {
     "data": {
      "text/html": [
       "<html>\\[\\newcommand{\\Bold}[1]{\\mathbf{#1}}-\\frac{M}{2 \\, M r - r^{2}}\\]</html>"
      ],
      "text/latex": [
       "$$\\newcommand{\\Bold}[1]{\\mathbf{#1}}-\\frac{M}{2 \\, M r - r^{2}}$$"
      ],
      "text/plain": [
       "-M/(2*M*r - r^2)"
      ]
     },
     "execution_count": 20,
     "metadata": {},
     "output_type": "execute_result"
    }
   ],
   "source": [
    "g.christoffel_symbols()[0,1,0]"
   ]
  },
  {
   "cell_type": "markdown",
   "metadata": {},
   "source": [
    "You can check the symmetry on the last two indices of the Christoffel symbol,"
   ]
  },
  {
   "cell_type": "code",
   "execution_count": 21,
   "metadata": {},
   "outputs": [
    {
     "data": {
      "text/html": [
       "<html>\\[\\newcommand{\\Bold}[1]{\\mathbf{#1}}\\mathrm{True}\\]</html>"
      ],
      "text/latex": [
       "$$\\newcommand{\\Bold}[1]{\\mathbf{#1}}\\mathrm{True}$$"
      ],
      "text/plain": [
       "True"
      ]
     },
     "execution_count": 21,
     "metadata": {},
     "output_type": "execute_result"
    }
   ],
   "source": [
    "g.christoffel_symbols()[0,0,1] == g.christoffel_symbols()[0,1,0]"
   ]
  },
  {
   "cell_type": "markdown",
   "metadata": {},
   "source": [
    "## 4. Curvature Tensor\n",
    "\n",
    "The Riemann curvature tensor is defined as\n",
    "\n",
    "\\begin{equation}\n",
    "R^\\mu_{\\,\\, \\nu \\rho \\sigma} = \\frac{\\partial \\Gamma^\\mu_{ \\nu \\sigma}}{\\partial x^{\\rho}} - \\frac{\\partial \\Gamma^\\mu_{ \\nu \\rho}}{\\partial x^{\\sigma}} + \\Gamma^{\\alpha}_{\\nu \\sigma}\\Gamma^\\mu_{\\rho \\alpha} - \\Gamma^{\\alpha}_{\\ \\nu \\rho}\\Gamma^\\mu_{\\sigma \\alpha} \n",
    "\\end{equation}\n",
    "\n",
    "\n",
    "It is calculated by the method `.riemann()`:"
   ]
  },
  {
   "cell_type": "code",
   "execution_count": 16,
   "metadata": {},
   "outputs": [
    {
     "name": "stdout",
     "output_type": "stream",
     "text": [
      "Tensor field Riem(g) of type (1,3) on the 4-dimensional Lorentzian manifold Mnfld\n"
     ]
    }
   ],
   "source": [
    "Riemann = g.riemann()\n",
    "print(Riemann)"
   ]
  },
  {
   "cell_type": "markdown",
   "metadata": {},
   "source": [
    "**Note that this is a tensor of the type (1,3)**. \n",
    "\n",
    "Calling the object `Riemann` we obtain"
   ]
  },
  {
   "cell_type": "code",
   "execution_count": 23,
   "metadata": {},
   "outputs": [
    {
     "data": {
      "text/html": [
       "<html>\\[\\newcommand{\\Bold}[1]{\\mathbf{#1}}\\mathrm{Riem}\\left(g\\right)\\]</html>"
      ],
      "text/latex": [
       "$$\\newcommand{\\Bold}[1]{\\mathbf{#1}}\\mathrm{Riem}\\left(g\\right)$$"
      ],
      "text/plain": [
       "Tensor field Riem(g) of type (1,3) on the 4-dimensional Lorentzian manifold Mnfld"
      ]
     },
     "execution_count": 23,
     "metadata": {},
     "output_type": "execute_result"
    }
   ],
   "source": [
    "Riemann"
   ]
  },
  {
   "cell_type": "markdown",
   "metadata": {},
   "source": [
    "In order to visualize the tensor components, we use the `.display()` method,"
   ]
  },
  {
   "cell_type": "code",
   "execution_count": 24,
   "metadata": {
    "scrolled": false
   },
   "outputs": [
    {
     "data": {
      "text/html": [
       "<html>\\[\\newcommand{\\Bold}[1]{\\mathbf{#1}}\\mathrm{Riem}\\left(g\\right) = \\left( -\\frac{2 \\, M}{2 \\, M r^{2} - r^{3}} \\right) \\frac{\\partial}{\\partial t }\\otimes \\mathrm{d} r\\otimes \\mathrm{d} t\\otimes \\mathrm{d} r + \\left( \\frac{2 \\, M}{2 \\, M r^{2} - r^{3}} \\right) \\frac{\\partial}{\\partial t }\\otimes \\mathrm{d} r\\otimes \\mathrm{d} r\\otimes \\mathrm{d} t -\\frac{M}{r} \\frac{\\partial}{\\partial t }\\otimes \\mathrm{d} {\\theta}\\otimes \\mathrm{d} t\\otimes \\mathrm{d} {\\theta} + \\frac{M}{r} \\frac{\\partial}{\\partial t }\\otimes \\mathrm{d} {\\theta}\\otimes \\mathrm{d} {\\theta}\\otimes \\mathrm{d} t -\\frac{M \\sin\\left({\\theta}\\right)^{2}}{r} \\frac{\\partial}{\\partial t }\\otimes \\mathrm{d} {\\phi}\\otimes \\mathrm{d} t\\otimes \\mathrm{d} {\\phi} + \\frac{M \\sin\\left({\\theta}\\right)^{2}}{r} \\frac{\\partial}{\\partial t }\\otimes \\mathrm{d} {\\phi}\\otimes \\mathrm{d} {\\phi}\\otimes \\mathrm{d} t -\\frac{2 \\, {\\left(2 \\, M^{2} - M r\\right)}}{r^{4}} \\frac{\\partial}{\\partial r }\\otimes \\mathrm{d} t\\otimes \\mathrm{d} t\\otimes \\mathrm{d} r + \\frac{2 \\, {\\left(2 \\, M^{2} - M r\\right)}}{r^{4}} \\frac{\\partial}{\\partial r }\\otimes \\mathrm{d} t\\otimes \\mathrm{d} r\\otimes \\mathrm{d} t -\\frac{M}{r} \\frac{\\partial}{\\partial r }\\otimes \\mathrm{d} {\\theta}\\otimes \\mathrm{d} r\\otimes \\mathrm{d} {\\theta} + \\frac{M}{r} \\frac{\\partial}{\\partial r }\\otimes \\mathrm{d} {\\theta}\\otimes \\mathrm{d} {\\theta}\\otimes \\mathrm{d} r -\\frac{M \\sin\\left({\\theta}\\right)^{2}}{r} \\frac{\\partial}{\\partial r }\\otimes \\mathrm{d} {\\phi}\\otimes \\mathrm{d} r\\otimes \\mathrm{d} {\\phi} + \\frac{M \\sin\\left({\\theta}\\right)^{2}}{r} \\frac{\\partial}{\\partial r }\\otimes \\mathrm{d} {\\phi}\\otimes \\mathrm{d} {\\phi}\\otimes \\mathrm{d} r + \\left( \\frac{2 \\, M^{2} - M r}{r^{4}} \\right) \\frac{\\partial}{\\partial {\\theta} }\\otimes \\mathrm{d} t\\otimes \\mathrm{d} t\\otimes \\mathrm{d} {\\theta} + \\left( -\\frac{2 \\, M^{2} - M r}{r^{4}} \\right) \\frac{\\partial}{\\partial {\\theta} }\\otimes \\mathrm{d} t\\otimes \\mathrm{d} {\\theta}\\otimes \\mathrm{d} t + \\left( -\\frac{M}{2 \\, M r^{2} - r^{3}} \\right) \\frac{\\partial}{\\partial {\\theta} }\\otimes \\mathrm{d} r\\otimes \\mathrm{d} r\\otimes \\mathrm{d} {\\theta} + \\left( \\frac{M}{2 \\, M r^{2} - r^{3}} \\right) \\frac{\\partial}{\\partial {\\theta} }\\otimes \\mathrm{d} r\\otimes \\mathrm{d} {\\theta}\\otimes \\mathrm{d} r + \\frac{2 \\, M \\sin\\left({\\theta}\\right)^{2}}{r} \\frac{\\partial}{\\partial {\\theta} }\\otimes \\mathrm{d} {\\phi}\\otimes \\mathrm{d} {\\theta}\\otimes \\mathrm{d} {\\phi} -\\frac{2 \\, M \\sin\\left({\\theta}\\right)^{2}}{r} \\frac{\\partial}{\\partial {\\theta} }\\otimes \\mathrm{d} {\\phi}\\otimes \\mathrm{d} {\\phi}\\otimes \\mathrm{d} {\\theta} + \\left( \\frac{2 \\, M^{2} - M r}{r^{4}} \\right) \\frac{\\partial}{\\partial {\\phi} }\\otimes \\mathrm{d} t\\otimes \\mathrm{d} t\\otimes \\mathrm{d} {\\phi} + \\left( -\\frac{2 \\, M^{2} - M r}{r^{4}} \\right) \\frac{\\partial}{\\partial {\\phi} }\\otimes \\mathrm{d} t\\otimes \\mathrm{d} {\\phi}\\otimes \\mathrm{d} t + \\left( -\\frac{M}{2 \\, M r^{2} - r^{3}} \\right) \\frac{\\partial}{\\partial {\\phi} }\\otimes \\mathrm{d} r\\otimes \\mathrm{d} r\\otimes \\mathrm{d} {\\phi} + \\left( \\frac{M}{2 \\, M r^{2} - r^{3}} \\right) \\frac{\\partial}{\\partial {\\phi} }\\otimes \\mathrm{d} r\\otimes \\mathrm{d} {\\phi}\\otimes \\mathrm{d} r -\\frac{2 \\, M}{r} \\frac{\\partial}{\\partial {\\phi} }\\otimes \\mathrm{d} {\\theta}\\otimes \\mathrm{d} {\\theta}\\otimes \\mathrm{d} {\\phi} + \\frac{2 \\, M}{r} \\frac{\\partial}{\\partial {\\phi} }\\otimes \\mathrm{d} {\\theta}\\otimes \\mathrm{d} {\\phi}\\otimes \\mathrm{d} {\\theta}\\]</html>"
      ],
      "text/latex": [
       "$$\\newcommand{\\Bold}[1]{\\mathbf{#1}}\\mathrm{Riem}\\left(g\\right) = \\left( -\\frac{2 \\, M}{2 \\, M r^{2} - r^{3}} \\right) \\frac{\\partial}{\\partial t }\\otimes \\mathrm{d} r\\otimes \\mathrm{d} t\\otimes \\mathrm{d} r + \\left( \\frac{2 \\, M}{2 \\, M r^{2} - r^{3}} \\right) \\frac{\\partial}{\\partial t }\\otimes \\mathrm{d} r\\otimes \\mathrm{d} r\\otimes \\mathrm{d} t -\\frac{M}{r} \\frac{\\partial}{\\partial t }\\otimes \\mathrm{d} {\\theta}\\otimes \\mathrm{d} t\\otimes \\mathrm{d} {\\theta} + \\frac{M}{r} \\frac{\\partial}{\\partial t }\\otimes \\mathrm{d} {\\theta}\\otimes \\mathrm{d} {\\theta}\\otimes \\mathrm{d} t -\\frac{M \\sin\\left({\\theta}\\right)^{2}}{r} \\frac{\\partial}{\\partial t }\\otimes \\mathrm{d} {\\phi}\\otimes \\mathrm{d} t\\otimes \\mathrm{d} {\\phi} + \\frac{M \\sin\\left({\\theta}\\right)^{2}}{r} \\frac{\\partial}{\\partial t }\\otimes \\mathrm{d} {\\phi}\\otimes \\mathrm{d} {\\phi}\\otimes \\mathrm{d} t -\\frac{2 \\, {\\left(2 \\, M^{2} - M r\\right)}}{r^{4}} \\frac{\\partial}{\\partial r }\\otimes \\mathrm{d} t\\otimes \\mathrm{d} t\\otimes \\mathrm{d} r + \\frac{2 \\, {\\left(2 \\, M^{2} - M r\\right)}}{r^{4}} \\frac{\\partial}{\\partial r }\\otimes \\mathrm{d} t\\otimes \\mathrm{d} r\\otimes \\mathrm{d} t -\\frac{M}{r} \\frac{\\partial}{\\partial r }\\otimes \\mathrm{d} {\\theta}\\otimes \\mathrm{d} r\\otimes \\mathrm{d} {\\theta} + \\frac{M}{r} \\frac{\\partial}{\\partial r }\\otimes \\mathrm{d} {\\theta}\\otimes \\mathrm{d} {\\theta}\\otimes \\mathrm{d} r -\\frac{M \\sin\\left({\\theta}\\right)^{2}}{r} \\frac{\\partial}{\\partial r }\\otimes \\mathrm{d} {\\phi}\\otimes \\mathrm{d} r\\otimes \\mathrm{d} {\\phi} + \\frac{M \\sin\\left({\\theta}\\right)^{2}}{r} \\frac{\\partial}{\\partial r }\\otimes \\mathrm{d} {\\phi}\\otimes \\mathrm{d} {\\phi}\\otimes \\mathrm{d} r + \\left( \\frac{2 \\, M^{2} - M r}{r^{4}} \\right) \\frac{\\partial}{\\partial {\\theta} }\\otimes \\mathrm{d} t\\otimes \\mathrm{d} t\\otimes \\mathrm{d} {\\theta} + \\left( -\\frac{2 \\, M^{2} - M r}{r^{4}} \\right) \\frac{\\partial}{\\partial {\\theta} }\\otimes \\mathrm{d} t\\otimes \\mathrm{d} {\\theta}\\otimes \\mathrm{d} t + \\left( -\\frac{M}{2 \\, M r^{2} - r^{3}} \\right) \\frac{\\partial}{\\partial {\\theta} }\\otimes \\mathrm{d} r\\otimes \\mathrm{d} r\\otimes \\mathrm{d} {\\theta} + \\left( \\frac{M}{2 \\, M r^{2} - r^{3}} \\right) \\frac{\\partial}{\\partial {\\theta} }\\otimes \\mathrm{d} r\\otimes \\mathrm{d} {\\theta}\\otimes \\mathrm{d} r + \\frac{2 \\, M \\sin\\left({\\theta}\\right)^{2}}{r} \\frac{\\partial}{\\partial {\\theta} }\\otimes \\mathrm{d} {\\phi}\\otimes \\mathrm{d} {\\theta}\\otimes \\mathrm{d} {\\phi} -\\frac{2 \\, M \\sin\\left({\\theta}\\right)^{2}}{r} \\frac{\\partial}{\\partial {\\theta} }\\otimes \\mathrm{d} {\\phi}\\otimes \\mathrm{d} {\\phi}\\otimes \\mathrm{d} {\\theta} + \\left( \\frac{2 \\, M^{2} - M r}{r^{4}} \\right) \\frac{\\partial}{\\partial {\\phi} }\\otimes \\mathrm{d} t\\otimes \\mathrm{d} t\\otimes \\mathrm{d} {\\phi} + \\left( -\\frac{2 \\, M^{2} - M r}{r^{4}} \\right) \\frac{\\partial}{\\partial {\\phi} }\\otimes \\mathrm{d} t\\otimes \\mathrm{d} {\\phi}\\otimes \\mathrm{d} t + \\left( -\\frac{M}{2 \\, M r^{2} - r^{3}} \\right) \\frac{\\partial}{\\partial {\\phi} }\\otimes \\mathrm{d} r\\otimes \\mathrm{d} r\\otimes \\mathrm{d} {\\phi} + \\left( \\frac{M}{2 \\, M r^{2} - r^{3}} \\right) \\frac{\\partial}{\\partial {\\phi} }\\otimes \\mathrm{d} r\\otimes \\mathrm{d} {\\phi}\\otimes \\mathrm{d} r -\\frac{2 \\, M}{r} \\frac{\\partial}{\\partial {\\phi} }\\otimes \\mathrm{d} {\\theta}\\otimes \\mathrm{d} {\\theta}\\otimes \\mathrm{d} {\\phi} + \\frac{2 \\, M}{r} \\frac{\\partial}{\\partial {\\phi} }\\otimes \\mathrm{d} {\\theta}\\otimes \\mathrm{d} {\\phi}\\otimes \\mathrm{d} {\\theta}$$"
      ],
      "text/plain": [
       "Riem(g) = -2*M/(2*M*r^2 - r^3) ∂/∂t⊗dr⊗dt⊗dr + 2*M/(2*M*r^2 - r^3) ∂/∂t⊗dr⊗dr⊗dt - M/r ∂/∂t⊗dth⊗dt⊗dth + M/r ∂/∂t⊗dth⊗dth⊗dt - M*sin(th)^2/r ∂/∂t⊗dph⊗dt⊗dph + M*sin(th)^2/r ∂/∂t⊗dph⊗dph⊗dt - 2*(2*M^2 - M*r)/r^4 ∂/∂r⊗dt⊗dt⊗dr + 2*(2*M^2 - M*r)/r^4 ∂/∂r⊗dt⊗dr⊗dt - M/r ∂/∂r⊗dth⊗dr⊗dth + M/r ∂/∂r⊗dth⊗dth⊗dr - M*sin(th)^2/r ∂/∂r⊗dph⊗dr⊗dph + M*sin(th)^2/r ∂/∂r⊗dph⊗dph⊗dr + (2*M^2 - M*r)/r^4 ∂/∂th⊗dt⊗dt⊗dth - (2*M^2 - M*r)/r^4 ∂/∂th⊗dt⊗dth⊗dt - M/(2*M*r^2 - r^3) ∂/∂th⊗dr⊗dr⊗dth + M/(2*M*r^2 - r^3) ∂/∂th⊗dr⊗dth⊗dr + 2*M*sin(th)^2/r ∂/∂th⊗dph⊗dth⊗dph - 2*M*sin(th)^2/r ∂/∂th⊗dph⊗dph⊗dth + (2*M^2 - M*r)/r^4 ∂/∂ph⊗dt⊗dt⊗dph - (2*M^2 - M*r)/r^4 ∂/∂ph⊗dt⊗dph⊗dt - M/(2*M*r^2 - r^3) ∂/∂ph⊗dr⊗dr⊗dph + M/(2*M*r^2 - r^3) ∂/∂ph⊗dr⊗dph⊗dr - 2*M/r ∂/∂ph⊗dth⊗dth⊗dph + 2*M/r ∂/∂ph⊗dth⊗dph⊗dth"
      ]
     },
     "execution_count": 24,
     "metadata": {},
     "output_type": "execute_result"
    }
   ],
   "source": [
    "Riemann.display()"
   ]
  },
  {
   "cell_type": "code",
   "execution_count": 17,
   "metadata": {
    "scrolled": true
   },
   "outputs": [
    {
     "data": {
      "text/html": [
       "<html>\\[\\newcommand{\\Bold}[1]{\\mathbf{#1}}\\left[\\left[\\left[\\left[0, 0, 0, 0\\right], \\left[0, 0, 0, 0\\right], \\left[0, 0, 0, 0\\right], \\left[0, 0, 0, 0\\right]\\right], \\left[\\left[0, -\\frac{2 \\, M}{2 \\, M r^{2} - r^{3}}, 0, 0\\right], \\left[\\frac{2 \\, M}{2 \\, M r^{2} - r^{3}}, 0, 0, 0\\right], \\left[0, 0, 0, 0\\right], \\left[0, 0, 0, 0\\right]\\right], \\left[\\left[0, 0, -\\frac{M}{r}, 0\\right], \\left[0, 0, 0, 0\\right], \\left[\\frac{M}{r}, 0, 0, 0\\right], \\left[0, 0, 0, 0\\right]\\right], \\left[\\left[0, 0, 0, -\\frac{M \\sin\\left({\\theta}\\right)^{2}}{r}\\right], \\left[0, 0, 0, 0\\right], \\left[0, 0, 0, 0\\right], \\left[\\frac{M \\sin\\left({\\theta}\\right)^{2}}{r}, 0, 0, 0\\right]\\right]\\right], \\left[\\left[\\left[0, -\\frac{2 \\, {\\left(2 \\, M^{2} - M r\\right)}}{r^{4}}, 0, 0\\right], \\left[\\frac{2 \\, {\\left(2 \\, M^{2} - M r\\right)}}{r^{4}}, 0, 0, 0\\right], \\left[0, 0, 0, 0\\right], \\left[0, 0, 0, 0\\right]\\right], \\left[\\left[0, 0, 0, 0\\right], \\left[0, 0, 0, 0\\right], \\left[0, 0, 0, 0\\right], \\left[0, 0, 0, 0\\right]\\right], \\left[\\left[0, 0, 0, 0\\right], \\left[0, 0, -\\frac{M}{r}, 0\\right], \\left[0, \\frac{M}{r}, 0, 0\\right], \\left[0, 0, 0, 0\\right]\\right], \\left[\\left[0, 0, 0, 0\\right], \\left[0, 0, 0, -\\frac{M \\sin\\left({\\theta}\\right)^{2}}{r}\\right], \\left[0, 0, 0, 0\\right], \\left[0, \\frac{M \\sin\\left({\\theta}\\right)^{2}}{r}, 0, 0\\right]\\right]\\right], \\left[\\left[\\left[0, 0, \\frac{2 \\, M^{2} - M r}{r^{4}}, 0\\right], \\left[0, 0, 0, 0\\right], \\left[-\\frac{2 \\, M^{2} - M r}{r^{4}}, 0, 0, 0\\right], \\left[0, 0, 0, 0\\right]\\right], \\left[\\left[0, 0, 0, 0\\right], \\left[0, 0, -\\frac{M}{2 \\, M r^{2} - r^{3}}, 0\\right], \\left[0, \\frac{M}{2 \\, M r^{2} - r^{3}}, 0, 0\\right], \\left[0, 0, 0, 0\\right]\\right], \\left[\\left[0, 0, 0, 0\\right], \\left[0, 0, 0, 0\\right], \\left[0, 0, 0, 0\\right], \\left[0, 0, 0, 0\\right]\\right], \\left[\\left[0, 0, 0, 0\\right], \\left[0, 0, 0, 0\\right], \\left[0, 0, 0, \\frac{2 \\, M \\sin\\left({\\theta}\\right)^{2}}{r}\\right], \\left[0, 0, -\\frac{2 \\, M \\sin\\left({\\theta}\\right)^{2}}{r}, 0\\right]\\right]\\right], \\left[\\left[\\left[0, 0, 0, \\frac{2 \\, M^{2} - M r}{r^{4}}\\right], \\left[0, 0, 0, 0\\right], \\left[0, 0, 0, 0\\right], \\left[-\\frac{2 \\, M^{2} - M r}{r^{4}}, 0, 0, 0\\right]\\right], \\left[\\left[0, 0, 0, 0\\right], \\left[0, 0, 0, -\\frac{M}{2 \\, M r^{2} - r^{3}}\\right], \\left[0, 0, 0, 0\\right], \\left[0, \\frac{M}{2 \\, M r^{2} - r^{3}}, 0, 0\\right]\\right], \\left[\\left[0, 0, 0, 0\\right], \\left[0, 0, 0, 0\\right], \\left[0, 0, 0, -\\frac{2 \\, M}{r}\\right], \\left[0, 0, \\frac{2 \\, M}{r}, 0\\right]\\right], \\left[\\left[0, 0, 0, 0\\right], \\left[0, 0, 0, 0\\right], \\left[0, 0, 0, 0\\right], \\left[0, 0, 0, 0\\right]\\right]\\right]\\right]\\]</html>"
      ],
      "text/latex": [
       "$$\\newcommand{\\Bold}[1]{\\mathbf{#1}}\\left[\\left[\\left[\\left[0, 0, 0, 0\\right], \\left[0, 0, 0, 0\\right], \\left[0, 0, 0, 0\\right], \\left[0, 0, 0, 0\\right]\\right], \\left[\\left[0, -\\frac{2 \\, M}{2 \\, M r^{2} - r^{3}}, 0, 0\\right], \\left[\\frac{2 \\, M}{2 \\, M r^{2} - r^{3}}, 0, 0, 0\\right], \\left[0, 0, 0, 0\\right], \\left[0, 0, 0, 0\\right]\\right], \\left[\\left[0, 0, -\\frac{M}{r}, 0\\right], \\left[0, 0, 0, 0\\right], \\left[\\frac{M}{r}, 0, 0, 0\\right], \\left[0, 0, 0, 0\\right]\\right], \\left[\\left[0, 0, 0, -\\frac{M \\sin\\left({\\theta}\\right)^{2}}{r}\\right], \\left[0, 0, 0, 0\\right], \\left[0, 0, 0, 0\\right], \\left[\\frac{M \\sin\\left({\\theta}\\right)^{2}}{r}, 0, 0, 0\\right]\\right]\\right], \\left[\\left[\\left[0, -\\frac{2 \\, {\\left(2 \\, M^{2} - M r\\right)}}{r^{4}}, 0, 0\\right], \\left[\\frac{2 \\, {\\left(2 \\, M^{2} - M r\\right)}}{r^{4}}, 0, 0, 0\\right], \\left[0, 0, 0, 0\\right], \\left[0, 0, 0, 0\\right]\\right], \\left[\\left[0, 0, 0, 0\\right], \\left[0, 0, 0, 0\\right], \\left[0, 0, 0, 0\\right], \\left[0, 0, 0, 0\\right]\\right], \\left[\\left[0, 0, 0, 0\\right], \\left[0, 0, -\\frac{M}{r}, 0\\right], \\left[0, \\frac{M}{r}, 0, 0\\right], \\left[0, 0, 0, 0\\right]\\right], \\left[\\left[0, 0, 0, 0\\right], \\left[0, 0, 0, -\\frac{M \\sin\\left({\\theta}\\right)^{2}}{r}\\right], \\left[0, 0, 0, 0\\right], \\left[0, \\frac{M \\sin\\left({\\theta}\\right)^{2}}{r}, 0, 0\\right]\\right]\\right], \\left[\\left[\\left[0, 0, \\frac{2 \\, M^{2} - M r}{r^{4}}, 0\\right], \\left[0, 0, 0, 0\\right], \\left[-\\frac{2 \\, M^{2} - M r}{r^{4}}, 0, 0, 0\\right], \\left[0, 0, 0, 0\\right]\\right], \\left[\\left[0, 0, 0, 0\\right], \\left[0, 0, -\\frac{M}{2 \\, M r^{2} - r^{3}}, 0\\right], \\left[0, \\frac{M}{2 \\, M r^{2} - r^{3}}, 0, 0\\right], \\left[0, 0, 0, 0\\right]\\right], \\left[\\left[0, 0, 0, 0\\right], \\left[0, 0, 0, 0\\right], \\left[0, 0, 0, 0\\right], \\left[0, 0, 0, 0\\right]\\right], \\left[\\left[0, 0, 0, 0\\right], \\left[0, 0, 0, 0\\right], \\left[0, 0, 0, \\frac{2 \\, M \\sin\\left({\\theta}\\right)^{2}}{r}\\right], \\left[0, 0, -\\frac{2 \\, M \\sin\\left({\\theta}\\right)^{2}}{r}, 0\\right]\\right]\\right], \\left[\\left[\\left[0, 0, 0, \\frac{2 \\, M^{2} - M r}{r^{4}}\\right], \\left[0, 0, 0, 0\\right], \\left[0, 0, 0, 0\\right], \\left[-\\frac{2 \\, M^{2} - M r}{r^{4}}, 0, 0, 0\\right]\\right], \\left[\\left[0, 0, 0, 0\\right], \\left[0, 0, 0, -\\frac{M}{2 \\, M r^{2} - r^{3}}\\right], \\left[0, 0, 0, 0\\right], \\left[0, \\frac{M}{2 \\, M r^{2} - r^{3}}, 0, 0\\right]\\right], \\left[\\left[0, 0, 0, 0\\right], \\left[0, 0, 0, 0\\right], \\left[0, 0, 0, -\\frac{2 \\, M}{r}\\right], \\left[0, 0, \\frac{2 \\, M}{r}, 0\\right]\\right], \\left[\\left[0, 0, 0, 0\\right], \\left[0, 0, 0, 0\\right], \\left[0, 0, 0, 0\\right], \\left[0, 0, 0, 0\\right]\\right]\\right]\\right]$$"
      ],
      "text/plain": [
       "[[[[0, 0, 0, 0], [0, 0, 0, 0], [0, 0, 0, 0], [0, 0, 0, 0]],\n",
       "  [[0, -2*M/(2*M*r^2 - r^3), 0, 0],\n",
       "   [2*M/(2*M*r^2 - r^3), 0, 0, 0],\n",
       "   [0, 0, 0, 0],\n",
       "   [0, 0, 0, 0]],\n",
       "  [[0, 0, -M/r, 0], [0, 0, 0, 0], [M/r, 0, 0, 0], [0, 0, 0, 0]],\n",
       "  [[0, 0, 0, -M*sin(th)^2/r],\n",
       "   [0, 0, 0, 0],\n",
       "   [0, 0, 0, 0],\n",
       "   [M*sin(th)^2/r, 0, 0, 0]]],\n",
       " [[[0, -2*(2*M^2 - M*r)/r^4, 0, 0],\n",
       "   [2*(2*M^2 - M*r)/r^4, 0, 0, 0],\n",
       "   [0, 0, 0, 0],\n",
       "   [0, 0, 0, 0]],\n",
       "  [[0, 0, 0, 0], [0, 0, 0, 0], [0, 0, 0, 0], [0, 0, 0, 0]],\n",
       "  [[0, 0, 0, 0], [0, 0, -M/r, 0], [0, M/r, 0, 0], [0, 0, 0, 0]],\n",
       "  [[0, 0, 0, 0],\n",
       "   [0, 0, 0, -M*sin(th)^2/r],\n",
       "   [0, 0, 0, 0],\n",
       "   [0, M*sin(th)^2/r, 0, 0]]],\n",
       " [[[0, 0, (2*M^2 - M*r)/r^4, 0],\n",
       "   [0, 0, 0, 0],\n",
       "   [-(2*M^2 - M*r)/r^4, 0, 0, 0],\n",
       "   [0, 0, 0, 0]],\n",
       "  [[0, 0, 0, 0],\n",
       "   [0, 0, -M/(2*M*r^2 - r^3), 0],\n",
       "   [0, M/(2*M*r^2 - r^3), 0, 0],\n",
       "   [0, 0, 0, 0]],\n",
       "  [[0, 0, 0, 0], [0, 0, 0, 0], [0, 0, 0, 0], [0, 0, 0, 0]],\n",
       "  [[0, 0, 0, 0],\n",
       "   [0, 0, 0, 0],\n",
       "   [0, 0, 0, 2*M*sin(th)^2/r],\n",
       "   [0, 0, -2*M*sin(th)^2/r, 0]]],\n",
       " [[[0, 0, 0, (2*M^2 - M*r)/r^4],\n",
       "   [0, 0, 0, 0],\n",
       "   [0, 0, 0, 0],\n",
       "   [-(2*M^2 - M*r)/r^4, 0, 0, 0]],\n",
       "  [[0, 0, 0, 0],\n",
       "   [0, 0, 0, -M/(2*M*r^2 - r^3)],\n",
       "   [0, 0, 0, 0],\n",
       "   [0, M/(2*M*r^2 - r^3), 0, 0]],\n",
       "  [[0, 0, 0, 0], [0, 0, 0, 0], [0, 0, 0, -2*M/r], [0, 0, 2*M/r, 0]],\n",
       "  [[0, 0, 0, 0], [0, 0, 0, 0], [0, 0, 0, 0], [0, 0, 0, 0]]]]"
      ]
     },
     "execution_count": 17,
     "metadata": {},
     "output_type": "execute_result"
    }
   ],
   "source": [
    "Riemann[:]"
   ]
  },
  {
   "cell_type": "markdown",
   "metadata": {},
   "source": [
    "Each component is shown by using the corresponding indices. For example, the component $R^0_{\\ \\,101} = R^t_{\\ \\,trt}$ of the Riemann tensor is"
   ]
  },
  {
   "cell_type": "code",
   "execution_count": 27,
   "metadata": {},
   "outputs": [
    {
     "data": {
      "text/html": [
       "<html>\\[\\newcommand{\\Bold}[1]{\\mathbf{#1}}\\frac{2 \\, M}{2 \\, M r^{2} - r^{3}}\\]</html>"
      ],
      "text/latex": [
       "$$\\newcommand{\\Bold}[1]{\\mathbf{#1}}\\frac{2 \\, M}{2 \\, M r^{2} - r^{3}}$$"
      ],
      "text/plain": [
       "2*M/(2*M*r^2 - r^3)"
      ]
     },
     "execution_count": 27,
     "metadata": {},
     "output_type": "execute_result"
    }
   ],
   "source": [
    "Riemann[0,1,1,0]"
   ]
  },
  {
   "cell_type": "code",
   "execution_count": 28,
   "metadata": {},
   "outputs": [
    {
     "data": {
      "text/html": [
       "<html>\\[\\newcommand{\\Bold}[1]{\\mathbf{#1}}-\\frac{2 \\, M}{2 \\, M r^{2} - r^{3}}\\]</html>"
      ],
      "text/latex": [
       "$$\\newcommand{\\Bold}[1]{\\mathbf{#1}}-\\frac{2 \\, M}{2 \\, M r^{2} - r^{3}}$$"
      ],
      "text/plain": [
       "-2*M/(2*M*r^2 - r^3)"
      ]
     },
     "execution_count": 28,
     "metadata": {},
     "output_type": "execute_result"
    }
   ],
   "source": [
    "Riemann[0,1,0,1]"
   ]
  },
  {
   "cell_type": "markdown",
   "metadata": {},
   "source": [
    "In order to obtain the curvature tensor as a (0,4) tensor, we use the `.down()` method:"
   ]
  },
  {
   "cell_type": "code",
   "execution_count": 18,
   "metadata": {},
   "outputs": [
    {
     "data": {
      "text/html": [
       "<html>\\[\\newcommand{\\Bold}[1]{\\mathbf{#1}}\\mbox{Tensor field of type (0,4) on the 4-dimensional Lorentzian manifold Mnfld}\\]</html>"
      ],
      "text/latex": [
       "$$\\newcommand{\\Bold}[1]{\\mathbf{#1}}\\mbox{Tensor field of type (0,4) on the 4-dimensional Lorentzian manifold Mnfld}$$"
      ],
      "text/plain": [
       "Tensor field of type (0,4) on the 4-dimensional Lorentzian manifold Mnfld"
      ]
     },
     "execution_count": 18,
     "metadata": {},
     "output_type": "execute_result"
    }
   ],
   "source": [
    "Riemann_dddd = Riemann.down(g)\n",
    "Riemann_dddd"
   ]
  },
  {
   "cell_type": "code",
   "execution_count": 19,
   "metadata": {},
   "outputs": [
    {
     "data": {
      "text/html": [
       "<html>\\[\\newcommand{\\Bold}[1]{\\mathbf{#1}}-\\frac{2 \\, M}{r^{3}} \\mathrm{d} t\\otimes \\mathrm{d} r\\otimes \\mathrm{d} t\\otimes \\mathrm{d} r + \\frac{2 \\, M}{r^{3}} \\mathrm{d} t\\otimes \\mathrm{d} r\\otimes \\mathrm{d} r\\otimes \\mathrm{d} t + \\left( -\\frac{2 \\, M^{2} - M r}{r^{2}} \\right) \\mathrm{d} t\\otimes \\mathrm{d} {\\theta}\\otimes \\mathrm{d} t\\otimes \\mathrm{d} {\\theta} + \\left( \\frac{2 \\, M^{2} - M r}{r^{2}} \\right) \\mathrm{d} t\\otimes \\mathrm{d} {\\theta}\\otimes \\mathrm{d} {\\theta}\\otimes \\mathrm{d} t -\\frac{{\\left(2 \\, M^{2} - M r\\right)} \\sin\\left({\\theta}\\right)^{2}}{r^{2}} \\mathrm{d} t\\otimes \\mathrm{d} {\\phi}\\otimes \\mathrm{d} t\\otimes \\mathrm{d} {\\phi} + \\frac{{\\left(2 \\, M^{2} - M r\\right)} \\sin\\left({\\theta}\\right)^{2}}{r^{2}} \\mathrm{d} t\\otimes \\mathrm{d} {\\phi}\\otimes \\mathrm{d} {\\phi}\\otimes \\mathrm{d} t + \\frac{2 \\, M}{r^{3}} \\mathrm{d} r\\otimes \\mathrm{d} t\\otimes \\mathrm{d} t\\otimes \\mathrm{d} r -\\frac{2 \\, M}{r^{3}} \\mathrm{d} r\\otimes \\mathrm{d} t\\otimes \\mathrm{d} r\\otimes \\mathrm{d} t + \\left( \\frac{M}{2 \\, M - r} \\right) \\mathrm{d} r\\otimes \\mathrm{d} {\\theta}\\otimes \\mathrm{d} r\\otimes \\mathrm{d} {\\theta} + \\left( -\\frac{M}{2 \\, M - r} \\right) \\mathrm{d} r\\otimes \\mathrm{d} {\\theta}\\otimes \\mathrm{d} {\\theta}\\otimes \\mathrm{d} r + \\left( \\frac{M \\sin\\left({\\theta}\\right)^{2}}{2 \\, M - r} \\right) \\mathrm{d} r\\otimes \\mathrm{d} {\\phi}\\otimes \\mathrm{d} r\\otimes \\mathrm{d} {\\phi} + \\left( -\\frac{M \\sin\\left({\\theta}\\right)^{2}}{2 \\, M - r} \\right) \\mathrm{d} r\\otimes \\mathrm{d} {\\phi}\\otimes \\mathrm{d} {\\phi}\\otimes \\mathrm{d} r + \\left( \\frac{2 \\, M^{2} - M r}{r^{2}} \\right) \\mathrm{d} {\\theta}\\otimes \\mathrm{d} t\\otimes \\mathrm{d} t\\otimes \\mathrm{d} {\\theta} + \\left( -\\frac{2 \\, M^{2} - M r}{r^{2}} \\right) \\mathrm{d} {\\theta}\\otimes \\mathrm{d} t\\otimes \\mathrm{d} {\\theta}\\otimes \\mathrm{d} t + \\left( -\\frac{M}{2 \\, M - r} \\right) \\mathrm{d} {\\theta}\\otimes \\mathrm{d} r\\otimes \\mathrm{d} r\\otimes \\mathrm{d} {\\theta} + \\left( \\frac{M}{2 \\, M - r} \\right) \\mathrm{d} {\\theta}\\otimes \\mathrm{d} r\\otimes \\mathrm{d} {\\theta}\\otimes \\mathrm{d} r + 2 \\, M r \\sin\\left({\\theta}\\right)^{2} \\mathrm{d} {\\theta}\\otimes \\mathrm{d} {\\phi}\\otimes \\mathrm{d} {\\theta}\\otimes \\mathrm{d} {\\phi} -2 \\, M r \\sin\\left({\\theta}\\right)^{2} \\mathrm{d} {\\theta}\\otimes \\mathrm{d} {\\phi}\\otimes \\mathrm{d} {\\phi}\\otimes \\mathrm{d} {\\theta} + \\frac{{\\left(2 \\, M^{2} - M r\\right)} \\sin\\left({\\theta}\\right)^{2}}{r^{2}} \\mathrm{d} {\\phi}\\otimes \\mathrm{d} t\\otimes \\mathrm{d} t\\otimes \\mathrm{d} {\\phi} -\\frac{{\\left(2 \\, M^{2} - M r\\right)} \\sin\\left({\\theta}\\right)^{2}}{r^{2}} \\mathrm{d} {\\phi}\\otimes \\mathrm{d} t\\otimes \\mathrm{d} {\\phi}\\otimes \\mathrm{d} t + \\left( -\\frac{M \\sin\\left({\\theta}\\right)^{2}}{2 \\, M - r} \\right) \\mathrm{d} {\\phi}\\otimes \\mathrm{d} r\\otimes \\mathrm{d} r\\otimes \\mathrm{d} {\\phi} + \\left( \\frac{M \\sin\\left({\\theta}\\right)^{2}}{2 \\, M - r} \\right) \\mathrm{d} {\\phi}\\otimes \\mathrm{d} r\\otimes \\mathrm{d} {\\phi}\\otimes \\mathrm{d} r -2 \\, M r \\sin\\left({\\theta}\\right)^{2} \\mathrm{d} {\\phi}\\otimes \\mathrm{d} {\\theta}\\otimes \\mathrm{d} {\\theta}\\otimes \\mathrm{d} {\\phi} + 2 \\, M r \\sin\\left({\\theta}\\right)^{2} \\mathrm{d} {\\phi}\\otimes \\mathrm{d} {\\theta}\\otimes \\mathrm{d} {\\phi}\\otimes \\mathrm{d} {\\theta}\\]</html>"
      ],
      "text/latex": [
       "$$\\newcommand{\\Bold}[1]{\\mathbf{#1}}-\\frac{2 \\, M}{r^{3}} \\mathrm{d} t\\otimes \\mathrm{d} r\\otimes \\mathrm{d} t\\otimes \\mathrm{d} r + \\frac{2 \\, M}{r^{3}} \\mathrm{d} t\\otimes \\mathrm{d} r\\otimes \\mathrm{d} r\\otimes \\mathrm{d} t + \\left( -\\frac{2 \\, M^{2} - M r}{r^{2}} \\right) \\mathrm{d} t\\otimes \\mathrm{d} {\\theta}\\otimes \\mathrm{d} t\\otimes \\mathrm{d} {\\theta} + \\left( \\frac{2 \\, M^{2} - M r}{r^{2}} \\right) \\mathrm{d} t\\otimes \\mathrm{d} {\\theta}\\otimes \\mathrm{d} {\\theta}\\otimes \\mathrm{d} t -\\frac{{\\left(2 \\, M^{2} - M r\\right)} \\sin\\left({\\theta}\\right)^{2}}{r^{2}} \\mathrm{d} t\\otimes \\mathrm{d} {\\phi}\\otimes \\mathrm{d} t\\otimes \\mathrm{d} {\\phi} + \\frac{{\\left(2 \\, M^{2} - M r\\right)} \\sin\\left({\\theta}\\right)^{2}}{r^{2}} \\mathrm{d} t\\otimes \\mathrm{d} {\\phi}\\otimes \\mathrm{d} {\\phi}\\otimes \\mathrm{d} t + \\frac{2 \\, M}{r^{3}} \\mathrm{d} r\\otimes \\mathrm{d} t\\otimes \\mathrm{d} t\\otimes \\mathrm{d} r -\\frac{2 \\, M}{r^{3}} \\mathrm{d} r\\otimes \\mathrm{d} t\\otimes \\mathrm{d} r\\otimes \\mathrm{d} t + \\left( \\frac{M}{2 \\, M - r} \\right) \\mathrm{d} r\\otimes \\mathrm{d} {\\theta}\\otimes \\mathrm{d} r\\otimes \\mathrm{d} {\\theta} + \\left( -\\frac{M}{2 \\, M - r} \\right) \\mathrm{d} r\\otimes \\mathrm{d} {\\theta}\\otimes \\mathrm{d} {\\theta}\\otimes \\mathrm{d} r + \\left( \\frac{M \\sin\\left({\\theta}\\right)^{2}}{2 \\, M - r} \\right) \\mathrm{d} r\\otimes \\mathrm{d} {\\phi}\\otimes \\mathrm{d} r\\otimes \\mathrm{d} {\\phi} + \\left( -\\frac{M \\sin\\left({\\theta}\\right)^{2}}{2 \\, M - r} \\right) \\mathrm{d} r\\otimes \\mathrm{d} {\\phi}\\otimes \\mathrm{d} {\\phi}\\otimes \\mathrm{d} r + \\left( \\frac{2 \\, M^{2} - M r}{r^{2}} \\right) \\mathrm{d} {\\theta}\\otimes \\mathrm{d} t\\otimes \\mathrm{d} t\\otimes \\mathrm{d} {\\theta} + \\left( -\\frac{2 \\, M^{2} - M r}{r^{2}} \\right) \\mathrm{d} {\\theta}\\otimes \\mathrm{d} t\\otimes \\mathrm{d} {\\theta}\\otimes \\mathrm{d} t + \\left( -\\frac{M}{2 \\, M - r} \\right) \\mathrm{d} {\\theta}\\otimes \\mathrm{d} r\\otimes \\mathrm{d} r\\otimes \\mathrm{d} {\\theta} + \\left( \\frac{M}{2 \\, M - r} \\right) \\mathrm{d} {\\theta}\\otimes \\mathrm{d} r\\otimes \\mathrm{d} {\\theta}\\otimes \\mathrm{d} r + 2 \\, M r \\sin\\left({\\theta}\\right)^{2} \\mathrm{d} {\\theta}\\otimes \\mathrm{d} {\\phi}\\otimes \\mathrm{d} {\\theta}\\otimes \\mathrm{d} {\\phi} -2 \\, M r \\sin\\left({\\theta}\\right)^{2} \\mathrm{d} {\\theta}\\otimes \\mathrm{d} {\\phi}\\otimes \\mathrm{d} {\\phi}\\otimes \\mathrm{d} {\\theta} + \\frac{{\\left(2 \\, M^{2} - M r\\right)} \\sin\\left({\\theta}\\right)^{2}}{r^{2}} \\mathrm{d} {\\phi}\\otimes \\mathrm{d} t\\otimes \\mathrm{d} t\\otimes \\mathrm{d} {\\phi} -\\frac{{\\left(2 \\, M^{2} - M r\\right)} \\sin\\left({\\theta}\\right)^{2}}{r^{2}} \\mathrm{d} {\\phi}\\otimes \\mathrm{d} t\\otimes \\mathrm{d} {\\phi}\\otimes \\mathrm{d} t + \\left( -\\frac{M \\sin\\left({\\theta}\\right)^{2}}{2 \\, M - r} \\right) \\mathrm{d} {\\phi}\\otimes \\mathrm{d} r\\otimes \\mathrm{d} r\\otimes \\mathrm{d} {\\phi} + \\left( \\frac{M \\sin\\left({\\theta}\\right)^{2}}{2 \\, M - r} \\right) \\mathrm{d} {\\phi}\\otimes \\mathrm{d} r\\otimes \\mathrm{d} {\\phi}\\otimes \\mathrm{d} r -2 \\, M r \\sin\\left({\\theta}\\right)^{2} \\mathrm{d} {\\phi}\\otimes \\mathrm{d} {\\theta}\\otimes \\mathrm{d} {\\theta}\\otimes \\mathrm{d} {\\phi} + 2 \\, M r \\sin\\left({\\theta}\\right)^{2} \\mathrm{d} {\\phi}\\otimes \\mathrm{d} {\\theta}\\otimes \\mathrm{d} {\\phi}\\otimes \\mathrm{d} {\\theta}$$"
      ],
      "text/plain": [
       "-2*M/r^3 dt⊗dr⊗dt⊗dr + 2*M/r^3 dt⊗dr⊗dr⊗dt - (2*M^2 - M*r)/r^2 dt⊗dth⊗dt⊗dth + (2*M^2 - M*r)/r^2 dt⊗dth⊗dth⊗dt - (2*M^2 - M*r)*sin(th)^2/r^2 dt⊗dph⊗dt⊗dph + (2*M^2 - M*r)*sin(th)^2/r^2 dt⊗dph⊗dph⊗dt + 2*M/r^3 dr⊗dt⊗dt⊗dr - 2*M/r^3 dr⊗dt⊗dr⊗dt + M/(2*M - r) dr⊗dth⊗dr⊗dth - M/(2*M - r) dr⊗dth⊗dth⊗dr + M*sin(th)^2/(2*M - r) dr⊗dph⊗dr⊗dph - M*sin(th)^2/(2*M - r) dr⊗dph⊗dph⊗dr + (2*M^2 - M*r)/r^2 dth⊗dt⊗dt⊗dth - (2*M^2 - M*r)/r^2 dth⊗dt⊗dth⊗dt - M/(2*M - r) dth⊗dr⊗dr⊗dth + M/(2*M - r) dth⊗dr⊗dth⊗dr + 2*M*r*sin(th)^2 dth⊗dph⊗dth⊗dph - 2*M*r*sin(th)^2 dth⊗dph⊗dph⊗dth + (2*M^2 - M*r)*sin(th)^2/r^2 dph⊗dt⊗dt⊗dph - (2*M^2 - M*r)*sin(th)^2/r^2 dph⊗dt⊗dph⊗dt - M*sin(th)^2/(2*M - r) dph⊗dr⊗dr⊗dph + M*sin(th)^2/(2*M - r) dph⊗dr⊗dph⊗dr - 2*M*r*sin(th)^2 dph⊗dth⊗dth⊗dph + 2*M*r*sin(th)^2 dph⊗dth⊗dph⊗dth"
      ]
     },
     "execution_count": 19,
     "metadata": {},
     "output_type": "execute_result"
    }
   ],
   "source": [
    "Riemann_dddd.display()"
   ]
  },
  {
   "cell_type": "code",
   "execution_count": 21,
   "metadata": {},
   "outputs": [
    {
     "data": {
      "text/html": [
       "<html>\\[\\newcommand{\\Bold}[1]{\\mathbf{#1}}\\begin{array}{lcl} X_{ \\, t \\, r \\, t \\, r }^{ \\phantom{\\, t}\\phantom{\\, r}\\phantom{\\, t}\\phantom{\\, r} } & = & -\\frac{2 \\, M}{r^{3}} \\\\ X_{ \\, t \\, r \\, r \\, t }^{ \\phantom{\\, t}\\phantom{\\, r}\\phantom{\\, r}\\phantom{\\, t} } & = & \\frac{2 \\, M}{r^{3}} \\\\ X_{ \\, t \\, {\\theta} \\, t \\, {\\theta} }^{ \\phantom{\\, t}\\phantom{\\, {\\theta}}\\phantom{\\, t}\\phantom{\\, {\\theta}} } & = & -\\frac{2 \\, M^{2} - M r}{r^{2}} \\\\ X_{ \\, t \\, {\\theta} \\, {\\theta} \\, t }^{ \\phantom{\\, t}\\phantom{\\, {\\theta}}\\phantom{\\, {\\theta}}\\phantom{\\, t} } & = & \\frac{2 \\, M^{2} - M r}{r^{2}} \\\\ X_{ \\, t \\, {\\phi} \\, t \\, {\\phi} }^{ \\phantom{\\, t}\\phantom{\\, {\\phi}}\\phantom{\\, t}\\phantom{\\, {\\phi}} } & = & -\\frac{{\\left(2 \\, M^{2} - M r\\right)} \\sin\\left({\\theta}\\right)^{2}}{r^{2}} \\\\ X_{ \\, t \\, {\\phi} \\, {\\phi} \\, t }^{ \\phantom{\\, t}\\phantom{\\, {\\phi}}\\phantom{\\, {\\phi}}\\phantom{\\, t} } & = & \\frac{{\\left(2 \\, M^{2} - M r\\right)} \\sin\\left({\\theta}\\right)^{2}}{r^{2}} \\\\ X_{ \\, r \\, t \\, t \\, r }^{ \\phantom{\\, r}\\phantom{\\, t}\\phantom{\\, t}\\phantom{\\, r} } & = & \\frac{2 \\, M}{r^{3}} \\\\ X_{ \\, r \\, t \\, r \\, t }^{ \\phantom{\\, r}\\phantom{\\, t}\\phantom{\\, r}\\phantom{\\, t} } & = & -\\frac{2 \\, M}{r^{3}} \\\\ X_{ \\, r \\, {\\theta} \\, r \\, {\\theta} }^{ \\phantom{\\, r}\\phantom{\\, {\\theta}}\\phantom{\\, r}\\phantom{\\, {\\theta}} } & = & \\frac{M}{2 \\, M - r} \\\\ X_{ \\, r \\, {\\theta} \\, {\\theta} \\, r }^{ \\phantom{\\, r}\\phantom{\\, {\\theta}}\\phantom{\\, {\\theta}}\\phantom{\\, r} } & = & -\\frac{M}{2 \\, M - r} \\\\ X_{ \\, r \\, {\\phi} \\, r \\, {\\phi} }^{ \\phantom{\\, r}\\phantom{\\, {\\phi}}\\phantom{\\, r}\\phantom{\\, {\\phi}} } & = & \\frac{M \\sin\\left({\\theta}\\right)^{2}}{2 \\, M - r} \\\\ X_{ \\, r \\, {\\phi} \\, {\\phi} \\, r }^{ \\phantom{\\, r}\\phantom{\\, {\\phi}}\\phantom{\\, {\\phi}}\\phantom{\\, r} } & = & -\\frac{M \\sin\\left({\\theta}\\right)^{2}}{2 \\, M - r} \\\\ X_{ \\, {\\theta} \\, t \\, t \\, {\\theta} }^{ \\phantom{\\, {\\theta}}\\phantom{\\, t}\\phantom{\\, t}\\phantom{\\, {\\theta}} } & = & \\frac{2 \\, M^{2} - M r}{r^{2}} \\\\ X_{ \\, {\\theta} \\, t \\, {\\theta} \\, t }^{ \\phantom{\\, {\\theta}}\\phantom{\\, t}\\phantom{\\, {\\theta}}\\phantom{\\, t} } & = & -\\frac{2 \\, M^{2} - M r}{r^{2}} \\\\ X_{ \\, {\\theta} \\, r \\, r \\, {\\theta} }^{ \\phantom{\\, {\\theta}}\\phantom{\\, r}\\phantom{\\, r}\\phantom{\\, {\\theta}} } & = & -\\frac{M}{2 \\, M - r} \\\\ X_{ \\, {\\theta} \\, r \\, {\\theta} \\, r }^{ \\phantom{\\, {\\theta}}\\phantom{\\, r}\\phantom{\\, {\\theta}}\\phantom{\\, r} } & = & \\frac{M}{2 \\, M - r} \\\\ X_{ \\, {\\theta} \\, {\\phi} \\, {\\theta} \\, {\\phi} }^{ \\phantom{\\, {\\theta}}\\phantom{\\, {\\phi}}\\phantom{\\, {\\theta}}\\phantom{\\, {\\phi}} } & = & 2 \\, M r \\sin\\left({\\theta}\\right)^{2} \\\\ X_{ \\, {\\theta} \\, {\\phi} \\, {\\phi} \\, {\\theta} }^{ \\phantom{\\, {\\theta}}\\phantom{\\, {\\phi}}\\phantom{\\, {\\phi}}\\phantom{\\, {\\theta}} } & = & -2 \\, M r \\sin\\left({\\theta}\\right)^{2} \\\\ X_{ \\, {\\phi} \\, t \\, t \\, {\\phi} }^{ \\phantom{\\, {\\phi}}\\phantom{\\, t}\\phantom{\\, t}\\phantom{\\, {\\phi}} } & = & \\frac{{\\left(2 \\, M^{2} - M r\\right)} \\sin\\left({\\theta}\\right)^{2}}{r^{2}} \\\\ X_{ \\, {\\phi} \\, t \\, {\\phi} \\, t }^{ \\phantom{\\, {\\phi}}\\phantom{\\, t}\\phantom{\\, {\\phi}}\\phantom{\\, t} } & = & -\\frac{{\\left(2 \\, M^{2} - M r\\right)} \\sin\\left({\\theta}\\right)^{2}}{r^{2}} \\\\ X_{ \\, {\\phi} \\, r \\, r \\, {\\phi} }^{ \\phantom{\\, {\\phi}}\\phantom{\\, r}\\phantom{\\, r}\\phantom{\\, {\\phi}} } & = & -\\frac{M \\sin\\left({\\theta}\\right)^{2}}{2 \\, M - r} \\\\ X_{ \\, {\\phi} \\, r \\, {\\phi} \\, r }^{ \\phantom{\\, {\\phi}}\\phantom{\\, r}\\phantom{\\, {\\phi}}\\phantom{\\, r} } & = & \\frac{M \\sin\\left({\\theta}\\right)^{2}}{2 \\, M - r} \\\\ X_{ \\, {\\phi} \\, {\\theta} \\, {\\theta} \\, {\\phi} }^{ \\phantom{\\, {\\phi}}\\phantom{\\, {\\theta}}\\phantom{\\, {\\theta}}\\phantom{\\, {\\phi}} } & = & -2 \\, M r \\sin\\left({\\theta}\\right)^{2} \\\\ X_{ \\, {\\phi} \\, {\\theta} \\, {\\phi} \\, {\\theta} }^{ \\phantom{\\, {\\phi}}\\phantom{\\, {\\theta}}\\phantom{\\, {\\phi}}\\phantom{\\, {\\theta}} } & = & 2 \\, M r \\sin\\left({\\theta}\\right)^{2} \\end{array}\\]</html>"
      ],
      "text/latex": [
       "$$\\newcommand{\\Bold}[1]{\\mathbf{#1}}\\begin{array}{lcl} X_{ \\, t \\, r \\, t \\, r }^{ \\phantom{\\, t}\\phantom{\\, r}\\phantom{\\, t}\\phantom{\\, r} } & = & -\\frac{2 \\, M}{r^{3}} \\\\ X_{ \\, t \\, r \\, r \\, t }^{ \\phantom{\\, t}\\phantom{\\, r}\\phantom{\\, r}\\phantom{\\, t} } & = & \\frac{2 \\, M}{r^{3}} \\\\ X_{ \\, t \\, {\\theta} \\, t \\, {\\theta} }^{ \\phantom{\\, t}\\phantom{\\, {\\theta}}\\phantom{\\, t}\\phantom{\\, {\\theta}} } & = & -\\frac{2 \\, M^{2} - M r}{r^{2}} \\\\ X_{ \\, t \\, {\\theta} \\, {\\theta} \\, t }^{ \\phantom{\\, t}\\phantom{\\, {\\theta}}\\phantom{\\, {\\theta}}\\phantom{\\, t} } & = & \\frac{2 \\, M^{2} - M r}{r^{2}} \\\\ X_{ \\, t \\, {\\phi} \\, t \\, {\\phi} }^{ \\phantom{\\, t}\\phantom{\\, {\\phi}}\\phantom{\\, t}\\phantom{\\, {\\phi}} } & = & -\\frac{{\\left(2 \\, M^{2} - M r\\right)} \\sin\\left({\\theta}\\right)^{2}}{r^{2}} \\\\ X_{ \\, t \\, {\\phi} \\, {\\phi} \\, t }^{ \\phantom{\\, t}\\phantom{\\, {\\phi}}\\phantom{\\, {\\phi}}\\phantom{\\, t} } & = & \\frac{{\\left(2 \\, M^{2} - M r\\right)} \\sin\\left({\\theta}\\right)^{2}}{r^{2}} \\\\ X_{ \\, r \\, t \\, t \\, r }^{ \\phantom{\\, r}\\phantom{\\, t}\\phantom{\\, t}\\phantom{\\, r} } & = & \\frac{2 \\, M}{r^{3}} \\\\ X_{ \\, r \\, t \\, r \\, t }^{ \\phantom{\\, r}\\phantom{\\, t}\\phantom{\\, r}\\phantom{\\, t} } & = & -\\frac{2 \\, M}{r^{3}} \\\\ X_{ \\, r \\, {\\theta} \\, r \\, {\\theta} }^{ \\phantom{\\, r}\\phantom{\\, {\\theta}}\\phantom{\\, r}\\phantom{\\, {\\theta}} } & = & \\frac{M}{2 \\, M - r} \\\\ X_{ \\, r \\, {\\theta} \\, {\\theta} \\, r }^{ \\phantom{\\, r}\\phantom{\\, {\\theta}}\\phantom{\\, {\\theta}}\\phantom{\\, r} } & = & -\\frac{M}{2 \\, M - r} \\\\ X_{ \\, r \\, {\\phi} \\, r \\, {\\phi} }^{ \\phantom{\\, r}\\phantom{\\, {\\phi}}\\phantom{\\, r}\\phantom{\\, {\\phi}} } & = & \\frac{M \\sin\\left({\\theta}\\right)^{2}}{2 \\, M - r} \\\\ X_{ \\, r \\, {\\phi} \\, {\\phi} \\, r }^{ \\phantom{\\, r}\\phantom{\\, {\\phi}}\\phantom{\\, {\\phi}}\\phantom{\\, r} } & = & -\\frac{M \\sin\\left({\\theta}\\right)^{2}}{2 \\, M - r} \\\\ X_{ \\, {\\theta} \\, t \\, t \\, {\\theta} }^{ \\phantom{\\, {\\theta}}\\phantom{\\, t}\\phantom{\\, t}\\phantom{\\, {\\theta}} } & = & \\frac{2 \\, M^{2} - M r}{r^{2}} \\\\ X_{ \\, {\\theta} \\, t \\, {\\theta} \\, t }^{ \\phantom{\\, {\\theta}}\\phantom{\\, t}\\phantom{\\, {\\theta}}\\phantom{\\, t} } & = & -\\frac{2 \\, M^{2} - M r}{r^{2}} \\\\ X_{ \\, {\\theta} \\, r \\, r \\, {\\theta} }^{ \\phantom{\\, {\\theta}}\\phantom{\\, r}\\phantom{\\, r}\\phantom{\\, {\\theta}} } & = & -\\frac{M}{2 \\, M - r} \\\\ X_{ \\, {\\theta} \\, r \\, {\\theta} \\, r }^{ \\phantom{\\, {\\theta}}\\phantom{\\, r}\\phantom{\\, {\\theta}}\\phantom{\\, r} } & = & \\frac{M}{2 \\, M - r} \\\\ X_{ \\, {\\theta} \\, {\\phi} \\, {\\theta} \\, {\\phi} }^{ \\phantom{\\, {\\theta}}\\phantom{\\, {\\phi}}\\phantom{\\, {\\theta}}\\phantom{\\, {\\phi}} } & = & 2 \\, M r \\sin\\left({\\theta}\\right)^{2} \\\\ X_{ \\, {\\theta} \\, {\\phi} \\, {\\phi} \\, {\\theta} }^{ \\phantom{\\, {\\theta}}\\phantom{\\, {\\phi}}\\phantom{\\, {\\phi}}\\phantom{\\, {\\theta}} } & = & -2 \\, M r \\sin\\left({\\theta}\\right)^{2} \\\\ X_{ \\, {\\phi} \\, t \\, t \\, {\\phi} }^{ \\phantom{\\, {\\phi}}\\phantom{\\, t}\\phantom{\\, t}\\phantom{\\, {\\phi}} } & = & \\frac{{\\left(2 \\, M^{2} - M r\\right)} \\sin\\left({\\theta}\\right)^{2}}{r^{2}} \\\\ X_{ \\, {\\phi} \\, t \\, {\\phi} \\, t }^{ \\phantom{\\, {\\phi}}\\phantom{\\, t}\\phantom{\\, {\\phi}}\\phantom{\\, t} } & = & -\\frac{{\\left(2 \\, M^{2} - M r\\right)} \\sin\\left({\\theta}\\right)^{2}}{r^{2}} \\\\ X_{ \\, {\\phi} \\, r \\, r \\, {\\phi} }^{ \\phantom{\\, {\\phi}}\\phantom{\\, r}\\phantom{\\, r}\\phantom{\\, {\\phi}} } & = & -\\frac{M \\sin\\left({\\theta}\\right)^{2}}{2 \\, M - r} \\\\ X_{ \\, {\\phi} \\, r \\, {\\phi} \\, r }^{ \\phantom{\\, {\\phi}}\\phantom{\\, r}\\phantom{\\, {\\phi}}\\phantom{\\, r} } & = & \\frac{M \\sin\\left({\\theta}\\right)^{2}}{2 \\, M - r} \\\\ X_{ \\, {\\phi} \\, {\\theta} \\, {\\theta} \\, {\\phi} }^{ \\phantom{\\, {\\phi}}\\phantom{\\, {\\theta}}\\phantom{\\, {\\theta}}\\phantom{\\, {\\phi}} } & = & -2 \\, M r \\sin\\left({\\theta}\\right)^{2} \\\\ X_{ \\, {\\phi} \\, {\\theta} \\, {\\phi} \\, {\\theta} }^{ \\phantom{\\, {\\phi}}\\phantom{\\, {\\theta}}\\phantom{\\, {\\phi}}\\phantom{\\, {\\theta}} } & = & 2 \\, M r \\sin\\left({\\theta}\\right)^{2} \\end{array}$$"
      ],
      "text/plain": [
       "X_t,r,t,r = -2*M/r^3 \n",
       "X_t,r,r,t = 2*M/r^3 \n",
       "X_t,th,t,th = -(2*M^2 - M*r)/r^2 \n",
       "X_t,th,th,t = (2*M^2 - M*r)/r^2 \n",
       "X_t,ph,t,ph = -(2*M^2 - M*r)*sin(th)^2/r^2 \n",
       "X_t,ph,ph,t = (2*M^2 - M*r)*sin(th)^2/r^2 \n",
       "X_r,t,t,r = 2*M/r^3 \n",
       "X_r,t,r,t = -2*M/r^3 \n",
       "X_r,th,r,th = M/(2*M - r) \n",
       "X_r,th,th,r = -M/(2*M - r) \n",
       "X_r,ph,r,ph = M*sin(th)^2/(2*M - r) \n",
       "X_r,ph,ph,r = -M*sin(th)^2/(2*M - r) \n",
       "X_th,t,t,th = (2*M^2 - M*r)/r^2 \n",
       "X_th,t,th,t = -(2*M^2 - M*r)/r^2 \n",
       "X_th,r,r,th = -M/(2*M - r) \n",
       "X_th,r,th,r = M/(2*M - r) \n",
       "X_th,ph,th,ph = 2*M*r*sin(th)^2 \n",
       "X_th,ph,ph,th = -2*M*r*sin(th)^2 \n",
       "X_ph,t,t,ph = (2*M^2 - M*r)*sin(th)^2/r^2 \n",
       "X_ph,t,ph,t = -(2*M^2 - M*r)*sin(th)^2/r^2 \n",
       "X_ph,r,r,ph = -M*sin(th)^2/(2*M - r) \n",
       "X_ph,r,ph,r = M*sin(th)^2/(2*M - r) \n",
       "X_ph,th,th,ph = -2*M*r*sin(th)^2 \n",
       "X_ph,th,ph,th = 2*M*r*sin(th)^2 "
      ]
     },
     "execution_count": 21,
     "metadata": {},
     "output_type": "execute_result"
    }
   ],
   "source": [
    "Riemann_dddd.display_comp()"
   ]
  },
  {
   "cell_type": "code",
   "execution_count": 38,
   "metadata": {
    "scrolled": true
   },
   "outputs": [
    {
     "data": {
      "text/html": [
       "<html>\\[\\newcommand{\\Bold}[1]{\\mathbf{#1}}-\\frac{2 \\, M}{r^{3}}\\]</html>"
      ],
      "text/latex": [
       "$$\\newcommand{\\Bold}[1]{\\mathbf{#1}}-\\frac{2 \\, M}{r^{3}}$$"
      ],
      "text/plain": [
       "-2*M/r^3"
      ]
     },
     "execution_count": 38,
     "metadata": {},
     "output_type": "execute_result"
    }
   ],
   "source": [
    "Riemann_dddd[0,1,0,1]"
   ]
  },
  {
   "cell_type": "code",
   "execution_count": 32,
   "metadata": {},
   "outputs": [
    {
     "data": {
      "text/html": [
       "<html>\\[\\newcommand{\\Bold}[1]{\\mathbf{#1}}\\frac{2 \\, M}{r^{3}}\\]</html>"
      ],
      "text/latex": [
       "$$\\newcommand{\\Bold}[1]{\\mathbf{#1}}\\frac{2 \\, M}{r^{3}}$$"
      ],
      "text/plain": [
       "2*M/r^3"
      ]
     },
     "execution_count": 32,
     "metadata": {},
     "output_type": "execute_result"
    }
   ],
   "source": [
    "Riemann_dddd[0,1,1,0]"
   ]
  },
  {
   "cell_type": "code",
   "execution_count": 33,
   "metadata": {},
   "outputs": [
    {
     "data": {
      "text/html": [
       "<html>\\[\\newcommand{\\Bold}[1]{\\mathbf{#1}}\\frac{2 \\, M}{r^{3}}\\]</html>"
      ],
      "text/latex": [
       "$$\\newcommand{\\Bold}[1]{\\mathbf{#1}}\\frac{2 \\, M}{r^{3}}$$"
      ],
      "text/plain": [
       "2*M/r^3"
      ]
     },
     "execution_count": 33,
     "metadata": {},
     "output_type": "execute_result"
    }
   ],
   "source": [
    "Riemann_dddd[1,0,0,1]"
   ]
  },
  {
   "cell_type": "code",
   "execution_count": 39,
   "metadata": {},
   "outputs": [
    {
     "data": {
      "text/html": [
       "<html>\\[\\newcommand{\\Bold}[1]{\\mathbf{#1}}\\frac{2 \\, M}{r^{3}}\\]</html>"
      ],
      "text/latex": [
       "$$\\newcommand{\\Bold}[1]{\\mathbf{#1}}\\frac{2 \\, M}{r^{3}}$$"
      ],
      "text/plain": [
       "2*M/r^3"
      ]
     },
     "execution_count": 39,
     "metadata": {},
     "output_type": "execute_result"
    }
   ],
   "source": [
    "Riemann_dddd[1,0,0,1]"
   ]
  },
  {
   "cell_type": "markdown",
   "metadata": {},
   "source": [
    "## 5. Ricci Tensor\n",
    "\n",
    "Now, we calculate the Ricci tensor using the `.ricci()` tensor of the metric,"
   ]
  },
  {
   "cell_type": "code",
   "execution_count": 40,
   "metadata": {},
   "outputs": [
    {
     "data": {
      "text/html": [
       "<html>\\[\\newcommand{\\Bold}[1]{\\mathbf{#1}}\\mathrm{Ric}\\left(g\\right)\\]</html>"
      ],
      "text/latex": [
       "$$\\newcommand{\\Bold}[1]{\\mathbf{#1}}\\mathrm{Ric}\\left(g\\right)$$"
      ],
      "text/plain": [
       "Field of symmetric bilinear forms Ric(g) on the 4-dimensional Lorentzian manifold Mnfld"
      ]
     },
     "execution_count": 40,
     "metadata": {},
     "output_type": "execute_result"
    }
   ],
   "source": [
    "Ricci = g.ricci()\n",
    "Ricci"
   ]
  },
  {
   "cell_type": "markdown",
   "metadata": {},
   "source": [
    "Clearly, its components are zero:"
   ]
  },
  {
   "cell_type": "code",
   "execution_count": 41,
   "metadata": {},
   "outputs": [
    {
     "data": {
      "text/html": [
       "<html>\\[\\newcommand{\\Bold}[1]{\\mathbf{#1}}\\mathrm{Ric}\\left(g\\right) = 0\\]</html>"
      ],
      "text/latex": [
       "$$\\newcommand{\\Bold}[1]{\\mathbf{#1}}\\mathrm{Ric}\\left(g\\right) = 0$$"
      ],
      "text/plain": [
       "Ric(g) = 0"
      ]
     },
     "execution_count": 41,
     "metadata": {},
     "output_type": "execute_result"
    }
   ],
   "source": [
    "Ricci.display()"
   ]
  },
  {
   "cell_type": "code",
   "execution_count": 42,
   "metadata": {},
   "outputs": [
    {
     "data": {
      "text/html": [
       "<html>\\[\\newcommand{\\Bold}[1]{\\mathbf{#1}}\\left(\\begin{array}{rrrr}\n",
       "0 & 0 & 0 & 0 \\\\\n",
       "0 & 0 & 0 & 0 \\\\\n",
       "0 & 0 & 0 & 0 \\\\\n",
       "0 & 0 & 0 & 0\n",
       "\\end{array}\\right)\\]</html>"
      ],
      "text/latex": [
       "$$\\newcommand{\\Bold}[1]{\\mathbf{#1}}\\left(\\begin{array}{rrrr}\n",
       "0 & 0 & 0 & 0 \\\\\n",
       "0 & 0 & 0 & 0 \\\\\n",
       "0 & 0 & 0 & 0 \\\\\n",
       "0 & 0 & 0 & 0\n",
       "\\end{array}\\right)$$"
      ],
      "text/plain": [
       "[0 0 0 0]\n",
       "[0 0 0 0]\n",
       "[0 0 0 0]\n",
       "[0 0 0 0]"
      ]
     },
     "execution_count": 42,
     "metadata": {},
     "output_type": "execute_result"
    }
   ],
   "source": [
    "Ricci[:]"
   ]
  },
  {
   "cell_type": "markdown",
   "metadata": {},
   "source": [
    "### 5.1. Ricci Curvature Scalar\n",
    "\n",
    "We obtain the Ricci curvature scalar by contracting the metric with the Ricci tensor."
   ]
  },
  {
   "cell_type": "code",
   "execution_count": 49,
   "metadata": {
    "scrolled": true
   },
   "outputs": [
    {
     "name": "stdout",
     "output_type": "stream",
     "text": [
      "Scalar field dzero(∂/∂th) on the 4-dimensional Lorentzian manifold Mnfld\n"
     ]
    }
   ],
   "source": [
    "R = g['_{ab}'] * Ricci.up(g)['^{ab}']\n",
    "print(R)"
   ]
  },
  {
   "cell_type": "code",
   "execution_count": 50,
   "metadata": {},
   "outputs": [
    {
     "data": {
      "text/html": [
       "<html>\\[\\newcommand{\\Bold}[1]{\\mathbf{#1}}\\begin{array}{llcl} \\mathrm{d}0\\left( \\frac{\\partial}{\\partial {\\theta} } \\right) : & Mnfld & \\longrightarrow & \\mathbb{R} \\\\ & \\left(t, r, {\\theta}, {\\phi}\\right) & \\longmapsto & 0 \\end{array}\\]</html>"
      ],
      "text/latex": [
       "$$\\newcommand{\\Bold}[1]{\\mathbf{#1}}\\begin{array}{llcl} \\mathrm{d}0\\left( \\frac{\\partial}{\\partial {\\theta} } \\right) : & Mnfld & \\longrightarrow & \\mathbb{R} \\\\ & \\left(t, r, {\\theta}, {\\phi}\\right) & \\longmapsto & 0 \\end{array}$$"
      ],
      "text/plain": [
       "dzero(∂/∂th): Mnfld → ℝ\n",
       "   (t, r, th, ph) ↦ 0"
      ]
     },
     "execution_count": 50,
     "metadata": {},
     "output_type": "execute_result"
    }
   ],
   "source": [
    "R.display()"
   ]
  },
  {
   "cell_type": "markdown",
   "metadata": {},
   "source": [
    "The symbolic expression representing the scalar field $R$ is returned by the method `.expr()`:"
   ]
  },
  {
   "cell_type": "code",
   "execution_count": 51,
   "metadata": {
    "scrolled": true
   },
   "outputs": [
    {
     "data": {
      "text/html": [
       "<html>\\[\\newcommand{\\Bold}[1]{\\mathbf{#1}}0\\]</html>"
      ],
      "text/latex": [
       "$$\\newcommand{\\Bold}[1]{\\mathbf{#1}}0$$"
      ],
      "text/plain": [
       "0"
      ]
     },
     "execution_count": 51,
     "metadata": {},
     "output_type": "execute_result"
    }
   ],
   "source": [
    "R.expr()"
   ]
  },
  {
   "cell_type": "markdown",
   "metadata": {},
   "source": [
    "### 5.2. Ricci Tensor (Alternative Version)\n",
    "\n",
    "An alternative way to declare the Ricci tensor is by contracting the Riemann tesnor in the well-known form:\n",
    "\n",
    "\\begin{equation}\n",
    "R_{\\mu \\nu} = R^\\alpha_{\\,\\, \\mu \\alpha \\nu} = g ^{\\alpha \\beta} R_{\\alpha \\mu \\beta \\nu}\n",
    "\\end{equation}\n",
    "\n",
    "This is obtained by making the contraction"
   ]
  },
  {
   "cell_type": "code",
   "execution_count": 52,
   "metadata": {},
   "outputs": [
    {
     "data": {
      "text/html": [
       "<html>\\[\\newcommand{\\Bold}[1]{\\mathbf{#1}}\\mbox{Tensor field of type (0,2) on the 4-dimensional Lorentzian manifold Mnfld}\\]</html>"
      ],
      "text/latex": [
       "$$\\newcommand{\\Bold}[1]{\\mathbf{#1}}\\mbox{Tensor field of type (0,2) on the 4-dimensional Lorentzian manifold Mnfld}$$"
      ],
      "text/plain": [
       "Tensor field of type (0,2) on the 4-dimensional Lorentzian manifold Mnfld"
      ]
     },
     "execution_count": 52,
     "metadata": {},
     "output_type": "execute_result"
    }
   ],
   "source": [
    "Ric = g.up(g)['^{ab}'] * Riemann.down(g)['_{acbd}']\n",
    "Ric"
   ]
  },
  {
   "cell_type": "code",
   "execution_count": 53,
   "metadata": {},
   "outputs": [
    {
     "data": {
      "text/html": [
       "<html>\\[\\newcommand{\\Bold}[1]{\\mathbf{#1}}0\\]</html>"
      ],
      "text/latex": [
       "$$\\newcommand{\\Bold}[1]{\\mathbf{#1}}0$$"
      ],
      "text/plain": [
       "0"
      ]
     },
     "execution_count": 53,
     "metadata": {},
     "output_type": "execute_result"
    }
   ],
   "source": [
    "Ric.display()"
   ]
  },
  {
   "cell_type": "code",
   "execution_count": 54,
   "metadata": {},
   "outputs": [
    {
     "data": {
      "text/html": [
       "<html>\\[\\newcommand{\\Bold}[1]{\\mathbf{#1}}\\left(\\begin{array}{rrrr}\n",
       "0 & 0 & 0 & 0 \\\\\n",
       "0 & 0 & 0 & 0 \\\\\n",
       "0 & 0 & 0 & 0 \\\\\n",
       "0 & 0 & 0 & 0\n",
       "\\end{array}\\right)\\]</html>"
      ],
      "text/latex": [
       "$$\\newcommand{\\Bold}[1]{\\mathbf{#1}}\\left(\\begin{array}{rrrr}\n",
       "0 & 0 & 0 & 0 \\\\\n",
       "0 & 0 & 0 & 0 \\\\\n",
       "0 & 0 & 0 & 0 \\\\\n",
       "0 & 0 & 0 & 0\n",
       "\\end{array}\\right)$$"
      ],
      "text/plain": [
       "[0 0 0 0]\n",
       "[0 0 0 0]\n",
       "[0 0 0 0]\n",
       "[0 0 0 0]"
      ]
     },
     "execution_count": 54,
     "metadata": {},
     "output_type": "execute_result"
    }
   ],
   "source": [
    "Ric[:]"
   ]
  },
  {
   "cell_type": "markdown",
   "metadata": {},
   "source": [
    "## 6. Kretschmann scalar\n",
    "\n",
    "The Kretschmann scalar is the \"square\" of the Riemann tensor defined by \n",
    "\n",
    "\\begin{equation} \n",
    "K = R_{\\mu \\nu \\rho \\sigma} R^{\\mu \\nu \\rho \\sigma}\n",
    "\\end{equation}\n",
    "\n",
    "To compute it, we calculate the tensors $R_{\\mu \\nu \\rho \\sigma}$ and \n",
    "$R^{\\mu \\nu \\rho \\sigma}$ using the methods `.down()` and `.up()`. Then, we make the contraction by summation on repeated indices"
   ]
  },
  {
   "cell_type": "code",
   "execution_count": 55,
   "metadata": {},
   "outputs": [
    {
     "data": {
      "text/html": [
       "<html>\\[\\newcommand{\\Bold}[1]{\\mathbf{#1}}\\mbox{Scalar field on the 4-dimensional Lorentzian manifold Mnfld}\\]</html>"
      ],
      "text/latex": [
       "$$\\newcommand{\\Bold}[1]{\\mathbf{#1}}\\mbox{Scalar field on the 4-dimensional Lorentzian manifold Mnfld}$$"
      ],
      "text/plain": [
       "Scalar field on the 4-dimensional Lorentzian manifold Mnfld"
      ]
     },
     "execution_count": 55,
     "metadata": {},
     "output_type": "execute_result"
    }
   ],
   "source": [
    "K = Riemann.down(g)['_{abcd}'] * Riemann.up(g)['^{abcd}']\n",
    "K"
   ]
  },
  {
   "cell_type": "code",
   "execution_count": 56,
   "metadata": {},
   "outputs": [
    {
     "data": {
      "text/html": [
       "<html>\\[\\newcommand{\\Bold}[1]{\\mathbf{#1}}\\begin{array}{llcl} & Mnfld & \\longrightarrow & \\mathbb{R} \\\\ & \\left(t, r, {\\theta}, {\\phi}\\right) & \\longmapsto & \\frac{48 \\, M^{2}}{r^{6}} \\end{array}\\]</html>"
      ],
      "text/latex": [
       "$$\\newcommand{\\Bold}[1]{\\mathbf{#1}}\\begin{array}{llcl} & Mnfld & \\longrightarrow & \\mathbb{R} \\\\ & \\left(t, r, {\\theta}, {\\phi}\\right) & \\longmapsto & \\frac{48 \\, M^{2}}{r^{6}} \\end{array}$$"
      ],
      "text/plain": [
       "Mnfld → ℝ\n",
       "(t, r, th, ph) ↦ 48*M^2/r^6"
      ]
     },
     "execution_count": 56,
     "metadata": {},
     "output_type": "execute_result"
    }
   ],
   "source": [
    "K.display()"
   ]
  },
  {
   "cell_type": "markdown",
   "metadata": {},
   "source": [
    "The symbolic expression representing the scalar field $K$ is returned by the method `expr()`:"
   ]
  },
  {
   "cell_type": "code",
   "execution_count": 57,
   "metadata": {
    "scrolled": true
   },
   "outputs": [
    {
     "data": {
      "text/html": [
       "<html>\\[\\newcommand{\\Bold}[1]{\\mathbf{#1}}\\frac{48 \\, M^{2}}{r^{6}}\\]</html>"
      ],
      "text/latex": [
       "$$\\newcommand{\\Bold}[1]{\\mathbf{#1}}\\frac{48 \\, M^{2}}{r^{6}}$$"
      ],
      "text/plain": [
       "48*M^2/r^6"
      ]
     },
     "execution_count": 57,
     "metadata": {},
     "output_type": "execute_result"
    }
   ],
   "source": [
    "K.expr()"
   ]
  },
  {
   "cell_type": "markdown",
   "metadata": {},
   "source": [
    "### Summary of methods\n",
    "\n",
    "```\n",
    "Manifold.chart()\n",
    "Manifold.metric()\n",
    "```\n",
    "\n",
    "\n",
    "```\n",
    "metric.christoffel_symbols_display()\n",
    "metric.christoffel_symbols()[]\n",
    "metric.riemann()\n",
    "metric.ricci()\n",
    "```\n",
    "\n",
    "\n",
    "```\n",
    "tensor.display()\n",
    "tensor[:]\n",
    "tensor.expr()\n",
    "tensor.up(metric)\n",
    "tensor.down(metric)\n",
    "```"
   ]
  },
  {
   "cell_type": "code",
   "execution_count": 46,
   "metadata": {
    "scrolled": false
   },
   "outputs": [
    {
     "data": {
      "text/html": [
       "<html>\\[\\newcommand{\\Bold}[1]{\\mathbf{#1}}0\\]</html>"
      ],
      "text/latex": [
       "$$\\newcommand{\\Bold}[1]{\\mathbf{#1}}0$$"
      ],
      "text/plain": [
       "0"
      ]
     },
     "execution_count": 46,
     "metadata": {},
     "output_type": "execute_result"
    }
   ],
   "source": [
    "Riemann_dddd[1,0,1,3]"
   ]
  },
  {
   "cell_type": "code",
   "execution_count": 47,
   "metadata": {
    "scrolled": true
   },
   "outputs": [
    {
     "data": {
      "text/html": [
       "<html>\\[\\newcommand{\\Bold}[1]{\\mathbf{#1}}\\frac{2 \\, M}{r^{3}}\\]</html>"
      ],
      "text/latex": [
       "$$\\newcommand{\\Bold}[1]{\\mathbf{#1}}\\frac{2 \\, M}{r^{3}}$$"
      ],
      "text/plain": [
       "2*M/r^3"
      ]
     },
     "execution_count": 47,
     "metadata": {},
     "output_type": "execute_result"
    }
   ],
   "source": [
    "Riemann_dddd[1,0,0,1]"
   ]
  },
  {
   "cell_type": "code",
   "execution_count": 48,
   "metadata": {},
   "outputs": [
    {
     "data": {
      "text/html": [
       "<html>\\[\\newcommand{\\Bold}[1]{\\mathbf{#1}}0\\]</html>"
      ],
      "text/latex": [
       "$$\\newcommand{\\Bold}[1]{\\mathbf{#1}}0$$"
      ],
      "text/plain": [
       "0"
      ]
     },
     "execution_count": 48,
     "metadata": {},
     "output_type": "execute_result"
    }
   ],
   "source": [
    "Riemann_dddd[1,0,0,3]"
   ]
  },
  {
   "cell_type": "code",
   "execution_count": 49,
   "metadata": {},
   "outputs": [
    {
     "data": {
      "text/html": [
       "<html>\\[\\newcommand{\\Bold}[1]{\\mathbf{#1}}\\frac{M \\sin\\left({\\theta}\\right)^{2}}{2 \\, M - r}\\]</html>"
      ],
      "text/latex": [
       "$$\\newcommand{\\Bold}[1]{\\mathbf{#1}}\\frac{M \\sin\\left({\\theta}\\right)^{2}}{2 \\, M - r}$$"
      ],
      "text/plain": [
       "M*sin(th)^2/(2*M - r)"
      ]
     },
     "execution_count": 49,
     "metadata": {},
     "output_type": "execute_result"
    }
   ],
   "source": [
    "Riemann_dddd[1,3,1,3]"
   ]
  },
  {
   "cell_type": "code",
   "execution_count": 50,
   "metadata": {},
   "outputs": [
    {
     "data": {
      "text/html": [
       "<html>\\[\\newcommand{\\Bold}[1]{\\mathbf{#1}}0\\]</html>"
      ],
      "text/latex": [
       "$$\\newcommand{\\Bold}[1]{\\mathbf{#1}}0$$"
      ],
      "text/plain": [
       "0"
      ]
     },
     "execution_count": 50,
     "metadata": {},
     "output_type": "execute_result"
    }
   ],
   "source": [
    "Riemann_dddd[1,3,0,1]"
   ]
  },
  {
   "cell_type": "code",
   "execution_count": 51,
   "metadata": {},
   "outputs": [
    {
     "data": {
      "text/html": [
       "<html>\\[\\newcommand{\\Bold}[1]{\\mathbf{#1}}0\\]</html>"
      ],
      "text/latex": [
       "$$\\newcommand{\\Bold}[1]{\\mathbf{#1}}0$$"
      ],
      "text/plain": [
       "0"
      ]
     },
     "execution_count": 51,
     "metadata": {},
     "output_type": "execute_result"
    }
   ],
   "source": [
    "Riemann_dddd[1,3,0,3]"
   ]
  },
  {
   "cell_type": "code",
   "execution_count": 43,
   "metadata": {
    "scrolled": true
   },
   "outputs": [
    {
     "data": {
      "text/html": [
       "<html>\\[\\newcommand{\\Bold}[1]{\\mathbf{#1}}0\\]</html>"
      ],
      "text/latex": [
       "$$\\newcommand{\\Bold}[1]{\\mathbf{#1}}0$$"
      ],
      "text/plain": [
       "0"
      ]
     },
     "execution_count": 43,
     "metadata": {},
     "output_type": "execute_result"
    }
   ],
   "source": [
    "Riemann_dddd[3,0,1,3]"
   ]
  },
  {
   "cell_type": "code",
   "execution_count": 44,
   "metadata": {},
   "outputs": [
    {
     "data": {
      "text/html": [
       "<html>\\[\\newcommand{\\Bold}[1]{\\mathbf{#1}}0\\]</html>"
      ],
      "text/latex": [
       "$$\\newcommand{\\Bold}[1]{\\mathbf{#1}}0$$"
      ],
      "text/plain": [
       "0"
      ]
     },
     "execution_count": 44,
     "metadata": {},
     "output_type": "execute_result"
    }
   ],
   "source": [
    "Riemann_dddd[3,0,0,1]"
   ]
  },
  {
   "cell_type": "code",
   "execution_count": 45,
   "metadata": {},
   "outputs": [
    {
     "data": {
      "text/html": [
       "<html>\\[\\newcommand{\\Bold}[1]{\\mathbf{#1}}\\frac{{\\left(2 \\, M^{2} - M r\\right)} \\sin\\left({\\theta}\\right)^{2}}{r^{2}}\\]</html>"
      ],
      "text/latex": [
       "$$\\newcommand{\\Bold}[1]{\\mathbf{#1}}\\frac{{\\left(2 \\, M^{2} - M r\\right)} \\sin\\left({\\theta}\\right)^{2}}{r^{2}}$$"
      ],
      "text/plain": [
       "(2*M^2 - M*r)*sin(th)^2/r^2"
      ]
     },
     "execution_count": 45,
     "metadata": {},
     "output_type": "execute_result"
    }
   ],
   "source": [
    "Riemann_dddd[3,0,0,3]"
   ]
  },
  {
   "cell_type": "code",
   "execution_count": 62,
   "metadata": {},
   "outputs": [],
   "source": [
    "g.display?"
   ]
  },
  {
   "cell_type": "code",
   "execution_count": null,
   "metadata": {},
   "outputs": [],
   "source": []
  }
 ],
 "metadata": {
  "kernelspec": {
   "display_name": "SageMath 9.4",
   "language": "sage",
   "name": "sagemath-9.4"
  },
  "language_info": {
   "codemirror_mode": {
    "name": "ipython",
    "version": 3
   },
   "file_extension": ".py",
   "mimetype": "text/x-python",
   "name": "python",
   "nbconvert_exporter": "python",
   "pygments_lexer": "ipython3",
   "version": "3.9.5"
  }
 },
 "nbformat": 4,
 "nbformat_minor": 2
}
