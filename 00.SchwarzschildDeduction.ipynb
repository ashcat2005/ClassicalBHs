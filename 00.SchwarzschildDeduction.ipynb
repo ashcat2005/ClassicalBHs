{
 "cells": [
  {
   "cell_type": "markdown",
   "metadata": {},
   "source": [
    "![Astrofisica Computacional](logo.png)"
   ]
  },
  {
   "cell_type": "markdown",
   "metadata": {},
   "source": [
    "---\n",
    "\n",
    "Eduard Larrañaga (ealarranaga@unal.edu.co)\n",
    "\n",
    "---"
   ]
  },
  {
   "cell_type": "markdown",
   "metadata": {},
   "source": [
    "\n",
    "# Deduction of the Schwarzschild Metric\n",
    "---\n",
    "\n",
    "## About this notebook\n",
    "\n",
    "This notebook uses [SageMath](https://www.sagemath.org) and [SageManifolds](https://sagemanifolds.obspm.fr/index.html) to deduce the Schwarzschild metric from the Einstein's Field Equations."
   ]
  },
  {
   "cell_type": "markdown",
   "metadata": {},
   "source": [
    "Note: This notebook was created using SageMath 9.4"
   ]
  },
  {
   "cell_type": "code",
   "execution_count": 1,
   "metadata": {},
   "outputs": [
    {
     "data": {
      "text/plain": [
       "'SageMath version 9.4, Release Date: 2021-08-22'"
      ]
     },
     "execution_count": 1,
     "metadata": {},
     "output_type": "execute_result"
    }
   ],
   "source": [
    "version()"
   ]
  },
  {
   "cell_type": "markdown",
   "metadata": {},
   "source": [
    "First we set up the notebook to display mathematical objects via LaTeX rendering:"
   ]
  },
  {
   "cell_type": "code",
   "execution_count": 2,
   "metadata": {},
   "outputs": [],
   "source": [
    "%display latex"
   ]
  },
  {
   "cell_type": "markdown",
   "metadata": {},
   "source": [
    "## 1. Spacetime Definition\n",
    "\n",
    "The spacetime is defined as 4-dimensional Lorentzian manifold,"
   ]
  },
  {
   "cell_type": "code",
   "execution_count": 3,
   "metadata": {},
   "outputs": [
    {
     "name": "stdout",
     "output_type": "stream",
     "text": [
      "4-dimensional Lorentzian manifold Mnfld\n"
     ]
    }
   ],
   "source": [
    "Mnfld = Manifold(4, 'Mnfld', structure='Lorentzian')\n",
    "print(Mnfld)"
   ]
  },
  {
   "cell_type": "markdown",
   "metadata": {},
   "source": [
    "### 1.1. Standard coordinates\n",
    "\n",
    "We introduce the standard (spherical) **Schwarzschild-Droste coordinates**  using the method `chart()` of the manifold object `Mnfld`. The argument of `chart()` is a raw string which \n",
    "defines the range of each coordinate, if it is different from $(-\\infty, +\\infty)$, as well as its LaTeX symbol. \n",
    "\n",
    "Note that the `Python` variables for each coordinate are declared within the `<...>` operator on the left-hand side. The variable `X` will denote the coordinate chart."
   ]
  },
  {
   "cell_type": "code",
   "execution_count": 4,
   "metadata": {},
   "outputs": [
    {
     "data": {
      "text/html": [
       "<html>\\[\\newcommand{\\Bold}[1]{\\mathbf{#1}}\\left(Mnfld,(t, r, {\\theta}, {\\phi})\\right)\\]</html>"
      ],
      "text/latex": [
       "$$\\newcommand{\\Bold}[1]{\\mathbf{#1}}\\left(Mnfld,(t, r, {\\theta}, {\\phi})\\right)$$"
      ],
      "text/plain": [
       "Chart (Mnfld, (t, r, th, ph))"
      ]
     },
     "execution_count": 4,
     "metadata": {},
     "output_type": "execute_result"
    }
   ],
   "source": [
    "X.<t,r,th,ph> = Mnfld.chart(r\"t r:(0,+oo) th:(0,pi):\\theta ph:(0,2*pi):\\phi\")\n",
    "X"
   ]
  },
  {
   "cell_type": "markdown",
   "metadata": {},
   "source": [
    "It is possible to access the coordinates as an array,"
   ]
  },
  {
   "cell_type": "code",
   "execution_count": 5,
   "metadata": {
    "scrolled": true
   },
   "outputs": [
    {
     "data": {
      "text/html": [
       "<html>\\[\\newcommand{\\Bold}[1]{\\mathbf{#1}}\\left(t, r, {\\theta}, {\\phi}\\right)\\]</html>"
      ],
      "text/latex": [
       "$$\\newcommand{\\Bold}[1]{\\mathbf{#1}}\\left(t, r, {\\theta}, {\\phi}\\right)$$"
      ],
      "text/plain": [
       "(t, r, th, ph)"
      ]
     },
     "execution_count": 5,
     "metadata": {},
     "output_type": "execute_result"
    }
   ],
   "source": [
    "X[:]"
   ]
  },
  {
   "cell_type": "code",
   "execution_count": 6,
   "metadata": {},
   "outputs": [
    {
     "data": {
      "text/html": [
       "<html>\\[\\newcommand{\\Bold}[1]{\\mathbf{#1}}\\left(t, {\\phi}\\right)\\]</html>"
      ],
      "text/latex": [
       "$$\\newcommand{\\Bold}[1]{\\mathbf{#1}}\\left(t, {\\phi}\\right)$$"
      ],
      "text/plain": [
       "(t, ph)"
      ]
     },
     "execution_count": 6,
     "metadata": {},
     "output_type": "execute_result"
    }
   ],
   "source": [
    "X[0], X[3]"
   ]
  },
  {
   "cell_type": "markdown",
   "metadata": {},
   "source": [
    "## 2. Metric tensor\n",
    "\n",
    "In order to obtain the metric, we propose the following line element\n",
    "\n",
    "\\begin{equation}\n",
    "ds^2 = - A(r) dt^2 + B(r) dr^2 + r^2 d\\theta^2 + r^2 \\sin^2 d\\phi^2\n",
    "\\end{equation}\n",
    "\n",
    "we declare to functions, $A(r)$ and $B(r)$ using `function()`:"
   ]
  },
  {
   "cell_type": "code",
   "execution_count": 7,
   "metadata": {},
   "outputs": [],
   "source": [
    "A = function('A')(r)\n",
    "B = function('B')(r)"
   ]
  },
  {
   "cell_type": "markdown",
   "metadata": {},
   "source": [
    "The metric tensor of the Lorentzian manifold `Mnfld` is returned by the method `.metric()`. We initialize its components in the chart `X`, which is the default (and unique) chart on `Mnfld`. The method `.display()` shows the tensor."
   ]
  },
  {
   "cell_type": "code",
   "execution_count": 9,
   "metadata": {},
   "outputs": [
    {
     "ename": "AttributeError",
     "evalue": "'NoneType' object has no attribute '_domain'",
     "output_type": "error",
     "traceback": [
      "\u001b[0;31m---------------------------------------------------------------------------\u001b[0m",
      "\u001b[0;31mAttributeError\u001b[0m                            Traceback (most recent call last)",
      "\u001b[0;32m<ipython-input-9-07260c9f726b>\u001b[0m in \u001b[0;36m<module>\u001b[0;34m\u001b[0m\n\u001b[1;32m      1\u001b[0m \u001b[0mg\u001b[0m \u001b[0;34m=\u001b[0m \u001b[0mMnfld\u001b[0m\u001b[0;34m.\u001b[0m\u001b[0mmetric\u001b[0m\u001b[0;34m(\u001b[0m\u001b[0;34m)\u001b[0m\u001b[0;34m\u001b[0m\u001b[0;34m\u001b[0m\u001b[0m\n\u001b[0;32m----> 2\u001b[0;31m \u001b[0mg\u001b[0m\u001b[0;34m[\u001b[0m\u001b[0mInteger\u001b[0m\u001b[0;34m(\u001b[0m\u001b[0;36m0\u001b[0m\u001b[0;34m)\u001b[0m\u001b[0;34m,\u001b[0m\u001b[0mInteger\u001b[0m\u001b[0;34m(\u001b[0m\u001b[0;36m0\u001b[0m\u001b[0;34m)\u001b[0m\u001b[0;34m]\u001b[0m \u001b[0;34m=\u001b[0m \u001b[0;34m-\u001b[0m\u001b[0mA\u001b[0m\u001b[0;34m\u001b[0m\u001b[0;34m\u001b[0m\u001b[0m\n\u001b[0m\u001b[1;32m      3\u001b[0m \u001b[0mg\u001b[0m\u001b[0;34m[\u001b[0m\u001b[0mInteger\u001b[0m\u001b[0;34m(\u001b[0m\u001b[0;36m1\u001b[0m\u001b[0;34m)\u001b[0m\u001b[0;34m,\u001b[0m\u001b[0mInteger\u001b[0m\u001b[0;34m(\u001b[0m\u001b[0;36m1\u001b[0m\u001b[0;34m)\u001b[0m\u001b[0;34m]\u001b[0m \u001b[0;34m=\u001b[0m \u001b[0mB\u001b[0m\u001b[0;34m\u001b[0m\u001b[0;34m\u001b[0m\u001b[0m\n\u001b[1;32m      4\u001b[0m \u001b[0mg\u001b[0m\u001b[0;34m[\u001b[0m\u001b[0mInteger\u001b[0m\u001b[0;34m(\u001b[0m\u001b[0;36m2\u001b[0m\u001b[0;34m)\u001b[0m\u001b[0;34m,\u001b[0m\u001b[0mInteger\u001b[0m\u001b[0;34m(\u001b[0m\u001b[0;36m2\u001b[0m\u001b[0;34m)\u001b[0m\u001b[0;34m]\u001b[0m \u001b[0;34m=\u001b[0m \u001b[0mr\u001b[0m\u001b[0;34m**\u001b[0m\u001b[0mInteger\u001b[0m\u001b[0;34m(\u001b[0m\u001b[0;36m2\u001b[0m\u001b[0;34m)\u001b[0m\u001b[0;34m\u001b[0m\u001b[0;34m\u001b[0m\u001b[0m\n\u001b[1;32m      5\u001b[0m \u001b[0mg\u001b[0m\u001b[0;34m[\u001b[0m\u001b[0mInteger\u001b[0m\u001b[0;34m(\u001b[0m\u001b[0;36m3\u001b[0m\u001b[0;34m)\u001b[0m\u001b[0;34m,\u001b[0m\u001b[0mInteger\u001b[0m\u001b[0;34m(\u001b[0m\u001b[0;36m3\u001b[0m\u001b[0;34m)\u001b[0m\u001b[0;34m]\u001b[0m \u001b[0;34m=\u001b[0m \u001b[0;34m(\u001b[0m\u001b[0mr\u001b[0m\u001b[0;34m*\u001b[0m\u001b[0msin\u001b[0m\u001b[0;34m(\u001b[0m\u001b[0mth\u001b[0m\u001b[0;34m)\u001b[0m\u001b[0;34m)\u001b[0m\u001b[0;34m**\u001b[0m\u001b[0mInteger\u001b[0m\u001b[0;34m(\u001b[0m\u001b[0;36m2\u001b[0m\u001b[0;34m)\u001b[0m\u001b[0;34m\u001b[0m\u001b[0;34m\u001b[0m\u001b[0m\n",
      "\u001b[0;32m/var/tmp/sage-9.4-current/local/lib/python3.9/site-packages/sage/manifolds/differentiable/tensorfield.py\u001b[0m in \u001b[0;36m__setitem__\u001b[0;34m(self, args, value)\u001b[0m\n\u001b[1;32m   2050\u001b[0m             \u001b[0;32melse\u001b[0m\u001b[0;34m:\u001b[0m\u001b[0;34m\u001b[0m\u001b[0;34m\u001b[0m\u001b[0m\n\u001b[1;32m   2051\u001b[0m                 \u001b[0mframe\u001b[0m \u001b[0;34m=\u001b[0m \u001b[0mself\u001b[0m\u001b[0;34m.\u001b[0m\u001b[0m_domain\u001b[0m\u001b[0;34m.\u001b[0m\u001b[0m_def_frame\u001b[0m\u001b[0;34m\u001b[0m\u001b[0;34m\u001b[0m\u001b[0m\n\u001b[0;32m-> 2052\u001b[0;31m         \u001b[0mself\u001b[0m\u001b[0;34m.\u001b[0m\u001b[0mset_comp\u001b[0m\u001b[0;34m(\u001b[0m\u001b[0mframe\u001b[0m\u001b[0;34m)\u001b[0m\u001b[0;34m[\u001b[0m\u001b[0margs\u001b[0m\u001b[0;34m]\u001b[0m \u001b[0;34m=\u001b[0m \u001b[0mvalue\u001b[0m\u001b[0;34m\u001b[0m\u001b[0;34m\u001b[0m\u001b[0m\n\u001b[0m\u001b[1;32m   2053\u001b[0m \u001b[0;34m\u001b[0m\u001b[0m\n\u001b[1;32m   2054\u001b[0m     \u001b[0;32mdef\u001b[0m \u001b[0mcopy_from\u001b[0m\u001b[0;34m(\u001b[0m\u001b[0mself\u001b[0m\u001b[0;34m,\u001b[0m \u001b[0mother\u001b[0m\u001b[0;34m)\u001b[0m\u001b[0;34m:\u001b[0m\u001b[0;34m\u001b[0m\u001b[0;34m\u001b[0m\u001b[0m\n",
      "\u001b[0;32m/var/tmp/sage-9.4-current/local/lib/python3.9/site-packages/sage/manifolds/differentiable/tensorfield.py\u001b[0m in \u001b[0;36mset_comp\u001b[0;34m(self, basis)\u001b[0m\n\u001b[1;32m   1312\u001b[0m             \u001b[0mbasis\u001b[0m \u001b[0;34m=\u001b[0m \u001b[0mself\u001b[0m\u001b[0;34m.\u001b[0m\u001b[0m_domain\u001b[0m\u001b[0;34m.\u001b[0m\u001b[0m_def_frame\u001b[0m\u001b[0;34m\u001b[0m\u001b[0;34m\u001b[0m\u001b[0m\n\u001b[1;32m   1313\u001b[0m         \u001b[0mself\u001b[0m\u001b[0;34m.\u001b[0m\u001b[0m_del_derived\u001b[0m\u001b[0;34m(\u001b[0m\u001b[0;34m)\u001b[0m \u001b[0;31m# deletes the derived quantities\u001b[0m\u001b[0;34m\u001b[0m\u001b[0;34m\u001b[0m\u001b[0m\n\u001b[0;32m-> 1314\u001b[0;31m         \u001b[0mrst\u001b[0m \u001b[0;34m=\u001b[0m \u001b[0mself\u001b[0m\u001b[0;34m.\u001b[0m\u001b[0mrestrict\u001b[0m\u001b[0;34m(\u001b[0m\u001b[0mbasis\u001b[0m\u001b[0;34m.\u001b[0m\u001b[0m_domain\u001b[0m\u001b[0;34m,\u001b[0m \u001b[0mdest_map\u001b[0m\u001b[0;34m=\u001b[0m\u001b[0mbasis\u001b[0m\u001b[0;34m.\u001b[0m\u001b[0m_dest_map\u001b[0m\u001b[0;34m)\u001b[0m\u001b[0;34m\u001b[0m\u001b[0;34m\u001b[0m\u001b[0m\n\u001b[0m\u001b[1;32m   1315\u001b[0m         \u001b[0;32mreturn\u001b[0m \u001b[0mrst\u001b[0m\u001b[0;34m.\u001b[0m\u001b[0mset_comp\u001b[0m\u001b[0;34m(\u001b[0m\u001b[0mbasis\u001b[0m\u001b[0;34m=\u001b[0m\u001b[0mbasis\u001b[0m\u001b[0;34m)\u001b[0m\u001b[0;34m\u001b[0m\u001b[0;34m\u001b[0m\u001b[0m\n\u001b[1;32m   1316\u001b[0m \u001b[0;34m\u001b[0m\u001b[0m\n",
      "\u001b[0;31mAttributeError\u001b[0m: 'NoneType' object has no attribute '_domain'"
     ]
    }
   ],
   "source": [
    "g = Mnfld.metric()\n",
    "g[0,0] = -A\n",
    "g[1,1] = B\n",
    "g[2,2] = r^2\n",
    "g[3,3] = (r*sin(th))^2\n",
    "g.display()"
   ]
  },
  {
   "cell_type": "markdown",
   "metadata": {},
   "source": [
    "The metric components can be visualized as an array,"
   ]
  },
  {
   "cell_type": "code",
   "execution_count": 9,
   "metadata": {},
   "outputs": [
    {
     "data": {
      "text/html": [
       "<html>\\[\\newcommand{\\Bold}[1]{\\mathbf{#1}}\\left(\\begin{array}{rrrr}\n",
       "-A\\left(r\\right) & 0 & 0 & 0 \\\\\n",
       "0 & B\\left(r\\right) & 0 & 0 \\\\\n",
       "0 & 0 & r^{2} & 0 \\\\\n",
       "0 & 0 & 0 & r^{2} \\sin\\left({\\theta}\\right)^{2}\n",
       "\\end{array}\\right)\\]</html>"
      ],
      "text/latex": [
       "$$\\newcommand{\\Bold}[1]{\\mathbf{#1}}\\left(\\begin{array}{rrrr}\n",
       "-A\\left(r\\right) & 0 & 0 & 0 \\\\\n",
       "0 & B\\left(r\\right) & 0 & 0 \\\\\n",
       "0 & 0 & r^{2} & 0 \\\\\n",
       "0 & 0 & 0 & r^{2} \\sin\\left({\\theta}\\right)^{2}\n",
       "\\end{array}\\right)$$"
      ],
      "text/plain": [
       "[        -A(r)             0             0             0]\n",
       "[            0          B(r)             0             0]\n",
       "[            0             0           r^2             0]\n",
       "[            0             0             0 r^2*sin(th)^2]"
      ]
     },
     "execution_count": 9,
     "metadata": {},
     "output_type": "execute_result"
    }
   ],
   "source": [
    "g[:]"
   ]
  },
  {
   "cell_type": "markdown",
   "metadata": {},
   "source": [
    "and we can access its components as"
   ]
  },
  {
   "cell_type": "code",
   "execution_count": 12,
   "metadata": {},
   "outputs": [
    {
     "data": {
      "text/html": [
       "<html>\\[\\newcommand{\\Bold}[1]{\\mathbf{#1}}B\\left(r\\right)\\]</html>"
      ],
      "text/latex": [
       "$$\\newcommand{\\Bold}[1]{\\mathbf{#1}}B\\left(r\\right)$$"
      ],
      "text/plain": [
       "B(r)"
      ]
     },
     "execution_count": 12,
     "metadata": {},
     "output_type": "execute_result"
    }
   ],
   "source": [
    "g[1,1]"
   ]
  },
  {
   "cell_type": "markdown",
   "metadata": {},
   "source": [
    "### 2.1. Metric Inverse\n",
    "\n",
    "The inverse of the metric tensor is obtained with the method `.inverse()` or by using the `.up()` method applied to the metric tensor:"
   ]
  },
  {
   "cell_type": "code",
   "execution_count": 13,
   "metadata": {},
   "outputs": [
    {
     "data": {
      "text/html": [
       "<html>\\[\\newcommand{\\Bold}[1]{\\mathbf{#1}}g^{-1}\\]</html>"
      ],
      "text/latex": [
       "$$\\newcommand{\\Bold}[1]{\\mathbf{#1}}g^{-1}$$"
      ],
      "text/plain": [
       "Tensor field inv_g of type (2,0) on the 4-dimensional Lorentzian manifold Mnfld"
      ]
     },
     "execution_count": 13,
     "metadata": {},
     "output_type": "execute_result"
    }
   ],
   "source": [
    "# guu = g.up(g) # Can be defined by rising the indices\n",
    "guu = g.inverse()\n",
    "guu"
   ]
  },
  {
   "cell_type": "code",
   "execution_count": 14,
   "metadata": {},
   "outputs": [
    {
     "data": {
      "text/html": [
       "<html>\\[\\newcommand{\\Bold}[1]{\\mathbf{#1}}g^{-1} = -\\frac{1}{A\\left(r\\right)} \\frac{\\partial}{\\partial t }\\otimes \\frac{\\partial}{\\partial t } + \\frac{1}{B\\left(r\\right)} \\frac{\\partial}{\\partial r }\\otimes \\frac{\\partial}{\\partial r } + \\frac{1}{r^{2}} \\frac{\\partial}{\\partial {\\theta} }\\otimes \\frac{\\partial}{\\partial {\\theta} } + \\frac{1}{r^{2} \\sin\\left({\\theta}\\right)^{2}} \\frac{\\partial}{\\partial {\\phi} }\\otimes \\frac{\\partial}{\\partial {\\phi} }\\]</html>"
      ],
      "text/latex": [
       "$$\\newcommand{\\Bold}[1]{\\mathbf{#1}}g^{-1} = -\\frac{1}{A\\left(r\\right)} \\frac{\\partial}{\\partial t }\\otimes \\frac{\\partial}{\\partial t } + \\frac{1}{B\\left(r\\right)} \\frac{\\partial}{\\partial r }\\otimes \\frac{\\partial}{\\partial r } + \\frac{1}{r^{2}} \\frac{\\partial}{\\partial {\\theta} }\\otimes \\frac{\\partial}{\\partial {\\theta} } + \\frac{1}{r^{2} \\sin\\left({\\theta}\\right)^{2}} \\frac{\\partial}{\\partial {\\phi} }\\otimes \\frac{\\partial}{\\partial {\\phi} }$$"
      ],
      "text/plain": [
       "inv_g = -1/A(r) ∂/∂t⊗∂/∂t + 1/B(r) ∂/∂r⊗∂/∂r + r^(-2) ∂/∂th⊗∂/∂th + 1/(r^2*sin(th)^2) ∂/∂ph⊗∂/∂ph"
      ]
     },
     "execution_count": 14,
     "metadata": {},
     "output_type": "execute_result"
    }
   ],
   "source": [
    "guu.display()"
   ]
  },
  {
   "cell_type": "code",
   "execution_count": 15,
   "metadata": {},
   "outputs": [
    {
     "data": {
      "text/html": [
       "<html>\\[\\newcommand{\\Bold}[1]{\\mathbf{#1}}\\left(\\begin{array}{rrrr}\n",
       "-\\frac{1}{A\\left(r\\right)} & 0 & 0 & 0 \\\\\n",
       "0 & \\frac{1}{B\\left(r\\right)} & 0 & 0 \\\\\n",
       "0 & 0 & \\frac{1}{r^{2}} & 0 \\\\\n",
       "0 & 0 & 0 & \\frac{1}{r^{2} \\sin\\left({\\theta}\\right)^{2}}\n",
       "\\end{array}\\right)\\]</html>"
      ],
      "text/latex": [
       "$$\\newcommand{\\Bold}[1]{\\mathbf{#1}}\\left(\\begin{array}{rrrr}\n",
       "-\\frac{1}{A\\left(r\\right)} & 0 & 0 & 0 \\\\\n",
       "0 & \\frac{1}{B\\left(r\\right)} & 0 & 0 \\\\\n",
       "0 & 0 & \\frac{1}{r^{2}} & 0 \\\\\n",
       "0 & 0 & 0 & \\frac{1}{r^{2} \\sin\\left({\\theta}\\right)^{2}}\n",
       "\\end{array}\\right)$$"
      ],
      "text/plain": [
       "[          -1/A(r)                 0                 0                 0]\n",
       "[                0            1/B(r)                 0                 0]\n",
       "[                0                 0            r^(-2)                 0]\n",
       "[                0                 0                 0 1/(r^2*sin(th)^2)]"
      ]
     },
     "execution_count": 15,
     "metadata": {},
     "output_type": "execute_result"
    }
   ],
   "source": [
    "guu[:]"
   ]
  },
  {
   "cell_type": "markdown",
   "metadata": {},
   "source": [
    "### 2.2. Delta\n",
    "\n",
    "We also define the tensor $\\delta^\\mu _\\nu = g^\\mu _\\nu$ wich we declare using the contraction of indices"
   ]
  },
  {
   "cell_type": "code",
   "execution_count": 16,
   "metadata": {},
   "outputs": [
    {
     "data": {
      "text/html": [
       "<html>\\[\\newcommand{\\Bold}[1]{\\mathbf{#1}}\\left(\\begin{array}{rrrr}\n",
       "1 & 0 & 0 & 0 \\\\\n",
       "0 & 1 & 0 & 0 \\\\\n",
       "0 & 0 & 1 & 0 \\\\\n",
       "0 & 0 & 0 & 1\n",
       "\\end{array}\\right)\\]</html>"
      ],
      "text/latex": [
       "$$\\newcommand{\\Bold}[1]{\\mathbf{#1}}\\left(\\begin{array}{rrrr}\n",
       "1 & 0 & 0 & 0 \\\\\n",
       "0 & 1 & 0 & 0 \\\\\n",
       "0 & 0 & 1 & 0 \\\\\n",
       "0 & 0 & 0 & 1\n",
       "\\end{array}\\right)$$"
      ],
      "text/plain": [
       "[1 0 0 0]\n",
       "[0 1 0 0]\n",
       "[0 0 1 0]\n",
       "[0 0 0 1]"
      ]
     },
     "execution_count": 16,
     "metadata": {},
     "output_type": "execute_result"
    }
   ],
   "source": [
    "delta = g['_{ab}']*guu['^{bc}']\n",
    "delta[:]"
   ]
  },
  {
   "cell_type": "markdown",
   "metadata": {},
   "source": [
    "## 3. Einstein Field Equations\n",
    "\n",
    "The Einstein Field Equations are given by\n",
    "\n",
    "\\begin{equation}\n",
    "G_{\\mu \\nu} = R_{\\mu \\nu} - \\frac{1}{2} g_{\\mu \\nu} R = \\frac{8\\pi G}{c^4} T_{\\mu \\nu}\n",
    "\\end{equation}\n",
    "\n",
    "Since Schwarzschild solution is obtained in vacuum, i.e. $T_{\\mu \\nu} =0$, the Field Equations reduce to\n",
    "\n",
    "\\begin{equation}\n",
    "G_{\\mu \\nu} = R_{\\mu \\nu} - \\frac{1}{2} g_{\\mu \\nu} R = 0.\n",
    "\\end{equation}\n",
    "\n",
    "\n",
    "\n",
    "### 3.1. Ricci Tensor\n",
    "\n",
    "Now, we calculate the Ricci tensor using the `.ricci()` tensor of the metric,"
   ]
  },
  {
   "cell_type": "code",
   "execution_count": 17,
   "metadata": {},
   "outputs": [
    {
     "data": {
      "text/html": [
       "<html>\\[\\newcommand{\\Bold}[1]{\\mathbf{#1}}\\mathrm{Ric}\\left(g\\right)\\]</html>"
      ],
      "text/latex": [
       "$$\\newcommand{\\Bold}[1]{\\mathbf{#1}}\\mathrm{Ric}\\left(g\\right)$$"
      ],
      "text/plain": [
       "Field of symmetric bilinear forms Ric(g) on the 4-dimensional Lorentzian manifold Mnfld"
      ]
     },
     "execution_count": 17,
     "metadata": {},
     "output_type": "execute_result"
    }
   ],
   "source": [
    "Ricci = g.ricci()\n",
    "Ricci"
   ]
  },
  {
   "cell_type": "code",
   "execution_count": 18,
   "metadata": {},
   "outputs": [
    {
     "data": {
      "text/html": [
       "<html>\\[\\newcommand{\\Bold}[1]{\\mathbf{#1}}\\mathrm{Ric}\\left(g\\right) = \\left( -\\frac{r B\\left(r\\right) \\left(\\frac{\\partial\\,A}{\\partial r}\\right)^{2} - 2 \\, r A\\left(r\\right) B\\left(r\\right) \\frac{\\partial^2\\,A}{\\partial r ^ 2} + r A\\left(r\\right) \\frac{\\partial\\,A}{\\partial r} \\frac{\\partial\\,B}{\\partial r} - 4 \\, A\\left(r\\right) B\\left(r\\right) \\frac{\\partial\\,A}{\\partial r}}{4 \\, r A\\left(r\\right) B\\left(r\\right)^{2}} \\right) \\mathrm{d} t\\otimes \\mathrm{d} t + \\left( \\frac{r B\\left(r\\right) \\left(\\frac{\\partial\\,A}{\\partial r}\\right)^{2} - 2 \\, r A\\left(r\\right) B\\left(r\\right) \\frac{\\partial^2\\,A}{\\partial r ^ 2} + {\\left(r A\\left(r\\right) \\frac{\\partial\\,A}{\\partial r} + 4 \\, A\\left(r\\right)^{2}\\right)} \\frac{\\partial\\,B}{\\partial r}}{4 \\, r A\\left(r\\right)^{2} B\\left(r\\right)} \\right) \\mathrm{d} r\\otimes \\mathrm{d} r + \\left( \\frac{2 \\, A\\left(r\\right) B\\left(r\\right)^{2} - r B\\left(r\\right) \\frac{\\partial\\,A}{\\partial r} + r A\\left(r\\right) \\frac{\\partial\\,B}{\\partial r} - 2 \\, A\\left(r\\right) B\\left(r\\right)}{2 \\, A\\left(r\\right) B\\left(r\\right)^{2}} \\right) \\mathrm{d} {\\theta}\\otimes \\mathrm{d} {\\theta} + \\frac{{\\left(2 \\, A\\left(r\\right) B\\left(r\\right)^{2} - r B\\left(r\\right) \\frac{\\partial\\,A}{\\partial r} + r A\\left(r\\right) \\frac{\\partial\\,B}{\\partial r} - 2 \\, A\\left(r\\right) B\\left(r\\right)\\right)} \\sin\\left({\\theta}\\right)^{2}}{2 \\, A\\left(r\\right) B\\left(r\\right)^{2}} \\mathrm{d} {\\phi}\\otimes \\mathrm{d} {\\phi}\\]</html>"
      ],
      "text/latex": [
       "$$\\newcommand{\\Bold}[1]{\\mathbf{#1}}\\mathrm{Ric}\\left(g\\right) = \\left( -\\frac{r B\\left(r\\right) \\left(\\frac{\\partial\\,A}{\\partial r}\\right)^{2} - 2 \\, r A\\left(r\\right) B\\left(r\\right) \\frac{\\partial^2\\,A}{\\partial r ^ 2} + r A\\left(r\\right) \\frac{\\partial\\,A}{\\partial r} \\frac{\\partial\\,B}{\\partial r} - 4 \\, A\\left(r\\right) B\\left(r\\right) \\frac{\\partial\\,A}{\\partial r}}{4 \\, r A\\left(r\\right) B\\left(r\\right)^{2}} \\right) \\mathrm{d} t\\otimes \\mathrm{d} t + \\left( \\frac{r B\\left(r\\right) \\left(\\frac{\\partial\\,A}{\\partial r}\\right)^{2} - 2 \\, r A\\left(r\\right) B\\left(r\\right) \\frac{\\partial^2\\,A}{\\partial r ^ 2} + {\\left(r A\\left(r\\right) \\frac{\\partial\\,A}{\\partial r} + 4 \\, A\\left(r\\right)^{2}\\right)} \\frac{\\partial\\,B}{\\partial r}}{4 \\, r A\\left(r\\right)^{2} B\\left(r\\right)} \\right) \\mathrm{d} r\\otimes \\mathrm{d} r + \\left( \\frac{2 \\, A\\left(r\\right) B\\left(r\\right)^{2} - r B\\left(r\\right) \\frac{\\partial\\,A}{\\partial r} + r A\\left(r\\right) \\frac{\\partial\\,B}{\\partial r} - 2 \\, A\\left(r\\right) B\\left(r\\right)}{2 \\, A\\left(r\\right) B\\left(r\\right)^{2}} \\right) \\mathrm{d} {\\theta}\\otimes \\mathrm{d} {\\theta} + \\frac{{\\left(2 \\, A\\left(r\\right) B\\left(r\\right)^{2} - r B\\left(r\\right) \\frac{\\partial\\,A}{\\partial r} + r A\\left(r\\right) \\frac{\\partial\\,B}{\\partial r} - 2 \\, A\\left(r\\right) B\\left(r\\right)\\right)} \\sin\\left({\\theta}\\right)^{2}}{2 \\, A\\left(r\\right) B\\left(r\\right)^{2}} \\mathrm{d} {\\phi}\\otimes \\mathrm{d} {\\phi}$$"
      ],
      "text/plain": [
       "Ric(g) = -1/4*(r*B(r)*(d(A)/dr)^2 - 2*r*A(r)*B(r)*d^2(A)/dr^2 + r*A(r)*d(A)/dr*d(B)/dr - 4*A(r)*B(r)*d(A)/dr)/(r*A(r)*B(r)^2) dt⊗dt + 1/4*(r*B(r)*(d(A)/dr)^2 - 2*r*A(r)*B(r)*d^2(A)/dr^2 + (r*A(r)*d(A)/dr + 4*A(r)^2)*d(B)/dr)/(r*A(r)^2*B(r)) dr⊗dr + 1/2*(2*A(r)*B(r)^2 - r*B(r)*d(A)/dr + r*A(r)*d(B)/dr - 2*A(r)*B(r))/(A(r)*B(r)^2) dth⊗dth + 1/2*(2*A(r)*B(r)^2 - r*B(r)*d(A)/dr + r*A(r)*d(B)/dr - 2*A(r)*B(r))*sin(th)^2/(A(r)*B(r)^2) dph⊗dph"
      ]
     },
     "execution_count": 18,
     "metadata": {},
     "output_type": "execute_result"
    }
   ],
   "source": [
    "Ricci.display()"
   ]
  },
  {
   "cell_type": "code",
   "execution_count": 19,
   "metadata": {
    "scrolled": false
   },
   "outputs": [
    {
     "data": {
      "text/html": [
       "<html>\\[\\newcommand{\\Bold}[1]{\\mathbf{#1}}\\left(\\begin{array}{rrrr}\n",
       "-\\frac{r B\\left(r\\right) \\left(\\frac{\\partial\\,A}{\\partial r}\\right)^{2} - 2 \\, r A\\left(r\\right) B\\left(r\\right) \\frac{\\partial^2\\,A}{\\partial r ^ 2} + r A\\left(r\\right) \\frac{\\partial\\,A}{\\partial r} \\frac{\\partial\\,B}{\\partial r} - 4 \\, A\\left(r\\right) B\\left(r\\right) \\frac{\\partial\\,A}{\\partial r}}{4 \\, r A\\left(r\\right) B\\left(r\\right)^{2}} & 0 & 0 & 0 \\\\\n",
       "0 & \\frac{r B\\left(r\\right) \\left(\\frac{\\partial\\,A}{\\partial r}\\right)^{2} - 2 \\, r A\\left(r\\right) B\\left(r\\right) \\frac{\\partial^2\\,A}{\\partial r ^ 2} + {\\left(r A\\left(r\\right) \\frac{\\partial\\,A}{\\partial r} + 4 \\, A\\left(r\\right)^{2}\\right)} \\frac{\\partial\\,B}{\\partial r}}{4 \\, r A\\left(r\\right)^{2} B\\left(r\\right)} & 0 & 0 \\\\\n",
       "0 & 0 & \\frac{2 \\, A\\left(r\\right) B\\left(r\\right)^{2} - r B\\left(r\\right) \\frac{\\partial\\,A}{\\partial r} + r A\\left(r\\right) \\frac{\\partial\\,B}{\\partial r} - 2 \\, A\\left(r\\right) B\\left(r\\right)}{2 \\, A\\left(r\\right) B\\left(r\\right)^{2}} & 0 \\\\\n",
       "0 & 0 & 0 & \\frac{{\\left(2 \\, A\\left(r\\right) B\\left(r\\right)^{2} - r B\\left(r\\right) \\frac{\\partial\\,A}{\\partial r} + r A\\left(r\\right) \\frac{\\partial\\,B}{\\partial r} - 2 \\, A\\left(r\\right) B\\left(r\\right)\\right)} \\sin\\left({\\theta}\\right)^{2}}{2 \\, A\\left(r\\right) B\\left(r\\right)^{2}}\n",
       "\\end{array}\\right)\\]</html>"
      ],
      "text/latex": [
       "$$\\newcommand{\\Bold}[1]{\\mathbf{#1}}\\left(\\begin{array}{rrrr}\n",
       "-\\frac{r B\\left(r\\right) \\left(\\frac{\\partial\\,A}{\\partial r}\\right)^{2} - 2 \\, r A\\left(r\\right) B\\left(r\\right) \\frac{\\partial^2\\,A}{\\partial r ^ 2} + r A\\left(r\\right) \\frac{\\partial\\,A}{\\partial r} \\frac{\\partial\\,B}{\\partial r} - 4 \\, A\\left(r\\right) B\\left(r\\right) \\frac{\\partial\\,A}{\\partial r}}{4 \\, r A\\left(r\\right) B\\left(r\\right)^{2}} & 0 & 0 & 0 \\\\\n",
       "0 & \\frac{r B\\left(r\\right) \\left(\\frac{\\partial\\,A}{\\partial r}\\right)^{2} - 2 \\, r A\\left(r\\right) B\\left(r\\right) \\frac{\\partial^2\\,A}{\\partial r ^ 2} + {\\left(r A\\left(r\\right) \\frac{\\partial\\,A}{\\partial r} + 4 \\, A\\left(r\\right)^{2}\\right)} \\frac{\\partial\\,B}{\\partial r}}{4 \\, r A\\left(r\\right)^{2} B\\left(r\\right)} & 0 & 0 \\\\\n",
       "0 & 0 & \\frac{2 \\, A\\left(r\\right) B\\left(r\\right)^{2} - r B\\left(r\\right) \\frac{\\partial\\,A}{\\partial r} + r A\\left(r\\right) \\frac{\\partial\\,B}{\\partial r} - 2 \\, A\\left(r\\right) B\\left(r\\right)}{2 \\, A\\left(r\\right) B\\left(r\\right)^{2}} & 0 \\\\\n",
       "0 & 0 & 0 & \\frac{{\\left(2 \\, A\\left(r\\right) B\\left(r\\right)^{2} - r B\\left(r\\right) \\frac{\\partial\\,A}{\\partial r} + r A\\left(r\\right) \\frac{\\partial\\,B}{\\partial r} - 2 \\, A\\left(r\\right) B\\left(r\\right)\\right)} \\sin\\left({\\theta}\\right)^{2}}{2 \\, A\\left(r\\right) B\\left(r\\right)^{2}}\n",
       "\\end{array}\\right)$$"
      ],
      "text/plain": [
       "[-1/4*(r*B(r)*(d(A)/dr)^2 - 2*r*A(r)*B(r)*d^2(A)/dr^2 + r*A(r)*d(A)/dr*d(B)/dr - 4*A(r)*B(r)*d(A)/dr)/(r*A(r)*B(r)^2)                                                                                                                    0                                                                                                                    0                                                                                                                    0]\n",
       "[                                                                                                                   0           1/4*(r*B(r)*(d(A)/dr)^2 - 2*r*A(r)*B(r)*d^2(A)/dr^2 + (r*A(r)*d(A)/dr + 4*A(r)^2)*d(B)/dr)/(r*A(r)^2*B(r))                                                                                                                    0                                                                                                                    0]\n",
       "[                                                                                                                   0                                                                                                                    0                                    1/2*(2*A(r)*B(r)^2 - r*B(r)*d(A)/dr + r*A(r)*d(B)/dr - 2*A(r)*B(r))/(A(r)*B(r)^2)                                                                                                                    0]\n",
       "[                                                                                                                   0                                                                                                                    0                                                                                                                    0                          1/2*(2*A(r)*B(r)^2 - r*B(r)*d(A)/dr + r*A(r)*d(B)/dr - 2*A(r)*B(r))*sin(th)^2/(A(r)*B(r)^2)]"
      ]
     },
     "execution_count": 19,
     "metadata": {},
     "output_type": "execute_result"
    }
   ],
   "source": [
    "Ricci[:]"
   ]
  },
  {
   "cell_type": "markdown",
   "metadata": {},
   "source": [
    "### 3.2. Ricci Curvature Scalar\n",
    "\n",
    "Thd Ricci curvature scalar $R=R^\\alpha_\\alpha$ is obtained using the `.ricci_scalar()` method of the metric,"
   ]
  },
  {
   "cell_type": "code",
   "execution_count": 20,
   "metadata": {},
   "outputs": [
    {
     "data": {
      "text/html": [
       "<html>\\[\\newcommand{\\Bold}[1]{\\mathbf{#1}}\\begin{array}{llcl} \\mathrm{r}\\left(g\\right):& Mnfld & \\longrightarrow & \\mathbb{R} \\\\ & \\left(t, r, {\\theta}, {\\phi}\\right) & \\longmapsto & \\frac{r^{2} B\\left(r\\right) \\left(\\frac{\\partial\\,A}{\\partial r}\\right)^{2} - 2 \\, r^{2} A\\left(r\\right) B\\left(r\\right) \\frac{\\partial^2\\,A}{\\partial r ^ 2} + 4 \\, A\\left(r\\right)^{2} B\\left(r\\right)^{2} - 4 \\, r A\\left(r\\right) B\\left(r\\right) \\frac{\\partial\\,A}{\\partial r} - 4 \\, A\\left(r\\right)^{2} B\\left(r\\right) + {\\left(r^{2} A\\left(r\\right) \\frac{\\partial\\,A}{\\partial r} + 4 \\, r A\\left(r\\right)^{2}\\right)} \\frac{\\partial\\,B}{\\partial r}}{2 \\, r^{2} A\\left(r\\right)^{2} B\\left(r\\right)^{2}} \\end{array}\\]</html>"
      ],
      "text/latex": [
       "$$\\newcommand{\\Bold}[1]{\\mathbf{#1}}\\begin{array}{llcl} \\mathrm{r}\\left(g\\right):& Mnfld & \\longrightarrow & \\mathbb{R} \\\\ & \\left(t, r, {\\theta}, {\\phi}\\right) & \\longmapsto & \\frac{r^{2} B\\left(r\\right) \\left(\\frac{\\partial\\,A}{\\partial r}\\right)^{2} - 2 \\, r^{2} A\\left(r\\right) B\\left(r\\right) \\frac{\\partial^2\\,A}{\\partial r ^ 2} + 4 \\, A\\left(r\\right)^{2} B\\left(r\\right)^{2} - 4 \\, r A\\left(r\\right) B\\left(r\\right) \\frac{\\partial\\,A}{\\partial r} - 4 \\, A\\left(r\\right)^{2} B\\left(r\\right) + {\\left(r^{2} A\\left(r\\right) \\frac{\\partial\\,A}{\\partial r} + 4 \\, r A\\left(r\\right)^{2}\\right)} \\frac{\\partial\\,B}{\\partial r}}{2 \\, r^{2} A\\left(r\\right)^{2} B\\left(r\\right)^{2}} \\end{array}$$"
      ],
      "text/plain": [
       "r(g): Mnfld → ℝ\n",
       "   (t, r, th, ph) ↦ 1/2*(r^2*B(r)*(d(A)/dr)^2 - 2*r^2*A(r)*B(r)*d^2(A)/dr^2 + 4*A(r)^2*B(r)^2 - 4*r*A(r)*B(r)*d(A)/dr - 4*A(r)^2*B(r) + (r^2*A(r)*d(A)/dr + 4*r*A(r)^2)*d(B)/dr)/(r^2*A(r)^2*B(r)^2)"
      ]
     },
     "execution_count": 20,
     "metadata": {},
     "output_type": "execute_result"
    }
   ],
   "source": [
    "R = g.ricci_scalar()\n",
    "R.display()"
   ]
  },
  {
   "cell_type": "markdown",
   "metadata": {},
   "source": [
    "---\n",
    "Finally, we declare the Einstein tensor as"
   ]
  },
  {
   "cell_type": "code",
   "execution_count": 21,
   "metadata": {},
   "outputs": [
    {
     "data": {
      "text/html": [
       "<html>\\[\\newcommand{\\Bold}[1]{\\mathbf{#1}}\\left(\\begin{array}{rrrr}\n",
       "\\frac{A\\left(r\\right) B\\left(r\\right)^{2} + r A\\left(r\\right) \\frac{\\partial\\,B}{\\partial r} - A\\left(r\\right) B\\left(r\\right)}{r^{2} B\\left(r\\right)^{2}} & 0 & 0 & 0 \\\\\n",
       "0 & -\\frac{A\\left(r\\right) B\\left(r\\right) - r \\frac{\\partial\\,A}{\\partial r} - A\\left(r\\right)}{r^{2} A\\left(r\\right)} & 0 & 0 \\\\\n",
       "0 & 0 & -\\frac{r^{2} B\\left(r\\right) \\left(\\frac{\\partial\\,A}{\\partial r}\\right)^{2} - 2 \\, r^{2} A\\left(r\\right) B\\left(r\\right) \\frac{\\partial^2\\,A}{\\partial r ^ 2} - 2 \\, r A\\left(r\\right) B\\left(r\\right) \\frac{\\partial\\,A}{\\partial r} + {\\left(r^{2} A\\left(r\\right) \\frac{\\partial\\,A}{\\partial r} + 2 \\, r A\\left(r\\right)^{2}\\right)} \\frac{\\partial\\,B}{\\partial r}}{4 \\, A\\left(r\\right)^{2} B\\left(r\\right)^{2}} & 0 \\\\\n",
       "0 & 0 & 0 & -\\frac{{\\left(r^{2} B\\left(r\\right) \\left(\\frac{\\partial\\,A}{\\partial r}\\right)^{2} - 2 \\, r^{2} A\\left(r\\right) B\\left(r\\right) \\frac{\\partial^2\\,A}{\\partial r ^ 2} - 2 \\, r A\\left(r\\right) B\\left(r\\right) \\frac{\\partial\\,A}{\\partial r} + {\\left(r^{2} A\\left(r\\right) \\frac{\\partial\\,A}{\\partial r} + 2 \\, r A\\left(r\\right)^{2}\\right)} \\frac{\\partial\\,B}{\\partial r}\\right)} \\sin\\left({\\theta}\\right)^{2}}{4 \\, A\\left(r\\right)^{2} B\\left(r\\right)^{2}}\n",
       "\\end{array}\\right)\\]</html>"
      ],
      "text/latex": [
       "$$\\newcommand{\\Bold}[1]{\\mathbf{#1}}\\left(\\begin{array}{rrrr}\n",
       "\\frac{A\\left(r\\right) B\\left(r\\right)^{2} + r A\\left(r\\right) \\frac{\\partial\\,B}{\\partial r} - A\\left(r\\right) B\\left(r\\right)}{r^{2} B\\left(r\\right)^{2}} & 0 & 0 & 0 \\\\\n",
       "0 & -\\frac{A\\left(r\\right) B\\left(r\\right) - r \\frac{\\partial\\,A}{\\partial r} - A\\left(r\\right)}{r^{2} A\\left(r\\right)} & 0 & 0 \\\\\n",
       "0 & 0 & -\\frac{r^{2} B\\left(r\\right) \\left(\\frac{\\partial\\,A}{\\partial r}\\right)^{2} - 2 \\, r^{2} A\\left(r\\right) B\\left(r\\right) \\frac{\\partial^2\\,A}{\\partial r ^ 2} - 2 \\, r A\\left(r\\right) B\\left(r\\right) \\frac{\\partial\\,A}{\\partial r} + {\\left(r^{2} A\\left(r\\right) \\frac{\\partial\\,A}{\\partial r} + 2 \\, r A\\left(r\\right)^{2}\\right)} \\frac{\\partial\\,B}{\\partial r}}{4 \\, A\\left(r\\right)^{2} B\\left(r\\right)^{2}} & 0 \\\\\n",
       "0 & 0 & 0 & -\\frac{{\\left(r^{2} B\\left(r\\right) \\left(\\frac{\\partial\\,A}{\\partial r}\\right)^{2} - 2 \\, r^{2} A\\left(r\\right) B\\left(r\\right) \\frac{\\partial^2\\,A}{\\partial r ^ 2} - 2 \\, r A\\left(r\\right) B\\left(r\\right) \\frac{\\partial\\,A}{\\partial r} + {\\left(r^{2} A\\left(r\\right) \\frac{\\partial\\,A}{\\partial r} + 2 \\, r A\\left(r\\right)^{2}\\right)} \\frac{\\partial\\,B}{\\partial r}\\right)} \\sin\\left({\\theta}\\right)^{2}}{4 \\, A\\left(r\\right)^{2} B\\left(r\\right)^{2}}\n",
       "\\end{array}\\right)$$"
      ],
      "text/plain": [
       "[                                                                                              (A(r)*B(r)^2 + r*A(r)*d(B)/dr - A(r)*B(r))/(r^2*B(r)^2)                                                                                                                                                     0                                                                                                                                                     0                                                                                                                                                     0]\n",
       "[                                                                                                                                                    0                                                                                                            -(A(r)*B(r) - r*d(A)/dr - A(r))/(r^2*A(r))                                                                                                                                                     0                                                                                                                                                     0]\n",
       "[                                                                                                                                                    0                                                                                                                                                     0           -1/4*(r^2*B(r)*(d(A)/dr)^2 - 2*r^2*A(r)*B(r)*d^2(A)/dr^2 - 2*r*A(r)*B(r)*d(A)/dr + (r^2*A(r)*d(A)/dr + 2*r*A(r)^2)*d(B)/dr)/(A(r)^2*B(r)^2)                                                                                                                                                     0]\n",
       "[                                                                                                                                                    0                                                                                                                                                     0                                                                                                                                                     0 -1/4*(r^2*B(r)*(d(A)/dr)^2 - 2*r^2*A(r)*B(r)*d^2(A)/dr^2 - 2*r*A(r)*B(r)*d(A)/dr + (r^2*A(r)*d(A)/dr + 2*r*A(r)^2)*d(B)/dr)*sin(th)^2/(A(r)^2*B(r)^2)]"
      ]
     },
     "execution_count": 21,
     "metadata": {},
     "output_type": "execute_result"
    }
   ],
   "source": [
    "Einstein = Ricci - g*R/2\n",
    "Einstein[:]"
   ]
  },
  {
   "cell_type": "markdown",
   "metadata": {},
   "source": [
    "In order to separate the differential equations we will use the mixed version of this tensor, \n",
    "\n",
    "\\begin{equation}\n",
    "G^\\mu_\\nu = R^\\mu_\\nu - \\frac{1}{2} g^\\mu_\\nu R = 0.\n",
    "\\end{equation}"
   ]
  },
  {
   "cell_type": "markdown",
   "metadata": {},
   "source": [
    "We rise the first index of this tensor using the method `.up()`,\n"
   ]
  },
  {
   "cell_type": "code",
   "execution_count": 22,
   "metadata": {},
   "outputs": [
    {
     "data": {
      "text/html": [
       "<html>\\[\\newcommand{\\Bold}[1]{\\mathbf{#1}}\\left(\\begin{array}{rrrr}\n",
       "-\\frac{B\\left(r\\right)^{2} + r \\frac{\\partial\\,B}{\\partial r} - B\\left(r\\right)}{r^{2} B\\left(r\\right)^{2}} & 0 & 0 & 0 \\\\\n",
       "0 & -\\frac{A\\left(r\\right) B\\left(r\\right) - r \\frac{\\partial\\,A}{\\partial r} - A\\left(r\\right)}{r^{2} A\\left(r\\right) B\\left(r\\right)} & 0 & 0 \\\\\n",
       "0 & 0 & -\\frac{r B\\left(r\\right) \\left(\\frac{\\partial\\,A}{\\partial r}\\right)^{2} - 2 \\, r A\\left(r\\right) B\\left(r\\right) \\frac{\\partial^2\\,A}{\\partial r ^ 2} - 2 \\, A\\left(r\\right) B\\left(r\\right) \\frac{\\partial\\,A}{\\partial r} + {\\left(r A\\left(r\\right) \\frac{\\partial\\,A}{\\partial r} + 2 \\, A\\left(r\\right)^{2}\\right)} \\frac{\\partial\\,B}{\\partial r}}{4 \\, r A\\left(r\\right)^{2} B\\left(r\\right)^{2}} & 0 \\\\\n",
       "0 & 0 & 0 & -\\frac{r B\\left(r\\right) \\left(\\frac{\\partial\\,A}{\\partial r}\\right)^{2} - 2 \\, r A\\left(r\\right) B\\left(r\\right) \\frac{\\partial^2\\,A}{\\partial r ^ 2} - 2 \\, A\\left(r\\right) B\\left(r\\right) \\frac{\\partial\\,A}{\\partial r} + {\\left(r A\\left(r\\right) \\frac{\\partial\\,A}{\\partial r} + 2 \\, A\\left(r\\right)^{2}\\right)} \\frac{\\partial\\,B}{\\partial r}}{4 \\, r A\\left(r\\right)^{2} B\\left(r\\right)^{2}}\n",
       "\\end{array}\\right)\\]</html>"
      ],
      "text/latex": [
       "$$\\newcommand{\\Bold}[1]{\\mathbf{#1}}\\left(\\begin{array}{rrrr}\n",
       "-\\frac{B\\left(r\\right)^{2} + r \\frac{\\partial\\,B}{\\partial r} - B\\left(r\\right)}{r^{2} B\\left(r\\right)^{2}} & 0 & 0 & 0 \\\\\n",
       "0 & -\\frac{A\\left(r\\right) B\\left(r\\right) - r \\frac{\\partial\\,A}{\\partial r} - A\\left(r\\right)}{r^{2} A\\left(r\\right) B\\left(r\\right)} & 0 & 0 \\\\\n",
       "0 & 0 & -\\frac{r B\\left(r\\right) \\left(\\frac{\\partial\\,A}{\\partial r}\\right)^{2} - 2 \\, r A\\left(r\\right) B\\left(r\\right) \\frac{\\partial^2\\,A}{\\partial r ^ 2} - 2 \\, A\\left(r\\right) B\\left(r\\right) \\frac{\\partial\\,A}{\\partial r} + {\\left(r A\\left(r\\right) \\frac{\\partial\\,A}{\\partial r} + 2 \\, A\\left(r\\right)^{2}\\right)} \\frac{\\partial\\,B}{\\partial r}}{4 \\, r A\\left(r\\right)^{2} B\\left(r\\right)^{2}} & 0 \\\\\n",
       "0 & 0 & 0 & -\\frac{r B\\left(r\\right) \\left(\\frac{\\partial\\,A}{\\partial r}\\right)^{2} - 2 \\, r A\\left(r\\right) B\\left(r\\right) \\frac{\\partial^2\\,A}{\\partial r ^ 2} - 2 \\, A\\left(r\\right) B\\left(r\\right) \\frac{\\partial\\,A}{\\partial r} + {\\left(r A\\left(r\\right) \\frac{\\partial\\,A}{\\partial r} + 2 \\, A\\left(r\\right)^{2}\\right)} \\frac{\\partial\\,B}{\\partial r}}{4 \\, r A\\left(r\\right)^{2} B\\left(r\\right)^{2}}\n",
       "\\end{array}\\right)$$"
      ],
      "text/plain": [
       "[                                                                                          -(B(r)^2 + r*d(B)/dr - B(r))/(r^2*B(r)^2)                                                                                                                                   0                                                                                                                                   0                                                                                                                                   0]\n",
       "[                                                                                                                                  0                                                                                     -(A(r)*B(r) - r*d(A)/dr - A(r))/(r^2*A(r)*B(r))                                                                                                                                   0                                                                                                                                   0]\n",
       "[                                                                                                                                  0                                                                                                                                   0 -1/4*(r*B(r)*(d(A)/dr)^2 - 2*r*A(r)*B(r)*d^2(A)/dr^2 - 2*A(r)*B(r)*d(A)/dr + (r*A(r)*d(A)/dr + 2*A(r)^2)*d(B)/dr)/(r*A(r)^2*B(r)^2)                                                                                                                                   0]\n",
       "[                                                                                                                                  0                                                                                                                                   0                                                                                                                                   0 -1/4*(r*B(r)*(d(A)/dr)^2 - 2*r*A(r)*B(r)*d^2(A)/dr^2 - 2*A(r)*B(r)*d(A)/dr + (r*A(r)*d(A)/dr + 2*A(r)^2)*d(B)/dr)/(r*A(r)^2*B(r)^2)]"
      ]
     },
     "execution_count": 22,
     "metadata": {},
     "output_type": "execute_result"
    }
   ],
   "source": [
    "Einstein_ud = Einstein.up(g,1)\n",
    "Einstein_ud[:]"
   ]
  },
  {
   "cell_type": "markdown",
   "metadata": {},
   "source": [
    "## 4. Solving the Field Equations\n",
    "\n",
    "The first component of the Field Equations,\n",
    "\n",
    "\\begin{equation}\n",
    "G^0_0 =- \\frac{B^2 + r B' - B}{r^2 B^2} = 0\n",
    "\\end{equation}\n",
    "\n",
    "gives the ordinary diferential equation\n",
    "\n",
    "\\begin{equation}\n",
    "B^2 + r B' - B = 0.\n",
    "\\end{equation}\n",
    "\n",
    "We solve this ode using the `desolve()` function. "
   ]
  },
  {
   "cell_type": "code",
   "execution_count": 23,
   "metadata": {},
   "outputs": [
    {
     "data": {
      "text/html": [
       "<html>\\[\\newcommand{\\Bold}[1]{\\mathbf{#1}}-\\log\\left(B\\left(r\\right) - 1\\right) + \\log\\left(B\\left(r\\right)\\right) = C + \\log\\left(r\\right)\\]</html>"
      ],
      "text/latex": [
       "$$\\newcommand{\\Bold}[1]{\\mathbf{#1}}-\\log\\left(B\\left(r\\right) - 1\\right) + \\log\\left(B\\left(r\\right)\\right) = C + \\log\\left(r\\right)$$"
      ],
      "text/plain": [
       "-log(B(r) - 1) + log(B(r)) == _C + log(r)"
      ]
     },
     "execution_count": 23,
     "metadata": {},
     "output_type": "execute_result"
    }
   ],
   "source": [
    "deq = B**2 + r*diff(B,r) - B # Defines the differential equation\n",
    "B_sol = desolve(deq, B) # Solves the differential equation\n",
    "B_sol"
   ]
  },
  {
   "cell_type": "markdown",
   "metadata": {},
   "source": [
    "We redefine the integration constant as $C = -\\log(K)$ to solve using the function `solve()`,"
   ]
  },
  {
   "cell_type": "code",
   "execution_count": 24,
   "metadata": {},
   "outputs": [
    {
     "data": {
      "text/html": [
       "<html>\\[\\newcommand{\\Bold}[1]{\\mathbf{#1}}\\left[\\log\\left(B\\left(r\\right)\\right) = -\\log\\left(K\\right) + \\log\\left(r\\right) + \\log\\left(B\\left(r\\right) - 1\\right)\\right]\\]</html>"
      ],
      "text/latex": [
       "$$\\newcommand{\\Bold}[1]{\\mathbf{#1}}\\left[\\log\\left(B\\left(r\\right)\\right) = -\\log\\left(K\\right) + \\log\\left(r\\right) + \\log\\left(B\\left(r\\right) - 1\\right)\\right]$$"
      ],
      "text/plain": [
       "[log(B(r)) == -log(K) + log(r) + log(B(r) - 1)]"
      ]
     },
     "execution_count": 24,
     "metadata": {},
     "output_type": "execute_result"
    }
   ],
   "source": [
    "K = var('K')\n",
    "solve(- log(B - 1) + log(B) == -log(K) +log(r), B)"
   ]
  },
  {
   "cell_type": "markdown",
   "metadata": {},
   "source": [
    "This gives\n",
    "\n",
    "\\begin{equation}\n",
    "\\log \\left( \\frac{B}{B-1} \\right) = \\log \\left(\\frac{r}{K} \\right)\n",
    "\\end{equation}\n",
    "\n",
    "\\begin{equation}\n",
    "\\frac{B}{B-1}  = \\frac{r}{K} \n",
    "\\end{equation}\n",
    "\n",
    "\\begin{equation}\n",
    "B  = \\frac{r}{K} \\left( B-1 \\right)\n",
    "\\end{equation}\n",
    "\n",
    "\\begin{equation}\n",
    "B \\left( 1-\\frac{r}{K} \\right) = -\\frac{r}{K} \n",
    "\\end{equation}\n",
    "\n",
    "\\begin{equation}\n",
    "B  = - \\frac{\\frac{r}{K}}{\\left( 1-\\frac{r}{K} \\right)}\n",
    "\\end{equation}\n",
    "\n",
    "\\begin{equation}\n",
    "B  =  \\frac{1}{\\left( 1-\\frac{K}{r} \\right)}\n",
    "\\end{equation}"
   ]
  },
  {
   "cell_type": "markdown",
   "metadata": {},
   "source": [
    "---\n",
    "\n",
    "The second component of the Field Equations,\n",
    "\n",
    "\\begin{equation}\n",
    "G^1_1 =- \\frac{AB - rA' - A }{r^2 AB} = 0\n",
    "\\end{equation}\n",
    "\n",
    "\n",
    "gives the ordinary diferential equation\n",
    "\n",
    "\\begin{equation}\n",
    "AB - rA' - A   = 0.\n",
    "\\end{equation}\n",
    "\n",
    "We solve this ode using the `desolve()` function. "
   ]
  },
  {
   "cell_type": "code",
   "execution_count": 25,
   "metadata": {
    "scrolled": true
   },
   "outputs": [
    {
     "data": {
      "text/html": [
       "<html>\\[\\newcommand{\\Bold}[1]{\\mathbf{#1}}C e^{\\left(K {\\left(\\frac{\\log\\left(-K + r\\right)}{K} - \\frac{\\log\\left(r\\right)}{K}\\right)}\\right)}\\]</html>"
      ],
      "text/latex": [
       "$$\\newcommand{\\Bold}[1]{\\mathbf{#1}}C e^{\\left(K {\\left(\\frac{\\log\\left(-K + r\\right)}{K} - \\frac{\\log\\left(r\\right)}{K}\\right)}\\right)}$$"
      ],
      "text/plain": [
       "_C*e^(K*(log(-K + r)/K - log(r)/K))"
      ]
     },
     "execution_count": 25,
     "metadata": {},
     "output_type": "execute_result"
    }
   ],
   "source": [
    "assume(K>0)\n",
    "\n",
    "deq2 = A*(1/(1-K/r)) - r*diff(A,r) - A == 0\n",
    "A_sol = desolve(deq2, A, ivar=r) \n",
    "A_sol"
   ]
  },
  {
   "cell_type": "markdown",
   "metadata": {},
   "source": [
    "This gives\n",
    "\n",
    "\\begin{equation}\n",
    "A = C e^{\\log (r-K) - \\log (r)}\n",
    "\\end{equation}\n",
    "\n",
    "\\begin{equation}\n",
    "A = C e^{\\log \\left( \\frac{r-K}{r} \\right)}\n",
    "\\end{equation}\n",
    "\n",
    "\\begin{equation}\n",
    "A = C \\left( \\frac{r-K}{r} \\right)\n",
    "\\end{equation}\n",
    "\n",
    "\\begin{equation}\n",
    "A = C \\left( 1- \\frac{K}{r} \\right)\n",
    "\\end{equation}"
   ]
  },
  {
   "cell_type": "markdown",
   "metadata": {},
   "source": [
    "---\n",
    "\n",
    "These results give the line element\n",
    "\n",
    "\\begin{equation}\n",
    "ds^2 = - \\left( 1- \\frac{K}{r} \\right) C dt^2 +\\left( 1- \\frac{K}{r} \\right)^{-1} dr^2 + r^2 d\\theta^2 + r^2 \\sin^2 d\\phi^2\n",
    "\\end{equation}\n",
    "\n",
    "Redefining the time as $c dt^2 \\rightarrow dt^2$ and defining the integration constant as $K = 2M$, gives the final Schwarzschild solution\n",
    "\n",
    "\\begin{equation}\n",
    "ds^2 = - \\left( 1- \\frac{2M}{r} \\right) dt^2 +\\left( 1- \\frac{2M}{r} \\right)^{-1} dr^2 + r^2 d\\theta^2 + r^2 \\sin^2 d\\phi^2\n",
    "\\end{equation}"
   ]
  },
  {
   "cell_type": "markdown",
   "metadata": {},
   "source": [
    "### Summary of methods\n",
    "\n",
    "```\n",
    "Manifold.chart()\n",
    "Manifold.metric()\n",
    "```\n",
    "\n",
    "\n",
    "```\n",
    "metric.christoffel_symbols_display()\n",
    "metric.christoffel_symbols()[]\n",
    "metric.riemann()\n",
    "metric.ricci()\n",
    "```\n",
    "\n",
    "\n",
    "```\n",
    "tensor.display()\n",
    "tensor[:]\n",
    "tensor.expr()\n",
    "tensor.up(metric)\n",
    "tensor.down(metric)\n",
    "```"
   ]
  },
  {
   "cell_type": "code",
   "execution_count": null,
   "metadata": {},
   "outputs": [],
   "source": []
  }
 ],
 "metadata": {
  "kernelspec": {
   "display_name": "SageMath 9.4",
   "language": "sage",
   "name": "sagemath-9.4"
  },
  "language_info": {
   "codemirror_mode": {
    "name": "ipython",
    "version": 3
   },
   "file_extension": ".py",
   "mimetype": "text/x-python",
   "name": "python",
   "nbconvert_exporter": "python",
   "pygments_lexer": "ipython3",
   "version": "3.9.5"
  }
 },
 "nbformat": 4,
 "nbformat_minor": 2
}
