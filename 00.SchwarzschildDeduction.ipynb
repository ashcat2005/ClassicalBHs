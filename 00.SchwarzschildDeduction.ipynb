{
 "cells": [
  {
   "cell_type": "markdown",
   "metadata": {},
   "source": [
    "![Astrofisica Computacional](logo.png)"
   ]
  },
  {
   "cell_type": "markdown",
   "metadata": {},
   "source": [
    "---\n",
    "\n",
    "Eduard Larrañaga (ealarranaga@unal.edu.co)\n",
    "\n",
    "---"
   ]
  },
  {
   "cell_type": "markdown",
   "metadata": {},
   "source": [
    "\n",
    "# Deducción de la Métrica de Schwarzschild\n",
    "---\n",
    "\n",
    "## Resumen\n",
    "\n",
    "En este cuaderno se utiliza [SageMath](https://www.sagemath.org) y [SageManifolds](https://sagemanifolds.obspm.fr/index.html) para deducir la métrica de Schwarzschild a partir de las Ecuaciones de Campo de Einstein."
   ]
  },
  {
   "cell_type": "markdown",
   "metadata": {},
   "source": [
    "Nota: Este cuaderno fué creado utilizando SageMath 9.4"
   ]
  },
  {
   "cell_type": "code",
   "execution_count": 1,
   "metadata": {},
   "outputs": [
    {
     "data": {
      "text/plain": [
       "'SageMath version 9.4, Release Date: 2021-08-22'"
      ]
     },
     "execution_count": 1,
     "metadata": {},
     "output_type": "execute_result"
    }
   ],
   "source": [
    "version()"
   ]
  },
  {
   "cell_type": "markdown",
   "metadata": {},
   "source": [
    "Activamos la visualización matemática via LaTeX,"
   ]
  },
  {
   "cell_type": "code",
   "execution_count": 2,
   "metadata": {},
   "outputs": [],
   "source": [
    "%display latex"
   ]
  },
  {
   "cell_type": "markdown",
   "metadata": {},
   "source": [
    "## 1.  Definición del Espacio-Tiempo\n",
    "\n",
    "El espaciotiempo se define como una variedad Lorentziana 4-dimensional,"
   ]
  },
  {
   "cell_type": "code",
   "execution_count": 3,
   "metadata": {},
   "outputs": [
    {
     "name": "stdout",
     "output_type": "stream",
     "text": [
      "4-dimensional Lorentzian manifold MU\n"
     ]
    }
   ],
   "source": [
    "MU = Manifold(4, 'MU', structure='Lorentzian')\n",
    "print(MU)"
   ]
  },
  {
   "cell_type": "markdown",
   "metadata": {},
   "source": [
    "### 1.1. Coordenadas Estandard \n",
    "\n",
    "Se introducen las coordenadas esfericas (estandard) o **coordenadas de Schwarzschild-Droste**  utilizando el método `.chart()` del objeto variedad`MU`. El argumento del método `.chart()` es una cadena de texto que define cada una de las coordenadas y sus rangos, si son diferentes de $(-\\infty, +\\infty)$, al igual que el sìmbolo LaTeX que las representará.\n",
    "\n",
    "Note que las variables de `Python` para cada coordenada son declaradas dentro del operador `<...>`en el lado izquierdo. La variable `X` denotará la carta coordenada."
   ]
  },
  {
   "cell_type": "code",
   "execution_count": 4,
   "metadata": {},
   "outputs": [
    {
     "data": {
      "text/html": [
       "<html>\\[\\newcommand{\\Bold}[1]{\\mathbf{#1}}\\left(MU,(t, r, {\\theta}, {\\phi})\\right)\\]</html>"
      ],
      "text/latex": [
       "$$\\newcommand{\\Bold}[1]{\\mathbf{#1}}\\left(MU,(t, r, {\\theta}, {\\phi})\\right)$$"
      ],
      "text/plain": [
       "Chart (MU, (t, r, th, ph))"
      ]
     },
     "execution_count": 4,
     "metadata": {},
     "output_type": "execute_result"
    }
   ],
   "source": [
    "X.<t,r,th,ph> = MU.chart(r\"t r:(0,+oo) th:(0,pi):\\theta ph:(0,2*pi):\\phi\")\n",
    "X"
   ]
  },
  {
   "cell_type": "markdown",
   "metadata": {},
   "source": [
    "Es posible acceder a las coordenadas con el formato de un arreglo,"
   ]
  },
  {
   "cell_type": "code",
   "execution_count": 5,
   "metadata": {
    "scrolled": true
   },
   "outputs": [
    {
     "data": {
      "text/html": [
       "<html>\\[\\newcommand{\\Bold}[1]{\\mathbf{#1}}\\left(t, r, {\\theta}, {\\phi}\\right)\\]</html>"
      ],
      "text/latex": [
       "$$\\newcommand{\\Bold}[1]{\\mathbf{#1}}\\left(t, r, {\\theta}, {\\phi}\\right)$$"
      ],
      "text/plain": [
       "(t, r, th, ph)"
      ]
     },
     "execution_count": 5,
     "metadata": {},
     "output_type": "execute_result"
    }
   ],
   "source": [
    "X[:]"
   ]
  },
  {
   "cell_type": "code",
   "execution_count": 6,
   "metadata": {},
   "outputs": [
    {
     "data": {
      "text/html": [
       "<html>\\[\\newcommand{\\Bold}[1]{\\mathbf{#1}}\\left(t, {\\phi}\\right)\\]</html>"
      ],
      "text/latex": [
       "$$\\newcommand{\\Bold}[1]{\\mathbf{#1}}\\left(t, {\\phi}\\right)$$"
      ],
      "text/plain": [
       "(t, ph)"
      ]
     },
     "execution_count": 6,
     "metadata": {},
     "output_type": "execute_result"
    }
   ],
   "source": [
    "X[0], X[3]"
   ]
  },
  {
   "cell_type": "markdown",
   "metadata": {},
   "source": [
    "## 2. Tensor Métrico\n",
    "\n",
    "Para deducir la métrica de Schwarzschild se propone el siguiente elemento de línea que asegura la simetría esférica\n",
    "\n",
    "\\begin{equation}\n",
    "ds^2 = - A(r) dt^2 + B(r) dr^2 + r^2 d\\theta^2 + r^2 \\sin^2 \\theta d\\phi^2.\n",
    "\\end{equation}\n",
    "\n",
    "Para definir el tensor métrico, primero se declaran las funciones  $A(r)$ y $B(r)$ utilizando `function()`:"
   ]
  },
  {
   "cell_type": "code",
   "execution_count": 7,
   "metadata": {},
   "outputs": [],
   "source": [
    "A = function('A')(r)\n",
    "B = function('B')(r)"
   ]
  },
  {
   "cell_type": "markdown",
   "metadata": {},
   "source": [
    "Ahora se utiliza  el método `.metric()` del objeto variedad y se inician sus componentes en la carta `X`, que es la carta por defecto (y única en este caso) para `MU`. El método `.display()` muestra el tensor construido"
   ]
  },
  {
   "cell_type": "code",
   "execution_count": 8,
   "metadata": {},
   "outputs": [
    {
     "data": {
      "text/html": [
       "<html>\\[\\newcommand{\\Bold}[1]{\\mathbf{#1}}g = -A\\left(r\\right) \\mathrm{d} t\\otimes \\mathrm{d} t + B\\left(r\\right) \\mathrm{d} r\\otimes \\mathrm{d} r + r^{2} \\mathrm{d} {\\theta}\\otimes \\mathrm{d} {\\theta} + r^{2} \\sin\\left({\\theta}\\right)^{2} \\mathrm{d} {\\phi}\\otimes \\mathrm{d} {\\phi}\\]</html>"
      ],
      "text/latex": [
       "$$\\newcommand{\\Bold}[1]{\\mathbf{#1}}g = -A\\left(r\\right) \\mathrm{d} t\\otimes \\mathrm{d} t + B\\left(r\\right) \\mathrm{d} r\\otimes \\mathrm{d} r + r^{2} \\mathrm{d} {\\theta}\\otimes \\mathrm{d} {\\theta} + r^{2} \\sin\\left({\\theta}\\right)^{2} \\mathrm{d} {\\phi}\\otimes \\mathrm{d} {\\phi}$$"
      ],
      "text/plain": [
       "g = -A(r) dt⊗dt + B(r) dr⊗dr + r^2 dth⊗dth + r^2*sin(th)^2 dph⊗dph"
      ]
     },
     "execution_count": 8,
     "metadata": {},
     "output_type": "execute_result"
    }
   ],
   "source": [
    "g = MU.metric()\n",
    "g[0,0] = -A\n",
    "g[1,1] = B\n",
    "g[2,2] = r^2\n",
    "g[3,3] = (r*sin(th))^2\n",
    "g.display()"
   ]
  },
  {
   "cell_type": "markdown",
   "metadata": {},
   "source": [
    "Las componentes del tensor métrico pueden ser visualizada como un arreglo,"
   ]
  },
  {
   "cell_type": "code",
   "execution_count": 9,
   "metadata": {},
   "outputs": [
    {
     "data": {
      "text/html": [
       "<html>\\[\\newcommand{\\Bold}[1]{\\mathbf{#1}}\\left(\\begin{array}{rrrr}\n",
       "-A\\left(r\\right) & 0 & 0 & 0 \\\\\n",
       "0 & B\\left(r\\right) & 0 & 0 \\\\\n",
       "0 & 0 & r^{2} & 0 \\\\\n",
       "0 & 0 & 0 & r^{2} \\sin\\left({\\theta}\\right)^{2}\n",
       "\\end{array}\\right)\\]</html>"
      ],
      "text/latex": [
       "$$\\newcommand{\\Bold}[1]{\\mathbf{#1}}\\left(\\begin{array}{rrrr}\n",
       "-A\\left(r\\right) & 0 & 0 & 0 \\\\\n",
       "0 & B\\left(r\\right) & 0 & 0 \\\\\n",
       "0 & 0 & r^{2} & 0 \\\\\n",
       "0 & 0 & 0 & r^{2} \\sin\\left({\\theta}\\right)^{2}\n",
       "\\end{array}\\right)$$"
      ],
      "text/plain": [
       "[        -A(r)             0             0             0]\n",
       "[            0          B(r)             0             0]\n",
       "[            0             0           r^2             0]\n",
       "[            0             0             0 r^2*sin(th)^2]"
      ]
     },
     "execution_count": 9,
     "metadata": {},
     "output_type": "execute_result"
    }
   ],
   "source": [
    "g[:]"
   ]
  },
  {
   "cell_type": "markdown",
   "metadata": {},
   "source": [
    "y se pueden acceder a sus componentes en la forma"
   ]
  },
  {
   "cell_type": "code",
   "execution_count": 10,
   "metadata": {},
   "outputs": [
    {
     "data": {
      "text/html": [
       "<html>\\[\\newcommand{\\Bold}[1]{\\mathbf{#1}}B\\left(r\\right)\\]</html>"
      ],
      "text/latex": [
       "$$\\newcommand{\\Bold}[1]{\\mathbf{#1}}B\\left(r\\right)$$"
      ],
      "text/plain": [
       "B(r)"
      ]
     },
     "execution_count": 10,
     "metadata": {},
     "output_type": "execute_result"
    }
   ],
   "source": [
    "g[1,1]"
   ]
  },
  {
   "cell_type": "markdown",
   "metadata": {},
   "source": [
    "### 2.1. Inversa de la Métrica\n",
    "\n",
    "La inversa del tensor métrico se obtiene mediante el método `.inverse()` o utilizando el método `.up()` aplicado al tensor métrico,"
   ]
  },
  {
   "cell_type": "code",
   "execution_count": 11,
   "metadata": {},
   "outputs": [
    {
     "data": {
      "text/html": [
       "<html>\\[\\newcommand{\\Bold}[1]{\\mathbf{#1}}g^{-1}\\]</html>"
      ],
      "text/latex": [
       "$$\\newcommand{\\Bold}[1]{\\mathbf{#1}}g^{-1}$$"
      ],
      "text/plain": [
       "Tensor field inv_g of type (2,0) on the 4-dimensional Lorentzian manifold MU"
      ]
     },
     "execution_count": 11,
     "metadata": {},
     "output_type": "execute_result"
    }
   ],
   "source": [
    "# guu = g.up(g) # Can be defined by rising the indices\n",
    "guu = g.inverse()\n",
    "guu"
   ]
  },
  {
   "cell_type": "code",
   "execution_count": 12,
   "metadata": {},
   "outputs": [
    {
     "data": {
      "text/html": [
       "<html>\\[\\newcommand{\\Bold}[1]{\\mathbf{#1}}g^{-1} = -\\frac{1}{A\\left(r\\right)} \\frac{\\partial}{\\partial t }\\otimes \\frac{\\partial}{\\partial t } + \\frac{1}{B\\left(r\\right)} \\frac{\\partial}{\\partial r }\\otimes \\frac{\\partial}{\\partial r } + \\frac{1}{r^{2}} \\frac{\\partial}{\\partial {\\theta} }\\otimes \\frac{\\partial}{\\partial {\\theta} } + \\frac{1}{r^{2} \\sin\\left({\\theta}\\right)^{2}} \\frac{\\partial}{\\partial {\\phi} }\\otimes \\frac{\\partial}{\\partial {\\phi} }\\]</html>"
      ],
      "text/latex": [
       "$$\\newcommand{\\Bold}[1]{\\mathbf{#1}}g^{-1} = -\\frac{1}{A\\left(r\\right)} \\frac{\\partial}{\\partial t }\\otimes \\frac{\\partial}{\\partial t } + \\frac{1}{B\\left(r\\right)} \\frac{\\partial}{\\partial r }\\otimes \\frac{\\partial}{\\partial r } + \\frac{1}{r^{2}} \\frac{\\partial}{\\partial {\\theta} }\\otimes \\frac{\\partial}{\\partial {\\theta} } + \\frac{1}{r^{2} \\sin\\left({\\theta}\\right)^{2}} \\frac{\\partial}{\\partial {\\phi} }\\otimes \\frac{\\partial}{\\partial {\\phi} }$$"
      ],
      "text/plain": [
       "inv_g = -1/A(r) ∂/∂t⊗∂/∂t + 1/B(r) ∂/∂r⊗∂/∂r + r^(-2) ∂/∂th⊗∂/∂th + 1/(r^2*sin(th)^2) ∂/∂ph⊗∂/∂ph"
      ]
     },
     "execution_count": 12,
     "metadata": {},
     "output_type": "execute_result"
    }
   ],
   "source": [
    "guu.display()"
   ]
  },
  {
   "cell_type": "code",
   "execution_count": 13,
   "metadata": {},
   "outputs": [
    {
     "data": {
      "text/html": [
       "<html>\\[\\newcommand{\\Bold}[1]{\\mathbf{#1}}\\left(\\begin{array}{rrrr}\n",
       "-\\frac{1}{A\\left(r\\right)} & 0 & 0 & 0 \\\\\n",
       "0 & \\frac{1}{B\\left(r\\right)} & 0 & 0 \\\\\n",
       "0 & 0 & \\frac{1}{r^{2}} & 0 \\\\\n",
       "0 & 0 & 0 & \\frac{1}{r^{2} \\sin\\left({\\theta}\\right)^{2}}\n",
       "\\end{array}\\right)\\]</html>"
      ],
      "text/latex": [
       "$$\\newcommand{\\Bold}[1]{\\mathbf{#1}}\\left(\\begin{array}{rrrr}\n",
       "-\\frac{1}{A\\left(r\\right)} & 0 & 0 & 0 \\\\\n",
       "0 & \\frac{1}{B\\left(r\\right)} & 0 & 0 \\\\\n",
       "0 & 0 & \\frac{1}{r^{2}} & 0 \\\\\n",
       "0 & 0 & 0 & \\frac{1}{r^{2} \\sin\\left({\\theta}\\right)^{2}}\n",
       "\\end{array}\\right)$$"
      ],
      "text/plain": [
       "[          -1/A(r)                 0                 0                 0]\n",
       "[                0            1/B(r)                 0                 0]\n",
       "[                0                 0            r^(-2)                 0]\n",
       "[                0                 0                 0 1/(r^2*sin(th)^2)]"
      ]
     },
     "execution_count": 13,
     "metadata": {},
     "output_type": "execute_result"
    }
   ],
   "source": [
    "guu[:]"
   ]
  },
  {
   "cell_type": "markdown",
   "metadata": {},
   "source": [
    "### 2.2. Función Delta\n",
    "\n",
    "También es posible definir el tensor delta (identidad) $\\delta^\\mu _\\nu = g^\\mu _\\nu$ utilizando la contracción de índices,"
   ]
  },
  {
   "cell_type": "code",
   "execution_count": 14,
   "metadata": {},
   "outputs": [
    {
     "data": {
      "text/html": [
       "<html>\\[\\newcommand{\\Bold}[1]{\\mathbf{#1}}\\left(\\begin{array}{rrrr}\n",
       "1 & 0 & 0 & 0 \\\\\n",
       "0 & 1 & 0 & 0 \\\\\n",
       "0 & 0 & 1 & 0 \\\\\n",
       "0 & 0 & 0 & 1\n",
       "\\end{array}\\right)\\]</html>"
      ],
      "text/latex": [
       "$$\\newcommand{\\Bold}[1]{\\mathbf{#1}}\\left(\\begin{array}{rrrr}\n",
       "1 & 0 & 0 & 0 \\\\\n",
       "0 & 1 & 0 & 0 \\\\\n",
       "0 & 0 & 1 & 0 \\\\\n",
       "0 & 0 & 0 & 1\n",
       "\\end{array}\\right)$$"
      ],
      "text/plain": [
       "[1 0 0 0]\n",
       "[0 1 0 0]\n",
       "[0 0 1 0]\n",
       "[0 0 0 1]"
      ]
     },
     "execution_count": 14,
     "metadata": {},
     "output_type": "execute_result"
    }
   ],
   "source": [
    "delta = g['_{ab}']*guu['^{bc}']\n",
    "delta[:]"
   ]
  },
  {
   "cell_type": "markdown",
   "metadata": {},
   "source": [
    "## 3. Ecuaciones de Campo de Einstein\n",
    "\n",
    "Las Ecuaciones de Campo de Einstein Field Equations están dadas por\n",
    "\n",
    "\\begin{equation}\n",
    "G_{\\mu \\nu} = R_{\\mu \\nu} - \\frac{1}{2} g_{\\mu \\nu} R = \\frac{8\\pi G}{c^4} T_{\\mu \\nu}\n",
    "\\end{equation}\n",
    "\n",
    "Ya que la métrica de Schwarzschild será una solución en el vacio, i.e. $T_{\\mu \\nu} =0$, las Ecuaciones de Campo se reducen a\n",
    "\n",
    "\\begin{equation}\n",
    "G_{\\mu \\nu} = R_{\\mu \\nu} - \\frac{1}{2} g_{\\mu \\nu} R = 0.\n",
    "\\end{equation}\n",
    "\n",
    "\n",
    "\n",
    "### 3.1. Tensor de Ricci\n",
    "\n",
    "Para construir las Ecuaciones de Campo se calculará el tensor de Ricci utilizando el método `.ricci()` de la métrica"
   ]
  },
  {
   "cell_type": "code",
   "execution_count": 15,
   "metadata": {},
   "outputs": [
    {
     "data": {
      "text/html": [
       "<html>\\[\\newcommand{\\Bold}[1]{\\mathbf{#1}}\\mathrm{Ric}\\left(g\\right)\\]</html>"
      ],
      "text/latex": [
       "$$\\newcommand{\\Bold}[1]{\\mathbf{#1}}\\mathrm{Ric}\\left(g\\right)$$"
      ],
      "text/plain": [
       "Field of symmetric bilinear forms Ric(g) on the 4-dimensional Lorentzian manifold MU"
      ]
     },
     "execution_count": 15,
     "metadata": {},
     "output_type": "execute_result"
    }
   ],
   "source": [
    "Ricci = g.ricci()\n",
    "Ricci"
   ]
  },
  {
   "cell_type": "code",
   "execution_count": 16,
   "metadata": {},
   "outputs": [
    {
     "data": {
      "text/html": [
       "<html>\\[\\newcommand{\\Bold}[1]{\\mathbf{#1}}\\mathrm{Ric}\\left(g\\right) = \\left( -\\frac{r B\\left(r\\right) \\left(\\frac{\\partial\\,A}{\\partial r}\\right)^{2} - 2 \\, r A\\left(r\\right) B\\left(r\\right) \\frac{\\partial^2\\,A}{\\partial r ^ 2} + r A\\left(r\\right) \\frac{\\partial\\,A}{\\partial r} \\frac{\\partial\\,B}{\\partial r} - 4 \\, A\\left(r\\right) B\\left(r\\right) \\frac{\\partial\\,A}{\\partial r}}{4 \\, r A\\left(r\\right) B\\left(r\\right)^{2}} \\right) \\mathrm{d} t\\otimes \\mathrm{d} t + \\left( \\frac{r B\\left(r\\right) \\left(\\frac{\\partial\\,A}{\\partial r}\\right)^{2} - 2 \\, r A\\left(r\\right) B\\left(r\\right) \\frac{\\partial^2\\,A}{\\partial r ^ 2} + {\\left(r A\\left(r\\right) \\frac{\\partial\\,A}{\\partial r} + 4 \\, A\\left(r\\right)^{2}\\right)} \\frac{\\partial\\,B}{\\partial r}}{4 \\, r A\\left(r\\right)^{2} B\\left(r\\right)} \\right) \\mathrm{d} r\\otimes \\mathrm{d} r + \\left( \\frac{2 \\, A\\left(r\\right) B\\left(r\\right)^{2} - r B\\left(r\\right) \\frac{\\partial\\,A}{\\partial r} + r A\\left(r\\right) \\frac{\\partial\\,B}{\\partial r} - 2 \\, A\\left(r\\right) B\\left(r\\right)}{2 \\, A\\left(r\\right) B\\left(r\\right)^{2}} \\right) \\mathrm{d} {\\theta}\\otimes \\mathrm{d} {\\theta} + \\frac{{\\left(2 \\, A\\left(r\\right) B\\left(r\\right)^{2} - r B\\left(r\\right) \\frac{\\partial\\,A}{\\partial r} + r A\\left(r\\right) \\frac{\\partial\\,B}{\\partial r} - 2 \\, A\\left(r\\right) B\\left(r\\right)\\right)} \\sin\\left({\\theta}\\right)^{2}}{2 \\, A\\left(r\\right) B\\left(r\\right)^{2}} \\mathrm{d} {\\phi}\\otimes \\mathrm{d} {\\phi}\\]</html>"
      ],
      "text/latex": [
       "$$\\newcommand{\\Bold}[1]{\\mathbf{#1}}\\mathrm{Ric}\\left(g\\right) = \\left( -\\frac{r B\\left(r\\right) \\left(\\frac{\\partial\\,A}{\\partial r}\\right)^{2} - 2 \\, r A\\left(r\\right) B\\left(r\\right) \\frac{\\partial^2\\,A}{\\partial r ^ 2} + r A\\left(r\\right) \\frac{\\partial\\,A}{\\partial r} \\frac{\\partial\\,B}{\\partial r} - 4 \\, A\\left(r\\right) B\\left(r\\right) \\frac{\\partial\\,A}{\\partial r}}{4 \\, r A\\left(r\\right) B\\left(r\\right)^{2}} \\right) \\mathrm{d} t\\otimes \\mathrm{d} t + \\left( \\frac{r B\\left(r\\right) \\left(\\frac{\\partial\\,A}{\\partial r}\\right)^{2} - 2 \\, r A\\left(r\\right) B\\left(r\\right) \\frac{\\partial^2\\,A}{\\partial r ^ 2} + {\\left(r A\\left(r\\right) \\frac{\\partial\\,A}{\\partial r} + 4 \\, A\\left(r\\right)^{2}\\right)} \\frac{\\partial\\,B}{\\partial r}}{4 \\, r A\\left(r\\right)^{2} B\\left(r\\right)} \\right) \\mathrm{d} r\\otimes \\mathrm{d} r + \\left( \\frac{2 \\, A\\left(r\\right) B\\left(r\\right)^{2} - r B\\left(r\\right) \\frac{\\partial\\,A}{\\partial r} + r A\\left(r\\right) \\frac{\\partial\\,B}{\\partial r} - 2 \\, A\\left(r\\right) B\\left(r\\right)}{2 \\, A\\left(r\\right) B\\left(r\\right)^{2}} \\right) \\mathrm{d} {\\theta}\\otimes \\mathrm{d} {\\theta} + \\frac{{\\left(2 \\, A\\left(r\\right) B\\left(r\\right)^{2} - r B\\left(r\\right) \\frac{\\partial\\,A}{\\partial r} + r A\\left(r\\right) \\frac{\\partial\\,B}{\\partial r} - 2 \\, A\\left(r\\right) B\\left(r\\right)\\right)} \\sin\\left({\\theta}\\right)^{2}}{2 \\, A\\left(r\\right) B\\left(r\\right)^{2}} \\mathrm{d} {\\phi}\\otimes \\mathrm{d} {\\phi}$$"
      ],
      "text/plain": [
       "Ric(g) = -1/4*(r*B(r)*(d(A)/dr)^2 - 2*r*A(r)*B(r)*d^2(A)/dr^2 + r*A(r)*d(A)/dr*d(B)/dr - 4*A(r)*B(r)*d(A)/dr)/(r*A(r)*B(r)^2) dt⊗dt + 1/4*(r*B(r)*(d(A)/dr)^2 - 2*r*A(r)*B(r)*d^2(A)/dr^2 + (r*A(r)*d(A)/dr + 4*A(r)^2)*d(B)/dr)/(r*A(r)^2*B(r)) dr⊗dr + 1/2*(2*A(r)*B(r)^2 - r*B(r)*d(A)/dr + r*A(r)*d(B)/dr - 2*A(r)*B(r))/(A(r)*B(r)^2) dth⊗dth + 1/2*(2*A(r)*B(r)^2 - r*B(r)*d(A)/dr + r*A(r)*d(B)/dr - 2*A(r)*B(r))*sin(th)^2/(A(r)*B(r)^2) dph⊗dph"
      ]
     },
     "execution_count": 16,
     "metadata": {},
     "output_type": "execute_result"
    }
   ],
   "source": [
    "Ricci.display()"
   ]
  },
  {
   "cell_type": "code",
   "execution_count": 17,
   "metadata": {
    "scrolled": false
   },
   "outputs": [
    {
     "data": {
      "text/html": [
       "<html>\\[\\newcommand{\\Bold}[1]{\\mathbf{#1}}\\left(\\begin{array}{rrrr}\n",
       "-\\frac{r B\\left(r\\right) \\left(\\frac{\\partial\\,A}{\\partial r}\\right)^{2} - 2 \\, r A\\left(r\\right) B\\left(r\\right) \\frac{\\partial^2\\,A}{\\partial r ^ 2} + r A\\left(r\\right) \\frac{\\partial\\,A}{\\partial r} \\frac{\\partial\\,B}{\\partial r} - 4 \\, A\\left(r\\right) B\\left(r\\right) \\frac{\\partial\\,A}{\\partial r}}{4 \\, r A\\left(r\\right) B\\left(r\\right)^{2}} & 0 & 0 & 0 \\\\\n",
       "0 & \\frac{r B\\left(r\\right) \\left(\\frac{\\partial\\,A}{\\partial r}\\right)^{2} - 2 \\, r A\\left(r\\right) B\\left(r\\right) \\frac{\\partial^2\\,A}{\\partial r ^ 2} + {\\left(r A\\left(r\\right) \\frac{\\partial\\,A}{\\partial r} + 4 \\, A\\left(r\\right)^{2}\\right)} \\frac{\\partial\\,B}{\\partial r}}{4 \\, r A\\left(r\\right)^{2} B\\left(r\\right)} & 0 & 0 \\\\\n",
       "0 & 0 & \\frac{2 \\, A\\left(r\\right) B\\left(r\\right)^{2} - r B\\left(r\\right) \\frac{\\partial\\,A}{\\partial r} + r A\\left(r\\right) \\frac{\\partial\\,B}{\\partial r} - 2 \\, A\\left(r\\right) B\\left(r\\right)}{2 \\, A\\left(r\\right) B\\left(r\\right)^{2}} & 0 \\\\\n",
       "0 & 0 & 0 & \\frac{{\\left(2 \\, A\\left(r\\right) B\\left(r\\right)^{2} - r B\\left(r\\right) \\frac{\\partial\\,A}{\\partial r} + r A\\left(r\\right) \\frac{\\partial\\,B}{\\partial r} - 2 \\, A\\left(r\\right) B\\left(r\\right)\\right)} \\sin\\left({\\theta}\\right)^{2}}{2 \\, A\\left(r\\right) B\\left(r\\right)^{2}}\n",
       "\\end{array}\\right)\\]</html>"
      ],
      "text/latex": [
       "$$\\newcommand{\\Bold}[1]{\\mathbf{#1}}\\left(\\begin{array}{rrrr}\n",
       "-\\frac{r B\\left(r\\right) \\left(\\frac{\\partial\\,A}{\\partial r}\\right)^{2} - 2 \\, r A\\left(r\\right) B\\left(r\\right) \\frac{\\partial^2\\,A}{\\partial r ^ 2} + r A\\left(r\\right) \\frac{\\partial\\,A}{\\partial r} \\frac{\\partial\\,B}{\\partial r} - 4 \\, A\\left(r\\right) B\\left(r\\right) \\frac{\\partial\\,A}{\\partial r}}{4 \\, r A\\left(r\\right) B\\left(r\\right)^{2}} & 0 & 0 & 0 \\\\\n",
       "0 & \\frac{r B\\left(r\\right) \\left(\\frac{\\partial\\,A}{\\partial r}\\right)^{2} - 2 \\, r A\\left(r\\right) B\\left(r\\right) \\frac{\\partial^2\\,A}{\\partial r ^ 2} + {\\left(r A\\left(r\\right) \\frac{\\partial\\,A}{\\partial r} + 4 \\, A\\left(r\\right)^{2}\\right)} \\frac{\\partial\\,B}{\\partial r}}{4 \\, r A\\left(r\\right)^{2} B\\left(r\\right)} & 0 & 0 \\\\\n",
       "0 & 0 & \\frac{2 \\, A\\left(r\\right) B\\left(r\\right)^{2} - r B\\left(r\\right) \\frac{\\partial\\,A}{\\partial r} + r A\\left(r\\right) \\frac{\\partial\\,B}{\\partial r} - 2 \\, A\\left(r\\right) B\\left(r\\right)}{2 \\, A\\left(r\\right) B\\left(r\\right)^{2}} & 0 \\\\\n",
       "0 & 0 & 0 & \\frac{{\\left(2 \\, A\\left(r\\right) B\\left(r\\right)^{2} - r B\\left(r\\right) \\frac{\\partial\\,A}{\\partial r} + r A\\left(r\\right) \\frac{\\partial\\,B}{\\partial r} - 2 \\, A\\left(r\\right) B\\left(r\\right)\\right)} \\sin\\left({\\theta}\\right)^{2}}{2 \\, A\\left(r\\right) B\\left(r\\right)^{2}}\n",
       "\\end{array}\\right)$$"
      ],
      "text/plain": [
       "[-1/4*(r*B(r)*(d(A)/dr)^2 - 2*r*A(r)*B(r)*d^2(A)/dr^2 + r*A(r)*d(A)/dr*d(B)/dr - 4*A(r)*B(r)*d(A)/dr)/(r*A(r)*B(r)^2)                                                                                                                    0                                                                                                                    0                                                                                                                    0]\n",
       "[                                                                                                                   0           1/4*(r*B(r)*(d(A)/dr)^2 - 2*r*A(r)*B(r)*d^2(A)/dr^2 + (r*A(r)*d(A)/dr + 4*A(r)^2)*d(B)/dr)/(r*A(r)^2*B(r))                                                                                                                    0                                                                                                                    0]\n",
       "[                                                                                                                   0                                                                                                                    0                                    1/2*(2*A(r)*B(r)^2 - r*B(r)*d(A)/dr + r*A(r)*d(B)/dr - 2*A(r)*B(r))/(A(r)*B(r)^2)                                                                                                                    0]\n",
       "[                                                                                                                   0                                                                                                                    0                                                                                                                    0                          1/2*(2*A(r)*B(r)^2 - r*B(r)*d(A)/dr + r*A(r)*d(B)/dr - 2*A(r)*B(r))*sin(th)^2/(A(r)*B(r)^2)]"
      ]
     },
     "execution_count": 17,
     "metadata": {},
     "output_type": "execute_result"
    }
   ],
   "source": [
    "Ricci[:]"
   ]
  },
  {
   "cell_type": "markdown",
   "metadata": {},
   "source": [
    "### 3.2. Escalar de Curvatura de Ricci\n",
    "\n",
    "El escalar de curvatura de Ricci, $R=R^\\alpha_\\alpha$, se obtiene utilizando el método `.ricci_scalar()` de la métrica"
   ]
  },
  {
   "cell_type": "code",
   "execution_count": 18,
   "metadata": {},
   "outputs": [
    {
     "data": {
      "text/html": [
       "<html>\\[\\newcommand{\\Bold}[1]{\\mathbf{#1}}\\begin{array}{llcl} \\mathrm{r}\\left(g\\right):& MU & \\longrightarrow & \\mathbb{R} \\\\ & \\left(t, r, {\\theta}, {\\phi}\\right) & \\longmapsto & \\frac{r^{2} B\\left(r\\right) \\left(\\frac{\\partial\\,A}{\\partial r}\\right)^{2} - 2 \\, r^{2} A\\left(r\\right) B\\left(r\\right) \\frac{\\partial^2\\,A}{\\partial r ^ 2} + 4 \\, A\\left(r\\right)^{2} B\\left(r\\right)^{2} - 4 \\, r A\\left(r\\right) B\\left(r\\right) \\frac{\\partial\\,A}{\\partial r} - 4 \\, A\\left(r\\right)^{2} B\\left(r\\right) + {\\left(r^{2} A\\left(r\\right) \\frac{\\partial\\,A}{\\partial r} + 4 \\, r A\\left(r\\right)^{2}\\right)} \\frac{\\partial\\,B}{\\partial r}}{2 \\, r^{2} A\\left(r\\right)^{2} B\\left(r\\right)^{2}} \\end{array}\\]</html>"
      ],
      "text/latex": [
       "$$\\newcommand{\\Bold}[1]{\\mathbf{#1}}\\begin{array}{llcl} \\mathrm{r}\\left(g\\right):& MU & \\longrightarrow & \\mathbb{R} \\\\ & \\left(t, r, {\\theta}, {\\phi}\\right) & \\longmapsto & \\frac{r^{2} B\\left(r\\right) \\left(\\frac{\\partial\\,A}{\\partial r}\\right)^{2} - 2 \\, r^{2} A\\left(r\\right) B\\left(r\\right) \\frac{\\partial^2\\,A}{\\partial r ^ 2} + 4 \\, A\\left(r\\right)^{2} B\\left(r\\right)^{2} - 4 \\, r A\\left(r\\right) B\\left(r\\right) \\frac{\\partial\\,A}{\\partial r} - 4 \\, A\\left(r\\right)^{2} B\\left(r\\right) + {\\left(r^{2} A\\left(r\\right) \\frac{\\partial\\,A}{\\partial r} + 4 \\, r A\\left(r\\right)^{2}\\right)} \\frac{\\partial\\,B}{\\partial r}}{2 \\, r^{2} A\\left(r\\right)^{2} B\\left(r\\right)^{2}} \\end{array}$$"
      ],
      "text/plain": [
       "r(g): MU → ℝ\n",
       "   (t, r, th, ph) ↦ 1/2*(r^2*B(r)*(d(A)/dr)^2 - 2*r^2*A(r)*B(r)*d^2(A)/dr^2 + 4*A(r)^2*B(r)^2 - 4*r*A(r)*B(r)*d(A)/dr - 4*A(r)^2*B(r) + (r^2*A(r)*d(A)/dr + 4*r*A(r)^2)*d(B)/dr)/(r^2*A(r)^2*B(r)^2)"
      ]
     },
     "execution_count": 18,
     "metadata": {},
     "output_type": "execute_result"
    }
   ],
   "source": [
    "R = g.ricci_scalar()\n",
    "R.display()"
   ]
  },
  {
   "cell_type": "markdown",
   "metadata": {},
   "source": [
    "---\n",
    "Ahora declaramos el tensor de Einstein mediante"
   ]
  },
  {
   "cell_type": "code",
   "execution_count": 19,
   "metadata": {},
   "outputs": [
    {
     "data": {
      "text/html": [
       "<html>\\[\\newcommand{\\Bold}[1]{\\mathbf{#1}}\\left(\\begin{array}{rrrr}\n",
       "\\frac{A\\left(r\\right) B\\left(r\\right)^{2} + r A\\left(r\\right) \\frac{\\partial\\,B}{\\partial r} - A\\left(r\\right) B\\left(r\\right)}{r^{2} B\\left(r\\right)^{2}} & 0 & 0 & 0 \\\\\n",
       "0 & -\\frac{A\\left(r\\right) B\\left(r\\right) - r \\frac{\\partial\\,A}{\\partial r} - A\\left(r\\right)}{r^{2} A\\left(r\\right)} & 0 & 0 \\\\\n",
       "0 & 0 & -\\frac{r^{2} B\\left(r\\right) \\left(\\frac{\\partial\\,A}{\\partial r}\\right)^{2} - 2 \\, r^{2} A\\left(r\\right) B\\left(r\\right) \\frac{\\partial^2\\,A}{\\partial r ^ 2} - 2 \\, r A\\left(r\\right) B\\left(r\\right) \\frac{\\partial\\,A}{\\partial r} + {\\left(r^{2} A\\left(r\\right) \\frac{\\partial\\,A}{\\partial r} + 2 \\, r A\\left(r\\right)^{2}\\right)} \\frac{\\partial\\,B}{\\partial r}}{4 \\, A\\left(r\\right)^{2} B\\left(r\\right)^{2}} & 0 \\\\\n",
       "0 & 0 & 0 & -\\frac{{\\left(r^{2} B\\left(r\\right) \\left(\\frac{\\partial\\,A}{\\partial r}\\right)^{2} - 2 \\, r^{2} A\\left(r\\right) B\\left(r\\right) \\frac{\\partial^2\\,A}{\\partial r ^ 2} - 2 \\, r A\\left(r\\right) B\\left(r\\right) \\frac{\\partial\\,A}{\\partial r} + {\\left(r^{2} A\\left(r\\right) \\frac{\\partial\\,A}{\\partial r} + 2 \\, r A\\left(r\\right)^{2}\\right)} \\frac{\\partial\\,B}{\\partial r}\\right)} \\sin\\left({\\theta}\\right)^{2}}{4 \\, A\\left(r\\right)^{2} B\\left(r\\right)^{2}}\n",
       "\\end{array}\\right)\\]</html>"
      ],
      "text/latex": [
       "$$\\newcommand{\\Bold}[1]{\\mathbf{#1}}\\left(\\begin{array}{rrrr}\n",
       "\\frac{A\\left(r\\right) B\\left(r\\right)^{2} + r A\\left(r\\right) \\frac{\\partial\\,B}{\\partial r} - A\\left(r\\right) B\\left(r\\right)}{r^{2} B\\left(r\\right)^{2}} & 0 & 0 & 0 \\\\\n",
       "0 & -\\frac{A\\left(r\\right) B\\left(r\\right) - r \\frac{\\partial\\,A}{\\partial r} - A\\left(r\\right)}{r^{2} A\\left(r\\right)} & 0 & 0 \\\\\n",
       "0 & 0 & -\\frac{r^{2} B\\left(r\\right) \\left(\\frac{\\partial\\,A}{\\partial r}\\right)^{2} - 2 \\, r^{2} A\\left(r\\right) B\\left(r\\right) \\frac{\\partial^2\\,A}{\\partial r ^ 2} - 2 \\, r A\\left(r\\right) B\\left(r\\right) \\frac{\\partial\\,A}{\\partial r} + {\\left(r^{2} A\\left(r\\right) \\frac{\\partial\\,A}{\\partial r} + 2 \\, r A\\left(r\\right)^{2}\\right)} \\frac{\\partial\\,B}{\\partial r}}{4 \\, A\\left(r\\right)^{2} B\\left(r\\right)^{2}} & 0 \\\\\n",
       "0 & 0 & 0 & -\\frac{{\\left(r^{2} B\\left(r\\right) \\left(\\frac{\\partial\\,A}{\\partial r}\\right)^{2} - 2 \\, r^{2} A\\left(r\\right) B\\left(r\\right) \\frac{\\partial^2\\,A}{\\partial r ^ 2} - 2 \\, r A\\left(r\\right) B\\left(r\\right) \\frac{\\partial\\,A}{\\partial r} + {\\left(r^{2} A\\left(r\\right) \\frac{\\partial\\,A}{\\partial r} + 2 \\, r A\\left(r\\right)^{2}\\right)} \\frac{\\partial\\,B}{\\partial r}\\right)} \\sin\\left({\\theta}\\right)^{2}}{4 \\, A\\left(r\\right)^{2} B\\left(r\\right)^{2}}\n",
       "\\end{array}\\right)$$"
      ],
      "text/plain": [
       "[                                                                                              (A(r)*B(r)^2 + r*A(r)*d(B)/dr - A(r)*B(r))/(r^2*B(r)^2)                                                                                                                                                     0                                                                                                                                                     0                                                                                                                                                     0]\n",
       "[                                                                                                                                                    0                                                                                                            -(A(r)*B(r) - r*d(A)/dr - A(r))/(r^2*A(r))                                                                                                                                                     0                                                                                                                                                     0]\n",
       "[                                                                                                                                                    0                                                                                                                                                     0           -1/4*(r^2*B(r)*(d(A)/dr)^2 - 2*r^2*A(r)*B(r)*d^2(A)/dr^2 - 2*r*A(r)*B(r)*d(A)/dr + (r^2*A(r)*d(A)/dr + 2*r*A(r)^2)*d(B)/dr)/(A(r)^2*B(r)^2)                                                                                                                                                     0]\n",
       "[                                                                                                                                                    0                                                                                                                                                     0                                                                                                                                                     0 -1/4*(r^2*B(r)*(d(A)/dr)^2 - 2*r^2*A(r)*B(r)*d^2(A)/dr^2 - 2*r*A(r)*B(r)*d(A)/dr + (r^2*A(r)*d(A)/dr + 2*r*A(r)^2)*d(B)/dr)*sin(th)^2/(A(r)^2*B(r)^2)]"
      ]
     },
     "execution_count": 19,
     "metadata": {},
     "output_type": "execute_result"
    }
   ],
   "source": [
    "Einstein = Ricci - g*R/2\n",
    "Einstein[:]"
   ]
  },
  {
   "cell_type": "markdown",
   "metadata": {},
   "source": [
    "Para separar las ecuaciones diferenciales obtenidas, se utiliza la versión mixta del tensor de Einstein,\n",
    "\n",
    "\\begin{equation}\n",
    "G^\\mu_\\nu = R^\\mu_\\nu - \\frac{1}{2} g^\\mu_\\nu R = 0.\n",
    "\\end{equation}"
   ]
  },
  {
   "cell_type": "markdown",
   "metadata": {},
   "source": [
    "Para subir el primero de los índices se utiliza el método `.up()`,\n"
   ]
  },
  {
   "cell_type": "code",
   "execution_count": 20,
   "metadata": {},
   "outputs": [
    {
     "data": {
      "text/html": [
       "<html>\\[\\newcommand{\\Bold}[1]{\\mathbf{#1}}\\left(\\begin{array}{rrrr}\n",
       "-\\frac{B\\left(r\\right)^{2} + r \\frac{\\partial\\,B}{\\partial r} - B\\left(r\\right)}{r^{2} B\\left(r\\right)^{2}} & 0 & 0 & 0 \\\\\n",
       "0 & -\\frac{A\\left(r\\right) B\\left(r\\right) - r \\frac{\\partial\\,A}{\\partial r} - A\\left(r\\right)}{r^{2} A\\left(r\\right) B\\left(r\\right)} & 0 & 0 \\\\\n",
       "0 & 0 & -\\frac{r B\\left(r\\right) \\left(\\frac{\\partial\\,A}{\\partial r}\\right)^{2} - 2 \\, r A\\left(r\\right) B\\left(r\\right) \\frac{\\partial^2\\,A}{\\partial r ^ 2} - 2 \\, A\\left(r\\right) B\\left(r\\right) \\frac{\\partial\\,A}{\\partial r} + {\\left(r A\\left(r\\right) \\frac{\\partial\\,A}{\\partial r} + 2 \\, A\\left(r\\right)^{2}\\right)} \\frac{\\partial\\,B}{\\partial r}}{4 \\, r A\\left(r\\right)^{2} B\\left(r\\right)^{2}} & 0 \\\\\n",
       "0 & 0 & 0 & -\\frac{r B\\left(r\\right) \\left(\\frac{\\partial\\,A}{\\partial r}\\right)^{2} - 2 \\, r A\\left(r\\right) B\\left(r\\right) \\frac{\\partial^2\\,A}{\\partial r ^ 2} - 2 \\, A\\left(r\\right) B\\left(r\\right) \\frac{\\partial\\,A}{\\partial r} + {\\left(r A\\left(r\\right) \\frac{\\partial\\,A}{\\partial r} + 2 \\, A\\left(r\\right)^{2}\\right)} \\frac{\\partial\\,B}{\\partial r}}{4 \\, r A\\left(r\\right)^{2} B\\left(r\\right)^{2}}\n",
       "\\end{array}\\right)\\]</html>"
      ],
      "text/latex": [
       "$$\\newcommand{\\Bold}[1]{\\mathbf{#1}}\\left(\\begin{array}{rrrr}\n",
       "-\\frac{B\\left(r\\right)^{2} + r \\frac{\\partial\\,B}{\\partial r} - B\\left(r\\right)}{r^{2} B\\left(r\\right)^{2}} & 0 & 0 & 0 \\\\\n",
       "0 & -\\frac{A\\left(r\\right) B\\left(r\\right) - r \\frac{\\partial\\,A}{\\partial r} - A\\left(r\\right)}{r^{2} A\\left(r\\right) B\\left(r\\right)} & 0 & 0 \\\\\n",
       "0 & 0 & -\\frac{r B\\left(r\\right) \\left(\\frac{\\partial\\,A}{\\partial r}\\right)^{2} - 2 \\, r A\\left(r\\right) B\\left(r\\right) \\frac{\\partial^2\\,A}{\\partial r ^ 2} - 2 \\, A\\left(r\\right) B\\left(r\\right) \\frac{\\partial\\,A}{\\partial r} + {\\left(r A\\left(r\\right) \\frac{\\partial\\,A}{\\partial r} + 2 \\, A\\left(r\\right)^{2}\\right)} \\frac{\\partial\\,B}{\\partial r}}{4 \\, r A\\left(r\\right)^{2} B\\left(r\\right)^{2}} & 0 \\\\\n",
       "0 & 0 & 0 & -\\frac{r B\\left(r\\right) \\left(\\frac{\\partial\\,A}{\\partial r}\\right)^{2} - 2 \\, r A\\left(r\\right) B\\left(r\\right) \\frac{\\partial^2\\,A}{\\partial r ^ 2} - 2 \\, A\\left(r\\right) B\\left(r\\right) \\frac{\\partial\\,A}{\\partial r} + {\\left(r A\\left(r\\right) \\frac{\\partial\\,A}{\\partial r} + 2 \\, A\\left(r\\right)^{2}\\right)} \\frac{\\partial\\,B}{\\partial r}}{4 \\, r A\\left(r\\right)^{2} B\\left(r\\right)^{2}}\n",
       "\\end{array}\\right)$$"
      ],
      "text/plain": [
       "[                                                                                          -(B(r)^2 + r*d(B)/dr - B(r))/(r^2*B(r)^2)                                                                                                                                   0                                                                                                                                   0                                                                                                                                   0]\n",
       "[                                                                                                                                  0                                                                                     -(A(r)*B(r) - r*d(A)/dr - A(r))/(r^2*A(r)*B(r))                                                                                                                                   0                                                                                                                                   0]\n",
       "[                                                                                                                                  0                                                                                                                                   0 -1/4*(r*B(r)*(d(A)/dr)^2 - 2*r*A(r)*B(r)*d^2(A)/dr^2 - 2*A(r)*B(r)*d(A)/dr + (r*A(r)*d(A)/dr + 2*A(r)^2)*d(B)/dr)/(r*A(r)^2*B(r)^2)                                                                                                                                   0]\n",
       "[                                                                                                                                  0                                                                                                                                   0                                                                                                                                   0 -1/4*(r*B(r)*(d(A)/dr)^2 - 2*r*A(r)*B(r)*d^2(A)/dr^2 - 2*A(r)*B(r)*d(A)/dr + (r*A(r)*d(A)/dr + 2*A(r)^2)*d(B)/dr)/(r*A(r)^2*B(r)^2)]"
      ]
     },
     "execution_count": 20,
     "metadata": {},
     "output_type": "execute_result"
    }
   ],
   "source": [
    "Einstein_ud = Einstein.up(g,1)\n",
    "Einstein_ud[:]"
   ]
  },
  {
   "cell_type": "markdown",
   "metadata": {},
   "source": [
    "## 4. Solución de las Ecuaciones de Campo\n",
    "\n",
    "La primera de las componentes de las Ecuaciones de Campo es\n",
    "\n",
    "\\begin{equation}\n",
    "G^0_0 =- \\frac{B^2 + r B' - B}{r^2 B^2} = 0\n",
    "\\end{equation}\n",
    "\n",
    "que corresponde a la ecuación diferencial ordinaria\n",
    "\n",
    "\\begin{equation}\n",
    "B^2 + r B' - B = 0.\n",
    "\\end{equation}\n",
    "\n",
    "Se puede resolver esta ecuación con la función `desolve()` "
   ]
  },
  {
   "cell_type": "code",
   "execution_count": 21,
   "metadata": {},
   "outputs": [
    {
     "data": {
      "text/html": [
       "<html>\\[\\newcommand{\\Bold}[1]{\\mathbf{#1}}-\\log\\left(B\\left(r\\right) - 1\\right) + \\log\\left(B\\left(r\\right)\\right) = C + \\log\\left(r\\right)\\]</html>"
      ],
      "text/latex": [
       "$$\\newcommand{\\Bold}[1]{\\mathbf{#1}}-\\log\\left(B\\left(r\\right) - 1\\right) + \\log\\left(B\\left(r\\right)\\right) = C + \\log\\left(r\\right)$$"
      ],
      "text/plain": [
       "-log(B(r) - 1) + log(B(r)) == _C + log(r)"
      ]
     },
     "execution_count": 21,
     "metadata": {},
     "output_type": "execute_result"
    }
   ],
   "source": [
    "deq = B**2 + r*diff(B,r) - B # Defines the differential equation\n",
    "B_sol = desolve(deq, B) # Solves the differential equation\n",
    "B_sol"
   ]
  },
  {
   "cell_type": "markdown",
   "metadata": {},
   "source": [
    "Redefinimos la constante de integración como $C = -\\log(K)$ para despejar la ecuación mediante la función `solve()`,"
   ]
  },
  {
   "cell_type": "code",
   "execution_count": 22,
   "metadata": {},
   "outputs": [
    {
     "data": {
      "text/html": [
       "<html>\\[\\newcommand{\\Bold}[1]{\\mathbf{#1}}\\left[\\log\\left(B\\left(r\\right)\\right) = -\\log\\left(K\\right) + \\log\\left(r\\right) + \\log\\left(B\\left(r\\right) - 1\\right)\\right]\\]</html>"
      ],
      "text/latex": [
       "$$\\newcommand{\\Bold}[1]{\\mathbf{#1}}\\left[\\log\\left(B\\left(r\\right)\\right) = -\\log\\left(K\\right) + \\log\\left(r\\right) + \\log\\left(B\\left(r\\right) - 1\\right)\\right]$$"
      ],
      "text/plain": [
       "[log(B(r)) == -log(K) + log(r) + log(B(r) - 1)]"
      ]
     },
     "execution_count": 22,
     "metadata": {},
     "output_type": "execute_result"
    }
   ],
   "source": [
    "K = var('K')\n",
    "solve(- log(B - 1) + log(B) == -log(K) +log(r), B)"
   ]
  },
  {
   "cell_type": "markdown",
   "metadata": {},
   "source": [
    "A aprtir de esta relación podemos obtener\n",
    "\n",
    "\\begin{equation}\n",
    "\\log \\left( \\frac{B}{B-1} \\right) = \\log \\left(\\frac{r}{K} \\right)\n",
    "\\end{equation}\n",
    "\n",
    "\\begin{equation}\n",
    "\\frac{B}{B-1}  = \\frac{r}{K} \n",
    "\\end{equation}\n",
    "\n",
    "\\begin{equation}\n",
    "B  = \\frac{r}{K} \\left( B-1 \\right)\n",
    "\\end{equation}\n",
    "\n",
    "\\begin{equation}\n",
    "B \\left( 1-\\frac{r}{K} \\right) = -\\frac{r}{K} \n",
    "\\end{equation}\n",
    "\n",
    "\\begin{equation}\n",
    "B  = - \\frac{\\frac{r}{K}}{\\left( 1-\\frac{r}{K} \\right)}\n",
    "\\end{equation}\n",
    "\n",
    "\\begin{equation}\n",
    "B  =  \\frac{1}{\\left( 1-\\frac{K}{r} \\right)}\n",
    "\\end{equation}"
   ]
  },
  {
   "cell_type": "markdown",
   "metadata": {},
   "source": [
    "---\n",
    "\n",
    "La segunda componente de las Ecuaciones de Campo es      \n",
    "\\begin{equation}\n",
    "G^1_1 =- \\frac{AB - rA' - A }{r^2 AB} = 0\n",
    "\\end{equation}\n",
    "\n",
    "que correspoinde a la ecuación diferencial ordinaria\n",
    "\n",
    "\\begin{equation}\n",
    "AB - rA' - A   = 0.\n",
    "\\end{equation}\n",
    "\n",
    "De nuevo la resolvemos utilizando la función  `desolve()`. "
   ]
  },
  {
   "cell_type": "code",
   "execution_count": 23,
   "metadata": {
    "scrolled": true
   },
   "outputs": [
    {
     "data": {
      "text/html": [
       "<html>\\[\\newcommand{\\Bold}[1]{\\mathbf{#1}}C e^{\\left(K {\\left(\\frac{\\log\\left(-K + r\\right)}{K} - \\frac{\\log\\left(r\\right)}{K}\\right)}\\right)}\\]</html>"
      ],
      "text/latex": [
       "$$\\newcommand{\\Bold}[1]{\\mathbf{#1}}C e^{\\left(K {\\left(\\frac{\\log\\left(-K + r\\right)}{K} - \\frac{\\log\\left(r\\right)}{K}\\right)}\\right)}$$"
      ],
      "text/plain": [
       "_C*e^(K*(log(-K + r)/K - log(r)/K))"
      ]
     },
     "execution_count": 23,
     "metadata": {},
     "output_type": "execute_result"
    }
   ],
   "source": [
    "assume(K>0)\n",
    "\n",
    "deq2 = A*(1/(1-K/r)) - r*diff(A,r) - A == 0\n",
    "A_sol = desolve(deq2, A, ivar=r) \n",
    "A_sol"
   ]
  },
  {
   "cell_type": "markdown",
   "metadata": {},
   "source": [
    "Esta solución da como resultado\n",
    "\n",
    "\\begin{equation}\n",
    "A = C e^{\\log (r-K) - \\log (r)}\n",
    "\\end{equation}\n",
    "\n",
    "\\begin{equation}\n",
    "A = C e^{\\log \\left( \\frac{r-K}{r} \\right)}\n",
    "\\end{equation}\n",
    "\n",
    "\\begin{equation}\n",
    "A = C \\left( \\frac{r-K}{r} \\right)\n",
    "\\end{equation}\n",
    "\n",
    "\\begin{equation}\n",
    "A = C \\left( 1- \\frac{K}{r} \\right)\n",
    "\\end{equation}"
   ]
  },
  {
   "cell_type": "markdown",
   "metadata": {},
   "source": [
    "---\n",
    "\n",
    "Reemplazando las funciones encontradas en el elemento de línea se obtiene\n",
    "\n",
    "\\begin{equation}\n",
    "ds^2 = - \\left( 1- \\frac{K}{r} \\right) C dt^2 +\\left( 1- \\frac{K}{r} \\right)^{-1} dr^2 + r^2 d\\theta^2 + r^2 \\sin^2 d\\phi^2\n",
    "\\end{equation}\n",
    "\n",
    "Redefiniendo la coordenada temporal en la forma $c dt^2 \\rightarrow dt^2$ y definiendo la constante de itnegración adecuadamente,  $K = \\frac{2GM}{c^2}$, se obtiene finalmente la solución de Schwarzschild,\n",
    "\n",
    "\\begin{equation}\n",
    "ds^2 = - \\left( 1- \\frac{2GM}{c^2 r} \\right) dt^2 +\\left( 1- \\frac{2GM}{c^2r} \\right)^{-1} dr^2 + r^2 d\\theta^2 + r^2 \\sin^2 d\\phi^2.\n",
    "\\end{equation}"
   ]
  },
  {
   "cell_type": "markdown",
   "metadata": {},
   "source": [
    "### Summary of methods\n",
    "\n",
    "```\n",
    "Manifold.chart()\n",
    "Manifold.metric()\n",
    "```\n",
    "\n",
    "\n",
    "```\n",
    "metric.christoffel_symbols_display()\n",
    "metric.christoffel_symbols()[]\n",
    "metric.riemann()\n",
    "metric.ricci()\n",
    "```\n",
    "\n",
    "\n",
    "```\n",
    "tensor.display()\n",
    "tensor[:]\n",
    "tensor.expr()\n",
    "tensor.up(metric)\n",
    "tensor.down(metric)\n",
    "```"
   ]
  },
  {
   "cell_type": "code",
   "execution_count": null,
   "metadata": {},
   "outputs": [],
   "source": []
  }
 ],
 "metadata": {
  "kernelspec": {
   "display_name": "SageMath 9.4",
   "language": "sage",
   "name": "sagemath-9.4"
  },
  "language_info": {
   "codemirror_mode": {
    "name": "ipython",
    "version": 3
   },
   "file_extension": ".py",
   "mimetype": "text/x-python",
   "name": "python",
   "nbconvert_exporter": "python",
   "pygments_lexer": "ipython3",
   "version": "3.9.5"
  }
 },
 "nbformat": 4,
 "nbformat_minor": 2
}
