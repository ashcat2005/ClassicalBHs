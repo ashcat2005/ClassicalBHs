{
 "cells": [
  {
   "cell_type": "markdown",
   "metadata": {
    "id": "Uw2bcL6FltCB"
   },
   "source": [
    "![Astrofisica Computacional](../logo.PNG)"
   ]
  },
  {
   "cell_type": "markdown",
   "metadata": {},
   "source": [
    "---\n",
    "## Motion of a Particle in the Kerr Spacetime\n",
    "\n",
    "Eduard Larrañaga (ealarranaga@unal.edu.co)\n",
    "\n",
    "---"
   ]
  },
  {
   "cell_type": "markdown",
   "metadata": {
    "id": "aSVOtGizlnwl"
   },
   "source": [
    "### Summary\n",
    "\n",
    "In this notebook we implement a code that integrates the equtions of motion of a test particle in the Kerr spacetime.\n",
    "\n",
    "\n",
    "---"
   ]
  },
  {
   "cell_type": "code",
   "execution_count": 1,
   "metadata": {},
   "outputs": [],
   "source": [
    "#%matplotlib notebook\n",
    "import numpy as np\n",
    "from scipy.integrate import odeint\n",
    "import matplotlib.pyplot as plt\n",
    "import warnings\n",
    "warnings.filterwarnings('ignore')"
   ]
  },
  {
   "cell_type": "markdown",
   "metadata": {},
   "source": [
    "### Metric Tensor\n",
    "\n",
    "\\begin{equation}\n",
    "g_{\\mu \\nu} = \\left[\n",
    "\\begin{matrix}\n",
    "-\\left(1 - \\frac{2Mr}{\\Sigma} \\right) & 0 & 0 & -\\frac{2aMr\\sin^2 \\theta}{\\Sigma}\\\\ \n",
    "0 & \\frac{\\Sigma}{\\Delta} 0 & 0 &\\\\\n",
    "0 & 0 & \\Sigma & 0\\\\\n",
    "-\\frac{2aMr\\sin^2 \\theta}{\\Sigma} & 0 & 0 & \\left( r^2 + a^2 + \\frac{2a^2Mr \\sin^2 \\theta}{\\Sigma} \\right) \\sin^2 \\theta  \n",
    "\\end{matrix} \n",
    "\\right]\n",
    "\\end{equation}\n",
    "\n",
    "\\begin{align}\n",
    "\\Delta = &r^2 - 2Mr + a^2\\\\\n",
    "\\Sigma = &r^2 + a^2 \\cos^2 \\theta\n",
    "\\end{align}"
   ]
  },
  {
   "cell_type": "code",
   "execution_count": 2,
   "metadata": {},
   "outputs": [],
   "source": [
    "def g(x):\n",
    "    '''\n",
    "    This procedure evaluates the Kerr metric \n",
    "    tensor in spherical coordinates at a given point.\n",
    "    '''\n",
    "\n",
    "    # Coordinates \n",
    "    t = x[0]\n",
    "    r = x[1]\n",
    "    theta = x[2]\n",
    "    phi = x[3]\n",
    "    \n",
    "    Delta = r**2 - 2*M*r + a**2\n",
    "    Sigma = r**2 + (a*np.cos(theta))**2\n",
    "    \n",
    "    # Metric components\n",
    "    gtt = -(1. - 2.*M*r/Sigma)\n",
    "    grr = Sigma/Delta\n",
    "    gthth = Sigma\n",
    "    gphph = (r**2 + a**2 + 2*(a**2)*M*r*np.sin(theta)**2/Sigma)* np.sin(theta)**2\n",
    "    gtph = -2*a*M*r*np.sin(theta)**2/Sigma\n",
    "    \n",
    "    return [gtt, grr, gthth, gphph, gtph]\n"
   ]
  },
  {
   "cell_type": "markdown",
   "metadata": {},
   "source": [
    "### Equations of Motion\n",
    "\n",
    "The equations of motion for the particle are\n",
    "\n",
    "\\begin{align*}\n",
    "\t\\dot{t} &= \\frac{1}{2\\Delta \\Sigma} \\frac{\\partial \\Xi}{\\partial E}\\\\\n",
    "\t\\dot{r} &= \\frac{\\Delta}{\\Sigma} p_r \\\\\n",
    "\t\\dot{\\theta} &= \\frac{p_\\theta}{\\Sigma}\\\\\n",
    "\t\\dot{\\phi} &= - \\frac{1}{2\\Delta \\Sigma} \\frac{\\partial \\Xi}{\\partial L}\\\\\t\n",
    "\\dot{p}_t &= 0\\\\\n",
    "\\dot{p}_r &= -\\frac{\\partial}{\\partial r}\\left( \\frac{\\Delta}{2\\Sigma}\\right) p_r^2 - \\frac{\\partial}{\\partial r}\\left( \\frac{1}{2\\Sigma}\\right) p_\\theta^2 + \\frac{\\partial}{\\partial r}\\left( \\frac{\\Xi}{2\\Delta \\Sigma}\\right) \\\\\n",
    "\\dot{p}_\\theta &= -\\frac{\\partial}{\\partial \\theta}\\left( \\frac{\\Delta}{2\\Sigma}\\right) p_r^2 - \\frac{\\partial}{\\partial \\theta}\\left( \\frac{1}{2\\Sigma}\\right) p_\\theta^2 + \\frac{\\partial}{\\partial \\theta}\\left( \\frac{\\Xi}{2\\Delta \\Sigma}\\right)\\\\\n",
    "\\dot{p}_\\phi &= 0\\\\\t\n",
    "\\end{align*}\n",
    "\n",
    "where we use the auxilar functions\n",
    "\n",
    "\\begin{align}\n",
    "\tR &= W^2 - (r^2 - 2Mr + a^2) \\left[ r^2 + (L-aE)^2 + Q \\right]\\\\\n",
    "\tW &= E(r^2 + a^2) - aL\\\\\n",
    "\t\\Theta &= Q - \\cos^2 \\theta \\left[ a^2 (1-E^2) + \\frac{L^2}{\\sin^2 \\theta} \\right]\n",
    "\\end{align}\n",
    "\n",
    "\n",
    "This gives the function\n",
    "\n",
    "\\begin{align}\n",
    "\t\\Xi = &R + \\Delta \\Theta \\nonumber \\\\\n",
    "\t\\Xi = &W^2 - \\Delta  \\left[ r^2 + (L-aE)^2 + Q \\right] + \\Delta Q  - \\Delta \\cos^2 \\theta  \\left[ a^2 (1-E^2) + \\frac{L^2}{\\sin^2 \\theta} \\right] \\nonumber \\\\ \n",
    "\t\\Xi = &W^2  - \\Delta \\left[ r^2 + (L-aE)^2  \n",
    "\t+  a^2 (1-E^2)  \\cos^2 \\theta + \\frac{\\cos^2 \\theta }{\\sin^2 \\theta} L^2  \\right] \n",
    "\\end{align}\n",
    "\n",
    "and the derivatives\n",
    "\n",
    "\\begin{align}\n",
    "\\frac{\\partial \\Xi}{\\partial E} &= 2W(r^2 + a^2) + 2a \\Delta (L-aE) + 2E a^2 \\Delta \\cos^2 \\theta   \\\\\n",
    "\t\t\t\t\t\t\t\t\t\t&= 2W(r^2 + a^2) + 2a \\Delta \\left( L-aE  + aE  \\cos^2 \\theta \\right)  \\\\\n",
    "\t\t\t\t\t\t\t\t\t\t&= 2W(r^2 + a^2) + 2a \\Delta \\left( L-aE \\sin^2 \\theta \\right)\\\\\n",
    "\\frac{\\partial \\Xi}{\\partial L} &= - 2a W - 2 \\Delta (L-aE) - 2L \\Delta \\frac{\\cos^2 \\theta }{\\sin^2 \\theta}   \\nonumber \\\\\n",
    "\t\t\t\t\t\t&= - 2a W + 2 aE \\Delta   - 2L \\Delta \\left[ 1 + \\frac{\\cos^2 \\theta }{\\sin^2 \\theta} \\right] \\nonumber \\\\\t\t\t\t\t\t\t\t\t\t\t\n",
    "\t\t\t\t\t\t&= - 2a W + 2 aE \\Delta   - 2L \\Delta \\csc^2 \\theta . \n",
    "\\end{align}\n",
    "\n",
    "\n"
   ]
  },
  {
   "cell_type": "markdown",
   "metadata": {},
   "source": [
    "Since \n",
    "\\begin{equation}\n",
    "\\frac{\\partial \\Delta}{\\partial r} = 2(r-M)\n",
    "\\end{equation}\n",
    "and \n",
    "\\begin{equation}\n",
    "\\frac{\\partial \\Sigma}{\\partial r} = 2r,\n",
    "\\end{equation}\n",
    "we obtain the derivatives\n",
    "\\begin{align}\n",
    "\\frac{\\partial}{\\partial r}\\left( \\frac{\\Delta}{2\\Sigma}\\right) &= \\frac{1}{2\\Sigma} \\frac{\\partial \\Delta}{\\partial r} - \\frac{\\Delta}{2\\Sigma^2} \\frac{\\partial \\Sigma}{\\partial r} = \\frac{r-M}{\\Sigma} - \\frac{r\\Delta}{\\Sigma^2} \\\\\n",
    "\\frac{\\partial}{\\partial r}\\left( \\frac{1}{2\\Sigma}\\right) &= - \\frac{1}{2\\Sigma^2} \\frac{\\partial \\Sigma}{\\partial r} = - \\frac{r}{\\Sigma^2} \\\\\n",
    "\\frac{\\partial}{\\partial r}\\left( \\frac{\\Xi}{2\\Delta \\Sigma}\\right) &= \\frac{1}{2\\Delta \\Sigma} \\frac{\\partial \\Xi}{\\partial r} -\\frac{\\Xi}{2\\Delta^2 \\Sigma} \\frac{\\partial \\Delta}{\\partial r} -\\frac{\\Xi}{2\\Delta \\Sigma^2} \\frac{\\partial \\Sigma}{\\partial r}  \\nonumber \\\\\n",
    "&= \\frac{1}{2\\Delta \\Sigma} \\frac{\\partial \\Xi}{\\partial r} -\\frac{\\Xi (r-M)}{\\Delta^2 \\Sigma} -\\frac{\\Xi r}{\\Delta \\Sigma^2} \n",
    "\\end{align}\n",
    "where\n",
    "\\begin{equation}\n",
    "\\frac{\\partial \\Xi}{\\partial r}  = 4rEW - 2(r-M) \\left[ r^2 + (L-aE)^2  \n",
    "\t+  a^2 (1-E^2)  \\cos^2 \\theta + \\frac{\\cos^2 \\theta }{\\sin^2 \\theta} L^2  \\right] -2r \\Delta.\n",
    "\\end{equation}"
   ]
  },
  {
   "cell_type": "markdown",
   "metadata": {},
   "source": [
    "Similarly, since\n",
    "\\begin{equation}\n",
    "\\frac{\\partial \\Delta}{\\partial \\theta} = 0\n",
    "\\end{equation}\n",
    "and \n",
    "\\begin{equation}\n",
    "\\frac{\\partial \\Sigma}{\\partial \\theta} = -2a^2 \\cos \\theta \\sin \\theta ,\n",
    "\\end{equation}\n",
    "we have the derivatives\n",
    "\\begin{align}\n",
    "\\frac{\\partial}{\\partial \\theta}\\left( \\frac{\\Delta}{2\\Sigma}\\right) &= - \\frac{\\Delta}{2\\Sigma^2} \\frac{\\partial \\Sigma}{\\partial \\theta} =  \\frac{\\Delta}{\\Sigma^2} a^2 \\cos \\theta \\sin \\theta \\\\\n",
    "\\frac{\\partial}{\\partial \\theta}\\left( \\frac{1}{2\\Sigma}\\right) &= - \\frac{1}{2\\Sigma^2} \\frac{\\partial \\Sigma}{\\partial \\theta} =  \\frac{a^2 \\cos \\theta \\sin \\theta}{\\Sigma^2}  \\\\\n",
    "\\frac{\\partial}{\\partial \\theta}\\left( \\frac{\\Xi}{2\\Delta \\Sigma}\\right) &= \\frac{1}{2\\Delta\\Sigma} \\frac{\\partial \\Xi}{\\partial \\theta} - \\frac{\\Xi}{2\\Delta\\Sigma^2} \\frac{\\partial \\Sigma}{\\partial \\theta} \\nonumber \\\\\n",
    "&= \\frac{1}{2\\Delta\\Sigma} \\left[ 2\\Delta a^2 (1-E^2) \\cos \\theta \\sin \\theta + 2\\Delta L^2 \\cot \\theta \\csc ^2 \\theta \\right] + \\frac{\\Xi}{\\Delta\\Sigma^2} a^2 \\cos \\theta \\sin \\theta \\nonumber \\\\\n",
    "&= \\frac{1}{\\Sigma} \\left[  a^2 (1-E^2) \\cos \\theta \\sin \\theta + L^2 \\cot \\theta \\csc ^2 \\theta \\right] + \\frac{\\Xi}{\\Delta\\Sigma^2} a^2 \\cos \\theta \\sin \\theta \n",
    "\\end{align}"
   ]
  },
  {
   "cell_type": "code",
   "execution_count": 3,
   "metadata": {},
   "outputs": [],
   "source": [
    "def geodesics(q, tau):\n",
    "    '''\n",
    "    This function contains the geodesic equations \n",
    "    from the Hamilton-Jacobi formulation for the Kerr metric\n",
    "    '''\n",
    "    # Coordinates and momentum components\n",
    "    t = q[0]\n",
    "    r = q[1]\n",
    "    theta = q[2]\n",
    "    phi = q[3]\n",
    "    p_t = q[4]\n",
    "    p_r = q[5]\n",
    "    p_th = q[6]\n",
    "    p_phi = q[7]\n",
    "\n",
    "    # Conserved Quantities\n",
    "    E = - p_t\n",
    "    L = p_phi\n",
    "    \n",
    "    # Auxiliar Functions\n",
    "    Sigma = r**2 + a**2 * np.cos(theta)**2\n",
    "    Delta = r**2 - 2.*M*r + a**2\n",
    "\n",
    "    W = E*(r**2 + a**2) - a*L \n",
    "    partXi = r**2 + (L - a*E)**2 + a**2 *(1 - E**2)*np.cos(theta)**2 + (L*np.cos(theta)/np.sin(theta))**2\n",
    "    Xi = W**2 - Delta*partXi\n",
    "\n",
    "    dXidE = 2.*W*(r**2 + a**2) + 2.*a*Delta*(L - a*E*np.sin(theta)**2)\n",
    "    dXidL = -2.*a*W + 2.*a*E*Delta - 2.*L*Delta/(np.sin(theta)**2)\n",
    "\n",
    "    dXidr = 4.*r*E*W - 2.*(r - M)*partXi - 2.*r*Delta \n",
    "\n",
    "    dAdr = (r - M)/Sigma - (r*Delta)/(Sigma**2)\n",
    "    dBdr = -r/Sigma**2\n",
    "    dCdr = dXidr/(2.*Delta*Sigma) - (Xi*(r-M))/(Sigma*Delta**2) - r*Xi/(Delta*Sigma**2)\n",
    "\n",
    "    auxth = (a**2) * np.cos(theta)*np.sin(theta)\n",
    "\n",
    "    dAdth = Delta*auxth/(Sigma**2)\n",
    "    dBdth = auxth/(Sigma**2)\n",
    "    dCdth = ((1-E**2)*auxth + L**2 * np.cos(theta)/(np.sin(theta)**3) )/Sigma + (Xi/(Delta*Sigma**2))*auxth\n",
    "\n",
    "\n",
    "\n",
    "    # Geodesics differential equations \n",
    "    dtdtau = dXidE/(2.*Delta*Sigma)\n",
    "    drdtau = (Delta/Sigma)*p_r\n",
    "    dthdtau = p_th/Sigma\n",
    "    dphidtau = - dXidL/(2.*Delta*Sigma)\n",
    "    \n",
    "    dp_tdtau = 0.\n",
    "    dp_rdtau = -dAdr*p_r**2 - dBdr*p_th**2 + dCdr \n",
    "    dp_thdtau = -dAdth*p_r**2 - dBdth*p_th**2 + dCdth \n",
    "    dp_phidtau = 0.\n",
    "\n",
    "    return [dtdtau, drdtau, dthdtau, dphidtau,\n",
    "            dp_tdtau, dp_rdtau, dp_thdtau, dp_phidtau]"
   ]
  },
  {
   "cell_type": "markdown",
   "metadata": {},
   "source": [
    "### Initial Conditions\n",
    "\n",
    "Given the intial values $x^\\mu_0 = [0,r_0,\\theta_0,\\phi_0]$ and $\\vec{k}_0 = [k^t_0,k^r_0, k^\\theta_0,k^\\phi_0]$, this function will give the initial conditions vector $[0,r_0,\\theta_0,\\phi_0, (k_t)_0, (k_r)_0, (k_\\theta)_0, (k_\\phi)_0]$ to use in the integration algorithm."
   ]
  },
  {
   "cell_type": "code",
   "execution_count": 4,
   "metadata": {},
   "outputs": [],
   "source": [
    "def initCond(x, p, metric):\n",
    "    '''\n",
    "    Given the initial conditions (x,k)\n",
    "    this function returns the list\n",
    "    [t, r, theta, phi, k_t, k_r, k_theta, k_phi] \n",
    "    with the initial conditions needed to solve \n",
    "    the geodesic equations \n",
    "    (with the covariant components of the momentum vector)\n",
    "    '''\n",
    "    \n",
    "    # Coordinates and momentum components\n",
    "    t = x[0]\n",
    "    r = x[1]\n",
    "    theta = x[2]\n",
    "    phi = x[3]\n",
    "    \n",
    "    pr = p[0]\n",
    "    pth = p[1]\n",
    "    pphi = p[2]\n",
    "    \n",
    "    g = metric(x)\n",
    "    \n",
    "    # Metric components\n",
    "    g_tt = g[0]\n",
    "    g_rr = g[1]\n",
    "    g_thth = g[2]\n",
    "    g_phph = g[3]\n",
    "    g_tphi = g[4]\n",
    "    \n",
    "    pt = (-g_tphi*pphi + np.sqrt((g_tphi*pphi)**2 - g_tt*(delta + g_rr*pr**2 + g_thth*pth**2 + g_phph*pphi**2)))/g_tt\n",
    "    \n",
    "    # Lower k-indices\n",
    "    p_t = g_tt*pt + g_tphi*pphi\n",
    "    p_r = g_rr*pr\n",
    "    p_th = g_thth*pth\n",
    "    p_phi = g_phph*pphi + g_tphi*pt\n",
    "    \n",
    "    return [t, r, theta, phi, p_t, p_r, p_th, p_phi]"
   ]
  },
  {
   "cell_type": "markdown",
   "metadata": {},
   "source": [
    "### Plot\n",
    "\n",
    "We implement two plotting functions,"
   ]
  },
  {
   "cell_type": "code",
   "execution_count": 5,
   "metadata": {},
   "outputs": [],
   "source": [
    "def plot(sol, ps=False, ISCO=False):\n",
    "    indx = len(sol[:,1])\n",
    "    for i in range(indx):\n",
    "        if sol[i,1]<EH+1e-2: \n",
    "            indx = i\n",
    "            break\n",
    "    x = sol[:indx,1]*np.cos(sol[:indx,3])\n",
    "    y = sol[:indx,1]*np.sin(sol[:indx,3])\n",
    "    \n",
    "    BH = plt.Circle((0, 0), EH, color='k')\n",
    "    ps = plt.Circle((0, 0), 3*M, fill=False, linestyle=':', label='Photon Sphere')\n",
    "    ISCO = plt.Circle((0, 0), 6*M, fill=False, linestyle='--', label='ISCO')\n",
    "    \n",
    "    fig = plt.figure()\n",
    "    ax = fig.add_subplot(111, aspect='equal')\n",
    "    ax.plot(x,y, color='crimson', label='Test particle')\n",
    "    ax.add_patch(BH)\n",
    "    if ps==True:\n",
    "        ax.add_patch(ps)\n",
    "    if ISCO==True:\n",
    "        ax.add_patch(ISCO)\n",
    "    ax.set_xlim(-20,20)\n",
    "    ax.set_ylim(-20,20)\n",
    "    ax.set_xlabel(r'$x$')\n",
    "    ax.set_ylabel(r'$y$')\n",
    "    ax.grid(alpha=0.2)\n",
    "    ax.axvline(0, c='k', alpha=0.1)\n",
    "    ax.axhline(0, c='k', alpha=0.1)\n",
    "    plt.legend()\n",
    "    plt.show()\n",
    "\n"
   ]
  },
  {
   "cell_type": "markdown",
   "metadata": {},
   "source": [
    "---\n",
    "## Integration of the Equations of Motion"
   ]
  },
  {
   "cell_type": "code",
   "execution_count": 10,
   "metadata": {
    "scrolled": false
   },
   "outputs": [
    {
     "data": {
      "image/png": "[encoded data removed]",
      "text/plain": [
       "<Figure size 640x480 with 1 Axes>"
      ]
     },
     "metadata": {},
     "output_type": "display_data"
    }
   ],
   "source": [
    "M = 1\n",
    "a = 0.\n",
    "delta = 0\n",
    "\n",
    "# Event Horizon\n",
    "EH = M + np.sqrt(M**2 - a**2)\n",
    "\n",
    "# Initial Conditions\n",
    "t0 = 0.\n",
    "r0 = 4.\n",
    "theta0 = np.pi/2\n",
    "phi0 = 0.\n",
    "\n",
    "pr0 = 0.\n",
    "pth0 = 0.\n",
    "pphi0 = 1.\n",
    "\n",
    "x = [t0, r0, theta0, phi0]\n",
    "p = [pr0, pth0,pphi0]\n",
    "\n",
    "\n",
    "ic = initCond(x, p, g)\n",
    "\n",
    "lmbda = np.linspace(0,40,400)\n",
    "\n",
    "sol = odeint(geodesics, ic, lmbda)\n",
    "plot(sol)"
   ]
  },
  {
   "cell_type": "code",
   "execution_count": 12,
   "metadata": {},
   "outputs": [
    {
     "data": {
      "image/png": "[encoded data removed]",
      "text/plain": [
       "<Figure size 640x480 with 1 Axes>"
      ]
     },
     "metadata": {},
     "output_type": "display_data"
    }
   ],
   "source": [
    "M = 1\n",
    "a = 0.99\n",
    "delta = 1\n",
    "\n",
    "# Event Horizon\n",
    "EH = M + np.sqrt(M**2 - a**2)\n",
    "\n",
    "# Initial Conditions\n",
    "t0 = 0.\n",
    "r0 = 15.\n",
    "theta0 = np.pi/2\n",
    "phi0 = 0.\n",
    "\n",
    "pr0 = - 0.1\n",
    "pth0 = 0.\n",
    "pphi0 = 0.\n",
    "\n",
    "x = [t0, r0, theta0, phi0]\n",
    "p = [pr0, pth0,pphi0]\n",
    "\n",
    "\n",
    "ic = initCond(x, p, g)\n",
    "\n",
    "lmbda = np.linspace(0,100,100000)\n",
    "\n",
    "sol = odeint(geodesics, ic, lmbda)\n",
    "plot(sol)"
   ]
  },
  {
   "cell_type": "markdown",
   "metadata": {},
   "source": [
    "## Photon Sphere and the Shadow of the Black Hole"
   ]
  },
  {
   "cell_type": "code",
   "execution_count": 53,
   "metadata": {},
   "outputs": [
    {
     "data": {
      "image/png": "[encoded data removed]",
      "text/plain": [
       "<Figure size 640x480 with 1 Axes>"
      ]
     },
     "metadata": {},
     "output_type": "display_data"
    }
   ],
   "source": [
    "M = 1\n",
    "a=0.99\n",
    "delta = 0\n",
    "\n",
    "# Event Horizon\n",
    "EH = M + np.sqrt(M**2 - a**2)\n",
    "\n",
    "# Initial Conditions\n",
    "t0 = 0.\n",
    "theta0 = np.pi/2\n",
    "kth0 = 0.\n",
    "\n",
    "x0 = 20\n",
    "y0 = 8\n",
    "r0 = np.sqrt(x0**2 + y0**2)\n",
    "phi0 = np.arctan(y0/x0)\n",
    "\n",
    "v0 = 1\n",
    "kr0 = -v0*np.cos(phi0)\n",
    "kphi0 = v0*np.sin(phi0)/r0\n",
    "\n",
    "x = [t0, r0, theta0, phi0]\n",
    "k = [kr0, kth0, kphi0]\n",
    "\n",
    "ic = initCond(x, k, g)\n",
    "\n",
    "sol = odeint(geodesics, ic, lmbda)\n",
    "plot(sol)"
   ]
  },
  {
   "cell_type": "code",
   "execution_count": 54,
   "metadata": {},
   "outputs": [
    {
     "data": {
      "image/png": "[encoded data removed]",
      "text/plain": [
       "<Figure size 640x480 with 1 Axes>"
      ]
     },
     "metadata": {},
     "output_type": "display_data"
    }
   ],
   "source": [
    "def plotmany(p_coords):\n",
    "    BH = plt.Circle((0, 0), 2*M, color='k')\n",
    "    ps = plt.Circle((0, 0), 3*M, fill=False, linestyle=':', label='Photon Sphere')\n",
    "    fig = plt.figure()\n",
    "    ax = fig.add_subplot(111, aspect='equal')\n",
    "    ax.add_patch(BH)\n",
    "    ax.add_patch(ps)\n",
    "    \n",
    "    lmbda = np.linspace(0,60,500)\n",
    "    for p in p_coords:\n",
    "        color = 'crimson'\n",
    "        sol = odeint(geodesics, p, lmbda)\n",
    "        indx = len(sol[:,1])\n",
    "        for i in range(indx):\n",
    "            if sol[i,1]<2.+1e-10: \n",
    "                indx = i\n",
    "                color = 'black'\n",
    "                break\n",
    "        x = sol[:indx,1]*np.cos(sol[:indx,3])\n",
    "        y = sol[:indx,1]*np.sin(sol[:indx,3])\n",
    "        ax.plot(x,y, color=color)\n",
    "\n",
    "    ax.set_xlim(-20,20)\n",
    "    ax.set_ylim(-20,20)\n",
    "    ax.set_xlabel(r'$x$')\n",
    "    ax.set_ylabel(r'$y$')\n",
    "    ax.grid(alpha=0.2)\n",
    "    ax.axvline(0, c='k', alpha=0.1)\n",
    "    ax.axhline(0, c='k', alpha=0.1)\n",
    "    plt.legend()\n",
    "    plt.show()\n",
    "\n",
    "    \n",
    "M = 1\n",
    "a= 0.99\n",
    "delta = 0\n",
    "\n",
    "# Event Horizon\n",
    "EH = M + np.sqrt(M**2 - a**2)\n",
    "\n",
    "\n",
    "t0 = 0.\n",
    "theta0 = np.pi/2\n",
    "kth0 = 0.\n",
    "\n",
    "yy = [0,1,2,3,4,5.181,6,7,8]\n",
    "p_coords = []\n",
    "\n",
    "# Initial Conditions\n",
    "for y0 in yy:\n",
    "    x0 = 20\n",
    "    \n",
    "    r0 = np.sqrt(x0**2 + y0**2)\n",
    "    phi0 = np.arctan(y0/x0)\n",
    "\n",
    "    v0 = 1\n",
    "    kr0 = -v0*np.cos(phi0)\n",
    "    kphi0 = v0*np.sin(phi0)/r0\n",
    "\n",
    "    x = [t0, r0, theta0, phi0]\n",
    "    k = [kr0, kth0, kphi0]\n",
    "\n",
    "    ic = initCond(x, k, g)\n",
    "    p_coords.append(ic)\n",
    "\n",
    "    \n",
    "plotmany(p_coords)"
   ]
  },
  {
   "cell_type": "code",
   "execution_count": null,
   "metadata": {},
   "outputs": [],
   "source": []
  },
  {
   "cell_type": "code",
   "execution_count": 9,
   "metadata": {},
   "outputs": [],
   "source": [
    "def geodesics(q, tau):\n",
    "    '''\n",
    "    This function contains the geodesic equations \n",
    "    in Hamiltonian form for the Schwarzschild metric\n",
    "    '''\n",
    "    # Coordinates and momentum components\n",
    "    t = q[0]\n",
    "    r = q[1]\n",
    "    theta = q[2]\n",
    "    phi = q[3]\n",
    "    k_t = q[4]\n",
    "    k_r = q[5]\n",
    "    k_th = q[6]\n",
    "    k_phi = q[7]\n",
    "\n",
    "    # Conserved Quantities\n",
    "    E = - k_t\n",
    "    L = k_phi\n",
    "\n",
    "    # Geodesics differential equations \n",
    "    dtdtau = E*r**2./(r**2 - 2.*M*r)\n",
    "    drdtau = (1. - 2.*M/r)*k_r\n",
    "    dthdtau = k_th/r**2\n",
    "    dphidtau = L/((r**2)*np.sin(theta)**2)\n",
    "    \n",
    "    dk_tdtau = 0.\n",
    "    dk_rdtau = -M*(k_r**2/r**2) + k_th**2/r**3 + L**2/((r**3)*np.sin(theta)**2) - M*(E**2/(r-2.*M)**2) \n",
    "    dk_thdtau = (np.cos(theta)/np.sin(theta)**3)*(L**2/r**2)\n",
    "    dk_phidtau = 0.\n",
    "    \n",
    "\n",
    "    return [dtdtau, drdtau, dthdtau, dphidtau, \n",
    "              dk_tdtau, dk_rdtau, dk_thdtau, dk_phidtau]"
   ]
  }
 ],
 "metadata": {
  "@webio": {
   "lastCommId": null,
   "lastKernelId": null
  },
  "colab": {
   "collapsed_sections": [],
   "name": "PDE05.ipynb",
   "provenance": []
  },
  "kernelspec": {
   "display_name": "Python 3 (ipykernel)",
   "language": "python",
   "name": "python3"
  },
  "language_info": {
   "codemirror_mode": {
    "name": "ipython",
    "version": 3
   },
   "file_extension": ".py",
   "mimetype": "text/x-python",
   "name": "python",
   "nbconvert_exporter": "python",
   "pygments_lexer": "ipython3",
   "version": "3.10.9"
  }
 },
 "nbformat": 4,
 "nbformat_minor": 1
}
