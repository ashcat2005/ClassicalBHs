{
 "cells": [
  {
   "cell_type": "markdown",
   "metadata": {},
   "source": [
    "![Astrofisica Computacional](logo.png)"
   ]
  },
  {
   "cell_type": "markdown",
   "metadata": {},
   "source": [
    "---\n",
    "\n",
    "Eduard Larrañaga (ealarranaga@unal.edu.co)\n",
    "\n",
    "---"
   ]
  },
  {
   "cell_type": "markdown",
   "metadata": {},
   "source": [
    "\n",
    "# Deduction of the  Schwarzschild Metric\n",
    "---\n",
    "\n",
    "## Abstract\n",
    "\n",
    "In this notebook we use  [SageMath](https://www.sagemath.org) and [SageManifolds](https://sagemanifolds.obspm.fr/index.html) to deduce the Schwarzschild metric from the Einstein's Field Equations.\n",
    "\n",
    "`This notebook was created using SageMath 9.`"
   ]
  },
  {
   "cell_type": "code",
   "execution_count": 1,
   "metadata": {},
   "outputs": [
    {
     "data": {
      "text/plain": [
       "'SageMath version 9.4, Release Date: 2021-08-22'"
      ]
     },
     "execution_count": 1,
     "metadata": {},
     "output_type": "execute_result"
    }
   ],
   "source": [
    "version()"
   ]
  },
  {
   "cell_type": "markdown",
   "metadata": {},
   "source": [
    "We will activate the mathematics visualization using LaTeX,"
   ]
  },
  {
   "cell_type": "code",
   "execution_count": 2,
   "metadata": {},
   "outputs": [],
   "source": [
    "%display latex"
   ]
  },
  {
   "cell_type": "markdown",
   "metadata": {},
   "source": [
    "## 1.  Manifold Definition\n",
    "\n",
    "The spacetime will be defined as a 4-dimensional Lorentzian manifold,"
   ]
  },
  {
   "cell_type": "code",
   "execution_count": 3,
   "metadata": {},
   "outputs": [
    {
     "name": "stdout",
     "output_type": "stream",
     "text": [
      "4-dimensional Lorentzian manifold MU\n"
     ]
    }
   ],
   "source": [
    "MU = Manifold(4, 'MU', structure='Lorentzian')\n",
    "print(MU)"
   ]
  },
  {
   "cell_type": "markdown",
   "metadata": {},
   "source": [
    "### 1.1. Standard Coordinates \n",
    "\n",
    "We introduce spherical standard coordinates (**Schwarzschild-Droste coordinates**) using the method `.chart()` of the manifold object `MU`. The argument in this method is a text string defining each coordinate and its corresponding range, if it is different from $(-\\infty, +\\infty)$. We also include the LaTeX symbol representing the coordinate.\n",
    "\n",
    "Note that the `Python` variables that will represent each coordinate are decalred inside the symbol `<...>` in the left hand side. The variable `X` will denote the coordinate chart."
   ]
  },
  {
   "cell_type": "code",
   "execution_count": 4,
   "metadata": {},
   "outputs": [
    {
     "data": {
      "text/html": [
       "<html>\\[\\newcommand{\\Bold}[1]{\\mathbf{#1}}\\left(MU,(t, r, {\\theta}, {\\phi})\\right)\\]</html>"
      ],
      "text/latex": [
       "$$\\newcommand{\\Bold}[1]{\\mathbf{#1}}\\left(MU,(t, r, {\\theta}, {\\phi})\\right)$$"
      ],
      "text/plain": [
       "Chart (MU, (t, r, th, ph))"
      ]
     },
     "execution_count": 4,
     "metadata": {},
     "output_type": "execute_result"
    }
   ],
   "source": [
    "X.<t,r,th,ph> = MU.chart(r\"t r:(0,+oo) th:(0,pi):\\theta ph:(0,2*pi):\\phi\")\n",
    "X"
   ]
  },
  {
   "cell_type": "markdown",
   "metadata": {},
   "source": [
    "It is possible the access the coordinates using the usual format of arrays,"
   ]
  },
  {
   "cell_type": "code",
   "execution_count": 5,
   "metadata": {
    "scrolled": true
   },
   "outputs": [
    {
     "data": {
      "text/html": [
       "<html>\\[\\newcommand{\\Bold}[1]{\\mathbf{#1}}\\left(t, r, {\\theta}, {\\phi}\\right)\\]</html>"
      ],
      "text/latex": [
       "$$\\newcommand{\\Bold}[1]{\\mathbf{#1}}\\left(t, r, {\\theta}, {\\phi}\\right)$$"
      ],
      "text/plain": [
       "(t, r, th, ph)"
      ]
     },
     "execution_count": 5,
     "metadata": {},
     "output_type": "execute_result"
    }
   ],
   "source": [
    "X[:]"
   ]
  },
  {
   "cell_type": "code",
   "execution_count": 6,
   "metadata": {},
   "outputs": [
    {
     "data": {
      "text/html": [
       "<html>\\[\\newcommand{\\Bold}[1]{\\mathbf{#1}}\\left(t, {\\phi}\\right)\\]</html>"
      ],
      "text/latex": [
       "$$\\newcommand{\\Bold}[1]{\\mathbf{#1}}\\left(t, {\\phi}\\right)$$"
      ],
      "text/plain": [
       "(t, ph)"
      ]
     },
     "execution_count": 6,
     "metadata": {},
     "output_type": "execute_result"
    }
   ],
   "source": [
    "X[0], X[3]"
   ]
  },
  {
   "cell_type": "markdown",
   "metadata": {},
   "source": [
    "## 2. Metric Tensor \n",
    "\n",
    "In order to deduce the Schwarzschild metric, we will propose the following form for the line element that ensures the spherical symmetry,\n",
    "\n",
    "\\begin{equation}\n",
    "ds^2 = - A(r) dt^2 + B(r) dr^2 + r^2 d\\theta^2 + r^2 \\sin^2 \\theta d\\phi^2.\n",
    "\\end{equation}\n",
    "\n",
    "In order to define this line element, we need to declare the functions  $A(r)$ y $B(r)$ using the command `function()`,"
   ]
  },
  {
   "cell_type": "code",
   "execution_count": 7,
   "metadata": {},
   "outputs": [],
   "source": [
    "A = function('A')(r)\n",
    "B = function('B')(r)"
   ]
  },
  {
   "cell_type": "markdown",
   "metadata": {},
   "source": [
    "Now, we use  the method `.metric()` of the manifold object and we initialize its components in the chart `X`, which is the default chart (and in this case the only chart) for `MU`. The method `.display()` shows the metric tensor."
   ]
  },
  {
   "cell_type": "code",
   "execution_count": 8,
   "metadata": {},
   "outputs": [
    {
     "data": {
      "text/html": [
       "<html>\\[\\newcommand{\\Bold}[1]{\\mathbf{#1}}g = -A\\left(r\\right) \\mathrm{d} t\\otimes \\mathrm{d} t + B\\left(r\\right) \\mathrm{d} r\\otimes \\mathrm{d} r + r^{2} \\mathrm{d} {\\theta}\\otimes \\mathrm{d} {\\theta} + r^{2} \\sin\\left({\\theta}\\right)^{2} \\mathrm{d} {\\phi}\\otimes \\mathrm{d} {\\phi}\\]</html>"
      ],
      "text/latex": [
       "$$\\newcommand{\\Bold}[1]{\\mathbf{#1}}g = -A\\left(r\\right) \\mathrm{d} t\\otimes \\mathrm{d} t + B\\left(r\\right) \\mathrm{d} r\\otimes \\mathrm{d} r + r^{2} \\mathrm{d} {\\theta}\\otimes \\mathrm{d} {\\theta} + r^{2} \\sin\\left({\\theta}\\right)^{2} \\mathrm{d} {\\phi}\\otimes \\mathrm{d} {\\phi}$$"
      ],
      "text/plain": [
       "g = -A(r) dt⊗dt + B(r) dr⊗dr + r^2 dth⊗dth + r^2*sin(th)^2 dph⊗dph"
      ]
     },
     "execution_count": 8,
     "metadata": {},
     "output_type": "execute_result"
    }
   ],
   "source": [
    "g = MU.metric()\n",
    "\n",
    "g[0,0] = -A\n",
    "g[1,1] = B\n",
    "g[2,2] = r^2\n",
    "g[3,3] = (r*sin(th))^2\n",
    "\n",
    "g.display()"
   ]
  },
  {
   "cell_type": "markdown",
   "metadata": {},
   "source": [
    "It is also possible to show the components of the metric tensor as an array,"
   ]
  },
  {
   "cell_type": "code",
   "execution_count": 9,
   "metadata": {},
   "outputs": [
    {
     "data": {
      "text/html": [
       "<html>\\[\\newcommand{\\Bold}[1]{\\mathbf{#1}}\\left(\\begin{array}{rrrr}\n",
       "-A\\left(r\\right) & 0 & 0 & 0 \\\\\n",
       "0 & B\\left(r\\right) & 0 & 0 \\\\\n",
       "0 & 0 & r^{2} & 0 \\\\\n",
       "0 & 0 & 0 & r^{2} \\sin\\left({\\theta}\\right)^{2}\n",
       "\\end{array}\\right)\\]</html>"
      ],
      "text/latex": [
       "$$\\newcommand{\\Bold}[1]{\\mathbf{#1}}\\left(\\begin{array}{rrrr}\n",
       "-A\\left(r\\right) & 0 & 0 & 0 \\\\\n",
       "0 & B\\left(r\\right) & 0 & 0 \\\\\n",
       "0 & 0 & r^{2} & 0 \\\\\n",
       "0 & 0 & 0 & r^{2} \\sin\\left({\\theta}\\right)^{2}\n",
       "\\end{array}\\right)$$"
      ],
      "text/plain": [
       "[        -A(r)             0             0             0]\n",
       "[            0          B(r)             0             0]\n",
       "[            0             0           r^2             0]\n",
       "[            0             0             0 r^2*sin(th)^2]"
      ]
     },
     "execution_count": 9,
     "metadata": {},
     "output_type": "execute_result"
    }
   ],
   "source": [
    "g[:]"
   ]
  },
  {
   "cell_type": "markdown",
   "metadata": {},
   "source": [
    "It is also possible to access each of the components as"
   ]
  },
  {
   "cell_type": "code",
   "execution_count": 10,
   "metadata": {},
   "outputs": [
    {
     "data": {
      "text/html": [
       "<html>\\[\\newcommand{\\Bold}[1]{\\mathbf{#1}}B\\left(r\\right)\\]</html>"
      ],
      "text/latex": [
       "$$\\newcommand{\\Bold}[1]{\\mathbf{#1}}B\\left(r\\right)$$"
      ],
      "text/plain": [
       "B(r)"
      ]
     },
     "execution_count": 10,
     "metadata": {},
     "output_type": "execute_result"
    }
   ],
   "source": [
    "g[1,1]"
   ]
  },
  {
   "cell_type": "markdown",
   "metadata": {},
   "source": [
    "### 2.1. Inverse of the Metric Tensor\n",
    "\n",
    "The inverse of the metric tensor is obtained using the method `.inverse()` or by using the method `.up()` to raise the indices of the metric tensor."
   ]
  },
  {
   "cell_type": "code",
   "execution_count": 11,
   "metadata": {},
   "outputs": [
    {
     "data": {
      "text/html": [
       "<html>\\[\\newcommand{\\Bold}[1]{\\mathbf{#1}}g^{-1}\\]</html>"
      ],
      "text/latex": [
       "$$\\newcommand{\\Bold}[1]{\\mathbf{#1}}g^{-1}$$"
      ],
      "text/plain": [
       "Tensor field inv_g of type (2,0) on the 4-dimensional Lorentzian manifold MU"
      ]
     },
     "execution_count": 11,
     "metadata": {},
     "output_type": "execute_result"
    }
   ],
   "source": [
    "# guu = g.up(g) # Can be defined by rising the indices\n",
    "guu = g.inverse()\n",
    "guu"
   ]
  },
  {
   "cell_type": "code",
   "execution_count": 12,
   "metadata": {},
   "outputs": [
    {
     "data": {
      "text/html": [
       "<html>\\[\\newcommand{\\Bold}[1]{\\mathbf{#1}}g^{-1} = -\\frac{1}{A\\left(r\\right)} \\frac{\\partial}{\\partial t }\\otimes \\frac{\\partial}{\\partial t } + \\frac{1}{B\\left(r\\right)} \\frac{\\partial}{\\partial r }\\otimes \\frac{\\partial}{\\partial r } + \\frac{1}{r^{2}} \\frac{\\partial}{\\partial {\\theta} }\\otimes \\frac{\\partial}{\\partial {\\theta} } + \\frac{1}{r^{2} \\sin\\left({\\theta}\\right)^{2}} \\frac{\\partial}{\\partial {\\phi} }\\otimes \\frac{\\partial}{\\partial {\\phi} }\\]</html>"
      ],
      "text/latex": [
       "$$\\newcommand{\\Bold}[1]{\\mathbf{#1}}g^{-1} = -\\frac{1}{A\\left(r\\right)} \\frac{\\partial}{\\partial t }\\otimes \\frac{\\partial}{\\partial t } + \\frac{1}{B\\left(r\\right)} \\frac{\\partial}{\\partial r }\\otimes \\frac{\\partial}{\\partial r } + \\frac{1}{r^{2}} \\frac{\\partial}{\\partial {\\theta} }\\otimes \\frac{\\partial}{\\partial {\\theta} } + \\frac{1}{r^{2} \\sin\\left({\\theta}\\right)^{2}} \\frac{\\partial}{\\partial {\\phi} }\\otimes \\frac{\\partial}{\\partial {\\phi} }$$"
      ],
      "text/plain": [
       "inv_g = -1/A(r) ∂/∂t⊗∂/∂t + 1/B(r) ∂/∂r⊗∂/∂r + r^(-2) ∂/∂th⊗∂/∂th + 1/(r^2*sin(th)^2) ∂/∂ph⊗∂/∂ph"
      ]
     },
     "execution_count": 12,
     "metadata": {},
     "output_type": "execute_result"
    }
   ],
   "source": [
    "guu.display()"
   ]
  },
  {
   "cell_type": "code",
   "execution_count": 13,
   "metadata": {},
   "outputs": [
    {
     "data": {
      "text/html": [
       "<html>\\[\\newcommand{\\Bold}[1]{\\mathbf{#1}}\\left(\\begin{array}{rrrr}\n",
       "-\\frac{1}{A\\left(r\\right)} & 0 & 0 & 0 \\\\\n",
       "0 & \\frac{1}{B\\left(r\\right)} & 0 & 0 \\\\\n",
       "0 & 0 & \\frac{1}{r^{2}} & 0 \\\\\n",
       "0 & 0 & 0 & \\frac{1}{r^{2} \\sin\\left({\\theta}\\right)^{2}}\n",
       "\\end{array}\\right)\\]</html>"
      ],
      "text/latex": [
       "$$\\newcommand{\\Bold}[1]{\\mathbf{#1}}\\left(\\begin{array}{rrrr}\n",
       "-\\frac{1}{A\\left(r\\right)} & 0 & 0 & 0 \\\\\n",
       "0 & \\frac{1}{B\\left(r\\right)} & 0 & 0 \\\\\n",
       "0 & 0 & \\frac{1}{r^{2}} & 0 \\\\\n",
       "0 & 0 & 0 & \\frac{1}{r^{2} \\sin\\left({\\theta}\\right)^{2}}\n",
       "\\end{array}\\right)$$"
      ],
      "text/plain": [
       "[          -1/A(r)                 0                 0                 0]\n",
       "[                0            1/B(r)                 0                 0]\n",
       "[                0                 0            r^(-2)                 0]\n",
       "[                0                 0                 0 1/(r^2*sin(th)^2)]"
      ]
     },
     "execution_count": 13,
     "metadata": {},
     "output_type": "execute_result"
    }
   ],
   "source": [
    "guu[:]"
   ]
  },
  {
   "cell_type": "markdown",
   "metadata": {},
   "source": [
    "### 2.2. Delta Function\n",
    "\n",
    "We define the Delta tnesor ( or identity tensor), $\\delta^\\mu _\\nu = g^\\mu _\\nu$, using the contraction of indices represented by the operator `*`,"
   ]
  },
  {
   "cell_type": "code",
   "execution_count": 14,
   "metadata": {},
   "outputs": [
    {
     "data": {
      "text/html": [
       "<html>\\[\\newcommand{\\Bold}[1]{\\mathbf{#1}}\\left(\\begin{array}{rrrr}\n",
       "1 & 0 & 0 & 0 \\\\\n",
       "0 & 1 & 0 & 0 \\\\\n",
       "0 & 0 & 1 & 0 \\\\\n",
       "0 & 0 & 0 & 1\n",
       "\\end{array}\\right)\\]</html>"
      ],
      "text/latex": [
       "$$\\newcommand{\\Bold}[1]{\\mathbf{#1}}\\left(\\begin{array}{rrrr}\n",
       "1 & 0 & 0 & 0 \\\\\n",
       "0 & 1 & 0 & 0 \\\\\n",
       "0 & 0 & 1 & 0 \\\\\n",
       "0 & 0 & 0 & 1\n",
       "\\end{array}\\right)$$"
      ],
      "text/plain": [
       "[1 0 0 0]\n",
       "[0 1 0 0]\n",
       "[0 0 1 0]\n",
       "[0 0 0 1]"
      ]
     },
     "execution_count": 14,
     "metadata": {},
     "output_type": "execute_result"
    }
   ],
   "source": [
    "delta = g['_{ab}']*guu['^{bc}']\n",
    "delta[:]"
   ]
  },
  {
   "cell_type": "markdown",
   "metadata": {},
   "source": [
    "## 3. Einstein's Field Equations\n",
    "\n",
    "Einstein's Field Equations are given by\n",
    "\n",
    "\\begin{equation}\n",
    "G_{\\mu \\nu} = R_{\\mu \\nu} - \\frac{1}{2} g_{\\mu \\nu} R = \\frac{8\\pi G}{c^4} T_{\\mu \\nu}\n",
    "\\end{equation}\n",
    "\n",
    "Since Schwarzschild metric is a solution of the Field Equations in vacuum, i.e. $T_{\\mu \\nu} =0$, we have\n",
    "\n",
    "\\begin{equation}\n",
    "G_{\\mu \\nu} = R_{\\mu \\nu} - \\frac{1}{2} g_{\\mu \\nu} R = 0.\n",
    "\\end{equation}\n",
    "\n",
    "\n",
    "\n",
    "### 3.1. Ricci Tensor\n",
    "\n",
    "We obtain the Ricci tnesor using the method `.ricci()` of the metric object,"
   ]
  },
  {
   "cell_type": "code",
   "execution_count": 15,
   "metadata": {},
   "outputs": [
    {
     "data": {
      "text/html": [
       "<html>\\[\\newcommand{\\Bold}[1]{\\mathbf{#1}}\\mathrm{Ric}\\left(g\\right)\\]</html>"
      ],
      "text/latex": [
       "$$\\newcommand{\\Bold}[1]{\\mathbf{#1}}\\mathrm{Ric}\\left(g\\right)$$"
      ],
      "text/plain": [
       "Field of symmetric bilinear forms Ric(g) on the 4-dimensional Lorentzian manifold MU"
      ]
     },
     "execution_count": 15,
     "metadata": {},
     "output_type": "execute_result"
    }
   ],
   "source": [
    "Ricci = g.ricci()\n",
    "Ricci"
   ]
  },
  {
   "cell_type": "code",
   "execution_count": 16,
   "metadata": {},
   "outputs": [
    {
     "data": {
      "text/html": [
       "<html>\\[\\newcommand{\\Bold}[1]{\\mathbf{#1}}\\mathrm{Ric}\\left(g\\right) = \\left( -\\frac{r B\\left(r\\right) \\left(\\frac{\\partial\\,A}{\\partial r}\\right)^{2} - 2 \\, r A\\left(r\\right) B\\left(r\\right) \\frac{\\partial^2\\,A}{\\partial r ^ 2} + r A\\left(r\\right) \\frac{\\partial\\,A}{\\partial r} \\frac{\\partial\\,B}{\\partial r} - 4 \\, A\\left(r\\right) B\\left(r\\right) \\frac{\\partial\\,A}{\\partial r}}{4 \\, r A\\left(r\\right) B\\left(r\\right)^{2}} \\right) \\mathrm{d} t\\otimes \\mathrm{d} t + \\left( \\frac{r B\\left(r\\right) \\left(\\frac{\\partial\\,A}{\\partial r}\\right)^{2} - 2 \\, r A\\left(r\\right) B\\left(r\\right) \\frac{\\partial^2\\,A}{\\partial r ^ 2} + {\\left(r A\\left(r\\right) \\frac{\\partial\\,A}{\\partial r} + 4 \\, A\\left(r\\right)^{2}\\right)} \\frac{\\partial\\,B}{\\partial r}}{4 \\, r A\\left(r\\right)^{2} B\\left(r\\right)} \\right) \\mathrm{d} r\\otimes \\mathrm{d} r + \\left( \\frac{2 \\, A\\left(r\\right) B\\left(r\\right)^{2} - r B\\left(r\\right) \\frac{\\partial\\,A}{\\partial r} + r A\\left(r\\right) \\frac{\\partial\\,B}{\\partial r} - 2 \\, A\\left(r\\right) B\\left(r\\right)}{2 \\, A\\left(r\\right) B\\left(r\\right)^{2}} \\right) \\mathrm{d} {\\theta}\\otimes \\mathrm{d} {\\theta} + \\frac{{\\left(2 \\, A\\left(r\\right) B\\left(r\\right)^{2} - r B\\left(r\\right) \\frac{\\partial\\,A}{\\partial r} + r A\\left(r\\right) \\frac{\\partial\\,B}{\\partial r} - 2 \\, A\\left(r\\right) B\\left(r\\right)\\right)} \\sin\\left({\\theta}\\right)^{2}}{2 \\, A\\left(r\\right) B\\left(r\\right)^{2}} \\mathrm{d} {\\phi}\\otimes \\mathrm{d} {\\phi}\\]</html>"
      ],
      "text/latex": [
       "$$\\newcommand{\\Bold}[1]{\\mathbf{#1}}\\mathrm{Ric}\\left(g\\right) = \\left( -\\frac{r B\\left(r\\right) \\left(\\frac{\\partial\\,A}{\\partial r}\\right)^{2} - 2 \\, r A\\left(r\\right) B\\left(r\\right) \\frac{\\partial^2\\,A}{\\partial r ^ 2} + r A\\left(r\\right) \\frac{\\partial\\,A}{\\partial r} \\frac{\\partial\\,B}{\\partial r} - 4 \\, A\\left(r\\right) B\\left(r\\right) \\frac{\\partial\\,A}{\\partial r}}{4 \\, r A\\left(r\\right) B\\left(r\\right)^{2}} \\right) \\mathrm{d} t\\otimes \\mathrm{d} t + \\left( \\frac{r B\\left(r\\right) \\left(\\frac{\\partial\\,A}{\\partial r}\\right)^{2} - 2 \\, r A\\left(r\\right) B\\left(r\\right) \\frac{\\partial^2\\,A}{\\partial r ^ 2} + {\\left(r A\\left(r\\right) \\frac{\\partial\\,A}{\\partial r} + 4 \\, A\\left(r\\right)^{2}\\right)} \\frac{\\partial\\,B}{\\partial r}}{4 \\, r A\\left(r\\right)^{2} B\\left(r\\right)} \\right) \\mathrm{d} r\\otimes \\mathrm{d} r + \\left( \\frac{2 \\, A\\left(r\\right) B\\left(r\\right)^{2} - r B\\left(r\\right) \\frac{\\partial\\,A}{\\partial r} + r A\\left(r\\right) \\frac{\\partial\\,B}{\\partial r} - 2 \\, A\\left(r\\right) B\\left(r\\right)}{2 \\, A\\left(r\\right) B\\left(r\\right)^{2}} \\right) \\mathrm{d} {\\theta}\\otimes \\mathrm{d} {\\theta} + \\frac{{\\left(2 \\, A\\left(r\\right) B\\left(r\\right)^{2} - r B\\left(r\\right) \\frac{\\partial\\,A}{\\partial r} + r A\\left(r\\right) \\frac{\\partial\\,B}{\\partial r} - 2 \\, A\\left(r\\right) B\\left(r\\right)\\right)} \\sin\\left({\\theta}\\right)^{2}}{2 \\, A\\left(r\\right) B\\left(r\\right)^{2}} \\mathrm{d} {\\phi}\\otimes \\mathrm{d} {\\phi}$$"
      ],
      "text/plain": [
       "Ric(g) = -1/4*(r*B(r)*(d(A)/dr)^2 - 2*r*A(r)*B(r)*d^2(A)/dr^2 + r*A(r)*d(A)/dr*d(B)/dr - 4*A(r)*B(r)*d(A)/dr)/(r*A(r)*B(r)^2) dt⊗dt + 1/4*(r*B(r)*(d(A)/dr)^2 - 2*r*A(r)*B(r)*d^2(A)/dr^2 + (r*A(r)*d(A)/dr + 4*A(r)^2)*d(B)/dr)/(r*A(r)^2*B(r)) dr⊗dr + 1/2*(2*A(r)*B(r)^2 - r*B(r)*d(A)/dr + r*A(r)*d(B)/dr - 2*A(r)*B(r))/(A(r)*B(r)^2) dth⊗dth + 1/2*(2*A(r)*B(r)^2 - r*B(r)*d(A)/dr + r*A(r)*d(B)/dr - 2*A(r)*B(r))*sin(th)^2/(A(r)*B(r)^2) dph⊗dph"
      ]
     },
     "execution_count": 16,
     "metadata": {},
     "output_type": "execute_result"
    }
   ],
   "source": [
    "Ricci.display()"
   ]
  },
  {
   "cell_type": "code",
   "execution_count": 17,
   "metadata": {
    "scrolled": false
   },
   "outputs": [
    {
     "data": {
      "text/html": [
       "<html>\\[\\newcommand{\\Bold}[1]{\\mathbf{#1}}\\left(\\begin{array}{rrrr}\n",
       "-\\frac{r B\\left(r\\right) \\left(\\frac{\\partial\\,A}{\\partial r}\\right)^{2} - 2 \\, r A\\left(r\\right) B\\left(r\\right) \\frac{\\partial^2\\,A}{\\partial r ^ 2} + r A\\left(r\\right) \\frac{\\partial\\,A}{\\partial r} \\frac{\\partial\\,B}{\\partial r} - 4 \\, A\\left(r\\right) B\\left(r\\right) \\frac{\\partial\\,A}{\\partial r}}{4 \\, r A\\left(r\\right) B\\left(r\\right)^{2}} & 0 & 0 & 0 \\\\\n",
       "0 & \\frac{r B\\left(r\\right) \\left(\\frac{\\partial\\,A}{\\partial r}\\right)^{2} - 2 \\, r A\\left(r\\right) B\\left(r\\right) \\frac{\\partial^2\\,A}{\\partial r ^ 2} + {\\left(r A\\left(r\\right) \\frac{\\partial\\,A}{\\partial r} + 4 \\, A\\left(r\\right)^{2}\\right)} \\frac{\\partial\\,B}{\\partial r}}{4 \\, r A\\left(r\\right)^{2} B\\left(r\\right)} & 0 & 0 \\\\\n",
       "0 & 0 & \\frac{2 \\, A\\left(r\\right) B\\left(r\\right)^{2} - r B\\left(r\\right) \\frac{\\partial\\,A}{\\partial r} + r A\\left(r\\right) \\frac{\\partial\\,B}{\\partial r} - 2 \\, A\\left(r\\right) B\\left(r\\right)}{2 \\, A\\left(r\\right) B\\left(r\\right)^{2}} & 0 \\\\\n",
       "0 & 0 & 0 & \\frac{{\\left(2 \\, A\\left(r\\right) B\\left(r\\right)^{2} - r B\\left(r\\right) \\frac{\\partial\\,A}{\\partial r} + r A\\left(r\\right) \\frac{\\partial\\,B}{\\partial r} - 2 \\, A\\left(r\\right) B\\left(r\\right)\\right)} \\sin\\left({\\theta}\\right)^{2}}{2 \\, A\\left(r\\right) B\\left(r\\right)^{2}}\n",
       "\\end{array}\\right)\\]</html>"
      ],
      "text/latex": [
       "$$\\newcommand{\\Bold}[1]{\\mathbf{#1}}\\left(\\begin{array}{rrrr}\n",
       "-\\frac{r B\\left(r\\right) \\left(\\frac{\\partial\\,A}{\\partial r}\\right)^{2} - 2 \\, r A\\left(r\\right) B\\left(r\\right) \\frac{\\partial^2\\,A}{\\partial r ^ 2} + r A\\left(r\\right) \\frac{\\partial\\,A}{\\partial r} \\frac{\\partial\\,B}{\\partial r} - 4 \\, A\\left(r\\right) B\\left(r\\right) \\frac{\\partial\\,A}{\\partial r}}{4 \\, r A\\left(r\\right) B\\left(r\\right)^{2}} & 0 & 0 & 0 \\\\\n",
       "0 & \\frac{r B\\left(r\\right) \\left(\\frac{\\partial\\,A}{\\partial r}\\right)^{2} - 2 \\, r A\\left(r\\right) B\\left(r\\right) \\frac{\\partial^2\\,A}{\\partial r ^ 2} + {\\left(r A\\left(r\\right) \\frac{\\partial\\,A}{\\partial r} + 4 \\, A\\left(r\\right)^{2}\\right)} \\frac{\\partial\\,B}{\\partial r}}{4 \\, r A\\left(r\\right)^{2} B\\left(r\\right)} & 0 & 0 \\\\\n",
       "0 & 0 & \\frac{2 \\, A\\left(r\\right) B\\left(r\\right)^{2} - r B\\left(r\\right) \\frac{\\partial\\,A}{\\partial r} + r A\\left(r\\right) \\frac{\\partial\\,B}{\\partial r} - 2 \\, A\\left(r\\right) B\\left(r\\right)}{2 \\, A\\left(r\\right) B\\left(r\\right)^{2}} & 0 \\\\\n",
       "0 & 0 & 0 & \\frac{{\\left(2 \\, A\\left(r\\right) B\\left(r\\right)^{2} - r B\\left(r\\right) \\frac{\\partial\\,A}{\\partial r} + r A\\left(r\\right) \\frac{\\partial\\,B}{\\partial r} - 2 \\, A\\left(r\\right) B\\left(r\\right)\\right)} \\sin\\left({\\theta}\\right)^{2}}{2 \\, A\\left(r\\right) B\\left(r\\right)^{2}}\n",
       "\\end{array}\\right)$$"
      ],
      "text/plain": [
       "[-1/4*(r*B(r)*(d(A)/dr)^2 - 2*r*A(r)*B(r)*d^2(A)/dr^2 + r*A(r)*d(A)/dr*d(B)/dr - 4*A(r)*B(r)*d(A)/dr)/(r*A(r)*B(r)^2)                                                                                                                    0                                                                                                                    0                                                                                                                    0]\n",
       "[                                                                                                                   0           1/4*(r*B(r)*(d(A)/dr)^2 - 2*r*A(r)*B(r)*d^2(A)/dr^2 + (r*A(r)*d(A)/dr + 4*A(r)^2)*d(B)/dr)/(r*A(r)^2*B(r))                                                                                                                    0                                                                                                                    0]\n",
       "[                                                                                                                   0                                                                                                                    0                                    1/2*(2*A(r)*B(r)^2 - r*B(r)*d(A)/dr + r*A(r)*d(B)/dr - 2*A(r)*B(r))/(A(r)*B(r)^2)                                                                                                                    0]\n",
       "[                                                                                                                   0                                                                                                                    0                                                                                                                    0                          1/2*(2*A(r)*B(r)^2 - r*B(r)*d(A)/dr + r*A(r)*d(B)/dr - 2*A(r)*B(r))*sin(th)^2/(A(r)*B(r)^2)]"
      ]
     },
     "execution_count": 17,
     "metadata": {},
     "output_type": "execute_result"
    }
   ],
   "source": [
    "Ricci[:]"
   ]
  },
  {
   "cell_type": "markdown",
   "metadata": {},
   "source": [
    "### 3.2. Ricci Curvature Scalar\n",
    "\n",
    "The Ricci curvature scalar, $R=R^\\alpha_\\alpha$, is obtained using the method `.ricci_scalar()` of the metric"
   ]
  },
  {
   "cell_type": "code",
   "execution_count": 18,
   "metadata": {},
   "outputs": [
    {
     "data": {
      "text/html": [
       "<html>\\[\\newcommand{\\Bold}[1]{\\mathbf{#1}}\\begin{array}{llcl} \\mathrm{r}\\left(g\\right):& MU & \\longrightarrow & \\mathbb{R} \\\\ & \\left(t, r, {\\theta}, {\\phi}\\right) & \\longmapsto & \\frac{r^{2} B\\left(r\\right) \\left(\\frac{\\partial\\,A}{\\partial r}\\right)^{2} - 2 \\, r^{2} A\\left(r\\right) B\\left(r\\right) \\frac{\\partial^2\\,A}{\\partial r ^ 2} + 4 \\, A\\left(r\\right)^{2} B\\left(r\\right)^{2} - 4 \\, r A\\left(r\\right) B\\left(r\\right) \\frac{\\partial\\,A}{\\partial r} - 4 \\, A\\left(r\\right)^{2} B\\left(r\\right) + {\\left(r^{2} A\\left(r\\right) \\frac{\\partial\\,A}{\\partial r} + 4 \\, r A\\left(r\\right)^{2}\\right)} \\frac{\\partial\\,B}{\\partial r}}{2 \\, r^{2} A\\left(r\\right)^{2} B\\left(r\\right)^{2}} \\end{array}\\]</html>"
      ],
      "text/latex": [
       "$$\\newcommand{\\Bold}[1]{\\mathbf{#1}}\\begin{array}{llcl} \\mathrm{r}\\left(g\\right):& MU & \\longrightarrow & \\mathbb{R} \\\\ & \\left(t, r, {\\theta}, {\\phi}\\right) & \\longmapsto & \\frac{r^{2} B\\left(r\\right) \\left(\\frac{\\partial\\,A}{\\partial r}\\right)^{2} - 2 \\, r^{2} A\\left(r\\right) B\\left(r\\right) \\frac{\\partial^2\\,A}{\\partial r ^ 2} + 4 \\, A\\left(r\\right)^{2} B\\left(r\\right)^{2} - 4 \\, r A\\left(r\\right) B\\left(r\\right) \\frac{\\partial\\,A}{\\partial r} - 4 \\, A\\left(r\\right)^{2} B\\left(r\\right) + {\\left(r^{2} A\\left(r\\right) \\frac{\\partial\\,A}{\\partial r} + 4 \\, r A\\left(r\\right)^{2}\\right)} \\frac{\\partial\\,B}{\\partial r}}{2 \\, r^{2} A\\left(r\\right)^{2} B\\left(r\\right)^{2}} \\end{array}$$"
      ],
      "text/plain": [
       "r(g): MU → ℝ\n",
       "   (t, r, th, ph) ↦ 1/2*(r^2*B(r)*(d(A)/dr)^2 - 2*r^2*A(r)*B(r)*d^2(A)/dr^2 + 4*A(r)^2*B(r)^2 - 4*r*A(r)*B(r)*d(A)/dr - 4*A(r)^2*B(r) + (r^2*A(r)*d(A)/dr + 4*r*A(r)^2)*d(B)/dr)/(r^2*A(r)^2*B(r)^2)"
      ]
     },
     "execution_count": 18,
     "metadata": {},
     "output_type": "execute_result"
    }
   ],
   "source": [
    "R = g.ricci_scalar()\n",
    "R.display()"
   ]
  },
  {
   "cell_type": "markdown",
   "metadata": {},
   "source": [
    "---\n",
    "Now, we declare the  Einstein tensor"
   ]
  },
  {
   "cell_type": "code",
   "execution_count": 19,
   "metadata": {},
   "outputs": [
    {
     "data": {
      "text/html": [
       "<html>\\[\\newcommand{\\Bold}[1]{\\mathbf{#1}}\\left(\\begin{array}{rrrr}\n",
       "\\frac{A\\left(r\\right) B\\left(r\\right)^{2} + r A\\left(r\\right) \\frac{\\partial\\,B}{\\partial r} - A\\left(r\\right) B\\left(r\\right)}{r^{2} B\\left(r\\right)^{2}} & 0 & 0 & 0 \\\\\n",
       "0 & -\\frac{A\\left(r\\right) B\\left(r\\right) - r \\frac{\\partial\\,A}{\\partial r} - A\\left(r\\right)}{r^{2} A\\left(r\\right)} & 0 & 0 \\\\\n",
       "0 & 0 & -\\frac{r^{2} B\\left(r\\right) \\left(\\frac{\\partial\\,A}{\\partial r}\\right)^{2} - 2 \\, r^{2} A\\left(r\\right) B\\left(r\\right) \\frac{\\partial^2\\,A}{\\partial r ^ 2} - 2 \\, r A\\left(r\\right) B\\left(r\\right) \\frac{\\partial\\,A}{\\partial r} + {\\left(r^{2} A\\left(r\\right) \\frac{\\partial\\,A}{\\partial r} + 2 \\, r A\\left(r\\right)^{2}\\right)} \\frac{\\partial\\,B}{\\partial r}}{4 \\, A\\left(r\\right)^{2} B\\left(r\\right)^{2}} & 0 \\\\\n",
       "0 & 0 & 0 & -\\frac{{\\left(r^{2} B\\left(r\\right) \\left(\\frac{\\partial\\,A}{\\partial r}\\right)^{2} - 2 \\, r^{2} A\\left(r\\right) B\\left(r\\right) \\frac{\\partial^2\\,A}{\\partial r ^ 2} - 2 \\, r A\\left(r\\right) B\\left(r\\right) \\frac{\\partial\\,A}{\\partial r} + {\\left(r^{2} A\\left(r\\right) \\frac{\\partial\\,A}{\\partial r} + 2 \\, r A\\left(r\\right)^{2}\\right)} \\frac{\\partial\\,B}{\\partial r}\\right)} \\sin\\left({\\theta}\\right)^{2}}{4 \\, A\\left(r\\right)^{2} B\\left(r\\right)^{2}}\n",
       "\\end{array}\\right)\\]</html>"
      ],
      "text/latex": [
       "$$\\newcommand{\\Bold}[1]{\\mathbf{#1}}\\left(\\begin{array}{rrrr}\n",
       "\\frac{A\\left(r\\right) B\\left(r\\right)^{2} + r A\\left(r\\right) \\frac{\\partial\\,B}{\\partial r} - A\\left(r\\right) B\\left(r\\right)}{r^{2} B\\left(r\\right)^{2}} & 0 & 0 & 0 \\\\\n",
       "0 & -\\frac{A\\left(r\\right) B\\left(r\\right) - r \\frac{\\partial\\,A}{\\partial r} - A\\left(r\\right)}{r^{2} A\\left(r\\right)} & 0 & 0 \\\\\n",
       "0 & 0 & -\\frac{r^{2} B\\left(r\\right) \\left(\\frac{\\partial\\,A}{\\partial r}\\right)^{2} - 2 \\, r^{2} A\\left(r\\right) B\\left(r\\right) \\frac{\\partial^2\\,A}{\\partial r ^ 2} - 2 \\, r A\\left(r\\right) B\\left(r\\right) \\frac{\\partial\\,A}{\\partial r} + {\\left(r^{2} A\\left(r\\right) \\frac{\\partial\\,A}{\\partial r} + 2 \\, r A\\left(r\\right)^{2}\\right)} \\frac{\\partial\\,B}{\\partial r}}{4 \\, A\\left(r\\right)^{2} B\\left(r\\right)^{2}} & 0 \\\\\n",
       "0 & 0 & 0 & -\\frac{{\\left(r^{2} B\\left(r\\right) \\left(\\frac{\\partial\\,A}{\\partial r}\\right)^{2} - 2 \\, r^{2} A\\left(r\\right) B\\left(r\\right) \\frac{\\partial^2\\,A}{\\partial r ^ 2} - 2 \\, r A\\left(r\\right) B\\left(r\\right) \\frac{\\partial\\,A}{\\partial r} + {\\left(r^{2} A\\left(r\\right) \\frac{\\partial\\,A}{\\partial r} + 2 \\, r A\\left(r\\right)^{2}\\right)} \\frac{\\partial\\,B}{\\partial r}\\right)} \\sin\\left({\\theta}\\right)^{2}}{4 \\, A\\left(r\\right)^{2} B\\left(r\\right)^{2}}\n",
       "\\end{array}\\right)$$"
      ],
      "text/plain": [
       "[                                                                                              (A(r)*B(r)^2 + r*A(r)*d(B)/dr - A(r)*B(r))/(r^2*B(r)^2)                                                                                                                                                     0                                                                                                                                                     0                                                                                                                                                     0]\n",
       "[                                                                                                                                                    0                                                                                                            -(A(r)*B(r) - r*d(A)/dr - A(r))/(r^2*A(r))                                                                                                                                                     0                                                                                                                                                     0]\n",
       "[                                                                                                                                                    0                                                                                                                                                     0           -1/4*(r^2*B(r)*(d(A)/dr)^2 - 2*r^2*A(r)*B(r)*d^2(A)/dr^2 - 2*r*A(r)*B(r)*d(A)/dr + (r^2*A(r)*d(A)/dr + 2*r*A(r)^2)*d(B)/dr)/(A(r)^2*B(r)^2)                                                                                                                                                     0]\n",
       "[                                                                                                                                                    0                                                                                                                                                     0                                                                                                                                                     0 -1/4*(r^2*B(r)*(d(A)/dr)^2 - 2*r^2*A(r)*B(r)*d^2(A)/dr^2 - 2*r*A(r)*B(r)*d(A)/dr + (r^2*A(r)*d(A)/dr + 2*r*A(r)^2)*d(B)/dr)*sin(th)^2/(A(r)^2*B(r)^2)]"
      ]
     },
     "execution_count": 19,
     "metadata": {},
     "output_type": "execute_result"
    }
   ],
   "source": [
    "Einstein = Ricci - g*R/2\n",
    "Einstein[:]"
   ]
  },
  {
   "cell_type": "markdown",
   "metadata": {},
   "source": [
    "In order to solve these equations, we will consider the mixed indices version of the Einstein tensor,\n",
    "\n",
    "\\begin{equation}\n",
    "G^\\mu_\\nu = R^\\mu_\\nu - \\frac{1}{2} g^\\mu_\\nu R = 0.\n",
    "\\end{equation}"
   ]
  },
  {
   "cell_type": "markdown",
   "metadata": {},
   "source": [
    "This is obtained using the method `.up()`,\n"
   ]
  },
  {
   "cell_type": "code",
   "execution_count": 20,
   "metadata": {},
   "outputs": [
    {
     "data": {
      "text/html": [
       "<html>\\[\\newcommand{\\Bold}[1]{\\mathbf{#1}}\\left(\\begin{array}{rrrr}\n",
       "-\\frac{B\\left(r\\right)^{2} + r \\frac{\\partial\\,B}{\\partial r} - B\\left(r\\right)}{r^{2} B\\left(r\\right)^{2}} & 0 & 0 & 0 \\\\\n",
       "0 & -\\frac{A\\left(r\\right) B\\left(r\\right) - r \\frac{\\partial\\,A}{\\partial r} - A\\left(r\\right)}{r^{2} A\\left(r\\right) B\\left(r\\right)} & 0 & 0 \\\\\n",
       "0 & 0 & -\\frac{r B\\left(r\\right) \\left(\\frac{\\partial\\,A}{\\partial r}\\right)^{2} - 2 \\, r A\\left(r\\right) B\\left(r\\right) \\frac{\\partial^2\\,A}{\\partial r ^ 2} - 2 \\, A\\left(r\\right) B\\left(r\\right) \\frac{\\partial\\,A}{\\partial r} + {\\left(r A\\left(r\\right) \\frac{\\partial\\,A}{\\partial r} + 2 \\, A\\left(r\\right)^{2}\\right)} \\frac{\\partial\\,B}{\\partial r}}{4 \\, r A\\left(r\\right)^{2} B\\left(r\\right)^{2}} & 0 \\\\\n",
       "0 & 0 & 0 & -\\frac{r B\\left(r\\right) \\left(\\frac{\\partial\\,A}{\\partial r}\\right)^{2} - 2 \\, r A\\left(r\\right) B\\left(r\\right) \\frac{\\partial^2\\,A}{\\partial r ^ 2} - 2 \\, A\\left(r\\right) B\\left(r\\right) \\frac{\\partial\\,A}{\\partial r} + {\\left(r A\\left(r\\right) \\frac{\\partial\\,A}{\\partial r} + 2 \\, A\\left(r\\right)^{2}\\right)} \\frac{\\partial\\,B}{\\partial r}}{4 \\, r A\\left(r\\right)^{2} B\\left(r\\right)^{2}}\n",
       "\\end{array}\\right)\\]</html>"
      ],
      "text/latex": [
       "$$\\newcommand{\\Bold}[1]{\\mathbf{#1}}\\left(\\begin{array}{rrrr}\n",
       "-\\frac{B\\left(r\\right)^{2} + r \\frac{\\partial\\,B}{\\partial r} - B\\left(r\\right)}{r^{2} B\\left(r\\right)^{2}} & 0 & 0 & 0 \\\\\n",
       "0 & -\\frac{A\\left(r\\right) B\\left(r\\right) - r \\frac{\\partial\\,A}{\\partial r} - A\\left(r\\right)}{r^{2} A\\left(r\\right) B\\left(r\\right)} & 0 & 0 \\\\\n",
       "0 & 0 & -\\frac{r B\\left(r\\right) \\left(\\frac{\\partial\\,A}{\\partial r}\\right)^{2} - 2 \\, r A\\left(r\\right) B\\left(r\\right) \\frac{\\partial^2\\,A}{\\partial r ^ 2} - 2 \\, A\\left(r\\right) B\\left(r\\right) \\frac{\\partial\\,A}{\\partial r} + {\\left(r A\\left(r\\right) \\frac{\\partial\\,A}{\\partial r} + 2 \\, A\\left(r\\right)^{2}\\right)} \\frac{\\partial\\,B}{\\partial r}}{4 \\, r A\\left(r\\right)^{2} B\\left(r\\right)^{2}} & 0 \\\\\n",
       "0 & 0 & 0 & -\\frac{r B\\left(r\\right) \\left(\\frac{\\partial\\,A}{\\partial r}\\right)^{2} - 2 \\, r A\\left(r\\right) B\\left(r\\right) \\frac{\\partial^2\\,A}{\\partial r ^ 2} - 2 \\, A\\left(r\\right) B\\left(r\\right) \\frac{\\partial\\,A}{\\partial r} + {\\left(r A\\left(r\\right) \\frac{\\partial\\,A}{\\partial r} + 2 \\, A\\left(r\\right)^{2}\\right)} \\frac{\\partial\\,B}{\\partial r}}{4 \\, r A\\left(r\\right)^{2} B\\left(r\\right)^{2}}\n",
       "\\end{array}\\right)$$"
      ],
      "text/plain": [
       "[                                                                                          -(B(r)^2 + r*d(B)/dr - B(r))/(r^2*B(r)^2)                                                                                                                                   0                                                                                                                                   0                                                                                                                                   0]\n",
       "[                                                                                                                                  0                                                                                     -(A(r)*B(r) - r*d(A)/dr - A(r))/(r^2*A(r)*B(r))                                                                                                                                   0                                                                                                                                   0]\n",
       "[                                                                                                                                  0                                                                                                                                   0 -1/4*(r*B(r)*(d(A)/dr)^2 - 2*r*A(r)*B(r)*d^2(A)/dr^2 - 2*A(r)*B(r)*d(A)/dr + (r*A(r)*d(A)/dr + 2*A(r)^2)*d(B)/dr)/(r*A(r)^2*B(r)^2)                                                                                                                                   0]\n",
       "[                                                                                                                                  0                                                                                                                                   0                                                                                                                                   0 -1/4*(r*B(r)*(d(A)/dr)^2 - 2*r*A(r)*B(r)*d^2(A)/dr^2 - 2*A(r)*B(r)*d(A)/dr + (r*A(r)*d(A)/dr + 2*A(r)^2)*d(B)/dr)/(r*A(r)^2*B(r)^2)]"
      ]
     },
     "execution_count": 20,
     "metadata": {},
     "output_type": "execute_result"
    }
   ],
   "source": [
    "Einstein_ud = Einstein.up(g,1)\n",
    "Einstein_ud[:]"
   ]
  },
  {
   "cell_type": "markdown",
   "metadata": {},
   "source": [
    "## 4. Solving the Field Equations\n",
    "\n",
    "The first component of the Field Equations is\n",
    "\n",
    "\\begin{equation}\n",
    "G^0_0 =- \\frac{B^2 + r B' - B}{r^2 B^2} = 0\n",
    "\\end{equation}\n",
    "\n",
    "which corresponds to the ordinary differential equation\n",
    "\n",
    "\\begin{equation}\n",
    "B^2 + r B' - B = 0.\n",
    "\\end{equation}\n",
    "\n",
    "This can be solved by using the function  `desolve()` "
   ]
  },
  {
   "cell_type": "code",
   "execution_count": 21,
   "metadata": {},
   "outputs": [
    {
     "data": {
      "text/html": [
       "<html>\\[\\newcommand{\\Bold}[1]{\\mathbf{#1}}-\\log\\left(B\\left(r\\right) - 1\\right) + \\log\\left(B\\left(r\\right)\\right) = C + \\log\\left(r\\right)\\]</html>"
      ],
      "text/latex": [
       "$$\\newcommand{\\Bold}[1]{\\mathbf{#1}}-\\log\\left(B\\left(r\\right) - 1\\right) + \\log\\left(B\\left(r\\right)\\right) = C + \\log\\left(r\\right)$$"
      ],
      "text/plain": [
       "-log(B(r) - 1) + log(B(r)) == _C + log(r)"
      ]
     },
     "execution_count": 21,
     "metadata": {},
     "output_type": "execute_result"
    }
   ],
   "source": [
    "deq = B**2 + r*diff(B,r) - B # Defines the differential equation\n",
    "B_sol = desolve(deq, B) # Solves the differential equation\n",
    "B_sol"
   ]
  },
  {
   "cell_type": "markdown",
   "metadata": {},
   "source": [
    "Redefining the integration constant as $C = -\\log(K)$, we solve for $B$ using the function `solve()`,"
   ]
  },
  {
   "cell_type": "code",
   "execution_count": 22,
   "metadata": {},
   "outputs": [
    {
     "data": {
      "text/html": [
       "<html>\\[\\newcommand{\\Bold}[1]{\\mathbf{#1}}\\left[\\log\\left(B\\left(r\\right)\\right) = -\\log\\left(K\\right) + \\log\\left(r\\right) + \\log\\left(B\\left(r\\right) - 1\\right)\\right]\\]</html>"
      ],
      "text/latex": [
       "$$\\newcommand{\\Bold}[1]{\\mathbf{#1}}\\left[\\log\\left(B\\left(r\\right)\\right) = -\\log\\left(K\\right) + \\log\\left(r\\right) + \\log\\left(B\\left(r\\right) - 1\\right)\\right]$$"
      ],
      "text/plain": [
       "[log(B(r)) == -log(K) + log(r) + log(B(r) - 1)]"
      ]
     },
     "execution_count": 22,
     "metadata": {},
     "output_type": "execute_result"
    }
   ],
   "source": [
    "K = var('K')\n",
    "solve(- log(B - 1) + log(B) == -log(K) +log(r), B)"
   ]
  },
  {
   "cell_type": "markdown",
   "metadata": {},
   "source": [
    "From this relation we obtain that\n",
    "\n",
    "\\begin{equation}\n",
    "\\log \\left( \\frac{B}{B-1} \\right) = \\log \\left(\\frac{r}{K} \\right)\n",
    "\\end{equation}\n",
    "\n",
    "\\begin{equation}\n",
    "\\frac{B}{B-1}  = \\frac{r}{K} \n",
    "\\end{equation}\n",
    "\n",
    "\\begin{equation}\n",
    "B  = \\frac{r}{K} \\left( B-1 \\right)\n",
    "\\end{equation}\n",
    "\n",
    "\\begin{equation}\n",
    "B \\left( 1-\\frac{r}{K} \\right) = -\\frac{r}{K} \n",
    "\\end{equation}\n",
    "\n",
    "\\begin{equation}\n",
    "B  = - \\frac{\\frac{r}{K}}{\\left( 1-\\frac{r}{K} \\right)}\n",
    "\\end{equation}\n",
    "\n",
    "\\begin{equation}\n",
    "B  =  \\frac{1}{\\left( 1-\\frac{K}{r} \\right)}\n",
    "\\end{equation}"
   ]
  },
  {
   "cell_type": "markdown",
   "metadata": {},
   "source": [
    "---\n",
    "\n",
    "The second component of the Field Equation  is\n",
    "\n",
    "\\begin{equation}\n",
    "G^1_1 =- \\frac{AB - rA' - A }{r^2 AB} = 0\n",
    "\\end{equation}\n",
    "\n",
    "corresponding to the ordinary differential equation\n",
    "\n",
    "\\begin{equation}\n",
    "AB - rA' - A   = 0.\n",
    "\\end{equation}\n",
    "\n",
    "We solve again using the function `desolve()`. "
   ]
  },
  {
   "cell_type": "code",
   "execution_count": 23,
   "metadata": {
    "scrolled": true
   },
   "outputs": [
    {
     "data": {
      "text/html": [
       "<html>\\[\\newcommand{\\Bold}[1]{\\mathbf{#1}}C e^{\\left(K {\\left(\\frac{\\log\\left(-K + r\\right)}{K} - \\frac{\\log\\left(r\\right)}{K}\\right)}\\right)}\\]</html>"
      ],
      "text/latex": [
       "$$\\newcommand{\\Bold}[1]{\\mathbf{#1}}C e^{\\left(K {\\left(\\frac{\\log\\left(-K + r\\right)}{K} - \\frac{\\log\\left(r\\right)}{K}\\right)}\\right)}$$"
      ],
      "text/plain": [
       "_C*e^(K*(log(-K + r)/K - log(r)/K))"
      ]
     },
     "execution_count": 23,
     "metadata": {},
     "output_type": "execute_result"
    }
   ],
   "source": [
    "assume(K>0)\n",
    "\n",
    "deq2 = A*(1/(1-K/r)) - r*diff(A,r) - A == 0\n",
    "A_sol = desolve(deq2, A, ivar=r) \n",
    "A_sol"
   ]
  },
  {
   "cell_type": "markdown",
   "metadata": {},
   "source": [
    "This gives the function $A$ as\n",
    "\n",
    "\\begin{equation}\n",
    "A = C e^{\\log (r-K) - \\log (r)}\n",
    "\\end{equation}\n",
    "\n",
    "\\begin{equation}\n",
    "A = C e^{\\log \\left( \\frac{r-K}{r} \\right)}\n",
    "\\end{equation}\n",
    "\n",
    "\\begin{equation}\n",
    "A = C \\left( \\frac{r-K}{r} \\right)\n",
    "\\end{equation}\n",
    "\n",
    "\\begin{equation}\n",
    "A = C \\left( 1- \\frac{K}{r} \\right)\n",
    "\\end{equation}"
   ]
  },
  {
   "cell_type": "markdown",
   "metadata": {},
   "source": [
    "---\n",
    "\n",
    "Replacing the obtained fucntions in the line element we have\n",
    "\n",
    "\\begin{equation}\n",
    "ds^2 = - \\left( 1- \\frac{K}{r} \\right) C dt^2 +\\left( 1- \\frac{K}{r} \\right)^{-1} dr^2 + r^2 d\\theta^2 + r^2 \\sin^2 d\\phi^2\n",
    "\\end{equation}\n",
    "\n",
    "Redefining the time coordinate as $c dt^2 \\rightarrow dt^2$ and defining adequately the integration constant,  $K = \\frac{2GM}{c^2}$, we finally obtain the Schwarzschild solution,\n",
    "\n",
    "\\begin{equation}\n",
    "ds^2 = - \\left( 1- \\frac{2GM}{c^2 r} \\right) dt^2 +\\left( 1- \\frac{2GM}{c^2r} \\right)^{-1} dr^2 + r^2 d\\theta^2 + r^2 \\sin^2 d\\phi^2.\n",
    "\\end{equation}"
   ]
  },
  {
   "cell_type": "markdown",
   "metadata": {},
   "source": [
    "### Summary of methods\n",
    "\n",
    "```\n",
    "Manifold.chart()\n",
    "Manifold.metric()\n",
    "```\n",
    "\n",
    "\n",
    "```\n",
    "metric.christoffel_symbols_display()\n",
    "metric.christoffel_symbols()[]\n",
    "metric.riemann()\n",
    "metric.ricci()\n",
    "```\n",
    "\n",
    "\n",
    "```\n",
    "tensor.display()\n",
    "tensor[:]\n",
    "tensor.expr()\n",
    "tensor.up(metric)\n",
    "tensor.down(metric)\n",
    "```"
   ]
  }
 ],
 "metadata": {
  "kernelspec": {
   "display_name": "SageMath 9.4",
   "language": "sage",
   "name": "sagemath-9.4"
  },
  "language_info": {
   "codemirror_mode": {
    "name": "ipython",
    "version": 3
   },
   "file_extension": ".py",
   "mimetype": "text/x-python",
   "name": "python",
   "nbconvert_exporter": "python",
   "pygments_lexer": "ipython3",
   "version": "3.9.5"
  }
 },
 "nbformat": 4,
 "nbformat_minor": 2
}
