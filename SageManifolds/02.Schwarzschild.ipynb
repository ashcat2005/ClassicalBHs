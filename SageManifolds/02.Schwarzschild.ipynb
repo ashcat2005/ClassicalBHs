{
 "cells": [
  {
   "cell_type": "markdown",
   "metadata": {},
   "source": [
    "![Astrofisica Computacional](../logo.png)"
   ]
  },
  {
   "cell_type": "markdown",
   "metadata": {},
   "source": [
    "---\n",
    "\n",
    "Eduard Larrañaga (ealarranaga@unal.edu.co)\n",
    "\n",
    "---"
   ]
  },
  {
   "cell_type": "markdown",
   "metadata": {},
   "source": [
    "\n",
    "# Properties of the Schwarzschild Solution\n",
    "---\n",
    "\n",
    "## Abstract\n",
    "\n",
    "This notebook uses [SageMath](https://www.sagemath.org) and [SageManifolds](https://sagemanifolds.obspm.fr/index.html) to calculate some of the geometric properties of the Schwarzschild spacetime including Christoffel's symbols, the Riemann tensor, the Ricci tensor and the  Kretschmann scalar. \n",
    "\n",
    "`This notebook was created using SageMath 9.4`"
   ]
  },
  {
   "cell_type": "code",
   "execution_count": 1,
   "metadata": {},
   "outputs": [
    {
     "data": {
      "text/plain": [
       "'SageMath version 9.4, Release Date: 2021-08-22'"
      ]
     },
     "execution_count": 1,
     "metadata": {},
     "output_type": "execute_result"
    }
   ],
   "source": [
    "version()"
   ]
  },
  {
   "cell_type": "markdown",
   "metadata": {},
   "source": [
    "We will activate the mathematics visualization using LaTeX,"
   ]
  },
  {
   "cell_type": "code",
   "execution_count": 2,
   "metadata": {},
   "outputs": [],
   "source": [
    "%display latex"
   ]
  },
  {
   "cell_type": "markdown",
   "metadata": {},
   "source": [
    "## 1.  Manifold Definition\n",
    "\n",
    "The spacetime will be defined as a 4-dimensional Lorentzian manifold,"
   ]
  },
  {
   "cell_type": "code",
   "execution_count": 3,
   "metadata": {},
   "outputs": [
    {
     "name": "stdout",
     "output_type": "stream",
     "text": [
      "4-dimensional Lorentzian manifold MU\n"
     ]
    }
   ],
   "source": [
    "MU = Manifold(4, 'MU', latex_name=r'\\mathcal{M}', structure='Lorentzian')\n",
    "print(MU)"
   ]
  },
  {
   "cell_type": "markdown",
   "metadata": {},
   "source": [
    "### 1.1. Standard Coordinates \n",
    "\n",
    "We introduce spherical standard coordinates (**Schwarzschild-Droste coordinates**) using the method `.chart()` of the manifold object `MU`. The argument in this method is a text string defining each coordinate and its corresponding range, if it is different from $(-\\infty, +\\infty)$. We also include the LaTeX symbol representing the coordinate.\n",
    "\n",
    "Note that the `Python` variables that will represent each coordinate are decalred inside the symbol `<...>` in the left hand side. The variable `X` will denote the coordinate chart."
   ]
  },
  {
   "cell_type": "code",
   "execution_count": 4,
   "metadata": {},
   "outputs": [
    {
     "data": {
      "text/html": [
       "<html>\\[\\newcommand{\\Bold}[1]{\\mathbf{#1}}\\left(MU,(t, r, {\\theta}, {\\phi})\\right)\\]</html>"
      ],
      "text/latex": [
       "$$\\newcommand{\\Bold}[1]{\\mathbf{#1}}\\left(MU,(t, r, {\\theta}, {\\phi})\\right)$$"
      ],
      "text/plain": [
       "Chart (MU, (t, r, th, ph))"
      ]
     },
     "execution_count": 4,
     "metadata": {},
     "output_type": "execute_result"
    }
   ],
   "source": [
    "X.<t,r,th,ph> = MU.chart(r\"t r:(0,+oo) th:(0,pi):\\theta ph:(0,2*pi):\\phi\")\n",
    "X"
   ]
  },
  {
   "cell_type": "markdown",
   "metadata": {},
   "source": [
    "## 2. Metric Tensor \n",
    "\n",
    "In order to deduce the Schwarzschild metric, we will declare the mass parameter $M$ as a symbolic variable using the function  `var()`. Additionally, we will assume that this parameter will only take positive values."
   ]
  },
  {
   "cell_type": "code",
   "execution_count": 5,
   "metadata": {},
   "outputs": [],
   "source": [
    "M = var('M')\n",
    "assume(M>=0)"
   ]
  },
  {
   "cell_type": "markdown",
   "metadata": {},
   "source": [
    "Now, we define the metric tensor,"
   ]
  },
  {
   "cell_type": "code",
   "execution_count": 6,
   "metadata": {},
   "outputs": [
    {
     "data": {
      "text/html": [
       "<html>\\[\\newcommand{\\Bold}[1]{\\mathbf{#1}}g = \\left( \\frac{2 \\, M}{r} - 1 \\right) \\mathrm{d} t\\otimes \\mathrm{d} t + \\left( -\\frac{1}{\\frac{2 \\, M}{r} - 1} \\right) \\mathrm{d} r\\otimes \\mathrm{d} r + r^{2} \\mathrm{d} {\\theta}\\otimes \\mathrm{d} {\\theta} + r^{2} \\sin\\left({\\theta}\\right)^{2} \\mathrm{d} {\\phi}\\otimes \\mathrm{d} {\\phi}\\]</html>"
      ],
      "text/latex": [
       "$$\\newcommand{\\Bold}[1]{\\mathbf{#1}}g = \\left( \\frac{2 \\, M}{r} - 1 \\right) \\mathrm{d} t\\otimes \\mathrm{d} t + \\left( -\\frac{1}{\\frac{2 \\, M}{r} - 1} \\right) \\mathrm{d} r\\otimes \\mathrm{d} r + r^{2} \\mathrm{d} {\\theta}\\otimes \\mathrm{d} {\\theta} + r^{2} \\sin\\left({\\theta}\\right)^{2} \\mathrm{d} {\\phi}\\otimes \\mathrm{d} {\\phi}$$"
      ],
      "text/plain": [
       "g = (2*M/r - 1) dt⊗dt - 1/(2*M/r - 1) dr⊗dr + r^2 dth⊗dth + r^2*sin(th)^2 dph⊗dph"
      ]
     },
     "execution_count": 6,
     "metadata": {},
     "output_type": "execute_result"
    }
   ],
   "source": [
    "g = MU.metric()\n",
    "g[0,0] = -(1-2*M/r)\n",
    "g[1,1] = 1/(1-2*M/r)\n",
    "g[2,2] = r^2\n",
    "g[3,3] = (r*sin(th))^2\n",
    "g.display()"
   ]
  },
  {
   "cell_type": "code",
   "execution_count": 7,
   "metadata": {},
   "outputs": [
    {
     "data": {
      "text/html": [
       "<html>\\[\\newcommand{\\Bold}[1]{\\mathbf{#1}}\\left(\\begin{array}{rrrr}\n",
       "\\frac{2 \\, M}{r} - 1 & 0 & 0 & 0 \\\\\n",
       "0 & -\\frac{1}{\\frac{2 \\, M}{r} - 1} & 0 & 0 \\\\\n",
       "0 & 0 & r^{2} & 0 \\\\\n",
       "0 & 0 & 0 & r^{2} \\sin\\left({\\theta}\\right)^{2}\n",
       "\\end{array}\\right)\\]</html>"
      ],
      "text/latex": [
       "$$\\newcommand{\\Bold}[1]{\\mathbf{#1}}\\left(\\begin{array}{rrrr}\n",
       "\\frac{2 \\, M}{r} - 1 & 0 & 0 & 0 \\\\\n",
       "0 & -\\frac{1}{\\frac{2 \\, M}{r} - 1} & 0 & 0 \\\\\n",
       "0 & 0 & r^{2} & 0 \\\\\n",
       "0 & 0 & 0 & r^{2} \\sin\\left({\\theta}\\right)^{2}\n",
       "\\end{array}\\right)$$"
      ],
      "text/plain": [
       "[     2*M/r - 1              0              0              0]\n",
       "[             0 -1/(2*M/r - 1)              0              0]\n",
       "[             0              0            r^2              0]\n",
       "[             0              0              0  r^2*sin(th)^2]"
      ]
     },
     "execution_count": 7,
     "metadata": {},
     "output_type": "execute_result"
    }
   ],
   "source": [
    "g[:]"
   ]
  },
  {
   "cell_type": "markdown",
   "metadata": {},
   "source": [
    "## 3. Christoffel Symbols (Connections)\n",
    "\n",
    "The Christoffel Symbols (of the second kind) for the metric $g$, in the Schwarzschild-Droste coordinates, are defined as\n",
    "\n",
    "\\begin{equation}\n",
    "\\Gamma^\\alpha_{\\mu \\nu} = \\frac{1}{2} g^{\\alpha \\sigma} \\left[ \\partial_\\mu g_{\\sigma \\nu} + \\partial_\\nu g_{\\mu \\sigma } - \\partial_\\sigma g_{\\mu \\nu} \\right]\n",
    "\\end{equation}\n",
    "\n",
    "\n",
    "These components are obtained using the method E`.christoffel_symbols_display()` of the metric object, `g`. By default, Sage will only show the non-zero components up to the symmetry properties of the connections ( $\\Gamma^\\alpha_{\\mu \\nu} = \\Gamma^\\alpha_{\\nu \\mu}$). \n",
    "\n",
    "Using the symbol `?` after the command, e.g. `g.christoffel_symbols_display?`, it is possible to visualize the information and options of any method."
   ]
  },
  {
   "cell_type": "code",
   "execution_count": 8,
   "metadata": {},
   "outputs": [],
   "source": [
    "g.christoffel_symbols_display?"
   ]
  },
  {
   "cell_type": "code",
   "execution_count": 9,
   "metadata": {},
   "outputs": [
    {
     "data": {
      "text/html": [
       "<html>\\[\\newcommand{\\Bold}[1]{\\mathbf{#1}}\\begin{array}{lcl} \\Gamma_{ \\phantom{\\, t} \\, t \\, r }^{ \\, t \\phantom{\\, t} \\phantom{\\, r} } & = & -\\frac{M}{2 \\, M r - r^{2}} \\\\ \\Gamma_{ \\phantom{\\, r} \\, t \\, t }^{ \\, r \\phantom{\\, t} \\phantom{\\, t} } & = & -\\frac{2 \\, M^{2} - M r}{r^{3}} \\\\ \\Gamma_{ \\phantom{\\, r} \\, r \\, r }^{ \\, r \\phantom{\\, r} \\phantom{\\, r} } & = & \\frac{M}{2 \\, M r - r^{2}} \\\\ \\Gamma_{ \\phantom{\\, r} \\, {\\theta} \\, {\\theta} }^{ \\, r \\phantom{\\, {\\theta}} \\phantom{\\, {\\theta}} } & = & 2 \\, M - r \\\\ \\Gamma_{ \\phantom{\\, r} \\, {\\phi} \\, {\\phi} }^{ \\, r \\phantom{\\, {\\phi}} \\phantom{\\, {\\phi}} } & = & {\\left(2 \\, M - r\\right)} \\sin\\left({\\theta}\\right)^{2} \\\\ \\Gamma_{ \\phantom{\\, {\\theta}} \\, r \\, {\\theta} }^{ \\, {\\theta} \\phantom{\\, r} \\phantom{\\, {\\theta}} } & = & \\frac{1}{r} \\\\ \\Gamma_{ \\phantom{\\, {\\theta}} \\, {\\phi} \\, {\\phi} }^{ \\, {\\theta} \\phantom{\\, {\\phi}} \\phantom{\\, {\\phi}} } & = & -\\cos\\left({\\theta}\\right) \\sin\\left({\\theta}\\right) \\\\ \\Gamma_{ \\phantom{\\, {\\phi}} \\, r \\, {\\phi} }^{ \\, {\\phi} \\phantom{\\, r} \\phantom{\\, {\\phi}} } & = & \\frac{1}{r} \\\\ \\Gamma_{ \\phantom{\\, {\\phi}} \\, {\\theta} \\, {\\phi} }^{ \\, {\\phi} \\phantom{\\, {\\theta}} \\phantom{\\, {\\phi}} } & = & \\frac{\\cos\\left({\\theta}\\right)}{\\sin\\left({\\theta}\\right)} \\end{array}\\]</html>"
      ],
      "text/latex": [
       "$$\\newcommand{\\Bold}[1]{\\mathbf{#1}}\\begin{array}{lcl} \\Gamma_{ \\phantom{\\, t} \\, t \\, r }^{ \\, t \\phantom{\\, t} \\phantom{\\, r} } & = & -\\frac{M}{2 \\, M r - r^{2}} \\\\ \\Gamma_{ \\phantom{\\, r} \\, t \\, t }^{ \\, r \\phantom{\\, t} \\phantom{\\, t} } & = & -\\frac{2 \\, M^{2} - M r}{r^{3}} \\\\ \\Gamma_{ \\phantom{\\, r} \\, r \\, r }^{ \\, r \\phantom{\\, r} \\phantom{\\, r} } & = & \\frac{M}{2 \\, M r - r^{2}} \\\\ \\Gamma_{ \\phantom{\\, r} \\, {\\theta} \\, {\\theta} }^{ \\, r \\phantom{\\, {\\theta}} \\phantom{\\, {\\theta}} } & = & 2 \\, M - r \\\\ \\Gamma_{ \\phantom{\\, r} \\, {\\phi} \\, {\\phi} }^{ \\, r \\phantom{\\, {\\phi}} \\phantom{\\, {\\phi}} } & = & {\\left(2 \\, M - r\\right)} \\sin\\left({\\theta}\\right)^{2} \\\\ \\Gamma_{ \\phantom{\\, {\\theta}} \\, r \\, {\\theta} }^{ \\, {\\theta} \\phantom{\\, r} \\phantom{\\, {\\theta}} } & = & \\frac{1}{r} \\\\ \\Gamma_{ \\phantom{\\, {\\theta}} \\, {\\phi} \\, {\\phi} }^{ \\, {\\theta} \\phantom{\\, {\\phi}} \\phantom{\\, {\\phi}} } & = & -\\cos\\left({\\theta}\\right) \\sin\\left({\\theta}\\right) \\\\ \\Gamma_{ \\phantom{\\, {\\phi}} \\, r \\, {\\phi} }^{ \\, {\\phi} \\phantom{\\, r} \\phantom{\\, {\\phi}} } & = & \\frac{1}{r} \\\\ \\Gamma_{ \\phantom{\\, {\\phi}} \\, {\\theta} \\, {\\phi} }^{ \\, {\\phi} \\phantom{\\, {\\theta}} \\phantom{\\, {\\phi}} } & = & \\frac{\\cos\\left({\\theta}\\right)}{\\sin\\left({\\theta}\\right)} \\end{array}$$"
      ],
      "text/plain": [
       "Gam^t_t,r = -M/(2*M*r - r^2) \n",
       "Gam^r_t,t = -(2*M^2 - M*r)/r^3 \n",
       "Gam^r_r,r = M/(2*M*r - r^2) \n",
       "Gam^r_th,th = 2*M - r \n",
       "Gam^r_ph,ph = (2*M - r)*sin(th)^2 \n",
       "Gam^th_r,th = 1/r \n",
       "Gam^th_ph,ph = -cos(th)*sin(th) \n",
       "Gam^ph_r,ph = 1/r \n",
       "Gam^ph_th,ph = cos(th)/sin(th) "
      ]
     },
     "execution_count": 9,
     "metadata": {},
     "output_type": "execute_result"
    }
   ],
   "source": [
    "g.christoffel_symbols_display()"
   ]
  },
  {
   "cell_type": "markdown",
   "metadata": {},
   "source": [
    "It is also possible to show only one component"
   ]
  },
  {
   "cell_type": "code",
   "execution_count": 10,
   "metadata": {},
   "outputs": [
    {
     "data": {
      "text/html": [
       "<html>\\[\\newcommand{\\Bold}[1]{\\mathbf{#1}}-\\frac{M}{2 \\, M r - r^{2}}\\]</html>"
      ],
      "text/latex": [
       "$$\\newcommand{\\Bold}[1]{\\mathbf{#1}}-\\frac{M}{2 \\, M r - r^{2}}$$"
      ],
      "text/plain": [
       "-M/(2*M*r - r^2)"
      ]
     },
     "execution_count": 10,
     "metadata": {},
     "output_type": "execute_result"
    }
   ],
   "source": [
    "g.christoffel_symbols()[0,1,0]"
   ]
  },
  {
   "cell_type": "markdown",
   "metadata": {},
   "source": [
    "We can easily probe the symmetry properties of the connection,"
   ]
  },
  {
   "cell_type": "code",
   "execution_count": 11,
   "metadata": {},
   "outputs": [
    {
     "data": {
      "text/html": [
       "<html>\\[\\newcommand{\\Bold}[1]{\\mathbf{#1}}\\mathrm{True}\\]</html>"
      ],
      "text/latex": [
       "$$\\newcommand{\\Bold}[1]{\\mathbf{#1}}\\mathrm{True}$$"
      ],
      "text/plain": [
       "True"
      ]
     },
     "execution_count": 11,
     "metadata": {},
     "output_type": "execute_result"
    }
   ],
   "source": [
    "g.christoffel_symbols()[0,0,1] == g.christoffel_symbols()[0,1,0]"
   ]
  },
  {
   "cell_type": "markdown",
   "metadata": {},
   "source": [
    "## 4. Curvature Tensor\n",
    "\n",
    "The Riemann curvature tensor is defined as\n",
    "\n",
    "\\begin{equation}\n",
    "R^\\mu_{\\,\\, \\nu \\rho \\sigma} = \\frac{\\partial \\Gamma^\\mu_{ \\nu \\sigma}}{\\partial x^{\\rho}} - \\frac{\\partial \\Gamma^\\mu_{ \\nu \\rho}}{\\partial x^{\\sigma}} + \\Gamma^{\\alpha}_{\\nu \\sigma}\\Gamma^\\mu_{\\rho \\alpha} - \\Gamma^{\\alpha}_{\\ \\nu \\rho}\\Gamma^\\mu_{\\sigma \\alpha} \n",
    "\\end{equation}\n",
    "\n",
    "\n",
    "This tensor is calculated using the method `.riemann()` of the metric tensor,"
   ]
  },
  {
   "cell_type": "code",
   "execution_count": 12,
   "metadata": {},
   "outputs": [
    {
     "name": "stdout",
     "output_type": "stream",
     "text": [
      "Tensor field Riem(g) of type (1,3) on the 4-dimensional Lorentzian manifold MU\n"
     ]
    }
   ],
   "source": [
    "Riemann = g.riemann()\n",
    "print(Riemann)"
   ]
  },
  {
   "cell_type": "markdown",
   "metadata": {},
   "source": [
    "**It is important to notw that this is a (1,3)-order tensor**. "
   ]
  },
  {
   "cell_type": "code",
   "execution_count": 13,
   "metadata": {},
   "outputs": [
    {
     "data": {
      "text/html": [
       "<html>\\[\\newcommand{\\Bold}[1]{\\mathbf{#1}}\\mathrm{Riem}\\left(g\\right)\\]</html>"
      ],
      "text/latex": [
       "$$\\newcommand{\\Bold}[1]{\\mathbf{#1}}\\mathrm{Riem}\\left(g\\right)$$"
      ],
      "text/plain": [
       "Tensor field Riem(g) of type (1,3) on the 4-dimensional Lorentzian manifold MU"
      ]
     },
     "execution_count": 13,
     "metadata": {},
     "output_type": "execute_result"
    }
   ],
   "source": [
    "Riemann"
   ]
  },
  {
   "cell_type": "markdown",
   "metadata": {},
   "source": [
    "In order to show its components, we use the method `.display()`,"
   ]
  },
  {
   "cell_type": "code",
   "execution_count": 14,
   "metadata": {
    "scrolled": false
   },
   "outputs": [
    {
     "data": {
      "text/html": [
       "<html>\\[\\newcommand{\\Bold}[1]{\\mathbf{#1}}\\mathrm{Riem}\\left(g\\right) = \\left( -\\frac{2 \\, M}{2 \\, M r^{2} - r^{3}} \\right) \\frac{\\partial}{\\partial t }\\otimes \\mathrm{d} r\\otimes \\mathrm{d} t\\otimes \\mathrm{d} r + \\left( \\frac{2 \\, M}{2 \\, M r^{2} - r^{3}} \\right) \\frac{\\partial}{\\partial t }\\otimes \\mathrm{d} r\\otimes \\mathrm{d} r\\otimes \\mathrm{d} t -\\frac{M}{r} \\frac{\\partial}{\\partial t }\\otimes \\mathrm{d} {\\theta}\\otimes \\mathrm{d} t\\otimes \\mathrm{d} {\\theta} + \\frac{M}{r} \\frac{\\partial}{\\partial t }\\otimes \\mathrm{d} {\\theta}\\otimes \\mathrm{d} {\\theta}\\otimes \\mathrm{d} t -\\frac{M \\sin\\left({\\theta}\\right)^{2}}{r} \\frac{\\partial}{\\partial t }\\otimes \\mathrm{d} {\\phi}\\otimes \\mathrm{d} t\\otimes \\mathrm{d} {\\phi} + \\frac{M \\sin\\left({\\theta}\\right)^{2}}{r} \\frac{\\partial}{\\partial t }\\otimes \\mathrm{d} {\\phi}\\otimes \\mathrm{d} {\\phi}\\otimes \\mathrm{d} t -\\frac{2 \\, {\\left(2 \\, M^{2} - M r\\right)}}{r^{4}} \\frac{\\partial}{\\partial r }\\otimes \\mathrm{d} t\\otimes \\mathrm{d} t\\otimes \\mathrm{d} r + \\frac{2 \\, {\\left(2 \\, M^{2} - M r\\right)}}{r^{4}} \\frac{\\partial}{\\partial r }\\otimes \\mathrm{d} t\\otimes \\mathrm{d} r\\otimes \\mathrm{d} t -\\frac{M}{r} \\frac{\\partial}{\\partial r }\\otimes \\mathrm{d} {\\theta}\\otimes \\mathrm{d} r\\otimes \\mathrm{d} {\\theta} + \\frac{M}{r} \\frac{\\partial}{\\partial r }\\otimes \\mathrm{d} {\\theta}\\otimes \\mathrm{d} {\\theta}\\otimes \\mathrm{d} r -\\frac{M \\sin\\left({\\theta}\\right)^{2}}{r} \\frac{\\partial}{\\partial r }\\otimes \\mathrm{d} {\\phi}\\otimes \\mathrm{d} r\\otimes \\mathrm{d} {\\phi} + \\frac{M \\sin\\left({\\theta}\\right)^{2}}{r} \\frac{\\partial}{\\partial r }\\otimes \\mathrm{d} {\\phi}\\otimes \\mathrm{d} {\\phi}\\otimes \\mathrm{d} r + \\left( \\frac{2 \\, M^{2} - M r}{r^{4}} \\right) \\frac{\\partial}{\\partial {\\theta} }\\otimes \\mathrm{d} t\\otimes \\mathrm{d} t\\otimes \\mathrm{d} {\\theta} + \\left( -\\frac{2 \\, M^{2} - M r}{r^{4}} \\right) \\frac{\\partial}{\\partial {\\theta} }\\otimes \\mathrm{d} t\\otimes \\mathrm{d} {\\theta}\\otimes \\mathrm{d} t + \\left( -\\frac{M}{2 \\, M r^{2} - r^{3}} \\right) \\frac{\\partial}{\\partial {\\theta} }\\otimes \\mathrm{d} r\\otimes \\mathrm{d} r\\otimes \\mathrm{d} {\\theta} + \\left( \\frac{M}{2 \\, M r^{2} - r^{3}} \\right) \\frac{\\partial}{\\partial {\\theta} }\\otimes \\mathrm{d} r\\otimes \\mathrm{d} {\\theta}\\otimes \\mathrm{d} r + \\frac{2 \\, M \\sin\\left({\\theta}\\right)^{2}}{r} \\frac{\\partial}{\\partial {\\theta} }\\otimes \\mathrm{d} {\\phi}\\otimes \\mathrm{d} {\\theta}\\otimes \\mathrm{d} {\\phi} -\\frac{2 \\, M \\sin\\left({\\theta}\\right)^{2}}{r} \\frac{\\partial}{\\partial {\\theta} }\\otimes \\mathrm{d} {\\phi}\\otimes \\mathrm{d} {\\phi}\\otimes \\mathrm{d} {\\theta} + \\left( \\frac{2 \\, M^{2} - M r}{r^{4}} \\right) \\frac{\\partial}{\\partial {\\phi} }\\otimes \\mathrm{d} t\\otimes \\mathrm{d} t\\otimes \\mathrm{d} {\\phi} + \\left( -\\frac{2 \\, M^{2} - M r}{r^{4}} \\right) \\frac{\\partial}{\\partial {\\phi} }\\otimes \\mathrm{d} t\\otimes \\mathrm{d} {\\phi}\\otimes \\mathrm{d} t + \\left( -\\frac{M}{2 \\, M r^{2} - r^{3}} \\right) \\frac{\\partial}{\\partial {\\phi} }\\otimes \\mathrm{d} r\\otimes \\mathrm{d} r\\otimes \\mathrm{d} {\\phi} + \\left( \\frac{M}{2 \\, M r^{2} - r^{3}} \\right) \\frac{\\partial}{\\partial {\\phi} }\\otimes \\mathrm{d} r\\otimes \\mathrm{d} {\\phi}\\otimes \\mathrm{d} r -\\frac{2 \\, M}{r} \\frac{\\partial}{\\partial {\\phi} }\\otimes \\mathrm{d} {\\theta}\\otimes \\mathrm{d} {\\theta}\\otimes \\mathrm{d} {\\phi} + \\frac{2 \\, M}{r} \\frac{\\partial}{\\partial {\\phi} }\\otimes \\mathrm{d} {\\theta}\\otimes \\mathrm{d} {\\phi}\\otimes \\mathrm{d} {\\theta}\\]</html>"
      ],
      "text/latex": [
       "$$\\newcommand{\\Bold}[1]{\\mathbf{#1}}\\mathrm{Riem}\\left(g\\right) = \\left( -\\frac{2 \\, M}{2 \\, M r^{2} - r^{3}} \\right) \\frac{\\partial}{\\partial t }\\otimes \\mathrm{d} r\\otimes \\mathrm{d} t\\otimes \\mathrm{d} r + \\left( \\frac{2 \\, M}{2 \\, M r^{2} - r^{3}} \\right) \\frac{\\partial}{\\partial t }\\otimes \\mathrm{d} r\\otimes \\mathrm{d} r\\otimes \\mathrm{d} t -\\frac{M}{r} \\frac{\\partial}{\\partial t }\\otimes \\mathrm{d} {\\theta}\\otimes \\mathrm{d} t\\otimes \\mathrm{d} {\\theta} + \\frac{M}{r} \\frac{\\partial}{\\partial t }\\otimes \\mathrm{d} {\\theta}\\otimes \\mathrm{d} {\\theta}\\otimes \\mathrm{d} t -\\frac{M \\sin\\left({\\theta}\\right)^{2}}{r} \\frac{\\partial}{\\partial t }\\otimes \\mathrm{d} {\\phi}\\otimes \\mathrm{d} t\\otimes \\mathrm{d} {\\phi} + \\frac{M \\sin\\left({\\theta}\\right)^{2}}{r} \\frac{\\partial}{\\partial t }\\otimes \\mathrm{d} {\\phi}\\otimes \\mathrm{d} {\\phi}\\otimes \\mathrm{d} t -\\frac{2 \\, {\\left(2 \\, M^{2} - M r\\right)}}{r^{4}} \\frac{\\partial}{\\partial r }\\otimes \\mathrm{d} t\\otimes \\mathrm{d} t\\otimes \\mathrm{d} r + \\frac{2 \\, {\\left(2 \\, M^{2} - M r\\right)}}{r^{4}} \\frac{\\partial}{\\partial r }\\otimes \\mathrm{d} t\\otimes \\mathrm{d} r\\otimes \\mathrm{d} t -\\frac{M}{r} \\frac{\\partial}{\\partial r }\\otimes \\mathrm{d} {\\theta}\\otimes \\mathrm{d} r\\otimes \\mathrm{d} {\\theta} + \\frac{M}{r} \\frac{\\partial}{\\partial r }\\otimes \\mathrm{d} {\\theta}\\otimes \\mathrm{d} {\\theta}\\otimes \\mathrm{d} r -\\frac{M \\sin\\left({\\theta}\\right)^{2}}{r} \\frac{\\partial}{\\partial r }\\otimes \\mathrm{d} {\\phi}\\otimes \\mathrm{d} r\\otimes \\mathrm{d} {\\phi} + \\frac{M \\sin\\left({\\theta}\\right)^{2}}{r} \\frac{\\partial}{\\partial r }\\otimes \\mathrm{d} {\\phi}\\otimes \\mathrm{d} {\\phi}\\otimes \\mathrm{d} r + \\left( \\frac{2 \\, M^{2} - M r}{r^{4}} \\right) \\frac{\\partial}{\\partial {\\theta} }\\otimes \\mathrm{d} t\\otimes \\mathrm{d} t\\otimes \\mathrm{d} {\\theta} + \\left( -\\frac{2 \\, M^{2} - M r}{r^{4}} \\right) \\frac{\\partial}{\\partial {\\theta} }\\otimes \\mathrm{d} t\\otimes \\mathrm{d} {\\theta}\\otimes \\mathrm{d} t + \\left( -\\frac{M}{2 \\, M r^{2} - r^{3}} \\right) \\frac{\\partial}{\\partial {\\theta} }\\otimes \\mathrm{d} r\\otimes \\mathrm{d} r\\otimes \\mathrm{d} {\\theta} + \\left( \\frac{M}{2 \\, M r^{2} - r^{3}} \\right) \\frac{\\partial}{\\partial {\\theta} }\\otimes \\mathrm{d} r\\otimes \\mathrm{d} {\\theta}\\otimes \\mathrm{d} r + \\frac{2 \\, M \\sin\\left({\\theta}\\right)^{2}}{r} \\frac{\\partial}{\\partial {\\theta} }\\otimes \\mathrm{d} {\\phi}\\otimes \\mathrm{d} {\\theta}\\otimes \\mathrm{d} {\\phi} -\\frac{2 \\, M \\sin\\left({\\theta}\\right)^{2}}{r} \\frac{\\partial}{\\partial {\\theta} }\\otimes \\mathrm{d} {\\phi}\\otimes \\mathrm{d} {\\phi}\\otimes \\mathrm{d} {\\theta} + \\left( \\frac{2 \\, M^{2} - M r}{r^{4}} \\right) \\frac{\\partial}{\\partial {\\phi} }\\otimes \\mathrm{d} t\\otimes \\mathrm{d} t\\otimes \\mathrm{d} {\\phi} + \\left( -\\frac{2 \\, M^{2} - M r}{r^{4}} \\right) \\frac{\\partial}{\\partial {\\phi} }\\otimes \\mathrm{d} t\\otimes \\mathrm{d} {\\phi}\\otimes \\mathrm{d} t + \\left( -\\frac{M}{2 \\, M r^{2} - r^{3}} \\right) \\frac{\\partial}{\\partial {\\phi} }\\otimes \\mathrm{d} r\\otimes \\mathrm{d} r\\otimes \\mathrm{d} {\\phi} + \\left( \\frac{M}{2 \\, M r^{2} - r^{3}} \\right) \\frac{\\partial}{\\partial {\\phi} }\\otimes \\mathrm{d} r\\otimes \\mathrm{d} {\\phi}\\otimes \\mathrm{d} r -\\frac{2 \\, M}{r} \\frac{\\partial}{\\partial {\\phi} }\\otimes \\mathrm{d} {\\theta}\\otimes \\mathrm{d} {\\theta}\\otimes \\mathrm{d} {\\phi} + \\frac{2 \\, M}{r} \\frac{\\partial}{\\partial {\\phi} }\\otimes \\mathrm{d} {\\theta}\\otimes \\mathrm{d} {\\phi}\\otimes \\mathrm{d} {\\theta}$$"
      ],
      "text/plain": [
       "Riem(g) = -2*M/(2*M*r^2 - r^3) ∂/∂t⊗dr⊗dt⊗dr + 2*M/(2*M*r^2 - r^3) ∂/∂t⊗dr⊗dr⊗dt - M/r ∂/∂t⊗dth⊗dt⊗dth + M/r ∂/∂t⊗dth⊗dth⊗dt - M*sin(th)^2/r ∂/∂t⊗dph⊗dt⊗dph + M*sin(th)^2/r ∂/∂t⊗dph⊗dph⊗dt - 2*(2*M^2 - M*r)/r^4 ∂/∂r⊗dt⊗dt⊗dr + 2*(2*M^2 - M*r)/r^4 ∂/∂r⊗dt⊗dr⊗dt - M/r ∂/∂r⊗dth⊗dr⊗dth + M/r ∂/∂r⊗dth⊗dth⊗dr - M*sin(th)^2/r ∂/∂r⊗dph⊗dr⊗dph + M*sin(th)^2/r ∂/∂r⊗dph⊗dph⊗dr + (2*M^2 - M*r)/r^4 ∂/∂th⊗dt⊗dt⊗dth - (2*M^2 - M*r)/r^4 ∂/∂th⊗dt⊗dth⊗dt - M/(2*M*r^2 - r^3) ∂/∂th⊗dr⊗dr⊗dth + M/(2*M*r^2 - r^3) ∂/∂th⊗dr⊗dth⊗dr + 2*M*sin(th)^2/r ∂/∂th⊗dph⊗dth⊗dph - 2*M*sin(th)^2/r ∂/∂th⊗dph⊗dph⊗dth + (2*M^2 - M*r)/r^4 ∂/∂ph⊗dt⊗dt⊗dph - (2*M^2 - M*r)/r^4 ∂/∂ph⊗dt⊗dph⊗dt - M/(2*M*r^2 - r^3) ∂/∂ph⊗dr⊗dr⊗dph + M/(2*M*r^2 - r^3) ∂/∂ph⊗dr⊗dph⊗dr - 2*M/r ∂/∂ph⊗dth⊗dth⊗dph + 2*M/r ∂/∂ph⊗dth⊗dph⊗dth"
      ]
     },
     "execution_count": 14,
     "metadata": {},
     "output_type": "execute_result"
    }
   ],
   "source": [
    "Riemann.display()"
   ]
  },
  {
   "cell_type": "code",
   "execution_count": 15,
   "metadata": {
    "scrolled": true
   },
   "outputs": [
    {
     "data": {
      "text/html": [
       "<html>\\[\\newcommand{\\Bold}[1]{\\mathbf{#1}}\\left[\\left[\\left[\\left[0, 0, 0, 0\\right], \\left[0, 0, 0, 0\\right], \\left[0, 0, 0, 0\\right], \\left[0, 0, 0, 0\\right]\\right], \\left[\\left[0, -\\frac{2 \\, M}{2 \\, M r^{2} - r^{3}}, 0, 0\\right], \\left[\\frac{2 \\, M}{2 \\, M r^{2} - r^{3}}, 0, 0, 0\\right], \\left[0, 0, 0, 0\\right], \\left[0, 0, 0, 0\\right]\\right], \\left[\\left[0, 0, -\\frac{M}{r}, 0\\right], \\left[0, 0, 0, 0\\right], \\left[\\frac{M}{r}, 0, 0, 0\\right], \\left[0, 0, 0, 0\\right]\\right], \\left[\\left[0, 0, 0, -\\frac{M \\sin\\left({\\theta}\\right)^{2}}{r}\\right], \\left[0, 0, 0, 0\\right], \\left[0, 0, 0, 0\\right], \\left[\\frac{M \\sin\\left({\\theta}\\right)^{2}}{r}, 0, 0, 0\\right]\\right]\\right], \\left[\\left[\\left[0, -\\frac{2 \\, {\\left(2 \\, M^{2} - M r\\right)}}{r^{4}}, 0, 0\\right], \\left[\\frac{2 \\, {\\left(2 \\, M^{2} - M r\\right)}}{r^{4}}, 0, 0, 0\\right], \\left[0, 0, 0, 0\\right], \\left[0, 0, 0, 0\\right]\\right], \\left[\\left[0, 0, 0, 0\\right], \\left[0, 0, 0, 0\\right], \\left[0, 0, 0, 0\\right], \\left[0, 0, 0, 0\\right]\\right], \\left[\\left[0, 0, 0, 0\\right], \\left[0, 0, -\\frac{M}{r}, 0\\right], \\left[0, \\frac{M}{r}, 0, 0\\right], \\left[0, 0, 0, 0\\right]\\right], \\left[\\left[0, 0, 0, 0\\right], \\left[0, 0, 0, -\\frac{M \\sin\\left({\\theta}\\right)^{2}}{r}\\right], \\left[0, 0, 0, 0\\right], \\left[0, \\frac{M \\sin\\left({\\theta}\\right)^{2}}{r}, 0, 0\\right]\\right]\\right], \\left[\\left[\\left[0, 0, \\frac{2 \\, M^{2} - M r}{r^{4}}, 0\\right], \\left[0, 0, 0, 0\\right], \\left[-\\frac{2 \\, M^{2} - M r}{r^{4}}, 0, 0, 0\\right], \\left[0, 0, 0, 0\\right]\\right], \\left[\\left[0, 0, 0, 0\\right], \\left[0, 0, -\\frac{M}{2 \\, M r^{2} - r^{3}}, 0\\right], \\left[0, \\frac{M}{2 \\, M r^{2} - r^{3}}, 0, 0\\right], \\left[0, 0, 0, 0\\right]\\right], \\left[\\left[0, 0, 0, 0\\right], \\left[0, 0, 0, 0\\right], \\left[0, 0, 0, 0\\right], \\left[0, 0, 0, 0\\right]\\right], \\left[\\left[0, 0, 0, 0\\right], \\left[0, 0, 0, 0\\right], \\left[0, 0, 0, \\frac{2 \\, M \\sin\\left({\\theta}\\right)^{2}}{r}\\right], \\left[0, 0, -\\frac{2 \\, M \\sin\\left({\\theta}\\right)^{2}}{r}, 0\\right]\\right]\\right], \\left[\\left[\\left[0, 0, 0, \\frac{2 \\, M^{2} - M r}{r^{4}}\\right], \\left[0, 0, 0, 0\\right], \\left[0, 0, 0, 0\\right], \\left[-\\frac{2 \\, M^{2} - M r}{r^{4}}, 0, 0, 0\\right]\\right], \\left[\\left[0, 0, 0, 0\\right], \\left[0, 0, 0, -\\frac{M}{2 \\, M r^{2} - r^{3}}\\right], \\left[0, 0, 0, 0\\right], \\left[0, \\frac{M}{2 \\, M r^{2} - r^{3}}, 0, 0\\right]\\right], \\left[\\left[0, 0, 0, 0\\right], \\left[0, 0, 0, 0\\right], \\left[0, 0, 0, -\\frac{2 \\, M}{r}\\right], \\left[0, 0, \\frac{2 \\, M}{r}, 0\\right]\\right], \\left[\\left[0, 0, 0, 0\\right], \\left[0, 0, 0, 0\\right], \\left[0, 0, 0, 0\\right], \\left[0, 0, 0, 0\\right]\\right]\\right]\\right]\\]</html>"
      ],
      "text/latex": [
       "$$\\newcommand{\\Bold}[1]{\\mathbf{#1}}\\left[\\left[\\left[\\left[0, 0, 0, 0\\right], \\left[0, 0, 0, 0\\right], \\left[0, 0, 0, 0\\right], \\left[0, 0, 0, 0\\right]\\right], \\left[\\left[0, -\\frac{2 \\, M}{2 \\, M r^{2} - r^{3}}, 0, 0\\right], \\left[\\frac{2 \\, M}{2 \\, M r^{2} - r^{3}}, 0, 0, 0\\right], \\left[0, 0, 0, 0\\right], \\left[0, 0, 0, 0\\right]\\right], \\left[\\left[0, 0, -\\frac{M}{r}, 0\\right], \\left[0, 0, 0, 0\\right], \\left[\\frac{M}{r}, 0, 0, 0\\right], \\left[0, 0, 0, 0\\right]\\right], \\left[\\left[0, 0, 0, -\\frac{M \\sin\\left({\\theta}\\right)^{2}}{r}\\right], \\left[0, 0, 0, 0\\right], \\left[0, 0, 0, 0\\right], \\left[\\frac{M \\sin\\left({\\theta}\\right)^{2}}{r}, 0, 0, 0\\right]\\right]\\right], \\left[\\left[\\left[0, -\\frac{2 \\, {\\left(2 \\, M^{2} - M r\\right)}}{r^{4}}, 0, 0\\right], \\left[\\frac{2 \\, {\\left(2 \\, M^{2} - M r\\right)}}{r^{4}}, 0, 0, 0\\right], \\left[0, 0, 0, 0\\right], \\left[0, 0, 0, 0\\right]\\right], \\left[\\left[0, 0, 0, 0\\right], \\left[0, 0, 0, 0\\right], \\left[0, 0, 0, 0\\right], \\left[0, 0, 0, 0\\right]\\right], \\left[\\left[0, 0, 0, 0\\right], \\left[0, 0, -\\frac{M}{r}, 0\\right], \\left[0, \\frac{M}{r}, 0, 0\\right], \\left[0, 0, 0, 0\\right]\\right], \\left[\\left[0, 0, 0, 0\\right], \\left[0, 0, 0, -\\frac{M \\sin\\left({\\theta}\\right)^{2}}{r}\\right], \\left[0, 0, 0, 0\\right], \\left[0, \\frac{M \\sin\\left({\\theta}\\right)^{2}}{r}, 0, 0\\right]\\right]\\right], \\left[\\left[\\left[0, 0, \\frac{2 \\, M^{2} - M r}{r^{4}}, 0\\right], \\left[0, 0, 0, 0\\right], \\left[-\\frac{2 \\, M^{2} - M r}{r^{4}}, 0, 0, 0\\right], \\left[0, 0, 0, 0\\right]\\right], \\left[\\left[0, 0, 0, 0\\right], \\left[0, 0, -\\frac{M}{2 \\, M r^{2} - r^{3}}, 0\\right], \\left[0, \\frac{M}{2 \\, M r^{2} - r^{3}}, 0, 0\\right], \\left[0, 0, 0, 0\\right]\\right], \\left[\\left[0, 0, 0, 0\\right], \\left[0, 0, 0, 0\\right], \\left[0, 0, 0, 0\\right], \\left[0, 0, 0, 0\\right]\\right], \\left[\\left[0, 0, 0, 0\\right], \\left[0, 0, 0, 0\\right], \\left[0, 0, 0, \\frac{2 \\, M \\sin\\left({\\theta}\\right)^{2}}{r}\\right], \\left[0, 0, -\\frac{2 \\, M \\sin\\left({\\theta}\\right)^{2}}{r}, 0\\right]\\right]\\right], \\left[\\left[\\left[0, 0, 0, \\frac{2 \\, M^{2} - M r}{r^{4}}\\right], \\left[0, 0, 0, 0\\right], \\left[0, 0, 0, 0\\right], \\left[-\\frac{2 \\, M^{2} - M r}{r^{4}}, 0, 0, 0\\right]\\right], \\left[\\left[0, 0, 0, 0\\right], \\left[0, 0, 0, -\\frac{M}{2 \\, M r^{2} - r^{3}}\\right], \\left[0, 0, 0, 0\\right], \\left[0, \\frac{M}{2 \\, M r^{2} - r^{3}}, 0, 0\\right]\\right], \\left[\\left[0, 0, 0, 0\\right], \\left[0, 0, 0, 0\\right], \\left[0, 0, 0, -\\frac{2 \\, M}{r}\\right], \\left[0, 0, \\frac{2 \\, M}{r}, 0\\right]\\right], \\left[\\left[0, 0, 0, 0\\right], \\left[0, 0, 0, 0\\right], \\left[0, 0, 0, 0\\right], \\left[0, 0, 0, 0\\right]\\right]\\right]\\right]$$"
      ],
      "text/plain": [
       "[[[[0, 0, 0, 0], [0, 0, 0, 0], [0, 0, 0, 0], [0, 0, 0, 0]],\n",
       "  [[0, -2*M/(2*M*r^2 - r^3), 0, 0],\n",
       "   [2*M/(2*M*r^2 - r^3), 0, 0, 0],\n",
       "   [0, 0, 0, 0],\n",
       "   [0, 0, 0, 0]],\n",
       "  [[0, 0, -M/r, 0], [0, 0, 0, 0], [M/r, 0, 0, 0], [0, 0, 0, 0]],\n",
       "  [[0, 0, 0, -M*sin(th)^2/r],\n",
       "   [0, 0, 0, 0],\n",
       "   [0, 0, 0, 0],\n",
       "   [M*sin(th)^2/r, 0, 0, 0]]],\n",
       " [[[0, -2*(2*M^2 - M*r)/r^4, 0, 0],\n",
       "   [2*(2*M^2 - M*r)/r^4, 0, 0, 0],\n",
       "   [0, 0, 0, 0],\n",
       "   [0, 0, 0, 0]],\n",
       "  [[0, 0, 0, 0], [0, 0, 0, 0], [0, 0, 0, 0], [0, 0, 0, 0]],\n",
       "  [[0, 0, 0, 0], [0, 0, -M/r, 0], [0, M/r, 0, 0], [0, 0, 0, 0]],\n",
       "  [[0, 0, 0, 0],\n",
       "   [0, 0, 0, -M*sin(th)^2/r],\n",
       "   [0, 0, 0, 0],\n",
       "   [0, M*sin(th)^2/r, 0, 0]]],\n",
       " [[[0, 0, (2*M^2 - M*r)/r^4, 0],\n",
       "   [0, 0, 0, 0],\n",
       "   [-(2*M^2 - M*r)/r^4, 0, 0, 0],\n",
       "   [0, 0, 0, 0]],\n",
       "  [[0, 0, 0, 0],\n",
       "   [0, 0, -M/(2*M*r^2 - r^3), 0],\n",
       "   [0, M/(2*M*r^2 - r^3), 0, 0],\n",
       "   [0, 0, 0, 0]],\n",
       "  [[0, 0, 0, 0], [0, 0, 0, 0], [0, 0, 0, 0], [0, 0, 0, 0]],\n",
       "  [[0, 0, 0, 0],\n",
       "   [0, 0, 0, 0],\n",
       "   [0, 0, 0, 2*M*sin(th)^2/r],\n",
       "   [0, 0, -2*M*sin(th)^2/r, 0]]],\n",
       " [[[0, 0, 0, (2*M^2 - M*r)/r^4],\n",
       "   [0, 0, 0, 0],\n",
       "   [0, 0, 0, 0],\n",
       "   [-(2*M^2 - M*r)/r^4, 0, 0, 0]],\n",
       "  [[0, 0, 0, 0],\n",
       "   [0, 0, 0, -M/(2*M*r^2 - r^3)],\n",
       "   [0, 0, 0, 0],\n",
       "   [0, M/(2*M*r^2 - r^3), 0, 0]],\n",
       "  [[0, 0, 0, 0], [0, 0, 0, 0], [0, 0, 0, -2*M/r], [0, 0, 2*M/r, 0]],\n",
       "  [[0, 0, 0, 0], [0, 0, 0, 0], [0, 0, 0, 0], [0, 0, 0, 0]]]]"
      ]
     },
     "execution_count": 15,
     "metadata": {},
     "output_type": "execute_result"
    }
   ],
   "source": [
    "Riemann[:]"
   ]
  },
  {
   "cell_type": "markdown",
   "metadata": {},
   "source": [
    "Each component is visualized by using the corresponding indices. As an example, the component $R^0_{\\ \\,101} = R^t_{\\ \\,trt}$ is"
   ]
  },
  {
   "cell_type": "code",
   "execution_count": 16,
   "metadata": {},
   "outputs": [
    {
     "data": {
      "text/html": [
       "<html>\\[\\newcommand{\\Bold}[1]{\\mathbf{#1}}\\frac{2 \\, M}{2 \\, M r^{2} - r^{3}}\\]</html>"
      ],
      "text/latex": [
       "$$\\newcommand{\\Bold}[1]{\\mathbf{#1}}\\frac{2 \\, M}{2 \\, M r^{2} - r^{3}}$$"
      ],
      "text/plain": [
       "2*M/(2*M*r^2 - r^3)"
      ]
     },
     "execution_count": 16,
     "metadata": {},
     "output_type": "execute_result"
    }
   ],
   "source": [
    "Riemann[0,1,1,0]"
   ]
  },
  {
   "cell_type": "code",
   "execution_count": null,
   "metadata": {},
   "outputs": [],
   "source": [
    "Riemann[0,1,0,1]"
   ]
  },
  {
   "cell_type": "markdown",
   "metadata": {},
   "source": [
    "To transform this object into a (0,4)-order tensor, we use the method `.down()`:"
   ]
  },
  {
   "cell_type": "code",
   "execution_count": 17,
   "metadata": {},
   "outputs": [
    {
     "data": {
      "text/html": [
       "<html>\\[\\newcommand{\\Bold}[1]{\\mathbf{#1}}\\mbox{Tensor field of type (0,4) on the 4-dimensional Lorentzian manifold MU}\\]</html>"
      ],
      "text/latex": [
       "$$\\newcommand{\\Bold}[1]{\\mathbf{#1}}\\mbox{Tensor field of type (0,4) on the 4-dimensional Lorentzian manifold MU}$$"
      ],
      "text/plain": [
       "Tensor field of type (0,4) on the 4-dimensional Lorentzian manifold MU"
      ]
     },
     "execution_count": 17,
     "metadata": {},
     "output_type": "execute_result"
    }
   ],
   "source": [
    "Riemann_dddd = Riemann.down(g)\n",
    "Riemann_dddd"
   ]
  },
  {
   "cell_type": "code",
   "execution_count": 18,
   "metadata": {},
   "outputs": [
    {
     "data": {
      "text/html": [
       "<html>\\[\\newcommand{\\Bold}[1]{\\mathbf{#1}}-\\frac{2 \\, M}{r^{3}} \\mathrm{d} t\\otimes \\mathrm{d} r\\otimes \\mathrm{d} t\\otimes \\mathrm{d} r + \\frac{2 \\, M}{r^{3}} \\mathrm{d} t\\otimes \\mathrm{d} r\\otimes \\mathrm{d} r\\otimes \\mathrm{d} t + \\left( -\\frac{2 \\, M^{2} - M r}{r^{2}} \\right) \\mathrm{d} t\\otimes \\mathrm{d} {\\theta}\\otimes \\mathrm{d} t\\otimes \\mathrm{d} {\\theta} + \\left( \\frac{2 \\, M^{2} - M r}{r^{2}} \\right) \\mathrm{d} t\\otimes \\mathrm{d} {\\theta}\\otimes \\mathrm{d} {\\theta}\\otimes \\mathrm{d} t -\\frac{{\\left(2 \\, M^{2} - M r\\right)} \\sin\\left({\\theta}\\right)^{2}}{r^{2}} \\mathrm{d} t\\otimes \\mathrm{d} {\\phi}\\otimes \\mathrm{d} t\\otimes \\mathrm{d} {\\phi} + \\frac{{\\left(2 \\, M^{2} - M r\\right)} \\sin\\left({\\theta}\\right)^{2}}{r^{2}} \\mathrm{d} t\\otimes \\mathrm{d} {\\phi}\\otimes \\mathrm{d} {\\phi}\\otimes \\mathrm{d} t + \\frac{2 \\, M}{r^{3}} \\mathrm{d} r\\otimes \\mathrm{d} t\\otimes \\mathrm{d} t\\otimes \\mathrm{d} r -\\frac{2 \\, M}{r^{3}} \\mathrm{d} r\\otimes \\mathrm{d} t\\otimes \\mathrm{d} r\\otimes \\mathrm{d} t + \\left( \\frac{M}{2 \\, M - r} \\right) \\mathrm{d} r\\otimes \\mathrm{d} {\\theta}\\otimes \\mathrm{d} r\\otimes \\mathrm{d} {\\theta} + \\left( -\\frac{M}{2 \\, M - r} \\right) \\mathrm{d} r\\otimes \\mathrm{d} {\\theta}\\otimes \\mathrm{d} {\\theta}\\otimes \\mathrm{d} r + \\left( \\frac{M \\sin\\left({\\theta}\\right)^{2}}{2 \\, M - r} \\right) \\mathrm{d} r\\otimes \\mathrm{d} {\\phi}\\otimes \\mathrm{d} r\\otimes \\mathrm{d} {\\phi} + \\left( -\\frac{M \\sin\\left({\\theta}\\right)^{2}}{2 \\, M - r} \\right) \\mathrm{d} r\\otimes \\mathrm{d} {\\phi}\\otimes \\mathrm{d} {\\phi}\\otimes \\mathrm{d} r + \\left( \\frac{2 \\, M^{2} - M r}{r^{2}} \\right) \\mathrm{d} {\\theta}\\otimes \\mathrm{d} t\\otimes \\mathrm{d} t\\otimes \\mathrm{d} {\\theta} + \\left( -\\frac{2 \\, M^{2} - M r}{r^{2}} \\right) \\mathrm{d} {\\theta}\\otimes \\mathrm{d} t\\otimes \\mathrm{d} {\\theta}\\otimes \\mathrm{d} t + \\left( -\\frac{M}{2 \\, M - r} \\right) \\mathrm{d} {\\theta}\\otimes \\mathrm{d} r\\otimes \\mathrm{d} r\\otimes \\mathrm{d} {\\theta} + \\left( \\frac{M}{2 \\, M - r} \\right) \\mathrm{d} {\\theta}\\otimes \\mathrm{d} r\\otimes \\mathrm{d} {\\theta}\\otimes \\mathrm{d} r + 2 \\, M r \\sin\\left({\\theta}\\right)^{2} \\mathrm{d} {\\theta}\\otimes \\mathrm{d} {\\phi}\\otimes \\mathrm{d} {\\theta}\\otimes \\mathrm{d} {\\phi} -2 \\, M r \\sin\\left({\\theta}\\right)^{2} \\mathrm{d} {\\theta}\\otimes \\mathrm{d} {\\phi}\\otimes \\mathrm{d} {\\phi}\\otimes \\mathrm{d} {\\theta} + \\frac{{\\left(2 \\, M^{2} - M r\\right)} \\sin\\left({\\theta}\\right)^{2}}{r^{2}} \\mathrm{d} {\\phi}\\otimes \\mathrm{d} t\\otimes \\mathrm{d} t\\otimes \\mathrm{d} {\\phi} -\\frac{{\\left(2 \\, M^{2} - M r\\right)} \\sin\\left({\\theta}\\right)^{2}}{r^{2}} \\mathrm{d} {\\phi}\\otimes \\mathrm{d} t\\otimes \\mathrm{d} {\\phi}\\otimes \\mathrm{d} t + \\left( -\\frac{M \\sin\\left({\\theta}\\right)^{2}}{2 \\, M - r} \\right) \\mathrm{d} {\\phi}\\otimes \\mathrm{d} r\\otimes \\mathrm{d} r\\otimes \\mathrm{d} {\\phi} + \\left( \\frac{M \\sin\\left({\\theta}\\right)^{2}}{2 \\, M - r} \\right) \\mathrm{d} {\\phi}\\otimes \\mathrm{d} r\\otimes \\mathrm{d} {\\phi}\\otimes \\mathrm{d} r -2 \\, M r \\sin\\left({\\theta}\\right)^{2} \\mathrm{d} {\\phi}\\otimes \\mathrm{d} {\\theta}\\otimes \\mathrm{d} {\\theta}\\otimes \\mathrm{d} {\\phi} + 2 \\, M r \\sin\\left({\\theta}\\right)^{2} \\mathrm{d} {\\phi}\\otimes \\mathrm{d} {\\theta}\\otimes \\mathrm{d} {\\phi}\\otimes \\mathrm{d} {\\theta}\\]</html>"
      ],
      "text/latex": [
       "$$\\newcommand{\\Bold}[1]{\\mathbf{#1}}-\\frac{2 \\, M}{r^{3}} \\mathrm{d} t\\otimes \\mathrm{d} r\\otimes \\mathrm{d} t\\otimes \\mathrm{d} r + \\frac{2 \\, M}{r^{3}} \\mathrm{d} t\\otimes \\mathrm{d} r\\otimes \\mathrm{d} r\\otimes \\mathrm{d} t + \\left( -\\frac{2 \\, M^{2} - M r}{r^{2}} \\right) \\mathrm{d} t\\otimes \\mathrm{d} {\\theta}\\otimes \\mathrm{d} t\\otimes \\mathrm{d} {\\theta} + \\left( \\frac{2 \\, M^{2} - M r}{r^{2}} \\right) \\mathrm{d} t\\otimes \\mathrm{d} {\\theta}\\otimes \\mathrm{d} {\\theta}\\otimes \\mathrm{d} t -\\frac{{\\left(2 \\, M^{2} - M r\\right)} \\sin\\left({\\theta}\\right)^{2}}{r^{2}} \\mathrm{d} t\\otimes \\mathrm{d} {\\phi}\\otimes \\mathrm{d} t\\otimes \\mathrm{d} {\\phi} + \\frac{{\\left(2 \\, M^{2} - M r\\right)} \\sin\\left({\\theta}\\right)^{2}}{r^{2}} \\mathrm{d} t\\otimes \\mathrm{d} {\\phi}\\otimes \\mathrm{d} {\\phi}\\otimes \\mathrm{d} t + \\frac{2 \\, M}{r^{3}} \\mathrm{d} r\\otimes \\mathrm{d} t\\otimes \\mathrm{d} t\\otimes \\mathrm{d} r -\\frac{2 \\, M}{r^{3}} \\mathrm{d} r\\otimes \\mathrm{d} t\\otimes \\mathrm{d} r\\otimes \\mathrm{d} t + \\left( \\frac{M}{2 \\, M - r} \\right) \\mathrm{d} r\\otimes \\mathrm{d} {\\theta}\\otimes \\mathrm{d} r\\otimes \\mathrm{d} {\\theta} + \\left( -\\frac{M}{2 \\, M - r} \\right) \\mathrm{d} r\\otimes \\mathrm{d} {\\theta}\\otimes \\mathrm{d} {\\theta}\\otimes \\mathrm{d} r + \\left( \\frac{M \\sin\\left({\\theta}\\right)^{2}}{2 \\, M - r} \\right) \\mathrm{d} r\\otimes \\mathrm{d} {\\phi}\\otimes \\mathrm{d} r\\otimes \\mathrm{d} {\\phi} + \\left( -\\frac{M \\sin\\left({\\theta}\\right)^{2}}{2 \\, M - r} \\right) \\mathrm{d} r\\otimes \\mathrm{d} {\\phi}\\otimes \\mathrm{d} {\\phi}\\otimes \\mathrm{d} r + \\left( \\frac{2 \\, M^{2} - M r}{r^{2}} \\right) \\mathrm{d} {\\theta}\\otimes \\mathrm{d} t\\otimes \\mathrm{d} t\\otimes \\mathrm{d} {\\theta} + \\left( -\\frac{2 \\, M^{2} - M r}{r^{2}} \\right) \\mathrm{d} {\\theta}\\otimes \\mathrm{d} t\\otimes \\mathrm{d} {\\theta}\\otimes \\mathrm{d} t + \\left( -\\frac{M}{2 \\, M - r} \\right) \\mathrm{d} {\\theta}\\otimes \\mathrm{d} r\\otimes \\mathrm{d} r\\otimes \\mathrm{d} {\\theta} + \\left( \\frac{M}{2 \\, M - r} \\right) \\mathrm{d} {\\theta}\\otimes \\mathrm{d} r\\otimes \\mathrm{d} {\\theta}\\otimes \\mathrm{d} r + 2 \\, M r \\sin\\left({\\theta}\\right)^{2} \\mathrm{d} {\\theta}\\otimes \\mathrm{d} {\\phi}\\otimes \\mathrm{d} {\\theta}\\otimes \\mathrm{d} {\\phi} -2 \\, M r \\sin\\left({\\theta}\\right)^{2} \\mathrm{d} {\\theta}\\otimes \\mathrm{d} {\\phi}\\otimes \\mathrm{d} {\\phi}\\otimes \\mathrm{d} {\\theta} + \\frac{{\\left(2 \\, M^{2} - M r\\right)} \\sin\\left({\\theta}\\right)^{2}}{r^{2}} \\mathrm{d} {\\phi}\\otimes \\mathrm{d} t\\otimes \\mathrm{d} t\\otimes \\mathrm{d} {\\phi} -\\frac{{\\left(2 \\, M^{2} - M r\\right)} \\sin\\left({\\theta}\\right)^{2}}{r^{2}} \\mathrm{d} {\\phi}\\otimes \\mathrm{d} t\\otimes \\mathrm{d} {\\phi}\\otimes \\mathrm{d} t + \\left( -\\frac{M \\sin\\left({\\theta}\\right)^{2}}{2 \\, M - r} \\right) \\mathrm{d} {\\phi}\\otimes \\mathrm{d} r\\otimes \\mathrm{d} r\\otimes \\mathrm{d} {\\phi} + \\left( \\frac{M \\sin\\left({\\theta}\\right)^{2}}{2 \\, M - r} \\right) \\mathrm{d} {\\phi}\\otimes \\mathrm{d} r\\otimes \\mathrm{d} {\\phi}\\otimes \\mathrm{d} r -2 \\, M r \\sin\\left({\\theta}\\right)^{2} \\mathrm{d} {\\phi}\\otimes \\mathrm{d} {\\theta}\\otimes \\mathrm{d} {\\theta}\\otimes \\mathrm{d} {\\phi} + 2 \\, M r \\sin\\left({\\theta}\\right)^{2} \\mathrm{d} {\\phi}\\otimes \\mathrm{d} {\\theta}\\otimes \\mathrm{d} {\\phi}\\otimes \\mathrm{d} {\\theta}$$"
      ],
      "text/plain": [
       "-2*M/r^3 dt⊗dr⊗dt⊗dr + 2*M/r^3 dt⊗dr⊗dr⊗dt - (2*M^2 - M*r)/r^2 dt⊗dth⊗dt⊗dth + (2*M^2 - M*r)/r^2 dt⊗dth⊗dth⊗dt - (2*M^2 - M*r)*sin(th)^2/r^2 dt⊗dph⊗dt⊗dph + (2*M^2 - M*r)*sin(th)^2/r^2 dt⊗dph⊗dph⊗dt + 2*M/r^3 dr⊗dt⊗dt⊗dr - 2*M/r^3 dr⊗dt⊗dr⊗dt + M/(2*M - r) dr⊗dth⊗dr⊗dth - M/(2*M - r) dr⊗dth⊗dth⊗dr + M*sin(th)^2/(2*M - r) dr⊗dph⊗dr⊗dph - M*sin(th)^2/(2*M - r) dr⊗dph⊗dph⊗dr + (2*M^2 - M*r)/r^2 dth⊗dt⊗dt⊗dth - (2*M^2 - M*r)/r^2 dth⊗dt⊗dth⊗dt - M/(2*M - r) dth⊗dr⊗dr⊗dth + M/(2*M - r) dth⊗dr⊗dth⊗dr + 2*M*r*sin(th)^2 dth⊗dph⊗dth⊗dph - 2*M*r*sin(th)^2 dth⊗dph⊗dph⊗dth + (2*M^2 - M*r)*sin(th)^2/r^2 dph⊗dt⊗dt⊗dph - (2*M^2 - M*r)*sin(th)^2/r^2 dph⊗dt⊗dph⊗dt - M*sin(th)^2/(2*M - r) dph⊗dr⊗dr⊗dph + M*sin(th)^2/(2*M - r) dph⊗dr⊗dph⊗dr - 2*M*r*sin(th)^2 dph⊗dth⊗dth⊗dph + 2*M*r*sin(th)^2 dph⊗dth⊗dph⊗dth"
      ]
     },
     "execution_count": 18,
     "metadata": {},
     "output_type": "execute_result"
    }
   ],
   "source": [
    "Riemann_dddd.display()"
   ]
  },
  {
   "cell_type": "code",
   "execution_count": 19,
   "metadata": {},
   "outputs": [
    {
     "data": {
      "text/html": [
       "<html>\\[\\newcommand{\\Bold}[1]{\\mathbf{#1}}\\begin{array}{lcl} X_{ \\, t \\, r \\, t \\, r }^{ \\phantom{\\, t}\\phantom{\\, r}\\phantom{\\, t}\\phantom{\\, r} } & = & -\\frac{2 \\, M}{r^{3}} \\\\ X_{ \\, t \\, r \\, r \\, t }^{ \\phantom{\\, t}\\phantom{\\, r}\\phantom{\\, r}\\phantom{\\, t} } & = & \\frac{2 \\, M}{r^{3}} \\\\ X_{ \\, t \\, {\\theta} \\, t \\, {\\theta} }^{ \\phantom{\\, t}\\phantom{\\, {\\theta}}\\phantom{\\, t}\\phantom{\\, {\\theta}} } & = & -\\frac{2 \\, M^{2} - M r}{r^{2}} \\\\ X_{ \\, t \\, {\\theta} \\, {\\theta} \\, t }^{ \\phantom{\\, t}\\phantom{\\, {\\theta}}\\phantom{\\, {\\theta}}\\phantom{\\, t} } & = & \\frac{2 \\, M^{2} - M r}{r^{2}} \\\\ X_{ \\, t \\, {\\phi} \\, t \\, {\\phi} }^{ \\phantom{\\, t}\\phantom{\\, {\\phi}}\\phantom{\\, t}\\phantom{\\, {\\phi}} } & = & -\\frac{{\\left(2 \\, M^{2} - M r\\right)} \\sin\\left({\\theta}\\right)^{2}}{r^{2}} \\\\ X_{ \\, t \\, {\\phi} \\, {\\phi} \\, t }^{ \\phantom{\\, t}\\phantom{\\, {\\phi}}\\phantom{\\, {\\phi}}\\phantom{\\, t} } & = & \\frac{{\\left(2 \\, M^{2} - M r\\right)} \\sin\\left({\\theta}\\right)^{2}}{r^{2}} \\\\ X_{ \\, r \\, t \\, t \\, r }^{ \\phantom{\\, r}\\phantom{\\, t}\\phantom{\\, t}\\phantom{\\, r} } & = & \\frac{2 \\, M}{r^{3}} \\\\ X_{ \\, r \\, t \\, r \\, t }^{ \\phantom{\\, r}\\phantom{\\, t}\\phantom{\\, r}\\phantom{\\, t} } & = & -\\frac{2 \\, M}{r^{3}} \\\\ X_{ \\, r \\, {\\theta} \\, r \\, {\\theta} }^{ \\phantom{\\, r}\\phantom{\\, {\\theta}}\\phantom{\\, r}\\phantom{\\, {\\theta}} } & = & \\frac{M}{2 \\, M - r} \\\\ X_{ \\, r \\, {\\theta} \\, {\\theta} \\, r }^{ \\phantom{\\, r}\\phantom{\\, {\\theta}}\\phantom{\\, {\\theta}}\\phantom{\\, r} } & = & -\\frac{M}{2 \\, M - r} \\\\ X_{ \\, r \\, {\\phi} \\, r \\, {\\phi} }^{ \\phantom{\\, r}\\phantom{\\, {\\phi}}\\phantom{\\, r}\\phantom{\\, {\\phi}} } & = & \\frac{M \\sin\\left({\\theta}\\right)^{2}}{2 \\, M - r} \\\\ X_{ \\, r \\, {\\phi} \\, {\\phi} \\, r }^{ \\phantom{\\, r}\\phantom{\\, {\\phi}}\\phantom{\\, {\\phi}}\\phantom{\\, r} } & = & -\\frac{M \\sin\\left({\\theta}\\right)^{2}}{2 \\, M - r} \\\\ X_{ \\, {\\theta} \\, t \\, t \\, {\\theta} }^{ \\phantom{\\, {\\theta}}\\phantom{\\, t}\\phantom{\\, t}\\phantom{\\, {\\theta}} } & = & \\frac{2 \\, M^{2} - M r}{r^{2}} \\\\ X_{ \\, {\\theta} \\, t \\, {\\theta} \\, t }^{ \\phantom{\\, {\\theta}}\\phantom{\\, t}\\phantom{\\, {\\theta}}\\phantom{\\, t} } & = & -\\frac{2 \\, M^{2} - M r}{r^{2}} \\\\ X_{ \\, {\\theta} \\, r \\, r \\, {\\theta} }^{ \\phantom{\\, {\\theta}}\\phantom{\\, r}\\phantom{\\, r}\\phantom{\\, {\\theta}} } & = & -\\frac{M}{2 \\, M - r} \\\\ X_{ \\, {\\theta} \\, r \\, {\\theta} \\, r }^{ \\phantom{\\, {\\theta}}\\phantom{\\, r}\\phantom{\\, {\\theta}}\\phantom{\\, r} } & = & \\frac{M}{2 \\, M - r} \\\\ X_{ \\, {\\theta} \\, {\\phi} \\, {\\theta} \\, {\\phi} }^{ \\phantom{\\, {\\theta}}\\phantom{\\, {\\phi}}\\phantom{\\, {\\theta}}\\phantom{\\, {\\phi}} } & = & 2 \\, M r \\sin\\left({\\theta}\\right)^{2} \\\\ X_{ \\, {\\theta} \\, {\\phi} \\, {\\phi} \\, {\\theta} }^{ \\phantom{\\, {\\theta}}\\phantom{\\, {\\phi}}\\phantom{\\, {\\phi}}\\phantom{\\, {\\theta}} } & = & -2 \\, M r \\sin\\left({\\theta}\\right)^{2} \\\\ X_{ \\, {\\phi} \\, t \\, t \\, {\\phi} }^{ \\phantom{\\, {\\phi}}\\phantom{\\, t}\\phantom{\\, t}\\phantom{\\, {\\phi}} } & = & \\frac{{\\left(2 \\, M^{2} - M r\\right)} \\sin\\left({\\theta}\\right)^{2}}{r^{2}} \\\\ X_{ \\, {\\phi} \\, t \\, {\\phi} \\, t }^{ \\phantom{\\, {\\phi}}\\phantom{\\, t}\\phantom{\\, {\\phi}}\\phantom{\\, t} } & = & -\\frac{{\\left(2 \\, M^{2} - M r\\right)} \\sin\\left({\\theta}\\right)^{2}}{r^{2}} \\\\ X_{ \\, {\\phi} \\, r \\, r \\, {\\phi} }^{ \\phantom{\\, {\\phi}}\\phantom{\\, r}\\phantom{\\, r}\\phantom{\\, {\\phi}} } & = & -\\frac{M \\sin\\left({\\theta}\\right)^{2}}{2 \\, M - r} \\\\ X_{ \\, {\\phi} \\, r \\, {\\phi} \\, r }^{ \\phantom{\\, {\\phi}}\\phantom{\\, r}\\phantom{\\, {\\phi}}\\phantom{\\, r} } & = & \\frac{M \\sin\\left({\\theta}\\right)^{2}}{2 \\, M - r} \\\\ X_{ \\, {\\phi} \\, {\\theta} \\, {\\theta} \\, {\\phi} }^{ \\phantom{\\, {\\phi}}\\phantom{\\, {\\theta}}\\phantom{\\, {\\theta}}\\phantom{\\, {\\phi}} } & = & -2 \\, M r \\sin\\left({\\theta}\\right)^{2} \\\\ X_{ \\, {\\phi} \\, {\\theta} \\, {\\phi} \\, {\\theta} }^{ \\phantom{\\, {\\phi}}\\phantom{\\, {\\theta}}\\phantom{\\, {\\phi}}\\phantom{\\, {\\theta}} } & = & 2 \\, M r \\sin\\left({\\theta}\\right)^{2} \\end{array}\\]</html>"
      ],
      "text/latex": [
       "$$\\newcommand{\\Bold}[1]{\\mathbf{#1}}\\begin{array}{lcl} X_{ \\, t \\, r \\, t \\, r }^{ \\phantom{\\, t}\\phantom{\\, r}\\phantom{\\, t}\\phantom{\\, r} } & = & -\\frac{2 \\, M}{r^{3}} \\\\ X_{ \\, t \\, r \\, r \\, t }^{ \\phantom{\\, t}\\phantom{\\, r}\\phantom{\\, r}\\phantom{\\, t} } & = & \\frac{2 \\, M}{r^{3}} \\\\ X_{ \\, t \\, {\\theta} \\, t \\, {\\theta} }^{ \\phantom{\\, t}\\phantom{\\, {\\theta}}\\phantom{\\, t}\\phantom{\\, {\\theta}} } & = & -\\frac{2 \\, M^{2} - M r}{r^{2}} \\\\ X_{ \\, t \\, {\\theta} \\, {\\theta} \\, t }^{ \\phantom{\\, t}\\phantom{\\, {\\theta}}\\phantom{\\, {\\theta}}\\phantom{\\, t} } & = & \\frac{2 \\, M^{2} - M r}{r^{2}} \\\\ X_{ \\, t \\, {\\phi} \\, t \\, {\\phi} }^{ \\phantom{\\, t}\\phantom{\\, {\\phi}}\\phantom{\\, t}\\phantom{\\, {\\phi}} } & = & -\\frac{{\\left(2 \\, M^{2} - M r\\right)} \\sin\\left({\\theta}\\right)^{2}}{r^{2}} \\\\ X_{ \\, t \\, {\\phi} \\, {\\phi} \\, t }^{ \\phantom{\\, t}\\phantom{\\, {\\phi}}\\phantom{\\, {\\phi}}\\phantom{\\, t} } & = & \\frac{{\\left(2 \\, M^{2} - M r\\right)} \\sin\\left({\\theta}\\right)^{2}}{r^{2}} \\\\ X_{ \\, r \\, t \\, t \\, r }^{ \\phantom{\\, r}\\phantom{\\, t}\\phantom{\\, t}\\phantom{\\, r} } & = & \\frac{2 \\, M}{r^{3}} \\\\ X_{ \\, r \\, t \\, r \\, t }^{ \\phantom{\\, r}\\phantom{\\, t}\\phantom{\\, r}\\phantom{\\, t} } & = & -\\frac{2 \\, M}{r^{3}} \\\\ X_{ \\, r \\, {\\theta} \\, r \\, {\\theta} }^{ \\phantom{\\, r}\\phantom{\\, {\\theta}}\\phantom{\\, r}\\phantom{\\, {\\theta}} } & = & \\frac{M}{2 \\, M - r} \\\\ X_{ \\, r \\, {\\theta} \\, {\\theta} \\, r }^{ \\phantom{\\, r}\\phantom{\\, {\\theta}}\\phantom{\\, {\\theta}}\\phantom{\\, r} } & = & -\\frac{M}{2 \\, M - r} \\\\ X_{ \\, r \\, {\\phi} \\, r \\, {\\phi} }^{ \\phantom{\\, r}\\phantom{\\, {\\phi}}\\phantom{\\, r}\\phantom{\\, {\\phi}} } & = & \\frac{M \\sin\\left({\\theta}\\right)^{2}}{2 \\, M - r} \\\\ X_{ \\, r \\, {\\phi} \\, {\\phi} \\, r }^{ \\phantom{\\, r}\\phantom{\\, {\\phi}}\\phantom{\\, {\\phi}}\\phantom{\\, r} } & = & -\\frac{M \\sin\\left({\\theta}\\right)^{2}}{2 \\, M - r} \\\\ X_{ \\, {\\theta} \\, t \\, t \\, {\\theta} }^{ \\phantom{\\, {\\theta}}\\phantom{\\, t}\\phantom{\\, t}\\phantom{\\, {\\theta}} } & = & \\frac{2 \\, M^{2} - M r}{r^{2}} \\\\ X_{ \\, {\\theta} \\, t \\, {\\theta} \\, t }^{ \\phantom{\\, {\\theta}}\\phantom{\\, t}\\phantom{\\, {\\theta}}\\phantom{\\, t} } & = & -\\frac{2 \\, M^{2} - M r}{r^{2}} \\\\ X_{ \\, {\\theta} \\, r \\, r \\, {\\theta} }^{ \\phantom{\\, {\\theta}}\\phantom{\\, r}\\phantom{\\, r}\\phantom{\\, {\\theta}} } & = & -\\frac{M}{2 \\, M - r} \\\\ X_{ \\, {\\theta} \\, r \\, {\\theta} \\, r }^{ \\phantom{\\, {\\theta}}\\phantom{\\, r}\\phantom{\\, {\\theta}}\\phantom{\\, r} } & = & \\frac{M}{2 \\, M - r} \\\\ X_{ \\, {\\theta} \\, {\\phi} \\, {\\theta} \\, {\\phi} }^{ \\phantom{\\, {\\theta}}\\phantom{\\, {\\phi}}\\phantom{\\, {\\theta}}\\phantom{\\, {\\phi}} } & = & 2 \\, M r \\sin\\left({\\theta}\\right)^{2} \\\\ X_{ \\, {\\theta} \\, {\\phi} \\, {\\phi} \\, {\\theta} }^{ \\phantom{\\, {\\theta}}\\phantom{\\, {\\phi}}\\phantom{\\, {\\phi}}\\phantom{\\, {\\theta}} } & = & -2 \\, M r \\sin\\left({\\theta}\\right)^{2} \\\\ X_{ \\, {\\phi} \\, t \\, t \\, {\\phi} }^{ \\phantom{\\, {\\phi}}\\phantom{\\, t}\\phantom{\\, t}\\phantom{\\, {\\phi}} } & = & \\frac{{\\left(2 \\, M^{2} - M r\\right)} \\sin\\left({\\theta}\\right)^{2}}{r^{2}} \\\\ X_{ \\, {\\phi} \\, t \\, {\\phi} \\, t }^{ \\phantom{\\, {\\phi}}\\phantom{\\, t}\\phantom{\\, {\\phi}}\\phantom{\\, t} } & = & -\\frac{{\\left(2 \\, M^{2} - M r\\right)} \\sin\\left({\\theta}\\right)^{2}}{r^{2}} \\\\ X_{ \\, {\\phi} \\, r \\, r \\, {\\phi} }^{ \\phantom{\\, {\\phi}}\\phantom{\\, r}\\phantom{\\, r}\\phantom{\\, {\\phi}} } & = & -\\frac{M \\sin\\left({\\theta}\\right)^{2}}{2 \\, M - r} \\\\ X_{ \\, {\\phi} \\, r \\, {\\phi} \\, r }^{ \\phantom{\\, {\\phi}}\\phantom{\\, r}\\phantom{\\, {\\phi}}\\phantom{\\, r} } & = & \\frac{M \\sin\\left({\\theta}\\right)^{2}}{2 \\, M - r} \\\\ X_{ \\, {\\phi} \\, {\\theta} \\, {\\theta} \\, {\\phi} }^{ \\phantom{\\, {\\phi}}\\phantom{\\, {\\theta}}\\phantom{\\, {\\theta}}\\phantom{\\, {\\phi}} } & = & -2 \\, M r \\sin\\left({\\theta}\\right)^{2} \\\\ X_{ \\, {\\phi} \\, {\\theta} \\, {\\phi} \\, {\\theta} }^{ \\phantom{\\, {\\phi}}\\phantom{\\, {\\theta}}\\phantom{\\, {\\phi}}\\phantom{\\, {\\theta}} } & = & 2 \\, M r \\sin\\left({\\theta}\\right)^{2} \\end{array}$$"
      ],
      "text/plain": [
       "X_t,r,t,r = -2*M/r^3 \n",
       "X_t,r,r,t = 2*M/r^3 \n",
       "X_t,th,t,th = -(2*M^2 - M*r)/r^2 \n",
       "X_t,th,th,t = (2*M^2 - M*r)/r^2 \n",
       "X_t,ph,t,ph = -(2*M^2 - M*r)*sin(th)^2/r^2 \n",
       "X_t,ph,ph,t = (2*M^2 - M*r)*sin(th)^2/r^2 \n",
       "X_r,t,t,r = 2*M/r^3 \n",
       "X_r,t,r,t = -2*M/r^3 \n",
       "X_r,th,r,th = M/(2*M - r) \n",
       "X_r,th,th,r = -M/(2*M - r) \n",
       "X_r,ph,r,ph = M*sin(th)^2/(2*M - r) \n",
       "X_r,ph,ph,r = -M*sin(th)^2/(2*M - r) \n",
       "X_th,t,t,th = (2*M^2 - M*r)/r^2 \n",
       "X_th,t,th,t = -(2*M^2 - M*r)/r^2 \n",
       "X_th,r,r,th = -M/(2*M - r) \n",
       "X_th,r,th,r = M/(2*M - r) \n",
       "X_th,ph,th,ph = 2*M*r*sin(th)^2 \n",
       "X_th,ph,ph,th = -2*M*r*sin(th)^2 \n",
       "X_ph,t,t,ph = (2*M^2 - M*r)*sin(th)^2/r^2 \n",
       "X_ph,t,ph,t = -(2*M^2 - M*r)*sin(th)^2/r^2 \n",
       "X_ph,r,r,ph = -M*sin(th)^2/(2*M - r) \n",
       "X_ph,r,ph,r = M*sin(th)^2/(2*M - r) \n",
       "X_ph,th,th,ph = -2*M*r*sin(th)^2 \n",
       "X_ph,th,ph,th = 2*M*r*sin(th)^2 "
      ]
     },
     "execution_count": 19,
     "metadata": {},
     "output_type": "execute_result"
    }
   ],
   "source": [
    "Riemann_dddd.display_comp()"
   ]
  },
  {
   "cell_type": "code",
   "execution_count": null,
   "metadata": {
    "scrolled": true
   },
   "outputs": [],
   "source": [
    "Riemann_dddd[0,1,0,1]"
   ]
  },
  {
   "cell_type": "code",
   "execution_count": null,
   "metadata": {},
   "outputs": [],
   "source": [
    "Riemann_dddd[0,1,1,0]"
   ]
  },
  {
   "cell_type": "code",
   "execution_count": null,
   "metadata": {},
   "outputs": [],
   "source": [
    "Riemann_dddd[1,0,0,1]"
   ]
  },
  {
   "cell_type": "code",
   "execution_count": null,
   "metadata": {},
   "outputs": [],
   "source": [
    "Riemann_dddd[1,0,0,1]"
   ]
  },
  {
   "cell_type": "markdown",
   "metadata": {},
   "source": [
    "## 5. Ricci Tensor\n",
    "\n",
    "The Ricci tensor is calculated with the method `.ricci()` of the metric tensor,"
   ]
  },
  {
   "cell_type": "code",
   "execution_count": 20,
   "metadata": {},
   "outputs": [
    {
     "data": {
      "text/html": [
       "<html>\\[\\newcommand{\\Bold}[1]{\\mathbf{#1}}\\mathrm{Ric}\\left(g\\right)\\]</html>"
      ],
      "text/latex": [
       "$$\\newcommand{\\Bold}[1]{\\mathbf{#1}}\\mathrm{Ric}\\left(g\\right)$$"
      ],
      "text/plain": [
       "Field of symmetric bilinear forms Ric(g) on the 4-dimensional Lorentzian manifold MU"
      ]
     },
     "execution_count": 20,
     "metadata": {},
     "output_type": "execute_result"
    }
   ],
   "source": [
    "Ricci = g.ricci()\n",
    "Ricci"
   ]
  },
  {
   "cell_type": "markdown",
   "metadata": {},
   "source": [
    "As expected, in this case all of its components are zero"
   ]
  },
  {
   "cell_type": "code",
   "execution_count": 21,
   "metadata": {},
   "outputs": [
    {
     "data": {
      "text/html": [
       "<html>\\[\\newcommand{\\Bold}[1]{\\mathbf{#1}}\\mathrm{Ric}\\left(g\\right) = 0\\]</html>"
      ],
      "text/latex": [
       "$$\\newcommand{\\Bold}[1]{\\mathbf{#1}}\\mathrm{Ric}\\left(g\\right) = 0$$"
      ],
      "text/plain": [
       "Ric(g) = 0"
      ]
     },
     "execution_count": 21,
     "metadata": {},
     "output_type": "execute_result"
    }
   ],
   "source": [
    "Ricci.display()"
   ]
  },
  {
   "cell_type": "code",
   "execution_count": 22,
   "metadata": {},
   "outputs": [
    {
     "data": {
      "text/html": [
       "<html>\\[\\newcommand{\\Bold}[1]{\\mathbf{#1}}\\left(\\begin{array}{rrrr}\n",
       "0 & 0 & 0 & 0 \\\\\n",
       "0 & 0 & 0 & 0 \\\\\n",
       "0 & 0 & 0 & 0 \\\\\n",
       "0 & 0 & 0 & 0\n",
       "\\end{array}\\right)\\]</html>"
      ],
      "text/latex": [
       "$$\\newcommand{\\Bold}[1]{\\mathbf{#1}}\\left(\\begin{array}{rrrr}\n",
       "0 & 0 & 0 & 0 \\\\\n",
       "0 & 0 & 0 & 0 \\\\\n",
       "0 & 0 & 0 & 0 \\\\\n",
       "0 & 0 & 0 & 0\n",
       "\\end{array}\\right)$$"
      ],
      "text/plain": [
       "[0 0 0 0]\n",
       "[0 0 0 0]\n",
       "[0 0 0 0]\n",
       "[0 0 0 0]"
      ]
     },
     "execution_count": 22,
     "metadata": {},
     "output_type": "execute_result"
    }
   ],
   "source": [
    "Ricci[:]"
   ]
  },
  {
   "cell_type": "markdown",
   "metadata": {},
   "source": [
    "### Ricci Tensor (Alternative version)\n",
    "\n",
    "Another way to calculate this tensor is by contracting indices in the Riemann tensor,\n",
    "\n",
    "\\begin{equation}\n",
    "R_{\\mu \\nu} = R^\\alpha_{\\,\\, \\mu \\alpha \\nu} = g ^{\\alpha \\beta} R_{\\alpha \\mu \\beta \\nu}\n",
    "\\end{equation}"
   ]
  },
  {
   "cell_type": "code",
   "execution_count": 23,
   "metadata": {},
   "outputs": [
    {
     "data": {
      "text/html": [
       "<html>\\[\\newcommand{\\Bold}[1]{\\mathbf{#1}}\\left(\\begin{array}{rrrr}\n",
       "0 & 0 & 0 & 0 \\\\\n",
       "0 & 0 & 0 & 0 \\\\\n",
       "0 & 0 & 0 & 0 \\\\\n",
       "0 & 0 & 0 & 0\n",
       "\\end{array}\\right)\\]</html>"
      ],
      "text/latex": [
       "$$\\newcommand{\\Bold}[1]{\\mathbf{#1}}\\left(\\begin{array}{rrrr}\n",
       "0 & 0 & 0 & 0 \\\\\n",
       "0 & 0 & 0 & 0 \\\\\n",
       "0 & 0 & 0 & 0 \\\\\n",
       "0 & 0 & 0 & 0\n",
       "\\end{array}\\right)$$"
      ],
      "text/plain": [
       "[0 0 0 0]\n",
       "[0 0 0 0]\n",
       "[0 0 0 0]\n",
       "[0 0 0 0]"
      ]
     },
     "execution_count": 23,
     "metadata": {},
     "output_type": "execute_result"
    }
   ],
   "source": [
    "Ric = g.up(g)['^{ab}'] * Riemann.down(g)['_{acbd}']\n",
    "Ricci[:]"
   ]
  },
  {
   "cell_type": "markdown",
   "metadata": {},
   "source": [
    "### 5.1.  Ricci Curvature Scalar\n",
    "\n",
    "The curvature scalar is obtained by contracting the Ricci and the metric tensors"
   ]
  },
  {
   "cell_type": "code",
   "execution_count": 24,
   "metadata": {
    "scrolled": true
   },
   "outputs": [
    {
     "name": "stdout",
     "output_type": "stream",
     "text": [
      "Scalar field dzero(∂/∂th) on the 4-dimensional Lorentzian manifold MU\n"
     ]
    }
   ],
   "source": [
    "R = g['_{ab}'] * Ricci.up(g)['^{ab}']\n",
    "print(R)"
   ]
  },
  {
   "cell_type": "code",
   "execution_count": 25,
   "metadata": {},
   "outputs": [
    {
     "data": {
      "text/html": [
       "<html>\\[\\newcommand{\\Bold}[1]{\\mathbf{#1}}\\begin{array}{llcl} \\mathrm{d}0\\left( \\frac{\\partial}{\\partial {\\theta} } \\right) : & MU & \\longrightarrow & \\mathbb{R} \\\\ & \\left(t, r, {\\theta}, {\\phi}\\right) & \\longmapsto & 0 \\end{array}\\]</html>"
      ],
      "text/latex": [
       "$$\\newcommand{\\Bold}[1]{\\mathbf{#1}}\\begin{array}{llcl} \\mathrm{d}0\\left( \\frac{\\partial}{\\partial {\\theta} } \\right) : & MU & \\longrightarrow & \\mathbb{R} \\\\ & \\left(t, r, {\\theta}, {\\phi}\\right) & \\longmapsto & 0 \\end{array}$$"
      ],
      "text/plain": [
       "dzero(∂/∂th): MU → ℝ\n",
       "   (t, r, th, ph) ↦ 0"
      ]
     },
     "execution_count": 25,
     "metadata": {},
     "output_type": "execute_result"
    }
   ],
   "source": [
    "R.display()"
   ]
  },
  {
   "cell_type": "markdown",
   "metadata": {},
   "source": [
    "To show explicitly a scalar field, we use the method `.expr()`"
   ]
  },
  {
   "cell_type": "code",
   "execution_count": 26,
   "metadata": {
    "scrolled": true
   },
   "outputs": [
    {
     "data": {
      "text/html": [
       "<html>\\[\\newcommand{\\Bold}[1]{\\mathbf{#1}}0\\]</html>"
      ],
      "text/latex": [
       "$$\\newcommand{\\Bold}[1]{\\mathbf{#1}}0$$"
      ],
      "text/plain": [
       "0"
      ]
     },
     "execution_count": 26,
     "metadata": {},
     "output_type": "execute_result"
    }
   ],
   "source": [
    "R.expr()"
   ]
  },
  {
   "cell_type": "markdown",
   "metadata": {},
   "source": [
    "It is also possible to calculate the curvature scalar using the method `.ricci_scalar()` of the metric"
   ]
  },
  {
   "cell_type": "code",
   "execution_count": 27,
   "metadata": {},
   "outputs": [
    {
     "data": {
      "text/html": [
       "<html>\\[\\newcommand{\\Bold}[1]{\\mathbf{#1}}0\\]</html>"
      ],
      "text/latex": [
       "$$\\newcommand{\\Bold}[1]{\\mathbf{#1}}0$$"
      ],
      "text/plain": [
       "0"
      ]
     },
     "execution_count": 27,
     "metadata": {},
     "output_type": "execute_result"
    }
   ],
   "source": [
    "R = g.ricci_scalar()\n",
    "R.expr()"
   ]
  },
  {
   "cell_type": "markdown",
   "metadata": {},
   "source": [
    "## 6. Kretschmann Scalar\n",
    "\n",
    "The Kretschmann scalar is the 'square' of the Riemann tensor,\n",
    "\n",
    "\\begin{equation} \n",
    "K = R_{\\mu \\nu \\rho \\sigma} R^{\\mu \\nu \\rho \\sigma}\n",
    "\\end{equation}\n",
    "\n",
    "To obtain this object, we need the curvature tensor with all indices down and with all indices up,  i.e. $R_{\\mu \\nu \\rho \\sigma}$ and \n",
    "$R^{\\mu \\nu \\rho \\sigma}$. These are obtained using the methods `.down()` and `.up()`. Then, we contract the indices in the appropiate order,"
   ]
  },
  {
   "cell_type": "code",
   "execution_count": 28,
   "metadata": {},
   "outputs": [
    {
     "data": {
      "text/html": [
       "<html>\\[\\newcommand{\\Bold}[1]{\\mathbf{#1}}\\mbox{Scalar field on the 4-dimensional Lorentzian manifold MU}\\]</html>"
      ],
      "text/latex": [
       "$$\\newcommand{\\Bold}[1]{\\mathbf{#1}}\\mbox{Scalar field on the 4-dimensional Lorentzian manifold MU}$$"
      ],
      "text/plain": [
       "Scalar field on the 4-dimensional Lorentzian manifold MU"
      ]
     },
     "execution_count": 28,
     "metadata": {},
     "output_type": "execute_result"
    }
   ],
   "source": [
    "K = Riemann.down(g)['_{abcd}'] * Riemann.up(g)['^{abcd}']\n",
    "K"
   ]
  },
  {
   "cell_type": "code",
   "execution_count": 29,
   "metadata": {},
   "outputs": [
    {
     "data": {
      "text/html": [
       "<html>\\[\\newcommand{\\Bold}[1]{\\mathbf{#1}}\\begin{array}{llcl} & MU & \\longrightarrow & \\mathbb{R} \\\\ & \\left(t, r, {\\theta}, {\\phi}\\right) & \\longmapsto & \\frac{48 \\, M^{2}}{r^{6}} \\end{array}\\]</html>"
      ],
      "text/latex": [
       "$$\\newcommand{\\Bold}[1]{\\mathbf{#1}}\\begin{array}{llcl} & MU & \\longrightarrow & \\mathbb{R} \\\\ & \\left(t, r, {\\theta}, {\\phi}\\right) & \\longmapsto & \\frac{48 \\, M^{2}}{r^{6}} \\end{array}$$"
      ],
      "text/plain": [
       "MU → ℝ\n",
       "(t, r, th, ph) ↦ 48*M^2/r^6"
      ]
     },
     "execution_count": 29,
     "metadata": {},
     "output_type": "execute_result"
    }
   ],
   "source": [
    "K.display()"
   ]
  },
  {
   "cell_type": "code",
   "execution_count": 30,
   "metadata": {
    "scrolled": true
   },
   "outputs": [
    {
     "data": {
      "text/html": [
       "<html>\\[\\newcommand{\\Bold}[1]{\\mathbf{#1}}\\frac{48 \\, M^{2}}{r^{6}}\\]</html>"
      ],
      "text/latex": [
       "$$\\newcommand{\\Bold}[1]{\\mathbf{#1}}\\frac{48 \\, M^{2}}{r^{6}}$$"
      ],
      "text/plain": [
       "48*M^2/r^6"
      ]
     },
     "execution_count": 30,
     "metadata": {},
     "output_type": "execute_result"
    }
   ],
   "source": [
    "K.expr()"
   ]
  },
  {
   "cell_type": "markdown",
   "metadata": {},
   "source": [
    "### Summary of methods\n",
    "\n",
    "```\n",
    "Manifold.chart()\n",
    "Manifold.metric()\n",
    "```\n",
    "\n",
    "\n",
    "```\n",
    "metric.christoffel_symbols_display()\n",
    "metric.christoffel_symbols()[]\n",
    "metric.riemann()\n",
    "metric.ricci()\n",
    "```\n",
    "\n",
    "\n",
    "```\n",
    "tensor.display()\n",
    "tensor[:]\n",
    "tensor.expr()\n",
    "tensor.up(metric)\n",
    "tensor.down(metric)\n",
    "```"
   ]
  },
  {
   "cell_type": "code",
   "execution_count": null,
   "metadata": {},
   "outputs": [],
   "source": [
    "g.display?"
   ]
  },
  {
   "cell_type": "code",
   "execution_count": null,
   "metadata": {},
   "outputs": [],
   "source": []
  }
 ],
 "metadata": {
  "kernelspec": {
   "display_name": "SageMath 9.4",
   "language": "sage",
   "name": "sagemath-9.4"
  },
  "language_info": {
   "codemirror_mode": {
    "name": "ipython",
    "version": 3
   },
   "file_extension": ".py",
   "mimetype": "text/x-python",
   "name": "python",
   "nbconvert_exporter": "python",
   "pygments_lexer": "ipython3",
   "version": "3.9.5"
  }
 },
 "nbformat": 4,
 "nbformat_minor": 2
}
