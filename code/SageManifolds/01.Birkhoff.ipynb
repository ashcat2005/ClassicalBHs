{
 "cells": [
  {
   "cell_type": "markdown",
   "metadata": {},
   "source": [
    "![Astrofisica Computacional](../logo.png)"
   ]
  },
  {
   "cell_type": "markdown",
   "metadata": {},
   "source": [
    "---\n",
    "\n",
    "Eduard Larrañaga (ealarranaga@unal.edu.co)\n",
    "\n",
    "---"
   ]
  },
  {
   "cell_type": "markdown",
   "metadata": {},
   "source": [
    "\n",
    "# 01. Birkhoff's Theorem\n",
    "---\n",
    "\n",
    "## Abstract\n",
    "\n",
    "This notebook uses [SageMath](https://www.sagemath.org) and [SageManifolds](https://sagemanifolds.obspm.fr/index.html) to probe Birkhoff's theorem.\n",
    "\n",
    "`Note: This notebook uses SageMath>=9.4`"
   ]
  },
  {
   "cell_type": "code",
   "execution_count": 1,
   "metadata": {},
   "outputs": [
    {
     "data": {
      "text/plain": [
       "'SageMath version 9.4, Release Date: 2021-08-22'"
      ]
     },
     "execution_count": 1,
     "metadata": {},
     "output_type": "execute_result"
    }
   ],
   "source": [
    "version()"
   ]
  },
  {
   "cell_type": "markdown",
   "metadata": {},
   "source": [
    "We will activate the mathematics visualization using LaTeX,"
   ]
  },
  {
   "cell_type": "code",
   "execution_count": 2,
   "metadata": {},
   "outputs": [],
   "source": [
    "%display latex"
   ]
  },
  {
   "cell_type": "markdown",
   "metadata": {},
   "source": [
    "## 1.  Manifold Definition\n",
    "\n",
    "The spacetime will be defined as a 4-dimensional Lorentzian manifold,"
   ]
  },
  {
   "cell_type": "code",
   "execution_count": 3,
   "metadata": {},
   "outputs": [
    {
     "name": "stdout",
     "output_type": "stream",
     "text": [
      "4-dimensional Lorentzian manifold MU\n"
     ]
    }
   ],
   "source": [
    "MU = Manifold(4, 'MU', latex_name=r'\\mathcal{M}', structure='Lorentzian')\n",
    "print(MU)"
   ]
  },
  {
   "cell_type": "markdown",
   "metadata": {},
   "source": [
    "### 1.1. Standard Coordinates \n",
    "\n",
    "We introduce spherical standard coordinates (**Schwarzschild-Droste coordinates**) using the method `.chart()` of the manifold object `MU`. The argument in this method is a text string defining each coordinate and its corresponding range, if it is different from $(-\\infty, +\\infty)$. We also include the LaTeX symbol representing the coordinate.\n",
    "\n",
    "Note that the `Python` variables that will represent each coordinate are decalred inside the symbol `<...>` in the left hand side. The variable `X` will denote the coordinate chart."
   ]
  },
  {
   "cell_type": "code",
   "execution_count": 4,
   "metadata": {},
   "outputs": [
    {
     "data": {
      "text/html": [
       "<html>\\[\\newcommand{\\Bold}[1]{\\mathbf{#1}}\\left(\\mathcal{M},(t, r, {\\theta}, {\\phi})\\right)\\]</html>"
      ],
      "text/latex": [
       "$$\\newcommand{\\Bold}[1]{\\mathbf{#1}}\\left(\\mathcal{M},(t, r, {\\theta}, {\\phi})\\right)$$"
      ],
      "text/plain": [
       "Chart (MU, (t, r, th, ph))"
      ]
     },
     "execution_count": 4,
     "metadata": {},
     "output_type": "execute_result"
    }
   ],
   "source": [
    "X.<t,r,th,ph> = MU.chart(r\"t r:(0,+oo) th:(0,pi):\\theta ph:(0,2*pi):\\phi\")\n",
    "X"
   ]
  },
  {
   "cell_type": "markdown",
   "metadata": {},
   "source": [
    "## 2. Metric Tensor \n",
    "\n",
    "In order to deduce the Schwarzschild metric, we will propose the following form for the line element that ensures the spherical symmetry,\n",
    "\n",
    "\\begin{equation}\n",
    "ds^2 = - A(t,r) dt^2 + B(t,r) dr^2 + r^2 d\\theta^2 + r^2 \\sin^2 \\theta d\\phi^2.\n",
    "\\end{equation}\n",
    "\n",
    "In order to define this line element, we need to declare the functions  $A(t,r)$ y $B(t,r)$ using the command `function()`,\n"
   ]
  },
  {
   "cell_type": "code",
   "execution_count": 5,
   "metadata": {},
   "outputs": [],
   "source": [
    "A = function('A')(t,r)\n",
    "B = function('B')(t,r)"
   ]
  },
  {
   "cell_type": "code",
   "execution_count": 6,
   "metadata": {},
   "outputs": [
    {
     "data": {
      "text/html": [
       "<html>\\[\\newcommand{\\Bold}[1]{\\mathbf{#1}}g = -A\\left(t, r\\right) \\mathrm{d} t\\otimes \\mathrm{d} t + B\\left(t, r\\right) \\mathrm{d} r\\otimes \\mathrm{d} r + r^{2} \\mathrm{d} {\\theta}\\otimes \\mathrm{d} {\\theta} + r^{2} \\sin\\left({\\theta}\\right)^{2} \\mathrm{d} {\\phi}\\otimes \\mathrm{d} {\\phi}\\]</html>"
      ],
      "text/latex": [
       "$$\\newcommand{\\Bold}[1]{\\mathbf{#1}}g = -A\\left(t, r\\right) \\mathrm{d} t\\otimes \\mathrm{d} t + B\\left(t, r\\right) \\mathrm{d} r\\otimes \\mathrm{d} r + r^{2} \\mathrm{d} {\\theta}\\otimes \\mathrm{d} {\\theta} + r^{2} \\sin\\left({\\theta}\\right)^{2} \\mathrm{d} {\\phi}\\otimes \\mathrm{d} {\\phi}$$"
      ],
      "text/plain": [
       "g = -A(t, r) dt⊗dt + B(t, r) dr⊗dr + r^2 dth⊗dth + r^2*sin(th)^2 dph⊗dph"
      ]
     },
     "execution_count": 6,
     "metadata": {},
     "output_type": "execute_result"
    }
   ],
   "source": [
    "g = MU.metric()\n",
    "g[0,0] = -A\n",
    "g[1,1] = B\n",
    "g[2,2] = r^2\n",
    "g[3,3] = (r*sin(th))^2\n",
    "g.display()"
   ]
  },
  {
   "cell_type": "code",
   "execution_count": 7,
   "metadata": {},
   "outputs": [
    {
     "data": {
      "text/html": [
       "<html>\\[\\newcommand{\\Bold}[1]{\\mathbf{#1}}\\left(\\begin{array}{rrrr}\n",
       "-A\\left(t, r\\right) & 0 & 0 & 0 \\\\\n",
       "0 & B\\left(t, r\\right) & 0 & 0 \\\\\n",
       "0 & 0 & r^{2} & 0 \\\\\n",
       "0 & 0 & 0 & r^{2} \\sin\\left({\\theta}\\right)^{2}\n",
       "\\end{array}\\right)\\]</html>"
      ],
      "text/latex": [
       "$$\\newcommand{\\Bold}[1]{\\mathbf{#1}}\\left(\\begin{array}{rrrr}\n",
       "-A\\left(t, r\\right) & 0 & 0 & 0 \\\\\n",
       "0 & B\\left(t, r\\right) & 0 & 0 \\\\\n",
       "0 & 0 & r^{2} & 0 \\\\\n",
       "0 & 0 & 0 & r^{2} \\sin\\left({\\theta}\\right)^{2}\n",
       "\\end{array}\\right)$$"
      ],
      "text/plain": [
       "[     -A(t, r)             0             0             0]\n",
       "[            0       B(t, r)             0             0]\n",
       "[            0             0           r^2             0]\n",
       "[            0             0             0 r^2*sin(th)^2]"
      ]
     },
     "execution_count": 7,
     "metadata": {},
     "output_type": "execute_result"
    }
   ],
   "source": [
    "g[:]"
   ]
  },
  {
   "cell_type": "markdown",
   "metadata": {},
   "source": [
    "### 2.1. Inverse of the Metric Tensor"
   ]
  },
  {
   "cell_type": "code",
   "execution_count": 8,
   "metadata": {},
   "outputs": [
    {
     "data": {
      "text/html": [
       "<html>\\[\\newcommand{\\Bold}[1]{\\mathbf{#1}}g^{-1}\\]</html>"
      ],
      "text/latex": [
       "$$\\newcommand{\\Bold}[1]{\\mathbf{#1}}g^{-1}$$"
      ],
      "text/plain": [
       "Tensor field inv_g of type (2,0) on the 4-dimensional Lorentzian manifold MU"
      ]
     },
     "execution_count": 8,
     "metadata": {},
     "output_type": "execute_result"
    }
   ],
   "source": [
    "# guu = g.up(g) # Can be defined by rising the indices\n",
    "guu = g.inverse()\n",
    "guu"
   ]
  },
  {
   "cell_type": "code",
   "execution_count": 9,
   "metadata": {},
   "outputs": [
    {
     "data": {
      "text/html": [
       "<html>\\[\\newcommand{\\Bold}[1]{\\mathbf{#1}}g^{-1} = -\\frac{1}{A\\left(t, r\\right)} \\frac{\\partial}{\\partial t }\\otimes \\frac{\\partial}{\\partial t } + \\frac{1}{B\\left(t, r\\right)} \\frac{\\partial}{\\partial r }\\otimes \\frac{\\partial}{\\partial r } + \\frac{1}{r^{2}} \\frac{\\partial}{\\partial {\\theta} }\\otimes \\frac{\\partial}{\\partial {\\theta} } + \\frac{1}{r^{2} \\sin\\left({\\theta}\\right)^{2}} \\frac{\\partial}{\\partial {\\phi} }\\otimes \\frac{\\partial}{\\partial {\\phi} }\\]</html>"
      ],
      "text/latex": [
       "$$\\newcommand{\\Bold}[1]{\\mathbf{#1}}g^{-1} = -\\frac{1}{A\\left(t, r\\right)} \\frac{\\partial}{\\partial t }\\otimes \\frac{\\partial}{\\partial t } + \\frac{1}{B\\left(t, r\\right)} \\frac{\\partial}{\\partial r }\\otimes \\frac{\\partial}{\\partial r } + \\frac{1}{r^{2}} \\frac{\\partial}{\\partial {\\theta} }\\otimes \\frac{\\partial}{\\partial {\\theta} } + \\frac{1}{r^{2} \\sin\\left({\\theta}\\right)^{2}} \\frac{\\partial}{\\partial {\\phi} }\\otimes \\frac{\\partial}{\\partial {\\phi} }$$"
      ],
      "text/plain": [
       "inv_g = -1/A(t, r) ∂/∂t⊗∂/∂t + 1/B(t, r) ∂/∂r⊗∂/∂r + r^(-2) ∂/∂th⊗∂/∂th + 1/(r^2*sin(th)^2) ∂/∂ph⊗∂/∂ph"
      ]
     },
     "execution_count": 9,
     "metadata": {},
     "output_type": "execute_result"
    }
   ],
   "source": [
    "guu.display()"
   ]
  },
  {
   "cell_type": "code",
   "execution_count": 10,
   "metadata": {},
   "outputs": [
    {
     "data": {
      "text/html": [
       "<html>\\[\\newcommand{\\Bold}[1]{\\mathbf{#1}}\\left(\\begin{array}{rrrr}\n",
       "-\\frac{1}{A\\left(t, r\\right)} & 0 & 0 & 0 \\\\\n",
       "0 & \\frac{1}{B\\left(t, r\\right)} & 0 & 0 \\\\\n",
       "0 & 0 & \\frac{1}{r^{2}} & 0 \\\\\n",
       "0 & 0 & 0 & \\frac{1}{r^{2} \\sin\\left({\\theta}\\right)^{2}}\n",
       "\\end{array}\\right)\\]</html>"
      ],
      "text/latex": [
       "$$\\newcommand{\\Bold}[1]{\\mathbf{#1}}\\left(\\begin{array}{rrrr}\n",
       "-\\frac{1}{A\\left(t, r\\right)} & 0 & 0 & 0 \\\\\n",
       "0 & \\frac{1}{B\\left(t, r\\right)} & 0 & 0 \\\\\n",
       "0 & 0 & \\frac{1}{r^{2}} & 0 \\\\\n",
       "0 & 0 & 0 & \\frac{1}{r^{2} \\sin\\left({\\theta}\\right)^{2}}\n",
       "\\end{array}\\right)$$"
      ],
      "text/plain": [
       "[       -1/A(t, r)                 0                 0                 0]\n",
       "[                0         1/B(t, r)                 0                 0]\n",
       "[                0                 0            r^(-2)                 0]\n",
       "[                0                 0                 0 1/(r^2*sin(th)^2)]"
      ]
     },
     "execution_count": 10,
     "metadata": {},
     "output_type": "execute_result"
    }
   ],
   "source": [
    "guu[:]"
   ]
  },
  {
   "cell_type": "markdown",
   "metadata": {},
   "source": [
    "## 3. Einstein's Field Equations\n",
    "\n",
    "Einstein's Field Equations are given by\n",
    "\n",
    "\\begin{equation}\n",
    "G_{\\mu \\nu} = R_{\\mu \\nu} - \\frac{1}{2} g_{\\mu \\nu} R = \\frac{8\\pi G}{c^4} T_{\\mu \\nu}\n",
    "\\end{equation}\n",
    "\n",
    "Since Schwarzschild metric is a solution of the Field Equations in vacuum, i.e. $T_{\\mu \\nu} =0$, we have\n",
    "\n",
    "\\begin{equation}\n",
    "G_{\\mu \\nu} = R_{\\mu \\nu} - \\frac{1}{2} g_{\\mu \\nu} R = 0.\n",
    "\\end{equation}\n",
    "\n",
    "\n",
    "\n",
    "### 3.1. Ricci Tensor\n",
    "\n",
    "We obtain the Ricci tnesor using the method `.ricci()` of the metric object,"
   ]
  },
  {
   "cell_type": "code",
   "execution_count": 11,
   "metadata": {},
   "outputs": [
    {
     "data": {
      "text/html": [
       "<html>\\[\\newcommand{\\Bold}[1]{\\mathbf{#1}}\\mathrm{Ric}\\left(g\\right)\\]</html>"
      ],
      "text/latex": [
       "$$\\newcommand{\\Bold}[1]{\\mathbf{#1}}\\mathrm{Ric}\\left(g\\right)$$"
      ],
      "text/plain": [
       "Field of symmetric bilinear forms Ric(g) on the 4-dimensional Lorentzian manifold MU"
      ]
     },
     "execution_count": 11,
     "metadata": {},
     "output_type": "execute_result"
    }
   ],
   "source": [
    "Ricci = g.ricci()\n",
    "Ricci"
   ]
  },
  {
   "cell_type": "code",
   "execution_count": 12,
   "metadata": {},
   "outputs": [
    {
     "data": {
      "text/html": [
       "<html>\\[\\newcommand{\\Bold}[1]{\\mathbf{#1}}\\mathrm{Ric}\\left(g\\right) = \\left( -\\frac{r B\\left(t, r\\right) \\left(\\frac{\\partial\\,A}{\\partial r}\\right)^{2} - 2 \\, r A\\left(t, r\\right) B\\left(t, r\\right) \\frac{\\partial^2\\,A}{\\partial r ^ 2} - r B\\left(t, r\\right) \\frac{\\partial\\,A}{\\partial t} \\frac{\\partial\\,B}{\\partial t} - r A\\left(t, r\\right) \\frac{\\partial\\,B}{\\partial t}^{2} + 2 \\, r A\\left(t, r\\right) B\\left(t, r\\right) \\frac{\\partial^2\\,B}{\\partial t ^ 2} + r A\\left(t, r\\right) \\frac{\\partial\\,A}{\\partial r} \\frac{\\partial\\,B}{\\partial r} - 4 \\, A\\left(t, r\\right) B\\left(t, r\\right) \\frac{\\partial\\,A}{\\partial r}}{4 \\, r A\\left(t, r\\right) B\\left(t, r\\right)^{2}} \\right) \\mathrm{d} t\\otimes \\mathrm{d} t + \\frac{\\frac{\\partial\\,B}{\\partial t}}{r B\\left(t, r\\right)} \\mathrm{d} t\\otimes \\mathrm{d} r + \\frac{\\frac{\\partial\\,B}{\\partial t}}{r B\\left(t, r\\right)} \\mathrm{d} r\\otimes \\mathrm{d} t + \\left( \\frac{r B\\left(t, r\\right) \\left(\\frac{\\partial\\,A}{\\partial r}\\right)^{2} - 2 \\, r A\\left(t, r\\right) B\\left(t, r\\right) \\frac{\\partial^2\\,A}{\\partial r ^ 2} - r B\\left(t, r\\right) \\frac{\\partial\\,A}{\\partial t} \\frac{\\partial\\,B}{\\partial t} - r A\\left(t, r\\right) \\frac{\\partial\\,B}{\\partial t}^{2} + 2 \\, r A\\left(t, r\\right) B\\left(t, r\\right) \\frac{\\partial^2\\,B}{\\partial t ^ 2} + {\\left(r A\\left(t, r\\right) \\frac{\\partial\\,A}{\\partial r} + 4 \\, A\\left(t, r\\right)^{2}\\right)} \\frac{\\partial\\,B}{\\partial r}}{4 \\, r A\\left(t, r\\right)^{2} B\\left(t, r\\right)} \\right) \\mathrm{d} r\\otimes \\mathrm{d} r + \\left( \\frac{2 \\, A\\left(t, r\\right) B\\left(t, r\\right)^{2} - r B\\left(t, r\\right) \\frac{\\partial\\,A}{\\partial r} + r A\\left(t, r\\right) \\frac{\\partial\\,B}{\\partial r} - 2 \\, A\\left(t, r\\right) B\\left(t, r\\right)}{2 \\, A\\left(t, r\\right) B\\left(t, r\\right)^{2}} \\right) \\mathrm{d} {\\theta}\\otimes \\mathrm{d} {\\theta} + \\frac{{\\left(2 \\, A\\left(t, r\\right) B\\left(t, r\\right)^{2} - r B\\left(t, r\\right) \\frac{\\partial\\,A}{\\partial r} + r A\\left(t, r\\right) \\frac{\\partial\\,B}{\\partial r} - 2 \\, A\\left(t, r\\right) B\\left(t, r\\right)\\right)} \\sin\\left({\\theta}\\right)^{2}}{2 \\, A\\left(t, r\\right) B\\left(t, r\\right)^{2}} \\mathrm{d} {\\phi}\\otimes \\mathrm{d} {\\phi}\\]</html>"
      ],
      "text/latex": [
       "$$\\newcommand{\\Bold}[1]{\\mathbf{#1}}\\mathrm{Ric}\\left(g\\right) = \\left( -\\frac{r B\\left(t, r\\right) \\left(\\frac{\\partial\\,A}{\\partial r}\\right)^{2} - 2 \\, r A\\left(t, r\\right) B\\left(t, r\\right) \\frac{\\partial^2\\,A}{\\partial r ^ 2} - r B\\left(t, r\\right) \\frac{\\partial\\,A}{\\partial t} \\frac{\\partial\\,B}{\\partial t} - r A\\left(t, r\\right) \\frac{\\partial\\,B}{\\partial t}^{2} + 2 \\, r A\\left(t, r\\right) B\\left(t, r\\right) \\frac{\\partial^2\\,B}{\\partial t ^ 2} + r A\\left(t, r\\right) \\frac{\\partial\\,A}{\\partial r} \\frac{\\partial\\,B}{\\partial r} - 4 \\, A\\left(t, r\\right) B\\left(t, r\\right) \\frac{\\partial\\,A}{\\partial r}}{4 \\, r A\\left(t, r\\right) B\\left(t, r\\right)^{2}} \\right) \\mathrm{d} t\\otimes \\mathrm{d} t + \\frac{\\frac{\\partial\\,B}{\\partial t}}{r B\\left(t, r\\right)} \\mathrm{d} t\\otimes \\mathrm{d} r + \\frac{\\frac{\\partial\\,B}{\\partial t}}{r B\\left(t, r\\right)} \\mathrm{d} r\\otimes \\mathrm{d} t + \\left( \\frac{r B\\left(t, r\\right) \\left(\\frac{\\partial\\,A}{\\partial r}\\right)^{2} - 2 \\, r A\\left(t, r\\right) B\\left(t, r\\right) \\frac{\\partial^2\\,A}{\\partial r ^ 2} - r B\\left(t, r\\right) \\frac{\\partial\\,A}{\\partial t} \\frac{\\partial\\,B}{\\partial t} - r A\\left(t, r\\right) \\frac{\\partial\\,B}{\\partial t}^{2} + 2 \\, r A\\left(t, r\\right) B\\left(t, r\\right) \\frac{\\partial^2\\,B}{\\partial t ^ 2} + {\\left(r A\\left(t, r\\right) \\frac{\\partial\\,A}{\\partial r} + 4 \\, A\\left(t, r\\right)^{2}\\right)} \\frac{\\partial\\,B}{\\partial r}}{4 \\, r A\\left(t, r\\right)^{2} B\\left(t, r\\right)} \\right) \\mathrm{d} r\\otimes \\mathrm{d} r + \\left( \\frac{2 \\, A\\left(t, r\\right) B\\left(t, r\\right)^{2} - r B\\left(t, r\\right) \\frac{\\partial\\,A}{\\partial r} + r A\\left(t, r\\right) \\frac{\\partial\\,B}{\\partial r} - 2 \\, A\\left(t, r\\right) B\\left(t, r\\right)}{2 \\, A\\left(t, r\\right) B\\left(t, r\\right)^{2}} \\right) \\mathrm{d} {\\theta}\\otimes \\mathrm{d} {\\theta} + \\frac{{\\left(2 \\, A\\left(t, r\\right) B\\left(t, r\\right)^{2} - r B\\left(t, r\\right) \\frac{\\partial\\,A}{\\partial r} + r A\\left(t, r\\right) \\frac{\\partial\\,B}{\\partial r} - 2 \\, A\\left(t, r\\right) B\\left(t, r\\right)\\right)} \\sin\\left({\\theta}\\right)^{2}}{2 \\, A\\left(t, r\\right) B\\left(t, r\\right)^{2}} \\mathrm{d} {\\phi}\\otimes \\mathrm{d} {\\phi}$$"
      ],
      "text/plain": [
       "Ric(g) = -1/4*(r*B(t, r)*(d(A)/dr)^2 - 2*r*A(t, r)*B(t, r)*d^2(A)/dr^2 - r*B(t, r)*d(A)/dt*d(B)/dt - r*A(t, r)*d(B)/dt^2 + 2*r*A(t, r)*B(t, r)*d^2(B)/dt^2 + r*A(t, r)*d(A)/dr*d(B)/dr - 4*A(t, r)*B(t, r)*d(A)/dr)/(r*A(t, r)*B(t, r)^2) dt⊗dt + d(B)/dt/(r*B(t, r)) dt⊗dr + d(B)/dt/(r*B(t, r)) dr⊗dt + 1/4*(r*B(t, r)*(d(A)/dr)^2 - 2*r*A(t, r)*B(t, r)*d^2(A)/dr^2 - r*B(t, r)*d(A)/dt*d(B)/dt - r*A(t, r)*d(B)/dt^2 + 2*r*A(t, r)*B(t, r)*d^2(B)/dt^2 + (r*A(t, r)*d(A)/dr + 4*A(t, r)^2)*d(B)/dr)/(r*A(t, r)^2*B(t, r)) dr⊗dr + 1/2*(2*A(t, r)*B(t, r)^2 - r*B(t, r)*d(A)/dr + r*A(t, r)*d(B)/dr - 2*A(t, r)*B(t, r))/(A(t, r)*B(t, r)^2) dth⊗dth + 1/2*(2*A(t, r)*B(t, r)^2 - r*B(t, r)*d(A)/dr + r*A(t, r)*d(B)/dr - 2*A(t, r)*B(t, r))*sin(th)^2/(A(t, r)*B(t, r)^2) dph⊗dph"
      ]
     },
     "execution_count": 12,
     "metadata": {},
     "output_type": "execute_result"
    }
   ],
   "source": [
    "Ricci.display()"
   ]
  },
  {
   "cell_type": "code",
   "execution_count": 13,
   "metadata": {
    "scrolled": false
   },
   "outputs": [
    {
     "data": {
      "text/html": [
       "<html>\\[\\newcommand{\\Bold}[1]{\\mathbf{#1}}\\left(\\begin{array}{rrrr}\n",
       "-\\frac{r B\\left(t, r\\right) \\left(\\frac{\\partial\\,A}{\\partial r}\\right)^{2} - 2 \\, r A\\left(t, r\\right) B\\left(t, r\\right) \\frac{\\partial^2\\,A}{\\partial r ^ 2} - r B\\left(t, r\\right) \\frac{\\partial\\,A}{\\partial t} \\frac{\\partial\\,B}{\\partial t} - r A\\left(t, r\\right) \\frac{\\partial\\,B}{\\partial t}^{2} + 2 \\, r A\\left(t, r\\right) B\\left(t, r\\right) \\frac{\\partial^2\\,B}{\\partial t ^ 2} + r A\\left(t, r\\right) \\frac{\\partial\\,A}{\\partial r} \\frac{\\partial\\,B}{\\partial r} - 4 \\, A\\left(t, r\\right) B\\left(t, r\\right) \\frac{\\partial\\,A}{\\partial r}}{4 \\, r A\\left(t, r\\right) B\\left(t, r\\right)^{2}} & \\frac{\\frac{\\partial\\,B}{\\partial t}}{r B\\left(t, r\\right)} & 0 & 0 \\\\\n",
       "\\frac{\\frac{\\partial\\,B}{\\partial t}}{r B\\left(t, r\\right)} & \\frac{r B\\left(t, r\\right) \\left(\\frac{\\partial\\,A}{\\partial r}\\right)^{2} - 2 \\, r A\\left(t, r\\right) B\\left(t, r\\right) \\frac{\\partial^2\\,A}{\\partial r ^ 2} - r B\\left(t, r\\right) \\frac{\\partial\\,A}{\\partial t} \\frac{\\partial\\,B}{\\partial t} - r A\\left(t, r\\right) \\frac{\\partial\\,B}{\\partial t}^{2} + 2 \\, r A\\left(t, r\\right) B\\left(t, r\\right) \\frac{\\partial^2\\,B}{\\partial t ^ 2} + {\\left(r A\\left(t, r\\right) \\frac{\\partial\\,A}{\\partial r} + 4 \\, A\\left(t, r\\right)^{2}\\right)} \\frac{\\partial\\,B}{\\partial r}}{4 \\, r A\\left(t, r\\right)^{2} B\\left(t, r\\right)} & 0 & 0 \\\\\n",
       "0 & 0 & \\frac{2 \\, A\\left(t, r\\right) B\\left(t, r\\right)^{2} - r B\\left(t, r\\right) \\frac{\\partial\\,A}{\\partial r} + r A\\left(t, r\\right) \\frac{\\partial\\,B}{\\partial r} - 2 \\, A\\left(t, r\\right) B\\left(t, r\\right)}{2 \\, A\\left(t, r\\right) B\\left(t, r\\right)^{2}} & 0 \\\\\n",
       "0 & 0 & 0 & \\frac{{\\left(2 \\, A\\left(t, r\\right) B\\left(t, r\\right)^{2} - r B\\left(t, r\\right) \\frac{\\partial\\,A}{\\partial r} + r A\\left(t, r\\right) \\frac{\\partial\\,B}{\\partial r} - 2 \\, A\\left(t, r\\right) B\\left(t, r\\right)\\right)} \\sin\\left({\\theta}\\right)^{2}}{2 \\, A\\left(t, r\\right) B\\left(t, r\\right)^{2}}\n",
       "\\end{array}\\right)\\]</html>"
      ],
      "text/latex": [
       "$$\\newcommand{\\Bold}[1]{\\mathbf{#1}}\\left(\\begin{array}{rrrr}\n",
       "-\\frac{r B\\left(t, r\\right) \\left(\\frac{\\partial\\,A}{\\partial r}\\right)^{2} - 2 \\, r A\\left(t, r\\right) B\\left(t, r\\right) \\frac{\\partial^2\\,A}{\\partial r ^ 2} - r B\\left(t, r\\right) \\frac{\\partial\\,A}{\\partial t} \\frac{\\partial\\,B}{\\partial t} - r A\\left(t, r\\right) \\frac{\\partial\\,B}{\\partial t}^{2} + 2 \\, r A\\left(t, r\\right) B\\left(t, r\\right) \\frac{\\partial^2\\,B}{\\partial t ^ 2} + r A\\left(t, r\\right) \\frac{\\partial\\,A}{\\partial r} \\frac{\\partial\\,B}{\\partial r} - 4 \\, A\\left(t, r\\right) B\\left(t, r\\right) \\frac{\\partial\\,A}{\\partial r}}{4 \\, r A\\left(t, r\\right) B\\left(t, r\\right)^{2}} & \\frac{\\frac{\\partial\\,B}{\\partial t}}{r B\\left(t, r\\right)} & 0 & 0 \\\\\n",
       "\\frac{\\frac{\\partial\\,B}{\\partial t}}{r B\\left(t, r\\right)} & \\frac{r B\\left(t, r\\right) \\left(\\frac{\\partial\\,A}{\\partial r}\\right)^{2} - 2 \\, r A\\left(t, r\\right) B\\left(t, r\\right) \\frac{\\partial^2\\,A}{\\partial r ^ 2} - r B\\left(t, r\\right) \\frac{\\partial\\,A}{\\partial t} \\frac{\\partial\\,B}{\\partial t} - r A\\left(t, r\\right) \\frac{\\partial\\,B}{\\partial t}^{2} + 2 \\, r A\\left(t, r\\right) B\\left(t, r\\right) \\frac{\\partial^2\\,B}{\\partial t ^ 2} + {\\left(r A\\left(t, r\\right) \\frac{\\partial\\,A}{\\partial r} + 4 \\, A\\left(t, r\\right)^{2}\\right)} \\frac{\\partial\\,B}{\\partial r}}{4 \\, r A\\left(t, r\\right)^{2} B\\left(t, r\\right)} & 0 & 0 \\\\\n",
       "0 & 0 & \\frac{2 \\, A\\left(t, r\\right) B\\left(t, r\\right)^{2} - r B\\left(t, r\\right) \\frac{\\partial\\,A}{\\partial r} + r A\\left(t, r\\right) \\frac{\\partial\\,B}{\\partial r} - 2 \\, A\\left(t, r\\right) B\\left(t, r\\right)}{2 \\, A\\left(t, r\\right) B\\left(t, r\\right)^{2}} & 0 \\\\\n",
       "0 & 0 & 0 & \\frac{{\\left(2 \\, A\\left(t, r\\right) B\\left(t, r\\right)^{2} - r B\\left(t, r\\right) \\frac{\\partial\\,A}{\\partial r} + r A\\left(t, r\\right) \\frac{\\partial\\,B}{\\partial r} - 2 \\, A\\left(t, r\\right) B\\left(t, r\\right)\\right)} \\sin\\left({\\theta}\\right)^{2}}{2 \\, A\\left(t, r\\right) B\\left(t, r\\right)^{2}}\n",
       "\\end{array}\\right)$$"
      ],
      "text/plain": [
       "[-1/4*(r*B(t, r)*(d(A)/dr)^2 - 2*r*A(t, r)*B(t, r)*d^2(A)/dr^2 - r*B(t, r)*d(A)/dt*d(B)/dt - r*A(t, r)*d(B)/dt^2 + 2*r*A(t, r)*B(t, r)*d^2(B)/dt^2 + r*A(t, r)*d(A)/dr*d(B)/dr - 4*A(t, r)*B(t, r)*d(A)/dr)/(r*A(t, r)*B(t, r)^2)                                                                                                                                                                                                              d(B)/dt/(r*B(t, r))                                                                                                                                                                                                                                0                                                                                                                                                                                                                                0]\n",
       "[                                                                                                                                                                                                             d(B)/dt/(r*B(t, r))              1/4*(r*B(t, r)*(d(A)/dr)^2 - 2*r*A(t, r)*B(t, r)*d^2(A)/dr^2 - r*B(t, r)*d(A)/dt*d(B)/dt - r*A(t, r)*d(B)/dt^2 + 2*r*A(t, r)*B(t, r)*d^2(B)/dt^2 + (r*A(t, r)*d(A)/dr + 4*A(t, r)^2)*d(B)/dr)/(r*A(t, r)^2*B(t, r))                                                                                                                                                                                                                                0                                                                                                                                                                                                                                0]\n",
       "[                                                                                                                                                                                                                               0                                                                                                                                                                                                                                0                                                                                                                        1/2*(2*A(t, r)*B(t, r)^2 - r*B(t, r)*d(A)/dr + r*A(t, r)*d(B)/dr - 2*A(t, r)*B(t, r))/(A(t, r)*B(t, r)^2)                                                                                                                                                                                                                                0]\n",
       "[                                                                                                                                                                                                                               0                                                                                                                                                                                                                                0                                                                                                                                                                                                                                0                                                                                                              1/2*(2*A(t, r)*B(t, r)^2 - r*B(t, r)*d(A)/dr + r*A(t, r)*d(B)/dr - 2*A(t, r)*B(t, r))*sin(th)^2/(A(t, r)*B(t, r)^2)]"
      ]
     },
     "execution_count": 13,
     "metadata": {},
     "output_type": "execute_result"
    }
   ],
   "source": [
    "Ricci[:]"
   ]
  },
  {
   "cell_type": "markdown",
   "metadata": {},
   "source": [
    "### 3.2. Ricci Curvature Scalar\n",
    "\n",
    "The Ricci curvature scalar, $R=R^\\alpha_\\alpha$, is obtained using the method `.ricci_scalar()` of the metric"
   ]
  },
  {
   "cell_type": "code",
   "execution_count": 14,
   "metadata": {},
   "outputs": [
    {
     "data": {
      "text/html": [
       "<html>\\[\\newcommand{\\Bold}[1]{\\mathbf{#1}}\\begin{array}{llcl} \\mathrm{r}\\left(g\\right):& \\mathcal{M} & \\longrightarrow & \\mathbb{R} \\\\ & \\left(t, r, {\\theta}, {\\phi}\\right) & \\longmapsto & \\frac{r^{2} B\\left(t, r\\right) \\left(\\frac{\\partial\\,A}{\\partial r}\\right)^{2} - 2 \\, r^{2} A\\left(t, r\\right) B\\left(t, r\\right) \\frac{\\partial^2\\,A}{\\partial r ^ 2} - r^{2} B\\left(t, r\\right) \\frac{\\partial\\,A}{\\partial t} \\frac{\\partial\\,B}{\\partial t} - r^{2} A\\left(t, r\\right) \\frac{\\partial\\,B}{\\partial t}^{2} + 2 \\, r^{2} A\\left(t, r\\right) B\\left(t, r\\right) \\frac{\\partial^2\\,B}{\\partial t ^ 2} + 4 \\, A\\left(t, r\\right)^{2} B\\left(t, r\\right)^{2} - 4 \\, r A\\left(t, r\\right) B\\left(t, r\\right) \\frac{\\partial\\,A}{\\partial r} - 4 \\, A\\left(t, r\\right)^{2} B\\left(t, r\\right) + {\\left(r^{2} A\\left(t, r\\right) \\frac{\\partial\\,A}{\\partial r} + 4 \\, r A\\left(t, r\\right)^{2}\\right)} \\frac{\\partial\\,B}{\\partial r}}{2 \\, r^{2} A\\left(t, r\\right)^{2} B\\left(t, r\\right)^{2}} \\end{array}\\]</html>"
      ],
      "text/latex": [
       "$$\\newcommand{\\Bold}[1]{\\mathbf{#1}}\\begin{array}{llcl} \\mathrm{r}\\left(g\\right):& \\mathcal{M} & \\longrightarrow & \\mathbb{R} \\\\ & \\left(t, r, {\\theta}, {\\phi}\\right) & \\longmapsto & \\frac{r^{2} B\\left(t, r\\right) \\left(\\frac{\\partial\\,A}{\\partial r}\\right)^{2} - 2 \\, r^{2} A\\left(t, r\\right) B\\left(t, r\\right) \\frac{\\partial^2\\,A}{\\partial r ^ 2} - r^{2} B\\left(t, r\\right) \\frac{\\partial\\,A}{\\partial t} \\frac{\\partial\\,B}{\\partial t} - r^{2} A\\left(t, r\\right) \\frac{\\partial\\,B}{\\partial t}^{2} + 2 \\, r^{2} A\\left(t, r\\right) B\\left(t, r\\right) \\frac{\\partial^2\\,B}{\\partial t ^ 2} + 4 \\, A\\left(t, r\\right)^{2} B\\left(t, r\\right)^{2} - 4 \\, r A\\left(t, r\\right) B\\left(t, r\\right) \\frac{\\partial\\,A}{\\partial r} - 4 \\, A\\left(t, r\\right)^{2} B\\left(t, r\\right) + {\\left(r^{2} A\\left(t, r\\right) \\frac{\\partial\\,A}{\\partial r} + 4 \\, r A\\left(t, r\\right)^{2}\\right)} \\frac{\\partial\\,B}{\\partial r}}{2 \\, r^{2} A\\left(t, r\\right)^{2} B\\left(t, r\\right)^{2}} \\end{array}$$"
      ],
      "text/plain": [
       "r(g): MU → ℝ\n",
       "   (t, r, th, ph) ↦ 1/2*(r^2*B(t, r)*(d(A)/dr)^2 - 2*r^2*A(t, r)*B(t, r)*d^2(A)/dr^2 - r^2*B(t, r)*d(A)/dt*d(B)/dt - r^2*A(t, r)*d(B)/dt^2 + 2*r^2*A(t, r)*B(t, r)*d^2(B)/dt^2 + 4*A(t, r)^2*B(t, r)^2 - 4*r*A(t, r)*B(t, r)*d(A)/dr - 4*A(t, r)^2*B(t, r) + (r^2*A(t, r)*d(A)/dr + 4*r*A(t, r)^2)*d(B)/dr)/(r^2*A(t, r)^2*B(t, r)^2)"
      ]
     },
     "execution_count": 14,
     "metadata": {},
     "output_type": "execute_result"
    }
   ],
   "source": [
    "R = g.ricci_scalar()\n",
    "R.display()"
   ]
  },
  {
   "cell_type": "markdown",
   "metadata": {},
   "source": [
    "---\n",
    "Now, we declare the  Einstein tensor"
   ]
  },
  {
   "cell_type": "code",
   "execution_count": 15,
   "metadata": {},
   "outputs": [
    {
     "data": {
      "text/html": [
       "<html>\\[\\newcommand{\\Bold}[1]{\\mathbf{#1}}\\left(\\begin{array}{rrrr}\n",
       "\\frac{A\\left(t, r\\right) B\\left(t, r\\right)^{2} + r A\\left(t, r\\right) \\frac{\\partial\\,B}{\\partial r} - A\\left(t, r\\right) B\\left(t, r\\right)}{r^{2} B\\left(t, r\\right)^{2}} & \\frac{\\frac{\\partial\\,B}{\\partial t}}{r B\\left(t, r\\right)} & 0 & 0 \\\\\n",
       "\\frac{\\frac{\\partial\\,B}{\\partial t}}{r B\\left(t, r\\right)} & -\\frac{A\\left(t, r\\right) B\\left(t, r\\right) - r \\frac{\\partial\\,A}{\\partial r} - A\\left(t, r\\right)}{r^{2} A\\left(t, r\\right)} & 0 & 0 \\\\\n",
       "0 & 0 & -\\frac{r^{2} B\\left(t, r\\right) \\left(\\frac{\\partial\\,A}{\\partial r}\\right)^{2} - 2 \\, r^{2} A\\left(t, r\\right) B\\left(t, r\\right) \\frac{\\partial^2\\,A}{\\partial r ^ 2} - r^{2} B\\left(t, r\\right) \\frac{\\partial\\,A}{\\partial t} \\frac{\\partial\\,B}{\\partial t} - r^{2} A\\left(t, r\\right) \\frac{\\partial\\,B}{\\partial t}^{2} + 2 \\, r^{2} A\\left(t, r\\right) B\\left(t, r\\right) \\frac{\\partial^2\\,B}{\\partial t ^ 2} - 2 \\, r A\\left(t, r\\right) B\\left(t, r\\right) \\frac{\\partial\\,A}{\\partial r} + {\\left(r^{2} A\\left(t, r\\right) \\frac{\\partial\\,A}{\\partial r} + 2 \\, r A\\left(t, r\\right)^{2}\\right)} \\frac{\\partial\\,B}{\\partial r}}{4 \\, A\\left(t, r\\right)^{2} B\\left(t, r\\right)^{2}} & 0 \\\\\n",
       "0 & 0 & 0 & -\\frac{{\\left(r^{2} B\\left(t, r\\right) \\left(\\frac{\\partial\\,A}{\\partial r}\\right)^{2} - 2 \\, r^{2} A\\left(t, r\\right) B\\left(t, r\\right) \\frac{\\partial^2\\,A}{\\partial r ^ 2} - r^{2} B\\left(t, r\\right) \\frac{\\partial\\,A}{\\partial t} \\frac{\\partial\\,B}{\\partial t} - r^{2} A\\left(t, r\\right) \\frac{\\partial\\,B}{\\partial t}^{2} + 2 \\, r^{2} A\\left(t, r\\right) B\\left(t, r\\right) \\frac{\\partial^2\\,B}{\\partial t ^ 2} - 2 \\, r A\\left(t, r\\right) B\\left(t, r\\right) \\frac{\\partial\\,A}{\\partial r} + {\\left(r^{2} A\\left(t, r\\right) \\frac{\\partial\\,A}{\\partial r} + 2 \\, r A\\left(t, r\\right)^{2}\\right)} \\frac{\\partial\\,B}{\\partial r}\\right)} \\sin\\left({\\theta}\\right)^{2}}{4 \\, A\\left(t, r\\right)^{2} B\\left(t, r\\right)^{2}}\n",
       "\\end{array}\\right)\\]</html>"
      ],
      "text/latex": [
       "$$\\newcommand{\\Bold}[1]{\\mathbf{#1}}\\left(\\begin{array}{rrrr}\n",
       "\\frac{A\\left(t, r\\right) B\\left(t, r\\right)^{2} + r A\\left(t, r\\right) \\frac{\\partial\\,B}{\\partial r} - A\\left(t, r\\right) B\\left(t, r\\right)}{r^{2} B\\left(t, r\\right)^{2}} & \\frac{\\frac{\\partial\\,B}{\\partial t}}{r B\\left(t, r\\right)} & 0 & 0 \\\\\n",
       "\\frac{\\frac{\\partial\\,B}{\\partial t}}{r B\\left(t, r\\right)} & -\\frac{A\\left(t, r\\right) B\\left(t, r\\right) - r \\frac{\\partial\\,A}{\\partial r} - A\\left(t, r\\right)}{r^{2} A\\left(t, r\\right)} & 0 & 0 \\\\\n",
       "0 & 0 & -\\frac{r^{2} B\\left(t, r\\right) \\left(\\frac{\\partial\\,A}{\\partial r}\\right)^{2} - 2 \\, r^{2} A\\left(t, r\\right) B\\left(t, r\\right) \\frac{\\partial^2\\,A}{\\partial r ^ 2} - r^{2} B\\left(t, r\\right) \\frac{\\partial\\,A}{\\partial t} \\frac{\\partial\\,B}{\\partial t} - r^{2} A\\left(t, r\\right) \\frac{\\partial\\,B}{\\partial t}^{2} + 2 \\, r^{2} A\\left(t, r\\right) B\\left(t, r\\right) \\frac{\\partial^2\\,B}{\\partial t ^ 2} - 2 \\, r A\\left(t, r\\right) B\\left(t, r\\right) \\frac{\\partial\\,A}{\\partial r} + {\\left(r^{2} A\\left(t, r\\right) \\frac{\\partial\\,A}{\\partial r} + 2 \\, r A\\left(t, r\\right)^{2}\\right)} \\frac{\\partial\\,B}{\\partial r}}{4 \\, A\\left(t, r\\right)^{2} B\\left(t, r\\right)^{2}} & 0 \\\\\n",
       "0 & 0 & 0 & -\\frac{{\\left(r^{2} B\\left(t, r\\right) \\left(\\frac{\\partial\\,A}{\\partial r}\\right)^{2} - 2 \\, r^{2} A\\left(t, r\\right) B\\left(t, r\\right) \\frac{\\partial^2\\,A}{\\partial r ^ 2} - r^{2} B\\left(t, r\\right) \\frac{\\partial\\,A}{\\partial t} \\frac{\\partial\\,B}{\\partial t} - r^{2} A\\left(t, r\\right) \\frac{\\partial\\,B}{\\partial t}^{2} + 2 \\, r^{2} A\\left(t, r\\right) B\\left(t, r\\right) \\frac{\\partial^2\\,B}{\\partial t ^ 2} - 2 \\, r A\\left(t, r\\right) B\\left(t, r\\right) \\frac{\\partial\\,A}{\\partial r} + {\\left(r^{2} A\\left(t, r\\right) \\frac{\\partial\\,A}{\\partial r} + 2 \\, r A\\left(t, r\\right)^{2}\\right)} \\frac{\\partial\\,B}{\\partial r}\\right)} \\sin\\left({\\theta}\\right)^{2}}{4 \\, A\\left(t, r\\right)^{2} B\\left(t, r\\right)^{2}}\n",
       "\\end{array}\\right)$$"
      ],
      "text/plain": [
       "[                                                                                                                                                                                                 (A(t, r)*B(t, r)^2 + r*A(t, r)*d(B)/dr - A(t, r)*B(t, r))/(r^2*B(t, r)^2)                                                                                                                                                                                                                                                        d(B)/dt/(r*B(t, r))                                                                                                                                                                                                                                                                          0                                                                                                                                                                                                                                                                          0]\n",
       "[                                                                                                                                                                                                                                                       d(B)/dt/(r*B(t, r))                                                                                                                                                                                                                     -(A(t, r)*B(t, r) - r*d(A)/dr - A(t, r))/(r^2*A(t, r))                                                                                                                                                                                                                                                                          0                                                                                                                                                                                                                                                                          0]\n",
       "[                                                                                                                                                                                                                                                                         0                                                                                                                                                                                                                                                                          0           -1/4*(r^2*B(t, r)*(d(A)/dr)^2 - 2*r^2*A(t, r)*B(t, r)*d^2(A)/dr^2 - r^2*B(t, r)*d(A)/dt*d(B)/dt - r^2*A(t, r)*d(B)/dt^2 + 2*r^2*A(t, r)*B(t, r)*d^2(B)/dt^2 - 2*r*A(t, r)*B(t, r)*d(A)/dr + (r^2*A(t, r)*d(A)/dr + 2*r*A(t, r)^2)*d(B)/dr)/(A(t, r)^2*B(t, r)^2)                                                                                                                                                                                                                                                                          0]\n",
       "[                                                                                                                                                                                                                                                                         0                                                                                                                                                                                                                                                                          0                                                                                                                                                                                                                                                                          0 -1/4*(r^2*B(t, r)*(d(A)/dr)^2 - 2*r^2*A(t, r)*B(t, r)*d^2(A)/dr^2 - r^2*B(t, r)*d(A)/dt*d(B)/dt - r^2*A(t, r)*d(B)/dt^2 + 2*r^2*A(t, r)*B(t, r)*d^2(B)/dt^2 - 2*r*A(t, r)*B(t, r)*d(A)/dr + (r^2*A(t, r)*d(A)/dr + 2*r*A(t, r)^2)*d(B)/dr)*sin(th)^2/(A(t, r)^2*B(t, r)^2)]"
      ]
     },
     "execution_count": 15,
     "metadata": {},
     "output_type": "execute_result"
    }
   ],
   "source": [
    "Einstein = Ricci - g*R/2\n",
    "Einstein[:]"
   ]
  },
  {
   "cell_type": "markdown",
   "metadata": {},
   "source": [
    "In order to solve these equations, we will consider the mixed indices version of the Einstein tensor,\n",
    "\n",
    "\\begin{equation}\n",
    "G^\\mu_\\nu = R^\\mu_\\nu - \\frac{1}{2} g^\\mu_\\nu R = 0.\n",
    "\\end{equation}"
   ]
  },
  {
   "cell_type": "markdown",
   "metadata": {},
   "source": [
    "This is obtained using the method `.up()`,\n"
   ]
  },
  {
   "cell_type": "code",
   "execution_count": 16,
   "metadata": {},
   "outputs": [
    {
     "data": {
      "text/html": [
       "<html>\\[\\newcommand{\\Bold}[1]{\\mathbf{#1}}\\left(\\begin{array}{rrrr}\n",
       "-\\frac{B\\left(t, r\\right)^{2} + r \\frac{\\partial\\,B}{\\partial r} - B\\left(t, r\\right)}{r^{2} B\\left(t, r\\right)^{2}} & -\\frac{\\frac{\\partial\\,B}{\\partial t}}{r A\\left(t, r\\right) B\\left(t, r\\right)} & 0 & 0 \\\\\n",
       "\\frac{\\frac{\\partial\\,B}{\\partial t}}{r B\\left(t, r\\right)^{2}} & -\\frac{A\\left(t, r\\right) B\\left(t, r\\right) - r \\frac{\\partial\\,A}{\\partial r} - A\\left(t, r\\right)}{r^{2} A\\left(t, r\\right) B\\left(t, r\\right)} & 0 & 0 \\\\\n",
       "0 & 0 & -\\frac{r B\\left(t, r\\right) \\left(\\frac{\\partial\\,A}{\\partial r}\\right)^{2} - 2 \\, r A\\left(t, r\\right) B\\left(t, r\\right) \\frac{\\partial^2\\,A}{\\partial r ^ 2} - r B\\left(t, r\\right) \\frac{\\partial\\,A}{\\partial t} \\frac{\\partial\\,B}{\\partial t} - r A\\left(t, r\\right) \\frac{\\partial\\,B}{\\partial t}^{2} + 2 \\, r A\\left(t, r\\right) B\\left(t, r\\right) \\frac{\\partial^2\\,B}{\\partial t ^ 2} - 2 \\, A\\left(t, r\\right) B\\left(t, r\\right) \\frac{\\partial\\,A}{\\partial r} + {\\left(r A\\left(t, r\\right) \\frac{\\partial\\,A}{\\partial r} + 2 \\, A\\left(t, r\\right)^{2}\\right)} \\frac{\\partial\\,B}{\\partial r}}{4 \\, r A\\left(t, r\\right)^{2} B\\left(t, r\\right)^{2}} & 0 \\\\\n",
       "0 & 0 & 0 & -\\frac{r B\\left(t, r\\right) \\left(\\frac{\\partial\\,A}{\\partial r}\\right)^{2} - 2 \\, r A\\left(t, r\\right) B\\left(t, r\\right) \\frac{\\partial^2\\,A}{\\partial r ^ 2} - r B\\left(t, r\\right) \\frac{\\partial\\,A}{\\partial t} \\frac{\\partial\\,B}{\\partial t} - r A\\left(t, r\\right) \\frac{\\partial\\,B}{\\partial t}^{2} + 2 \\, r A\\left(t, r\\right) B\\left(t, r\\right) \\frac{\\partial^2\\,B}{\\partial t ^ 2} - 2 \\, A\\left(t, r\\right) B\\left(t, r\\right) \\frac{\\partial\\,A}{\\partial r} + {\\left(r A\\left(t, r\\right) \\frac{\\partial\\,A}{\\partial r} + 2 \\, A\\left(t, r\\right)^{2}\\right)} \\frac{\\partial\\,B}{\\partial r}}{4 \\, r A\\left(t, r\\right)^{2} B\\left(t, r\\right)^{2}}\n",
       "\\end{array}\\right)\\]</html>"
      ],
      "text/latex": [
       "$$\\newcommand{\\Bold}[1]{\\mathbf{#1}}\\left(\\begin{array}{rrrr}\n",
       "-\\frac{B\\left(t, r\\right)^{2} + r \\frac{\\partial\\,B}{\\partial r} - B\\left(t, r\\right)}{r^{2} B\\left(t, r\\right)^{2}} & -\\frac{\\frac{\\partial\\,B}{\\partial t}}{r A\\left(t, r\\right) B\\left(t, r\\right)} & 0 & 0 \\\\\n",
       "\\frac{\\frac{\\partial\\,B}{\\partial t}}{r B\\left(t, r\\right)^{2}} & -\\frac{A\\left(t, r\\right) B\\left(t, r\\right) - r \\frac{\\partial\\,A}{\\partial r} - A\\left(t, r\\right)}{r^{2} A\\left(t, r\\right) B\\left(t, r\\right)} & 0 & 0 \\\\\n",
       "0 & 0 & -\\frac{r B\\left(t, r\\right) \\left(\\frac{\\partial\\,A}{\\partial r}\\right)^{2} - 2 \\, r A\\left(t, r\\right) B\\left(t, r\\right) \\frac{\\partial^2\\,A}{\\partial r ^ 2} - r B\\left(t, r\\right) \\frac{\\partial\\,A}{\\partial t} \\frac{\\partial\\,B}{\\partial t} - r A\\left(t, r\\right) \\frac{\\partial\\,B}{\\partial t}^{2} + 2 \\, r A\\left(t, r\\right) B\\left(t, r\\right) \\frac{\\partial^2\\,B}{\\partial t ^ 2} - 2 \\, A\\left(t, r\\right) B\\left(t, r\\right) \\frac{\\partial\\,A}{\\partial r} + {\\left(r A\\left(t, r\\right) \\frac{\\partial\\,A}{\\partial r} + 2 \\, A\\left(t, r\\right)^{2}\\right)} \\frac{\\partial\\,B}{\\partial r}}{4 \\, r A\\left(t, r\\right)^{2} B\\left(t, r\\right)^{2}} & 0 \\\\\n",
       "0 & 0 & 0 & -\\frac{r B\\left(t, r\\right) \\left(\\frac{\\partial\\,A}{\\partial r}\\right)^{2} - 2 \\, r A\\left(t, r\\right) B\\left(t, r\\right) \\frac{\\partial^2\\,A}{\\partial r ^ 2} - r B\\left(t, r\\right) \\frac{\\partial\\,A}{\\partial t} \\frac{\\partial\\,B}{\\partial t} - r A\\left(t, r\\right) \\frac{\\partial\\,B}{\\partial t}^{2} + 2 \\, r A\\left(t, r\\right) B\\left(t, r\\right) \\frac{\\partial^2\\,B}{\\partial t ^ 2} - 2 \\, A\\left(t, r\\right) B\\left(t, r\\right) \\frac{\\partial\\,A}{\\partial r} + {\\left(r A\\left(t, r\\right) \\frac{\\partial\\,A}{\\partial r} + 2 \\, A\\left(t, r\\right)^{2}\\right)} \\frac{\\partial\\,B}{\\partial r}}{4 \\, r A\\left(t, r\\right)^{2} B\\left(t, r\\right)^{2}}\n",
       "\\end{array}\\right)$$"
      ],
      "text/plain": [
       "[                                                                                                                                                                                                -(B(t, r)^2 + r*d(B)/dr - B(t, r))/(r^2*B(t, r)^2)                                                                                                                                                                                                                       -d(B)/dt/(r*A(t, r)*B(t, r))                                                                                                                                                                                                                                                  0                                                                                                                                                                                                                                                  0]\n",
       "[                                                                                                                                                                                                                             d(B)/dt/(r*B(t, r)^2)                                                                                                                                                                                     -(A(t, r)*B(t, r) - r*d(A)/dr - A(t, r))/(r^2*A(t, r)*B(t, r))                                                                                                                                                                                                                                                  0                                                                                                                                                                                                                                                  0]\n",
       "[                                                                                                                                                                                                                                                 0                                                                                                                                                                                                                                                  0 -1/4*(r*B(t, r)*(d(A)/dr)^2 - 2*r*A(t, r)*B(t, r)*d^2(A)/dr^2 - r*B(t, r)*d(A)/dt*d(B)/dt - r*A(t, r)*d(B)/dt^2 + 2*r*A(t, r)*B(t, r)*d^2(B)/dt^2 - 2*A(t, r)*B(t, r)*d(A)/dr + (r*A(t, r)*d(A)/dr + 2*A(t, r)^2)*d(B)/dr)/(r*A(t, r)^2*B(t, r)^2)                                                                                                                                                                                                                                                  0]\n",
       "[                                                                                                                                                                                                                                                 0                                                                                                                                                                                                                                                  0                                                                                                                                                                                                                                                  0 -1/4*(r*B(t, r)*(d(A)/dr)^2 - 2*r*A(t, r)*B(t, r)*d^2(A)/dr^2 - r*B(t, r)*d(A)/dt*d(B)/dt - r*A(t, r)*d(B)/dt^2 + 2*r*A(t, r)*B(t, r)*d^2(B)/dt^2 - 2*A(t, r)*B(t, r)*d(A)/dr + (r*A(t, r)*d(A)/dr + 2*A(t, r)^2)*d(B)/dr)/(r*A(t, r)^2*B(t, r)^2)]"
      ]
     },
     "execution_count": 16,
     "metadata": {},
     "output_type": "execute_result"
    }
   ],
   "source": [
    "Einstein_ud = Einstein.up(g,1)\n",
    "Einstein_ud[:]"
   ]
  },
  {
   "cell_type": "markdown",
   "metadata": {},
   "source": [
    "## 4. Solving the Field Equations\n",
    "\n",
    "Consider the non-diagonal component of the field equations,\n",
    "\n",
    "\\begin{equation}\n",
    "G^0_1 =- \\frac{1}{rA B} \\frac{\\partial B}{\\partial t}= 0\n",
    "\\end{equation}\n",
    "\n",
    "which gives\n",
    "\n",
    "\\begin{equation}\n",
    "\\frac{\\partial B}{\\partial t}= 0\n",
    "\\end{equation}\n",
    "\n",
    "This condition implies that the function $B$ does not depends explicitly on the time coordinate, i.e. $B=B(r)$."
   ]
  },
  {
   "cell_type": "code",
   "execution_count": 17,
   "metadata": {},
   "outputs": [],
   "source": [
    "B = function('B')(r)"
   ]
  },
  {
   "cell_type": "markdown",
   "metadata": {},
   "source": [
    "Now consider the first  component in the diagonal of the field equations,\n",
    "\n",
    "\n",
    "\\begin{equation}\n",
    "G^0_0 =- \\frac{B^2 + r B' - B}{r^2 B^2} = 0\n",
    "\\end{equation}\n",
    "\n",
    "which corresponds the the ordinary differential equation\n",
    "\n",
    "\\begin{equation}\n",
    "B^2 + r B' - B = 0.\n",
    "\\end{equation}\n",
    "\n",
    "This is solved by the function `desolve()` "
   ]
  },
  {
   "cell_type": "code",
   "execution_count": 18,
   "metadata": {},
   "outputs": [
    {
     "data": {
      "text/html": [
       "<html>\\[\\newcommand{\\Bold}[1]{\\mathbf{#1}}-\\log\\left(B\\left(r\\right) - 1\\right) + \\log\\left(B\\left(r\\right)\\right) = C + \\log\\left(r\\right)\\]</html>"
      ],
      "text/latex": [
       "$$\\newcommand{\\Bold}[1]{\\mathbf{#1}}-\\log\\left(B\\left(r\\right) - 1\\right) + \\log\\left(B\\left(r\\right)\\right) = C + \\log\\left(r\\right)$$"
      ],
      "text/plain": [
       "-log(B(r) - 1) + log(B(r)) == _C + log(r)"
      ]
     },
     "execution_count": 18,
     "metadata": {},
     "output_type": "execute_result"
    }
   ],
   "source": [
    "deq = B**2 + r*diff(B,r) - B # Defines the differential equation\n",
    "B_sol = desolve(deq, B, ivar=r) # Solves the differential equation\n",
    "B_sol"
   ]
  },
  {
   "cell_type": "markdown",
   "metadata": {},
   "source": [
    "Redefining the integration constant as $C = -\\log(K)$ we solve for $B$ using the function `solve()`,"
   ]
  },
  {
   "cell_type": "code",
   "execution_count": 19,
   "metadata": {},
   "outputs": [
    {
     "data": {
      "text/html": [
       "<html>\\[\\newcommand{\\Bold}[1]{\\mathbf{#1}}\\left[\\log\\left(B\\left(r\\right)\\right) = -\\log\\left(K\\right) + \\log\\left(r\\right) + \\log\\left(B\\left(r\\right) - 1\\right)\\right]\\]</html>"
      ],
      "text/latex": [
       "$$\\newcommand{\\Bold}[1]{\\mathbf{#1}}\\left[\\log\\left(B\\left(r\\right)\\right) = -\\log\\left(K\\right) + \\log\\left(r\\right) + \\log\\left(B\\left(r\\right) - 1\\right)\\right]$$"
      ],
      "text/plain": [
       "[log(B(r)) == -log(K) + log(r) + log(B(r) - 1)]"
      ]
     },
     "execution_count": 19,
     "metadata": {},
     "output_type": "execute_result"
    }
   ],
   "source": [
    "K = var('K')\n",
    "solve(- log(B - 1) + log(B) == -log(K) +log(r), B)"
   ]
  },
  {
   "cell_type": "markdown",
   "metadata": {},
   "source": [
    "This result gives\n",
    "\n",
    "\\begin{equation}\n",
    "\\log \\left( \\frac{B}{B-1} \\right) = \\log \\left(\\frac{r}{K} \\right)\n",
    "\\end{equation}\n",
    "\n",
    "\\begin{equation}\n",
    "\\frac{B}{B-1}  = \\frac{r}{K} \n",
    "\\end{equation}\n",
    "\n",
    "\\begin{equation}\n",
    "B  = \\frac{r}{K} \\left( B-1 \\right)\n",
    "\\end{equation}\n",
    "\n",
    "\\begin{equation}\n",
    "B \\left( 1-\\frac{r}{K} \\right) = -\\frac{r}{K} \n",
    "\\end{equation}\n",
    "\n",
    "\\begin{equation}\n",
    "B  = - \\frac{\\frac{r}{K}}{\\left( 1-\\frac{r}{K} \\right)}\n",
    "\\end{equation}\n",
    "\n",
    "\\begin{equation}\n",
    "B  =  \\frac{1}{\\left( 1-\\frac{K}{r} \\right)}.\n",
    "\\end{equation}"
   ]
  },
  {
   "cell_type": "markdown",
   "metadata": {},
   "source": [
    "\n",
    "\n",
    "---\n",
    "\n",
    "The second component of the field equations is\n",
    "\n",
    "\\begin{equation}\n",
    "G^1_1 =- \\frac{AB - rA' - A }{r^2 AB} = 0\n",
    "\\end{equation}\n",
    "\n",
    "that corresponds to the ordinary differential equation\n",
    "\n",
    "\\begin{equation}\n",
    "AB - rA' - A   = 0.\n",
    "\\end{equation}\n",
    "\n",
    "We use again the function  `desolve()`. "
   ]
  },
  {
   "cell_type": "code",
   "execution_count": 20,
   "metadata": {
    "scrolled": true
   },
   "outputs": [
    {
     "data": {
      "text/html": [
       "<html>\\[\\newcommand{\\Bold}[1]{\\mathbf{#1}}C e^{\\left(K {\\left(\\frac{\\log\\left(-K + r\\right)}{K} - \\frac{\\log\\left(r\\right)}{K}\\right)}\\right)}\\]</html>"
      ],
      "text/latex": [
       "$$\\newcommand{\\Bold}[1]{\\mathbf{#1}}C e^{\\left(K {\\left(\\frac{\\log\\left(-K + r\\right)}{K} - \\frac{\\log\\left(r\\right)}{K}\\right)}\\right)}$$"
      ],
      "text/plain": [
       "_C*e^(K*(log(-K + r)/K - log(r)/K))"
      ]
     },
     "execution_count": 20,
     "metadata": {},
     "output_type": "execute_result"
    }
   ],
   "source": [
    "A = function('A')(r) #Assume that A=A(r) to perform the integration of the ode\n",
    "assume(K>0)\n",
    "\n",
    "deq2 = A*(1/(1-K/r)) - r*diff(A,r) - A == 0\n",
    "A_sol = desolve(deq2, A, ivar=r) \n",
    "A_sol"
   ]
  },
  {
   "cell_type": "markdown",
   "metadata": {},
   "source": [
    "This gives the result\n",
    "\n",
    "\\begin{equation}\n",
    "A = C(t) e^{\\log (r-K) - \\log (r)}\n",
    "\\end{equation}\n",
    "\n",
    "where $C=C(t)$ is a function depending only on time. Then\n",
    "\n",
    "\\begin{equation}\n",
    "A = C(t) e^{\\log \\left( \\frac{r-K}{r} \\right)}\n",
    "\\end{equation}\n",
    "\n",
    "\\begin{equation}\n",
    "A = C(t) \\left( \\frac{r-K}{r} \\right)\n",
    "\\end{equation}\n",
    "\n",
    "\\begin{equation}\n",
    "A = C(t) \\left( 1- \\frac{K}{r} \\right)\n",
    "\\end{equation}"
   ]
  },
  {
   "cell_type": "markdown",
   "metadata": {},
   "source": [
    "---\n",
    "\n",
    "Hence, the line element is\n",
    "\n",
    "\\begin{equation}\n",
    "ds^2 = - \\left( 1- \\frac{K}{r} \\right) C(t) dt^2 +\\left( 1- \\frac{K}{r} \\right)^{-1} dr^2 + r^2 d\\theta^2 + r^2 \\sin^2 d\\phi^2\n",
    "\\end{equation}\n",
    "\n",
    "Redefining the time coordinate using $C(t) dt^2 \\rightarrow dt^2$ and defining the integration constant as $K = \\frac{2GM}{c^2}$, we obtain again the Schwarzschild solution.\n",
    "\n",
    "\\begin{equation}\n",
    "ds^2 = - \\left( 1- \\frac{2GM}{c^2r} \\right) dt^2 +\\left( 1- \\frac{2GM}{c^2r} \\right)^{-1} dr^2 + r^2 d\\theta^2 + r^2 \\sin^2 d\\phi^2\n",
    "\\end{equation}"
   ]
  },
  {
   "cell_type": "markdown",
   "metadata": {},
   "source": [
    "### Summary of methods\n",
    "\n",
    "```\n",
    "Manifold.chart()\n",
    "Manifold.metric()\n",
    "```\n",
    "\n",
    "\n",
    "```\n",
    "metric.christoffel_symbols_display()\n",
    "metric.christoffel_symbols()[]\n",
    "metric.riemann()\n",
    "metric.ricci()\n",
    "```\n",
    "\n",
    "\n",
    "```\n",
    "tensor.display()\n",
    "tensor[:]\n",
    "tensor.expr()\n",
    "tensor.up(metric)\n",
    "tensor.down(metric)\n",
    "```"
   ]
  }
 ],
 "metadata": {
  "kernelspec": {
   "display_name": "SageMath 9.4",
   "language": "sage",
   "name": "sagemath-9.4"
  },
  "language_info": {
   "codemirror_mode": {
    "name": "ipython",
    "version": 3
   },
   "file_extension": ".py",
   "mimetype": "text/x-python",
   "name": "python",
   "nbconvert_exporter": "python",
   "pygments_lexer": "ipython3",
   "version": "3.9.5"
  }
 },
 "nbformat": 4,
 "nbformat_minor": 2
}
